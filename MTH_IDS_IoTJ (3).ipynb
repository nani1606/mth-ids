{
  "cells": [
    {
      "cell_type": "markdown",
      "metadata": {
        "id": "_euawqLTj3Pi"
      },
      "source": [
        "## Import libraries"
      ]
    },
    {
      "cell_type": "code",
      "execution_count": 1,
      "metadata": {
        "id": "UQlcMHZ_j3Pi"
      },
      "outputs": [],
      "source": [
        "import warnings\n",
        "warnings.filterwarnings(\"ignore\")"
      ]
    },
    {
      "cell_type": "code",
      "execution_count": 2,
      "metadata": {
        "id": "w-c1IV6nj3Pj"
      },
      "outputs": [],
      "source": [
        "import numpy as np\n",
        "import pandas as pd\n",
        "import seaborn as sns\n",
        "import matplotlib.pyplot as plt\n",
        "from sklearn.preprocessing import LabelEncoder\n",
        "from sklearn.model_selection import train_test_split\n",
        "from sklearn.metrics import classification_report,confusion_matrix,accuracy_score,precision_recall_fscore_support\n",
        "from sklearn.metrics import f1_score,roc_auc_score\n",
        "from sklearn.ensemble import RandomForestClassifier,ExtraTreesClassifier\n",
        "from sklearn.tree import DecisionTreeClassifier\n",
        "import xgboost as xgb\n",
        "from xgboost import plot_importance"
      ]
    },
    {
      "cell_type": "markdown",
      "metadata": {
        "id": "I9feRSl2j3Pj"
      },
      "source": [
        "## Read the sampled dataset\n",
        "The dataset is publicly available at: https://www.unb.ca/cic/datasets/ids-2017.html  \n",
      ]
    },
    {
      "cell_type": "code",
      "execution_count": null,
      "metadata": {
        "id": "cTirNbfiolwL"
      },
      "outputs": [],
      "source": []
    },
    {
      "cell_type": "code",
      "execution_count": 5,
      "metadata": {
        "id": "IN8-eKkAj3Pj"
      },
      "outputs": [],
      "source": [
        "#Read dataset\n",
        "df = pd.read_csv('Wednesday-workingHours.pcap_ISCX.csv')\n",
        "# The results in this code is based on the original CICIDS2017 dataset."
      ]
    },
    {
      "cell_type": "code",
      "execution_count": 22,
      "metadata": {},
      "outputs": [
        {
          "data": {
            "text/html": [
              "<div>\n",
              "<style scoped>\n",
              "    .dataframe tbody tr th:only-of-type {\n",
              "        vertical-align: middle;\n",
              "    }\n",
              "\n",
              "    .dataframe tbody tr th {\n",
              "        vertical-align: top;\n",
              "    }\n",
              "\n",
              "    .dataframe thead th {\n",
              "        text-align: right;\n",
              "    }\n",
              "</style>\n",
              "<table border=\"1\" class=\"dataframe\">\n",
              "  <thead>\n",
              "    <tr style=\"text-align: right;\">\n",
              "      <th></th>\n",
              "      <th>Destination Port</th>\n",
              "      <th>Flow Duration</th>\n",
              "      <th>Total Fwd Packets</th>\n",
              "      <th>Total Backward Packets</th>\n",
              "      <th>Total Length of Fwd Packets</th>\n",
              "      <th>Total Length of Bwd Packets</th>\n",
              "      <th>Fwd Packet Length Max</th>\n",
              "      <th>Fwd Packet Length Min</th>\n",
              "      <th>Fwd Packet Length Mean</th>\n",
              "      <th>Fwd Packet Length Std</th>\n",
              "      <th>...</th>\n",
              "      <th>min_seg_size_forward</th>\n",
              "      <th>Active Mean</th>\n",
              "      <th>Active Std</th>\n",
              "      <th>Active Max</th>\n",
              "      <th>Active Min</th>\n",
              "      <th>Idle Mean</th>\n",
              "      <th>Idle Std</th>\n",
              "      <th>Idle Max</th>\n",
              "      <th>Idle Min</th>\n",
              "      <th>Label</th>\n",
              "    </tr>\n",
              "  </thead>\n",
              "  <tbody>\n",
              "    <tr>\n",
              "      <th>0</th>\n",
              "      <td>-0.356503</td>\n",
              "      <td>-0.653857</td>\n",
              "      <td>-0.011451</td>\n",
              "      <td>-0.009362</td>\n",
              "      <td>-0.089086</td>\n",
              "      <td>-0.007581</td>\n",
              "      <td>-0.376966</td>\n",
              "      <td>-0.176667</td>\n",
              "      <td>-0.346068</td>\n",
              "      <td>-0.366591</td>\n",
              "      <td>...</td>\n",
              "      <td>-1.069400</td>\n",
              "      <td>-0.131646</td>\n",
              "      <td>-0.100396</td>\n",
              "      <td>-0.14867</td>\n",
              "      <td>-0.104366</td>\n",
              "      <td>-0.579979</td>\n",
              "      <td>-0.105686</td>\n",
              "      <td>-0.58524</td>\n",
              "      <td>-0.57078</td>\n",
              "      <td>BENIGN</td>\n",
              "    </tr>\n",
              "    <tr>\n",
              "      <th>1</th>\n",
              "      <td>-0.336856</td>\n",
              "      <td>-0.654742</td>\n",
              "      <td>0.001932</td>\n",
              "      <td>-0.005298</td>\n",
              "      <td>-0.062153</td>\n",
              "      <td>-0.007438</td>\n",
              "      <td>-0.256055</td>\n",
              "      <td>-0.294156</td>\n",
              "      <td>-0.284940</td>\n",
              "      <td>-0.227513</td>\n",
              "      <td>...</td>\n",
              "      <td>0.828623</td>\n",
              "      <td>-0.131646</td>\n",
              "      <td>-0.100396</td>\n",
              "      <td>-0.14867</td>\n",
              "      <td>-0.104366</td>\n",
              "      <td>-0.579979</td>\n",
              "      <td>-0.105686</td>\n",
              "      <td>-0.58524</td>\n",
              "      <td>-0.57078</td>\n",
              "      <td>BENIGN</td>\n",
              "    </tr>\n",
              "    <tr>\n",
              "      <th>2</th>\n",
              "      <td>-0.355994</td>\n",
              "      <td>-0.654727</td>\n",
              "      <td>0.000594</td>\n",
              "      <td>-0.004282</td>\n",
              "      <td>0.421001</td>\n",
              "      <td>-0.006178</td>\n",
              "      <td>2.221784</td>\n",
              "      <td>-0.294156</td>\n",
              "      <td>1.614047</td>\n",
              "      <td>2.430793</td>\n",
              "      <td>...</td>\n",
              "      <td>0.828623</td>\n",
              "      <td>-0.131646</td>\n",
              "      <td>-0.100396</td>\n",
              "      <td>-0.14867</td>\n",
              "      <td>-0.104366</td>\n",
              "      <td>-0.579979</td>\n",
              "      <td>-0.105686</td>\n",
              "      <td>-0.58524</td>\n",
              "      <td>-0.57078</td>\n",
              "      <td>BENIGN</td>\n",
              "    </tr>\n",
              "    <tr>\n",
              "      <th>3</th>\n",
              "      <td>-0.336856</td>\n",
              "      <td>-0.654397</td>\n",
              "      <td>0.009962</td>\n",
              "      <td>0.001815</td>\n",
              "      <td>0.469998</td>\n",
              "      <td>-0.004612</td>\n",
              "      <td>1.787831</td>\n",
              "      <td>-0.294156</td>\n",
              "      <td>0.903958</td>\n",
              "      <td>1.516334</td>\n",
              "      <td>...</td>\n",
              "      <td>0.828623</td>\n",
              "      <td>-0.131646</td>\n",
              "      <td>-0.100396</td>\n",
              "      <td>-0.14867</td>\n",
              "      <td>-0.104366</td>\n",
              "      <td>-0.579979</td>\n",
              "      <td>-0.105686</td>\n",
              "      <td>-0.58524</td>\n",
              "      <td>-0.57078</td>\n",
              "      <td>BENIGN</td>\n",
              "    </tr>\n",
              "    <tr>\n",
              "      <th>4</th>\n",
              "      <td>-0.355994</td>\n",
              "      <td>-0.654727</td>\n",
              "      <td>-0.000744</td>\n",
              "      <td>-0.004282</td>\n",
              "      <td>0.421001</td>\n",
              "      <td>-0.006177</td>\n",
              "      <td>2.221784</td>\n",
              "      <td>-0.294156</td>\n",
              "      <td>1.836067</td>\n",
              "      <td>2.704747</td>\n",
              "      <td>...</td>\n",
              "      <td>0.828623</td>\n",
              "      <td>-0.131646</td>\n",
              "      <td>-0.100396</td>\n",
              "      <td>-0.14867</td>\n",
              "      <td>-0.104366</td>\n",
              "      <td>-0.579979</td>\n",
              "      <td>-0.105686</td>\n",
              "      <td>-0.58524</td>\n",
              "      <td>-0.57078</td>\n",
              "      <td>BENIGN</td>\n",
              "    </tr>\n",
              "  </tbody>\n",
              "</table>\n",
              "<p>5 rows × 79 columns</p>\n",
              "</div>"
            ],
            "text/plain": [
              "    Destination Port   Flow Duration   Total Fwd Packets  \\\n",
              "0          -0.356503       -0.653857           -0.011451   \n",
              "1          -0.336856       -0.654742            0.001932   \n",
              "2          -0.355994       -0.654727            0.000594   \n",
              "3          -0.336856       -0.654397            0.009962   \n",
              "4          -0.355994       -0.654727           -0.000744   \n",
              "\n",
              "    Total Backward Packets  Total Length of Fwd Packets  \\\n",
              "0                -0.009362                    -0.089086   \n",
              "1                -0.005298                    -0.062153   \n",
              "2                -0.004282                     0.421001   \n",
              "3                 0.001815                     0.469998   \n",
              "4                -0.004282                     0.421001   \n",
              "\n",
              "    Total Length of Bwd Packets   Fwd Packet Length Max  \\\n",
              "0                     -0.007581               -0.376966   \n",
              "1                     -0.007438               -0.256055   \n",
              "2                     -0.006178                2.221784   \n",
              "3                     -0.004612                1.787831   \n",
              "4                     -0.006177                2.221784   \n",
              "\n",
              "    Fwd Packet Length Min   Fwd Packet Length Mean   Fwd Packet Length Std  \\\n",
              "0               -0.176667                -0.346068               -0.366591   \n",
              "1               -0.294156                -0.284940               -0.227513   \n",
              "2               -0.294156                 1.614047                2.430793   \n",
              "3               -0.294156                 0.903958                1.516334   \n",
              "4               -0.294156                 1.836067                2.704747   \n",
              "\n",
              "   ...   min_seg_size_forward  Active Mean   Active Std   Active Max  \\\n",
              "0  ...              -1.069400    -0.131646    -0.100396     -0.14867   \n",
              "1  ...               0.828623    -0.131646    -0.100396     -0.14867   \n",
              "2  ...               0.828623    -0.131646    -0.100396     -0.14867   \n",
              "3  ...               0.828623    -0.131646    -0.100396     -0.14867   \n",
              "4  ...               0.828623    -0.131646    -0.100396     -0.14867   \n",
              "\n",
              "    Active Min  Idle Mean   Idle Std   Idle Max   Idle Min   Label  \n",
              "0    -0.104366  -0.579979  -0.105686   -0.58524   -0.57078  BENIGN  \n",
              "1    -0.104366  -0.579979  -0.105686   -0.58524   -0.57078  BENIGN  \n",
              "2    -0.104366  -0.579979  -0.105686   -0.58524   -0.57078  BENIGN  \n",
              "3    -0.104366  -0.579979  -0.105686   -0.58524   -0.57078  BENIGN  \n",
              "4    -0.104366  -0.579979  -0.105686   -0.58524   -0.57078  BENIGN  \n",
              "\n",
              "[5 rows x 79 columns]"
            ]
          },
          "execution_count": 22,
          "metadata": {},
          "output_type": "execute_result"
        }
      ],
      "source": [
        "df.head()"
      ]
    },
    {
      "cell_type": "code",
      "execution_count": 6,
      "metadata": {
        "colab": {
          "base_uri": "https://localhost:8080/"
        },
        "id": "VOFO127IoqHe",
        "outputId": "e65714d2-3afa-489e-abee-950b0b499b1f"
      },
      "outputs": [
        {
          "data": {
            "text/plain": [
              "Index([' Destination Port', ' Flow Duration', ' Total Fwd Packets',\n",
              "       ' Total Backward Packets', 'Total Length of Fwd Packets',\n",
              "       ' Total Length of Bwd Packets', ' Fwd Packet Length Max',\n",
              "       ' Fwd Packet Length Min', ' Fwd Packet Length Mean',\n",
              "       ' Fwd Packet Length Std', 'Bwd Packet Length Max',\n",
              "       ' Bwd Packet Length Min', ' Bwd Packet Length Mean',\n",
              "       ' Bwd Packet Length Std', 'Flow Bytes/s', ' Flow Packets/s',\n",
              "       ' Flow IAT Mean', ' Flow IAT Std', ' Flow IAT Max', ' Flow IAT Min',\n",
              "       'Fwd IAT Total', ' Fwd IAT Mean', ' Fwd IAT Std', ' Fwd IAT Max',\n",
              "       ' Fwd IAT Min', 'Bwd IAT Total', ' Bwd IAT Mean', ' Bwd IAT Std',\n",
              "       ' Bwd IAT Max', ' Bwd IAT Min', 'Fwd PSH Flags', ' Bwd PSH Flags',\n",
              "       ' Fwd URG Flags', ' Bwd URG Flags', ' Fwd Header Length',\n",
              "       ' Bwd Header Length', 'Fwd Packets/s', ' Bwd Packets/s',\n",
              "       ' Min Packet Length', ' Max Packet Length', ' Packet Length Mean',\n",
              "       ' Packet Length Std', ' Packet Length Variance', 'FIN Flag Count',\n",
              "       ' SYN Flag Count', ' RST Flag Count', ' PSH Flag Count',\n",
              "       ' ACK Flag Count', ' URG Flag Count', ' CWE Flag Count',\n",
              "       ' ECE Flag Count', ' Down/Up Ratio', ' Average Packet Size',\n",
              "       ' Avg Fwd Segment Size', ' Avg Bwd Segment Size',\n",
              "       ' Fwd Header Length.1', 'Fwd Avg Bytes/Bulk', ' Fwd Avg Packets/Bulk',\n",
              "       ' Fwd Avg Bulk Rate', ' Bwd Avg Bytes/Bulk', ' Bwd Avg Packets/Bulk',\n",
              "       'Bwd Avg Bulk Rate', 'Subflow Fwd Packets', ' Subflow Fwd Bytes',\n",
              "       ' Subflow Bwd Packets', ' Subflow Bwd Bytes', 'Init_Win_bytes_forward',\n",
              "       ' Init_Win_bytes_backward', ' act_data_pkt_fwd',\n",
              "       ' min_seg_size_forward', 'Active Mean', ' Active Std', ' Active Max',\n",
              "       ' Active Min', 'Idle Mean', ' Idle Std', ' Idle Max', ' Idle Min',\n",
              "       ' Label'],\n",
              "      dtype='object')"
            ]
          },
          "execution_count": 6,
          "metadata": {},
          "output_type": "execute_result"
        }
      ],
      "source": [
        "df.columns"
      ]
    },
    {
      "cell_type": "code",
      "execution_count": 7,
      "metadata": {
        "colab": {
          "base_uri": "https://localhost:8080/"
        },
        "id": "dxt6JEwEj3Pj",
        "outputId": "074d6532-c6e1-48e2-a3e0-de25cc01a1bc"
      },
      "outputs": [
        {
          "data": {
            "text/plain": [
              " Label\n",
              "BENIGN              440031\n",
              "DoS Hulk            231073\n",
              "DoS GoldenEye        10293\n",
              "DoS slowloris         5796\n",
              "DoS Slowhttptest      5499\n",
              "Heartbleed              11\n",
              "Name: count, dtype: int64"
            ]
          },
          "execution_count": 7,
          "metadata": {},
          "output_type": "execute_result"
        }
      ],
      "source": [
        "df[' Label'].value_counts()"
      ]
    },
    {
      "cell_type": "code",
      "execution_count": 10,
      "metadata": {},
      "outputs": [
        {
          "data": {
            "image/png": "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",
            "text/plain": [
              "<Figure size 1000x600 with 1 Axes>"
            ]
          },
          "metadata": {},
          "output_type": "display_data"
        }
      ],
      "source": [
        "#bar chart\n",
        "import matplotlib.pyplot as plt\n",
        "plt.figure(figsize=(10, 6))\n",
        "x = df[' Label']\n",
        "plt.plot(x)\n",
        "plt.show()"
      ]
    },
    {
      "cell_type": "code",
      "execution_count": 12,
      "metadata": {},
      "outputs": [
        {
          "data": {
            "image/png": "iVBORw0KGgoAAAANSUhEUgAAAqoAAAKSCAYAAAAarPmqAAAAOXRFWHRTb2Z0d2FyZQBNYXRwbG90bGliIHZlcnNpb24zLjguMywgaHR0cHM6Ly9tYXRwbG90bGliLm9yZy/H5lhTAAAACXBIWXMAAA9hAAAPYQGoP6dpAACisUlEQVR4nOzdd3gU5d7G8e+md5JASOihE3q1gBQRBVTEVxD12FCxewCPYq9YsItdjwXsoKiAIghKEVCk14TeSe+97O68f+QQiUkgZZPZTe7PdeWCzM48c2+A8MszT7EYhmEgIiIiIuJk3MwOICIiIiJSHhWqIiIiIuKUVKiKiIiIiFNSoSoiIiIiTkmFqoiIiIg4JRWqIiIiIuKUVKiKiIiIiFNSoSoiIiIiTkmFqoiIiIg4JRWqImKap556CovFUif3GjZsGMOGDSv5fOXKlVgsFubNm1cn9584cSKRkZF1cq/qys7OZtKkSURERGCxWJg6dWqd3HfixIkEBAQ4tM1//nmLiGtSoSoiDjF79mwsFkvJh4+PD82bN2fkyJG8+eabZGVlOeQ+sbGxPPXUU2zdutUh7TmSM2erjOeff57Zs2dz55138vnnn3P99ddXeG5kZCSXXnppHaYTkYbIw+wAIlK/TJ8+nbZt21JUVER8fDwrV65k6tSpvPbaayxcuJCePXuWnPvYY4/x0EMPVan92NhYnn76aSIjI+ndu3elr1u6dGmV7lMdp8v24YcfYrfbaz1DTSxfvpxzzjmHJ5980uwoIiKAClURcbDRo0fTv3//ks8ffvhhli9fzqWXXspll11GTEwMvr6+AHh4eODhUbvfhnJzc/Hz88PLy6tW73Mmnp6ept6/MhITE+natavZMURESujRv4jUuuHDh/P4449z5MgRvvjii5Lj5Y1RXbZsGeeddx7BwcEEBATQuXNnHnnkEaB4XOmAAQMAuOmmm0qGGcyePRsoHpfYvXt3Nm3axJAhQ/Dz8yu5tqIxizabjUceeYSIiAj8/f257LLLOHbsWKlzIiMjmThxYplrT23zTNnKG6Oak5PDfffdR6tWrfD29qZz58688sorGIZR6jyLxcI999zD/Pnz6d69O97e3nTr1o0lS5aU/wX/h8TERG655RbCw8Px8fGhV69efPrppyWvnxyve+jQIRYtWlSS/fDhw5VqvyKrV6/myiuvpHXr1nh7e9OqVSvuvfde8vLyyj3/4MGDjBw5En9/f5o3b8706dPLfC3sdjszZ86kW7du+Pj4EB4ezu23305aWtoZ87z11lt069YNPz8/QkJC6N+/P1999VWN3qOI1C71qIpInbj++ut55JFHWLp0Kbfeemu55+zatYtLL72Unj17Mn36dLy9vdm/fz9r164FICoqiunTp/PEE09w2223MXjwYAAGDhxY0kZKSgqjR4/m6quv5rrrriM8PPy0uZ577jksFgsPPvggiYmJzJw5kxEjRrB169aSnt/KqEy2UxmGwWWXXcaKFSu45ZZb6N27N7/88gvTpk3jxIkTvP7666XOX7NmDd9//z133XUXgYGBvPnmm4wbN46jR4/SuHHjCnPl5eUxbNgw9u/fzz333EPbtm359ttvmThxIunp6UyZMoWoqCg+//xz7r33Xlq2bMl9990HQFhYWKXff3m+/fZbcnNzufPOO2ncuDHr16/nrbfe4vjx43z77belzrXZbIwaNYpzzjmHl156iSVLlvDkk09itVqZPn16yXm33347s2fP5qabbmLy5MkcOnSIt99+my1btrB27doKe64//PBDJk+ezPjx45kyZQr5+fls376dv/76i3/96181ep8iUosMEREHmDVrlgEYGzZsqPCcRo0aGX369Cn5/MknnzRO/Tb0+uuvG4CRlJRUYRsbNmwwAGPWrFllXhs6dKgBGO+//365rw0dOrTk8xUrVhiA0aJFCyMzM7Pk+DfffGMAxhtvvFFyrE2bNsaNN954xjZPl+3GG2802rRpU/L5/PnzDcB49tlnS503fvx4w2KxGPv37y85BhheXl6ljm3bts0AjLfeeqvMvU41c+ZMAzC++OKLkmOFhYXGueeeawQEBJR6723atDEuueSS07ZXlXNzc3PLHJsxY4ZhsViMI0eOlBy78cYbDcD497//XXLMbrcbl1xyieHl5VXy92H16tUGYHz55Zel2lyyZEmZ4//8sxk7dqzRrVu3Sr03EXEeevQvInUmICDgtLP/g4ODAViwYEG1Jx55e3tz0003Vfr8G264gcDAwJLPx48fT7Nmzfj555+rdf/K+vnnn3F3d2fy5Mmljt93330YhsHixYtLHR8xYgTt27cv+bxnz54EBQVx8ODBM94nIiKCa665puSYp6cnkydPJjs7m1WrVjng3ZTv1B7pnJwckpOTGThwIIZhsGXLljLn33PPPSW/PzncobCwkF9//RUo7qFt1KgRF154IcnJySUf/fr1IyAggBUrVlSYJTg4mOPHj7NhwwYHvkMRqW0qVEWkzmRnZ5cqCv/pqquuYtCgQUyaNInw8HCuvvpqvvnmmyoVrS1atKjSxKmOHTuW+txisdChQ4caj888kyNHjtC8efMyX4+oqKiS10/VunXrMm2EhISccWzmkSNH6NixI25upb/dV3QfRzp69CgTJ04kNDSUgIAAwsLCGDp0KAAZGRmlznVzc6Ndu3aljnXq1Amg5M9i3759ZGRk0LRpU8LCwkp9ZGdnk5iYWGGWBx98kICAAM466yw6duzI3XffXTKkREScl8aoikidOH78OBkZGXTo0KHCc3x9ffn9999ZsWIFixYtYsmSJcydO5fhw4ezdOlS3N3dz3ifqowrrayKNiWw2WyVyuQIFd3H+MdkI2dhs9m48MILSU1N5cEHH6RLly74+/tz4sQJJk6cWK0ec7vdTtOmTfnyyy/Lff10Y2qjoqLYs2cPP/30E0uWLOG7777j3Xff5YknnuDpp5+uchYRqRsqVEWkTnz++ecAjBw58rTnubm5ccEFF3DBBRfw2muv8fzzz/Poo4+yYsUKRowY4fCdrPbt21fqc8Mw2L9/f6n1XkNCQkhPTy9z7ZEjR0r1AlYlW5s2bfj111/Jysoq1au6e/fuktcdoU2bNmzfvh273V6qV9XR9/mnHTt2sHfvXj799FNuuOGGkuPLli0r93y73c7BgwdLelEB9u7dC1CyWkL79u359ddfGTRoULV+IPH39+eqq67iqquuorCwkCuuuILnnnuOhx9+GB8fnyq3JyK1T4/+RaTWLV++nGeeeYa2bdty7bXXVnheampqmWMnF84vKCgAiosNoNzCsTo+++yzUuNm582bR1xcHKNHjy451r59e9atW0dhYWHJsZ9++qnMMlZVyXbxxRdjs9l4++23Sx1//fXXsVgspe5fExdffDHx8fHMnTu35JjVauWtt94iICCg5FG8o53sAT61x9cwDN54440Krzn1a2EYBm+//Taenp5ccMEFAEyYMAGbzcYzzzxT5lqr1Xrar3tKSkqpz728vOjatSuGYVBUVFSp9yQidU89qiLiUIsXL2b37t1YrVYSEhJYvnw5y5Yto02bNixcuPC0PVfTp0/n999/55JLLqFNmzYkJiby7rvv0rJlS8477zyguGgMDg7m/fffJzAwEH9/f84++2zatm1brbyhoaGcd9553HTTTSQkJDBz5kw6dOhQagmtSZMmMW/ePEaNGsWECRM4cOAAX3zxRanJTVXNNmbMGM4//3weffRRDh8+TK9evVi6dCkLFixg6tSpZdqurttuu40PPviAiRMnsmnTJiIjI5k3bx5r165l5syZpx0zfCb79+/n2WefLXO8T58+XHTRRbRv357777+fEydOEBQUxHfffVfhmFofHx+WLFnCjTfeyNlnn83ixYtZtGgRjzzySMkj/aFDh3L77bczY8YMtm7dykUXXYSnpyf79u3j22+/5Y033mD8+PHltn/RRRcRERHBoEGDCA8PJyYmhrfffptLLrmkRl8DEall5i04ICL1ycnlqU5+eHl5GREREcaFF15ovPHGG6WWQTrpn8tT/fbbb8bYsWON5s2bG15eXkbz5s2Na665xti7d2+p6xYsWGB07drV8PDwKLUc1NChQytcgqii5am+/vpr4+GHHzaaNm1q+Pr6GpdcckmppZNOevXVV40WLVoY3t7exqBBg4yNGzeWafN02f65PJVhGEZWVpZx7733Gs2bNzc8PT2Njh07Gi+//LJht9tLnQcYd999d5lMFS2b9U8JCQnGTTfdZDRp0sTw8vIyevToUe4SWlVdnurUP+9TP2655RbDMAwjOjraGDFihBEQEGA0adLEuPXWW0uW1Tr1/jfeeKPh7+9vHDhwwLjooosMPz8/Izw83HjyyScNm81W5t7//e9/jX79+hm+vr5GYGCg0aNHD+OBBx4wYmNjS87555/NBx98YAwZMsRo3Lix4e3tbbRv396YNm2akZGRUan3KyLmsBiGk47EFxEREZEGTWNURURERMQpqVAVEREREaekQlVEREREnJIKVRERERFxSipURURERMQpqVAVEREREaekQlVEREREnJIKVRERERFxSipURURERMQpqVAVEREREaekQlVEREREnJIKVRERERFxSipURURERMQpqVAVEREREaekQlVEREREnJIKVRERERFxSipURURERMQpqVAVEREREaekQlVEREREnJIKVREREamSlStXYrFYSE9PB2D27NkEBwebmknqJxWqIiIidWDixIlYLBYsFguenp6Eh4dz4YUX8sknn2C326vUls1m44UXXqBLly74+voSGhrK2WefzUcffVThNf8sLk8VGRnJzJkzq/iORGqfh9kBREREGopRo0Yxa9YsbDYbCQkJLFmyhClTpjBv3jwWLlyIh0fl/lt++umn+eCDD3j77bfp378/mZmZbNy4kbS0tFp+ByJ1Sz2qIiIidcTb25uIiAhatGhB3759eeSRR1iwYAGLFy9m9uzZJecdPXqUsWPHEhAQQFBQEBMmTCAhIaHk9YULF3LXXXdx5ZVX0rZtW3r16sUtt9zC/fffX+OMhw8fxmKxsHXr1pJj6enpWCwWVq5cWak2kpKS6N+/P//3f/9HQUFBjTNJw6VCVURExETDhw+nV69efP/99wDY7XbGjh1Lamoqq1atYtmyZRw8eJCrrrqq5JqIiAiWL19OUlKSWbErdOzYMQYPHkz37t2ZN28e3t7eZkcSF6ZH/yIiIibr0qUL27dvB+C3335jx44dHDp0iFatWgHw2Wef0a1bNzZs2MCAAQN47bXXGD9+PBEREXTr1o2BAwcyduxYRo8efcZ7tWzZssyx3Nxch7yPPXv2cOGFF/J///d/zJw5E4vF4pB2peFSj6qIiIjJDMMoKepiYmJo1apVSZEK0LVrV4KDg4mJiSn5fOfOnaxbt46bb76ZxMRExowZw6RJk854r9WrV7N169ZSH82bN6/xe8jLy2Pw4MFcccUVvPHGGypSxSFUqIqIiJgsJiaGtm3bVukaNzc3BgwYwNSpU/n++++ZPXs2H3/8MYcOHTrtdW3btqVDhw6lPk6dxOXmVlwaGIZRcqyoqOiMeby9vRkxYgQ//fQTJ06cqNJ7EamIClURERETLV++nB07djBu3DgAoqKiOHbsGMeOHSs5Jzo6mvT0dLp27VphOydfy8nJqVGesLAwAOLi4kqOnTqxqiJubm58/vnn9OvXj/PPP5/Y2Nga5RABjVEVERGpMwUFBcTHx5danmrGjBlceuml3HDDDQCMGDGCHj16cO211zJz5kysVit33XUXQ4cOpX///gCMHz+eQYMGMXDgQCIiIjh06BAPP/wwnTp1okuXLjXK6OvryznnnMMLL7xA27ZtSUxM5LHHHqvUte7u7nz55Zdcc801DB8+nJUrVxIREVGjPNKwqUdVRESkjixZsoRmzZoRGRnJqFGjWLFiBW+++SYLFizA3d0dAIvFwoIFCwgJCWHIkCGMGDGCdu3aMXfu3JJ2Ro4cyY8//siYMWPo1KkTN954I126dGHp0qWVXov1dD755BOsViv9+vVj6tSpPPvss5W+1sPDg6+//ppu3boxfPhwEhMTa5xHGi6LceogFBERERERJ6EeVRERERFxSipURURERMQpaTKViIijFeZCTiLkJENOUvFHXhrYCsFW9L+PQrBbSx+z/++47eTx8s6xgoc3ePqBlx94Bfz9e09/8PI/5fd+xZ+f/L3n/84/+XufRuDmbvZXS0SkQipURUTOxG6HvNS/i87sU4vQU35/8nhRzZYHqjMWdwgIh6Dm//to8ffvG7Us/jWwGbh7mp1URBooTaYSEQHIToLUA5B6EFL+92vqQciMhdwUMGxmJzSHxQ38w8oWsqV+3xI8vMxOKiL1kApVEWk4rAWQvA+SdkPSHkjZ/7/i9BAUZJqdznVZ3KFxe2jaFcK7/f1rSCRoG00RqQEVqiJS/xTlQ/Ke4mI0aTck7i7+Ne1ww+0ZNYNXAIR1gfCu0LTb37/6NzY7mYi4CBWqIuL6Ug/CsQ1wfD0c3wAJu4onHYlzCggv3fPatGtxQevpY3YyEXEyKlRFxLUU5sCJzcUF6cmPnCSzU0lNWdyhSUdodTZEngdtBkGjFmanEhGTqVAVEed2am/psfWQGK3e0oYiuM3/itaBxYVraFuzE4lIHVOhKiLOo6S3dP3/itMNkJtsdipxFkEt/i5aI88r7oEVkXpNhaqImCtpL+z7Bfb+AkfXFS96L1IZ/k2LC9eTva5Nu2qVAZF6RoWqiNStonw4vKa4ON23tHgmvogj+IZC63Oh7RDocjEEtzY7kYjUkApVEal9GceLe0z3LYVDv0NRrtmJpCGI6AldLoWoS4tXFxARl6NCVUQcz26DY3/9XZwmRpudSBq6kLbFBWuXS6HlWeDmZnYiEakEFaoi4hg5KbB/WXFxemA55KebnUikfP5Ni4cGdBlTPExA27+KOC0VqiJSfXnpsOsH2P4NHFsHht3sRCJV4x0EHS8s7mnteCF4B5qdSEROoUJVRKrGVgT7lsH2ObBnCdgKzE4k4hju3tBuaHHR2vliCAgzO5FIg6dCVUQq5/im4uJ053eQm2J2GpHaZXGDyMHQ+1roehl4+pqdSKRBUqEqIhVLPwrb58K2uZCyz+w0IubwDoJulxcXra3PMTuNSIOiQlVESsvPhOj5xcXpkbWAvkWIlGjcAXpdU/zRqIXZaUTqPRWqIgI2Kxz4DbbNgT2LwZpndiIR52Zxg3bDoO+N0OUScPc0O5FIvaRCVaQhSz0I6z+CHd9ATpLZaURcU0B48bCAfjdCSKTZaUTqFRWqIg3RodWw7j3Yu1hLSok4jAXanw/9bipeNcDdw+xAIi5PhapIQ2EtLJ6xv+5diN9udhqR+i0gAvpcB/0mQnArs9OIuCwVqiL1XU4KbPwYNnwE2QlmpxFpWNw8oPs4GDQVwruanUbE5ahQFamvEmOKe0+3fwPWfLPTiDRwFuh4EZw3FdoMNDuMiMtQoSpSnxhG8a5R696FgyvMTiMi5Wl1TnHB2mkUWCxmpxFxaipUReqDwlzY9jX89T4k7zU7jYhURlgUDJoCPa7UxCuRCqhQFXFlmXGw/gPYNBvy0sxOIyLV0agVnHt38ZqsXn5mpxFxKipURVxRTjKsfhU2fAy2ArPTiIgj+IbCWbfB2beDX6jZaUScggpVEVeSlw5/vFX8iL8w2+w0IlIbPP2h7/Vw7j1a2koaPBWqIq6gMKd4gf4/3oL8dLPTiEhdcPOEHuNh8P3QpIPZaURMoUJVxJlZC2DjJ8WP+bXFqUjD5OZRvHHA0IcgIMzsNCJ1SoWqiDOyWWHrF7DqZcg8bnYaEXEGXoHFqwSce7cmXUmDoUJVxJkYBuyYByufh9SDZqcREWcU2BzOfxh6XwdubmanEalVKlRFnMXuRbD8OUjcZXYSEXEFTbvChdOh44VmJxGpNSpURcx2YDksfxZObDI7iYi4orZD4aJnoFkvs5OIOJwKVRGzJOyCxQ/C4dVmJxERl2eBnhNg+ONa0krqFRWqInWtIAtWzCjeUcpuNTuNiNQn7t7FGwYMvg98g81OI1JjKlRF6tLO7+CXRyErzuwkIlKf+YbAkGkw4Fbw8DI7jUi1qVAVqQvJ++Hn++DgSrOTiEhDEhIJFz0LUWPMTiJSLSpURWpTUR78/nLxjlK2QrPTiEhD1eVSuPgVCGpmdhKRKlGhKlJbdv8MSx6E9KNmJxERAe9GMOJJ6H8zWCxmpxGpFBWqIo6Wdrh4Nv/eJWYnEREpq/W5MOYNCOtsdhKRM9KWFk7q8OHDWCwWtm7dWuE5K1euxGKxkJ6eXme55DSsBbDqJXjnHBWpIuK8jv4J758HK18Aq4YkiXOrV4XqxIkTsVgsWCwWPD09CQ8P58ILL+STTz7BbrdXqS2bzcYLL7xAly5d8PX1JTQ0lLPPPpuPPvrotNcZhsGHH37IueeeS1BQEAEBAXTr1o0pU6awf//+mry9OnPya/jPjzlz5pgdzXkdWA7vngsrngNrntlpREROz1YIK2fAB4Ph2Hqz04hUqF4VqgCjRo0iLi6Ow4cPs3jxYs4//3ymTJnCpZdeitVa+TUrn376aV5//XWeeeYZoqOjWbFiBbfddttpey8Nw+Bf//oXkydP5uKLL2bp0qVER0fz8ccf4+Pjw7PPPuuAd1g3Zs2aRVxcXKmPyy+/3OxYziczFr65ET7/P0g9YHYaEZGqSdoNn4yERfcXr/Es4mTqXaHq7e1NREQELVq0oG/fvjzyyCMsWLCAxYsXM3v27JLzjh49ytixYwkICCAoKIgJEyaQkJBQ8vrChQu56667uPLKK2nbti29evXilltu4f7776/w3nPnzmXOnDnMnTuXxx9/nHPOOYfWrVtzzjnn8OKLLzJr1qySc+12O9OnT6dly5Z4e3vTu3dvliw5/ePin3/+mU6dOuHr68v555/P4cOHy5yzZs0aBg8ejK+vL61atWLy5Mnk5OSUvB4ZGcnzzz/PzTffTGBgIK1bt+a///1vmXaCg4OJiIgo9eHj40NOTg5BQUHMmzev1Pnz58/H39+frKzib3THjh1jwoQJBAcHExoaytixY8vN69K2zS1+zB893+wkIiLVZ9hhw4fwztmwZ7HZaURKqXeFanmGDx9Or169+P7774HiInHs2LGkpqayatUqli1bxsGDB7nqqqtKromIiGD58uUkJSVV+j5ff/01nTt35rLLLiv3dcspsyzfeOMNXn31VV555RW2b9/OyJEjueyyy9i3b1+51x47dowrrriCMWPGsHXrViZNmsRDDz1U6pwDBw4watQoxo0bx/bt25k7dy5r1qzhnnvuKXXeq6++Sv/+/dmyZQt33XUXd955J3v27KnUe/T39+fqq68uVXRDcQ/s+PHjCQwMpKioiJEjRxIYGMjq1atZu3YtAQEBjBo1isLCejAeKi8Nvr0JfrgNCjLMTiMi4hiZJ+Drq4ufEmUlnPl8kTpQr2b9T5w4kfT0dObPn1/mtauvvprt27cTHR3NsmXLGD16NIcOHaJVq+I9kaOjo+nWrRvr169nwIABREdHM378ePbs2UO3bt0YOHAgY8eOZfTo0RXePyoqik6dOrFgwYKSY1OnTi0Z1xocHMzx48cBaNGiBXfffTePPPJIyblnnXUWAwYM4J133uHw4cO0bduWLVu20Lt375Ke4V27dpWc/9BDD/Hiiy+SlpZGcHAwkyZNwt3dnQ8++KDknDVr1jB06FBycnLw8fEhMjKSwYMH8/nnnwPFwxUiIiJ4+umnueOOO4DigtrHxwd3d/dS7y86OprWrVuzfv16Bg4cyLFjx2jWrBmJiYm0aNGCX3/9laFDh/LFF1/w7LPPEhMTU1KcFxYWEhwczPz587nooovO/IfprA6uhPl3FX9DFxGpr3wawYXPQL8bzU4iDVyD6FGF4oLsZNEUExNDq1atSopUgK5duxIcHExMTEzJ5zt37mTdunXcfPPNJCYmMmbMGCZNmlSl+z766KNs3bqVJ554guzsbAAyMzOJjY1l0KBBpc4dNGhQyf3/KSYmhrPPPrvUsXPPPbfU59u2bWP27NkEBASUfIwcORK73c6hQ4dKzuvZs2fJ7y0WCxERESQmJpZq6/XXX2fr1q2lPpo3bw4UF9TdunXj008/BeCLL76gTZs2DBkypCTH/v37CQwMLMkRGhpKfn4+Bw646DhOawEseRg+u1xFqojUf/kZ8ONkmH0ppB8zO400YB5mB6grMTExtG3btkrXuLm5MWDAAAYMGMDUqVP54osvuP7663n00UfLbatjx45lHqGHhYURFhZG06ZNa5S/MrKzs7n99tuZPHlymddat25d8ntPT89Sr1ksljKrIkRERNChQ4cK7zVp0iTeeecdHnroIWbNmsVNN91U8oNAdnY2/fr148svvyxzXVhYWJXek1OI3wnf3wqJ0WYnERGpW4dXFy9lNfYdiLrU7DTSADWIHtXly5ezY8cOxo0bBxQ/oj927BjHjv39U2J0dDTp6el07dq1wnZOvnbq5KRTXXPNNezZs6fUo//yBAUF0bx5c9auXVvq+Nq1ayu8f1RUFOvXl15CZN26daU+79u3L9HR0XTo0KHMh5eX12kzVdV1113HkSNHePPNN4mOjubGG/9+PNS3b1/27dtH06ZNy+Ro1KiRQ3PUKrsd1r4BH56vIlVEGq78dJh7LSy6r/jpkkgdqneFakFBAfHx8Zw4cYLNmzfz/PPPM3bsWC699FJuuOEGAEaMGEGPHj249tpr2bx5M+vXr+eGG25g6NCh9O/fH4Dx48fz+uuv89dff3HkyBFWrlzJ3XffTadOnejSpUu597766qsZP348V199NdOnT+evv/7i8OHDrFq1irlz55Ya8zlt2jRefPFF5s6dy549e3jooYfYunUrU6ZMKbftO+64g3379jFt2jT27NnDV199VWoVA4AHH3yQP/74g3vuuYetW7eyb98+FixYUGYyVWWkp6cTHx9f6uPUAj0kJIQrrriCadOmcdFFF9GyZcuS16699lqaNGnC2LFjWb16NYcOHWLlypVMnjy5ZIyu00s/Bp9dBsueKF5vUESkodvwEXx4ASSXP+lXpDbUu0J1yZIlNGvWjMjISEaNGsWKFSt48803WbBgQUmhaLFYWLBgASEhIQwZMoQRI0bQrl075s6dW9LOyJEj+fHHHxkzZgydOnXixhtvpEuXLixduhQPj/JHTFgsFubOncvMmTP5+eefueCCC+jcuTM333wzrVq1Ys2aNSXnTp48mf/85z/cd9999OjRgyVLlrBw4UI6duxYbtutW7fmu+++Y/78+fTq1Yv333+f559/vtQ5PXv2ZNWqVezdu5fBgwfTp08fnnjiiZKxpVVx00030axZs1Ifb731VqlzbrnlFgoLC7n55ptLHffz8+P333+ndevWXHHFFURFRXHLLbeQn59PUFBQlbPUue3fwHuDih95iYjI3xJ2wAdDYUvZoV0itaFezfqXuvX5559z7733Ehsb6/ChBabIS4dF/4Gd35mdRETE+fWYAJe+Bt6BZieReqze9ahK7cvNzeXAgQO88MIL3H777fWjSD24Ct4bqCJVRKSydnwDHwyB2C1mJ5F6TIWqVNlLL71Ely5diIiI4OGHHzY7Ts3YrLD0MfhsrJadEhGpqtSD8PFF8Oc7ZieRekqP/qXhykqAbyfC0T/MTiIi4vo6jYKx74J/Y7OTSD2iQlUapqPrircJzI43O4mISP0R2BzGfQiR55mdROoJPfqvAytXrsRisZCenl4r7T/11FP07t27xu3Mnj2b4ODgGrfj9P76oHi3FRWpIiKOlRULn46BFc+D3WZ2GqkH6k2hOnHiRCwWCxaLBU9PT8LDw7nwwgv55JNPyuy6dCY2m40XXniBLl264OvrS2hoKGeffTYfffRRLaV3DldddRV79+41O0btKcyF726FxQ+AvcjsNCIi9ZNhh1UvwqeXQU6K2WnExdWrLVRHjRrFrFmzsNlsJCQksGTJEqZMmcK8efNYuHBhheuf/tPTTz/NBx98wNtvv03//v3JzMxk48aNpKWl1fI7ME9RURG+vr74+vqaHaV2pB6EuddDwk6zk4iINAxH1sBHw+GaudC0/I1yRM6k3vSoAnh7exMREUGLFi3o27cvjzzyCAsWLGDx4sWldnE6evQoY8eOJSAggKCgICZMmEBCQkLJ6wsXLuSuu+7iyiuvpG3btvTq1YtbbrmF+++/v8J7HzlyhDFjxhASEoK/vz/dunXj559/rvD87777jm7duuHt7U1kZCSvvvpqyWtvv/023bt3L/l8/vz5WCwW3n///ZJjI0aM4LHHHiu3bbvdzvTp02nZsiXe3t707t2bJUuWlLx++PDhks0Jhg4dio+PD19++WWZR//btm3j/PPPJzAwkKCgIPr168fGjRsrfE/Oas2JNWz5eYqKVBGRupZ2GD6+EPb/anYScVH1qlAtz/Dhw+nVqxfff/89UFzEjR07ltTUVFatWsWyZcs4ePAgV111Vck1ERERLF++nKSkpErf5+6776agoIDff/+dHTt28OKLLxIQEFDuuZs2bWLChAlcffXV7Nixg6eeeorHH3+8pJgeOnQo0dHRJfdftWoVTZo0YeXKlUBx7+eff/7JsGHDym3/jTfe4NVXX+WVV15h+/btjBw5kssuu4x9+0pve/fQQw8xZcoUYmJiGDlyZJl2rr32Wlq2bMmGDRvYtGkTDz30EJ6enpX+mjiD2Ttnc/dvd3OvRwYJjaq+Q5eIiNRQQSZ8OaF4foBIFdWrR/8V6dKlC9u3bwfgt99+Y8eOHRw6dIhWrVoB8Nlnn9GtWzc2bNjAgAEDeO211xg/fjwRERF069aNgQMHMnbsWEaPHl3hPY4ePcq4cePo0aMHAO3atavw3Ndee40LLriAxx9/HIBOnToRHR3Nyy+/zMSJE+nevTuhoaGsWrWK8ePHs3LlSu677z7eeOMNANavX09RUREDBw4st/1XXnmFBx98kKuvvhqAF198kRUrVjBz5kzeeefvte6mTp3KFVdccdr3NG3aNLp0KX5kU9H2rs6owFbA0388zY8HfwQgpSCNeyM7MXtnCl62ApPTiYg0MIateH5A0h4Y/RK4N4jyQxyg3veoAhiGgcViASAmJoZWrVqVFKkAXbt2JTg4mJiYmJLPd+7cybp167j55ptJTExkzJgxTJo0qcJ7TJ48mWeffZZBgwbx5JNPlhTG5YmJiWHQoEGljg0aNIh9+/Zhs9mwWCwMGTKElStXkp6eTnR0NHfddRcFBQXs3r2bVatWMWDAAPz8/Mq0nZmZSWxsbLntn3x/J/Xv37/CjAD/+c9/mDRpEiNGjOCFF17gwIEDpz3fWSTmJjJx8cSSIvWkHZkHmd5rhEmpRESEjR/Dl+OKt6wWqYQGUajGxMTQtm3bKl3j5ubGgAEDmDp1Kt9//z2zZ8/m448/5tChQ+WeP2nSJA4ePMj111/Pjh076N+/P2+99Va1Mw8bNoyVK1eyevVq+vTpQ1BQUEnxumrVKoYOHVrttk/y9/c/7etPPfUUu3bt4pJLLmH58uV07dqVH374ocb3rU27kndx9U9XszOl/PGoC9J28FWPssMcRESkjhxcWTxuNcU1Oj/EXPW+UF2+fDk7duxg3LhxAERFRXHs2DGOHTtWck50dDTp6el07dq1wnZOvpaTk1PhOa1ateKOO+7g+++/57777uPDDz8s97yoqCjWrl1b6tjatWvp1KkT7u7uwN/jVL/99tuSsajDhg3j119/Ze3atRWOTw0KCqJ58+bltn+691eRTp06ce+997J06VKuuOIKZs2aVeU26sqKoyu46ZebSMo7/djil3P2saHN6XuTRUSkFiXvhY8ugMNrzE4iTq5eDRIpKCggPj6+1PJUM2bM4NJLL+WGG24AimfL9+jRg2uvvZaZM2ditVq56667GDp0aMmj8PHjxzNo0CAGDhxIREQEhw4d4uGHH6ZTp04l4zX/aerUqYwePZpOnTqRlpbGihUriIqKKvfc++67jwEDBvDMM89w1VVX8eeff/L222/z7rvvlpzTs2dPQkJC+Oqrr/jpp5+A4kL1/vvvx2KxlHm0f6pp06bx5JNP0r59e3r37s2sWbPYunUrX375ZaW/lnl5eUybNo3x48fTtm1bjh8/zoYNG0oKfmfzZcyXvLThJezGmdfMtRpW7vctZG5wSyLSj9dBOhERKSMvDT67HC59DfreYHYacVL1qlBdsmQJzZo1w8PDg5CQEHr16sWbb77JjTfeiJtbceexxWJhwYIF/Pvf/2bIkCG4ubkxatSoUo/pR44cyddff82MGTPIyMggIiKC4cOH89RTT1W4FqvNZuPuu+/m+PHjBAUFMWrUKF5//fVyz+3bty/ffPMNTzzxBM888wzNmjVj+vTpTJw4seQci8XC4MGDWbRoEeedV7wVXc+ePQkKCqJz586nfWw/efJkMjIyuO+++0hMTKRr164sXLiwSpOh3N3dSUlJ4YYbbiAhIYEmTZpwxRVX8PTTT1e6jbpgN+y8svEVPo/+vErXpRakM6V1Oz7LTsbbml9L6URE5LTsRbDw38WTrC58Btzq/YNeqSKLYRiG2SEcaeLEiaSnpzN//vxaaT8yMpKpU6cyderUWmlfKq/AVsBDvz/Er0ervz7fmJAePL95kQNTiYhItXQaDeM+Au/yl3aUhqlKP7o4wzalH374Ib169SIgIIDg4GD69OnDjBkzqnTv2nRyMf2tW7eWOj5x4kQuv/zyKre3cuVKLBYL6enpDskHFWd0JRkFGdy69NYaFakAP6bt4PMeoxyUSkREqm3vYvhkJKQfO/O50mBU+dG/mduUfvLJJ0ydOpU333yToUOHUlBQwPbt29m5UzsONSTxOfHcsewODmQ4Zsboazl76dR2AGcf2uCQ9kREpJoSdhZPsrr+BwjvZnYacQJVHgxi5jalCxcuZMKECdxyyy106NCBbt26cc011/Dcc89VeE1BQQGTJ0+madOm+Pj4cN5557Fhw98FSf/+/XnllVdKPr/88svx9PQkOzsbgOPHj2OxWNi/f3/JObm5udx8880EBgbSunVr/vvf/5a8dnIZrD59+mCxWBg2bBhPPfUUn376KQsWLCjpkV65cmVJz+acOXMYOHAgPj4+dO/enVWrVgHFPZ/nn38+ACEhIVgslpJxrHa7nRkzZtC2bVt8fX3p1asX8+bNK8mRlpbGtddeS1hYGL6+vnTs2LFkxn55GV3FvrR9XPvztQ4rUqF4ctU0r3xOhLZ2WJsiIlJN2Qkw+xKI3WJ2EnECDhm1XFfblEZERLBu3TqOHDlS6WseeOABvvvuOz799FM2b95Mhw4dGDlyJKmpqUDxMlAntyY1DIPVq1cTHBzMmjXFS2asWrWKFi1a0KFDh5I2X331Vfr378+WLVu46667uPPOO9mzZw9QvGsUwK+//kpcXBzff/89999/PxMmTGDUqFHExcURFxdXalepadOmcd9997FlyxbOPfdcxowZQ0pKCq1ateK7774DYM+ePcTFxZXsTjVjxgw+++wz3n//fXbt2sW9997LddddV1LkPv7440RHR7N48WJiYmJ47733aNKkSYUZXcHG+I3cuORGEnMTHd52WmEGU1u2Ic/T1+Fti4hIFeWlwadj4ehfZicRkzlsel2XLl04fPgw8Pc2pV999RX9+vXj7LPP5rPPPmPVqlUlvZmvvfYaSUlJRERE0LNnT+644w4WL1582ns8+eSTBAcHExkZSefOnZk4cSLffPNNheNjc3JyeO+993j55ZcZPXo0Xbt25cMPP8TX15ePP/4YKF7yac2aNdhsNrZv346XlxfXXnttSfG6cuXKMovrX3zxxdx111106NCBBx98kCZNmrBixQoAwsLCAGjcuDERERGEhoYSEBCAr69vSW90REQEXl5eJe3dc889jBs3jqioKN577z0aNWrExx9/jLu7O6GhoQA0bdqUiIgIGjVqREFBAc8//zyffPIJI0eOpF27dkycOJHrrruODz4o3kv56NGj9OnTh/79+xMZGcmIESMYM2ZMhRmd3cpjK7l92e1kFWbV2j12Zx3hyR7n11r7IiJSBQUZ8Pn/wcFVZicREzmsUK2LbUqbNWvGn3/+yY4dO5gyZQpWq5Ubb7yRUaNGlVusHjhwgKKiolJrjnp6enLWWWeV5Bg8eDBZWVls2bKlZMenk7tCQXGP6j8fjffs2bPk9xaLhYiICBITy/byWSyW064+cPx48RqeJ3s6ATw8POjfv3+Z7U5PtX//fnJzc7nwwgsJCAgo+fjss89Ktjm98847mTNnDr179+bqq692+ISsurTk0BLuXXEvhfbCWr/X4rSdzOqpyVUiIk6hKAe+mgB7fzE7iZjEYYVqXWxTelL37t256667+OKLL1i2bBnLli1jyJAhZc472XubkZFRYVvBwcH06tWrZGvSYcOGMWTIELZs2cLevXvZt29fmR5VT0/PUp8nJCSUWqy/tp0cP7to0SK2bt1a8hEdHV0yTnX06NEcOXKEe++9l5SUFAAee+yxOsvoKD/s+4EHVz+I1bDW2T3fyN7DH23PrrP7iYjIaVjzYc61EL3A7CRiAocUqnW5TWlF11itZQuZ5s2bA/DXX3+PcSkqKmLDhg2lcgwdOpQVK1bw+++/M2zYMEJDQ4mKiuK5556jWbNmdOrUqdx7G4ZR5r4nH+nbbLYyx/957KQdO3aU/N5qtbJp06aSXa3Ka69r1654e3tz9OhROnToUOrj1F7ssLAwbrzxRh599FEAPv3009NmdDZf7/6aJ/94slK7TTmSzbDxgFcOxxq3qdP7iohIBexF8O1NsG2u2UmkjlV5eSoztym98847ad68OcOHD6dly5bExcXx7LPP4u3tXe44S1/f4okxTzzxBK1atSIpKYn777+fxMREXn/9dY4ePcqMGTMYNmwYb731FgEBAVx33XXs2bMHu93O9u3bGTt2bEl7K1eu5MiRI8TExNCvXz927NjBf//735LVDE4OffD09GTJkiUAHDx4kNGjR/Prr79iGAZvvPEG1157LY0aNSppd+7cuQwdOpSoqCgef/xxYmNjefrpp3n11VdLdqX66aefuPjii/H29uadd97Bx8eHG264gUcffZQHHniAgQMHsnbtWoKCgggLC+P6668nOzubPn36lIxNPVlwN23aFF9fX5YsWULLli3x8fEplccZ/LTxS57f9YJp988ozGRK89Z8kZWMX2Hlf3ASEZFaYthg/h1QlAv9bzI7jdSRKveontymNDIyklGjRrFixQrefPNNFixYgLu7O/D3NqUhISEMGTKEESNG0K5dO+bO/fsnoZEjR/Ljjz8yZswYOnXqxI033kiXLl1YunRphWuxjhgxgnXr1nHllVfSqVMnxo0bh4+PDyNHjiw1OemfLrvsMv71r39xww034O/vz7x58/j2229Zs2YN99xzD4MHD8Zut9OpUyeeeeYZtm3bxhNPPIFhGOzbt69Mez/99BMvvPACMTExXHjhhYSFhREWFlYyo3/mzJklk5oefPBBxo0bx+rVq2ndujVTp04lLCyMtWvXlrQ3efJkXnjhBXr27MkPP/zAVVddxaZNm1iyZAlZWVm0bduWhx56iPDwcIYNG8Znn33GnDlzeOyxxygqKuLf//43w4cPZ9GiRfj7+3PFFVfQpUsXWrZsyebNm3n88ceB4nVooXgc7JtvvskHH3xA8+bNSxXjziDp3XfpcM9bnJff6swn16J92Ud5vHvZISUiImISww4/TYU/6264nZirXmyhOnHiRL744gt8fHxKHbfZbOTn55OWlsb999+Pu7t7SQEJsGbNGoYOHUpOTk6ZawE2btzIgAEDyMrKIiAggJUrV3L++eczf/78UsXdU089xfz588vs9GSxWLjjjjt47733So6dc8459O3bl3fffZc1a9YwePBg5syZw1VXXcWzzz7L6tWr+eWXvweNHz9+nFatWrFnzx7atGlDaGgov/76K+eee27JOZMmTSI3N5evvvqqZF3bXbt2lbz+0EMP8eKLL5KWlkZwcHCVv751KfGNN0h5730ALKEhvDwxiPXeJ0zNNCWoG5O2nX5FChERqWPDH4Mh08xOIbWsyo/+ndX5559fqiCE4rGp1113HQDbtm1j+/btfPnllyWvG4aB3W7n0KFDREVFsWnTJp566im2bdtGWlpayUoCR48eLTWm9eTwhco4taA8+XlFW5du27aNFStWEBBQdp/jkysYnJztf6rCwkL69OkDFE9qO/vs0hOB/pnBWSW+9jopp2yeYKSmMe1zd56/oRlbvOJMy/VWVgyd25/L4AN/mpZBRET+YfmzUJQHFzxhdhKpRfWmUPX39y+1KD/8vfwTFM+Uv/3225k8eXKZa1u3bk1OTg4jR45k5MiRfPnll4SFhXH06FFGjhxJYWHpZZH8/f1r5T1kZ2czZswYXnzxxTKvNWvWrGSr2EWLFtGiRYtSr3t7e9dKprqS+MYbpYrUk4ykZB75oilPXx/OTs+Ecq6sfXbDzoMeGcxp0pbWyadfkUJEROrQ6lehMBdGmzenQWpXvSlUz6Rv375ER0eXKWZP2rFjBykpKbzwwgslM+c3btxYqbZPN6N/3bp1JZPMTn5+svezZcuWAHTu3Lkk43fffUdkZGS543RPne3/zyWzToqKimLhwoVlMjizpLffKXncXx4jIZEnv4rgsX81YY9nch0m+1tWUTaTm7Xkq6wk/AqyTckgIiLl+Ou94glWl84EN4etuilOosH8iT744IP88ccf3HPPPWzdupV9+/axYMEC7rnnHqC4V9XLy4u33nqLgwcPsnDhQp555plKtR0ZGcmhQ4fYunUrycnJFBQUlLz27bff8sknn7B3716efPJJ1q9fX3LPf7r77rtJTU3lmmuuYcOGDRw4cIBffvmFm266CZvNRmBgIPfffz/33nsvn376KQcOHGDz5s289dZbJUtP3XHHHezbt49p06axZ88evvrqK2bPnl2zL14tSn7/A5LffvuM5xmx8Tw715121pA6SFW+A9nHeaTbeRhYTMsgIiLl2PwpLNZ41fqowRSqPXv2ZNWqVezdu5fBgwfTp08fnnjiiZK1VsPCwpg9ezbffvstXbt25YUXXuCVV16pVNvjxo1j1KhRnH/++YSFhfH111+XvPb0008zZ84cevbsyWeffcbXX39d4VqyzZs3Z+3atdhsNi666CJ69OjB1KlTCQ4Oxu1/PyU+88wzPP7448yYMYOoqChGjRrFokWLSjZbaN26Nd999x3z58+nV69evP/++zz//PM1+dLVmpRZs0maObPS5xvHTvDiPF9a24JrLdOZ/JYWzQe9Rpt2fxERqcCGj2DFDLNTiIPVi1n/4npSv/qKhOmV67Euo0MkU67IIM49y7GhKsmChTfdWzFs/xpT7i8iIqdx8Stw1q1mpxAHUaEqdS5jwQJiH3oYavBXz+jcjn+PTSXR3ZzxogGe/nyVVkjbpAOm3F9ERCpgcYNxH0H3cWYnEQdoMI/+xTlkLV9O7KOP1ahIBbDsOcibi8IIsfs6KFnVZBflMCW8Kdk+QabcX0REKmDY4Yc74MBys5OIA6hQlTpzYk8a+776FaxWh7Tntmsf7y5pTiOj7GYNdeFQzgke7nquJleJiDgbWyHMvR6ObzI7idSQClWpE4lHMln03nbW+15E9rB/Oaxd9217eG9pawKMirfQrU0r02J4t/fFptxbREROozAbvroSkvaanURqQIWq1Lr0hFx+ensbRfk2bEV2NrqdR8ao2xzWvsfmaN5f3g4fw5xlgT/I2MlvHQebcm8RETmN3BT44grIMHcrbqk+FapSq3IyCvjxra3kZRWVHLPbDTYV9CLlcseteee1fif/XdUJL8PdYW1WloHBoyRxoGmnOr+3iIicQcax4mI1N9XsJFINKlSl1hTmW/np7W1kJueXfdGAbemRxF/5lMPu5/Pndj5YG4WHUfd/rXOsuUxpGkqmb6M6v7eIiJxB0m74agIU5pidRKpIharUCrvNzpL/7iT52OmXj4pOCuP4NS9iWBwzIcl/9VY++Ksb7iZMcDqSE8tDXc7BbtE/KxERp3N8Q/EEK1vRmc8Vp6H/UaVWrPhyD8eiK/eYZW9cAIeveR27h2MmRAWu2MJ7G3tiMWGF4NXpMbylnatERJzTgd+Kl67SEvIuQ4WqONz6nw6x+4+4Kl1zKNaT/RNex+7j75AMwcs28c623g5pq6o+ytjB0s5DTLm3iIicwc55sPhBs1NIJalQFYfa81c8G346VK1rj8dCzOWvYA9q7JAsTRZv5M0dfRzSVlU9Zk9gb3gXU+4tIiJnsP4D+P0Vs1NIJahQFYeJ3Z/O8s9jatRGQrydHSOfxxbW0iGZIn7awGsxfR3SVlXkWfOY0iSIDN/gOr+3iIhUwvJnIXqh2SnkDFSoikOkJeey+P0d2K01H/eTkmRl6+AnKGrd2QHJoOX89bywr+6L1eO58TzQZQA2S90vmSUiImdiFI9Xjd9pdhA5DRWqUmPZBVau+Ww9RS0dt+B+RmoRm3v/h8JO/R3SXrt563nmUN0Xq3+k7+GN3qPq/L4iIlIJRTkw5xrISTE7iVRAharUiN1uMOXrLexOzOGF+FRSo3xwVAdiTqaVjR1vpaDXMIe013nOep44UvdjVmel72Bxl2F1fl8REamE9KPwzQ1atspJqVCVGnl56R5+251Y8vnHcWnsaOeOl79jqtX8HCvrI64i95wxDmmv+1cbePhE3RerT1pj2RPRtc7vKyIilXBkDfzsuN0SxXFUqEq1Ldh6gvdWHihzfHFSNgsbF+Ef5ph1UYsK7GwIvJjs8691SHt9Pt/IfXG9HdJWZeXZ8pnS2J90v9A6va+IiFTSplmw/kOzU8g/qFCVatl+PJ0H5m2v8PUdmQW865ZNYBtfh9zPVmRno2UQGaPvqHljhsHZn23mnsSeNW+rCk7kJnB/576aXCUi4qyWPASHVpudQk6hQlWqLDEzn9s+20SB1X768wpsPJuZilcXxxSrdrvBpvweJF/ugMczdjtDZm/jtuTuNW+rCv5K38urmlwlIuKc7Fb4diJknDA7ifyPClWpkkKrnds+30R8Zn7lzjfgufhUsrv6YrE4IIAB29MjiZ/wdM3bstkYMWsnE9O61bytKvg8fQc/Rg2v03uKiEgl5SYXT66yFpqdRFChKlU0Y3EMW4+lV/m692JT2d3RA09fx/yVi05swrFrXsKoafVrtXLxx9H8KyPKIbkqa3rRMaKb122BLCIilXRiIyx+wOwUggpVqYJl0QnMWnu42tcvTMxiSbgNv1BPh+TZF+fPoWtmYveo4aStoiL+7+O9jM90zAYDlZFvK2BqsA+p/k3q7J4iIlIFm2bBli/NTtHgqVCVSolNz2PavG01bmdzej7/9colsJVjxq0ejvVg34TXsfsG1Kgdo6CAqz45wGVZHR2SqzLi8pK4r2MvrG6O2yhBREQcaNF/IK7m//dJ9alQlTOy2Q2mzNlCeq5jFkOOy7fyXE4avp38HNLeiViIGfsK9kY165008vK5ftZRRue0d0iuytiYsY+XNblKRMQ5WfNh7nWQm2p2kgZLhaqc0evL9rLhcJpD2yywG0xPTCE/yhccMMkqId7Gjouew9a0dY3aMXJyuHnWCS7Ii6x5qEr6Km0787uOqLP7iYhIFaQfhe9vBfvpV7qR2qFCVU5r7f5k3l25v9bafysulcOdvPDwrnm1mpJkZcugx7C27lKjdoysbO6Ylcjg/JoVvVXxTMFhdrboUWf3ExGRKtj/K6x93ewUDZIKValQcnYBU+duxW7U7n2+TchgRTPwDa75JKvMtCI29b6Xws4DatSOkZHJ5E/TOLugRY0zVUahvZCpjTxJDmhaJ/cTEZEqWjFD41VNoEJVymUYBvfO3UpSVkGd3G9dei6zffMIbO5T47ZyMq1sbH8L+b1rtlapkZrGtM+y6VfYrMaZKiMhL5n7OnSnyM0xqyKIiIgD2Yvg+9ugqHLriItjqFCVcr2/6iCr9yXX6T2P5hXxQkE6fh1qPskqP9fGhvAryT33shq1Y09O4aEv8ulRWDc9nZsz9vNi74vq5F4iIlJFSbvh1yfNTtGgqFCVMjYdSePVpXtMuXeuzWB6Sgq2KL8aT7IqKrCzwX8UWcOvq1E7RkIST3xtp0tR3ax5OjdtB9910+QqERGn9NcHcGC52SkaDIthGLU8AlFcSUZuERe/uZoT6XlmR+HaZsG02l+Irahmf0UtbtDHZxfBP79bs3ZaNeehq60c8Kj9ZUo83Tz5pDCQ3se21vq9RESkigKbwZ1/gF+o2UnqPfWoSikPfLfNKYpUgC/j0vmztQWfoJotiG/YYXNeN5L/r2bb4RnHYnnhW2/aWINr1E5lFNmL+E8AJAVF1Pq9RBzhvQ2F9Hwvm6AZmQTNyOTcj3NYvO/vtZdv/zGP9m9m4ftcJmEvZzF2Ti67k22Vbv+On/KwPJ3JzHV/j5svsBpc/0MeQTMy6fRWNr8etJa65uW1Bfz7Z+f4fib1TFYc/HSv2SkaBBWqUuKzPw/zy64Es2OUsiolh68DCwlo5l2zhgzYntaG+AnTa9bM4WO8/L0/LWxBNctTCUn5qdzbNooi9xpuEStSB1oGWXhhhDebbvNn423+DI90Z+ycPHYlFhej/Zq7M2usLzF3B/DLdX4YBlz0eS62Siwr8kNMEeuO22geWHo80H83FbEp1saft/hzWz9P/vVdHicfEh5Ks/Ph5iKeu6DmEzRFyhU9H7bNMTtFvadCVQCIjs3k2UUxZsco1/6cAl4tyiSgXc0nWUUnNubYv17GcHOvfiMHjvDagmCa2v1rnOdMtmUe4LleF9b6fURqakxnTy7u6EnHxu50auzOcxf4EOAF644XF6q39fNiSBsPIoPd6NvMnWeHe3Ms0+Bw+ukL1ROZdv69OJ8vr/DF8x//Y8Uk27isswfdmrpz9wAvknINknOL27tzUR4vjvAmyAFrNItU6OdpxRsCSK1RoSpYbXbu+3YbhVbn3XUj02rn6ZRkiKp5sbov1o9DV7+G3av6vbSWPQd588cwGtsdsw3s6XyXtoNvumslAHEdNrvBnJ1F5BTBua3K/lCYU2gwa0sRbYMttGpUcSFpN4of7U8b6EW3pmXb6RXuzpqjNvKKDH45YKVZgIUmfha+3F6Ej4eF/4vSUm9Sywoy4Yc7tGtVLVKhKnzw+0Fi4jLNjnFGdouFl+NSSOrqg5tHzXpJDsd6sG/8a9h9A6rdhlv0ft7+uRmN7LX/aHFG3n42t+5b6/cRqYkdCTYCns/E+9ks7vgpjx+u8qVr2N8F5rsbCgl4PpOAGVks3m9l2fX+eLlX/G/5xTWFeLjB5LPLH/5ycx9PeoW70fXdbJ5bXcA3V/qSlg9PrMznrdE+PLY8nw5vZjHyixxOZKqQkFpyZC388abZKeotzfpv4A4kZTP6jdVO3ZtanguaBHJuvEFBduUnY5QnPNydqCWP4ZZR/TVjrX2iuG3kEbIthTXKciaNvUOYG5dEeEZsrd5HpLoKbQZHMwwy8g3mRRfx0ZYiVk30KylWM/INEnPsxGUbvPJHISey7Ky92R+fcn7w3BRr45Kvctl8uz/NA4v7VCJnZjH1HC+mnlPx05CbFuTRO9yNtiFuPPJbAX9N8ueltQXsTLLz3YTafwIiDZS7F9y6HCK0FbajqVBtwAzDYMIHf7LhcJrZUaqla6AXEwp8yUmsWYEYGuZB99+fxyPhSLXbKBzQnduGHyDXrejMJ9dAj6B2zN75J162utkxTKQmRnyWQ/sQNz4Y41vmtUKbQciLWXw0xpdrepR9RD9zXQH/+aUAt1NqWJsBbhZoFWTh8NTAMtesOGTlwV/z+fMWf6YtK8DDDV660IddiTaGzM4l5YGy14g4TNOucNtK8Kjh5F8pRY/+G7Av1h1x2SIVIDqrkDeNLAIiy/4nWBWpSVa2DnwUa5uu1W7Da8NO3v+9I95GDSZpVcKOzINM76XNAMQ12A0oqOChh2EUfxTYyu8rub6nJ9vv9GfrHX9/NA+0MG2gF79cV7ZnNN9qcPfP+XxwqS/ubhZsdij6372L7FRqdQGRGkmMhl+fNjtFvaNCtYGKTc/jxSXm7D7lSKlFdqanp+LRpWbFamZaEZt6TaGwy4Bqt+Hz53Y+WBOFh1G7/6wWpO3gqx4ja/UeIlX18K/5/H7EyuF0OzsSbDz8az4rD9u4tocnB9PszFhdwKZYG0cz7PxxzMqV3+bh62nh4o5/r5Pc5e1sfogpfirR2M+N7k3dS314ukFEgIXOTcr+QPjMqgIu7uhBn2bFrw1q7c73u4vYnmDj7fWFDGpds/WYRSpl3btwcKXZKeoVFaoN1GPzd5JdYD3ziS7ABsyITyWjqy+WGvyNzsm0srHdLeT3uaDabfit2coH67rhXtP9X8/g5Zx9bGjTv1bvIVIViTkGN/yQR+e3s7ngs1w2xNr45To/LmzvgY8HrD5q4+KvcunwZjZXzcsj0Bv+uNmPpv5//6Pdk2Ino6DqPZ87E218E23l6WF/P3Id39WDSzp6MHhWDtsTbLwxSuupSl0wYP7dUJhjdpB6Q2NUG6AFW08wZc5Ws2PUioubBtLnuJ3C3OpPDvP0dqNf1i/4/TG/2m2kj+jH7f23YdRivRrqHczc+FQi0o/X3k1ERKTqBk2FCzUMwBHUo9rApOYU8vSP0WbHqDU/J2bxUxMr/k2qv35iUYGdDX4XkXXB9dVuI/jXTby7tXe1r6+M1IJ0prRuR4GHeopERJzKn+9AkusPr3MGKlQbmOk/7iI1p3aXUTLbtswC3nXPIbB19cet2qwGG41zSL/k7mq30XjJRt7a0afa11dGdNZhnu5Z/aEKIiJSC+xFsOg+s1PUCypUG5AVuxOZv7VhrMGZWGDj2axUvDtXf91Eww6bc7uSfMVD1W4j/KcNvBZduwv1/5i2g896jKrVe4iISBUdXg075pmdwuVpjGoDkVNg5aLXf+dEep7ZUerc3c1D8Y/JoyZ/06OaptLsm8erff3hcWfxQKfN1Q9wBu4Wdz4wmnD2oQ21dg8REamigAi4ZwP4BJmdxGWpR7WBeHHJ7gZZpAK8E5vKvk6eePhUf2ZTTGIoR//1MoZb9dZJjfxuPc8drL2eVZthY5pXPidCW9faPUREpIqy42HlDLNTuDQVqg3AxsOpfL6u+rsu1Qc/JGTya4SBX2j1J1ntj/Xj4NWvY/eq3q4jHeeu58kjtVesphVmMLVlG/K8tE2kiIjT+OsDiN9pdgqXpUK1niuy2Xno+x01euxdX2xIz+MjrzwCWlZ/ktWRWHf2jXsdu3/1HuN0+2o9Dx+vvQlWu7OO8GT3YbXWvoiIVJFhK55Ypf+Iq0WFaj332Z9H2J+YbXYMp3Eiv4gZuWn4dvKvfhtxBtGXvoQtpGm1ru/zxUbuj+td7fufyeK0nczqqclVIiJO49g62PqV2SlckgrVeiwjt4g3f9tndgynk283mJ6YTGFXX6B6P+EmJtjYccEzWJtFVv1iw+CszzYzOaFXte5dGW9k7+GPdufUWvsiIlJFy56AvDSzU7gcFar12Bu/7SMjr8jsGE7rjdhUjnbxwcOrev8MUpOtbD3nEYoiu1X9Yrud8z7dyh3JPap17zOxGTameWZxrHGbWmlfRESqKDcZfnvG7BQuR4VqPXU4OYfP1x02O4bTmxufzqqWBr6NPKp1fWZaEZt6TKYw6uyqX2yzMXzWDm5O6V6te59JZmEWU5q3Iter+sMcRETEgTbNgtgtZqdwKSpU66kZi2MosmngdmX8kZrLZ/4FBDSv3lakuVlWNrS9ify+I6p+sdXKqFm7uDY9qlr3PpN92Ud5vPuQWmlbRESqyLAXT6yy281O4jJUqNZDfx1M4ZddCWbHcCmHcwt5uSAD//bVW9qpINfG+ibjyB30f1W/uKiIyz/Zy4TMLtW695ksTdvFR71G10rbIiJSRSc2weZPzU7hMlSo1jOGYfDczzFmx3BJ2TY7T6emYI/yg2rsDWAttLPe50KyRtxY5WuNggKu/GQ/Y7M7Vv3GlfBWVgyr259bK22LiEgV/fY05KSYncIlqFCtZ+ZvPcH24xlmx3BZhgGvxqUQ18UXN4+qV6t2m8FG+1mkXXpP1e+dl891Hx/h4pz2Vb72jLkMOw+6Z3C0SVuHty0iIlWUlwa/v2R2CpegQrUeyS+y8fKSPWbHqBe+iEvlrzZueAdWfctUww5bsqNIuuLhql+bm8tNs04wItfxBWVWUTaTmzUj1zvA4W2LiEgVbZwFGcfNTuH0VKjWIx+tPkhsRr7ZMeqNlSnZzA0qIiC8elum7khtSexVz1b5OiMrm9tnJzA0z/FLSx3IPs4j3c7DqM7YBhERcRxbAax60ewUTk+Faj2RlFXAeysPmB2j3tmXU8Dr9iwC2lZvktXuhBCO/usVDLeq9cwaGZnc82kK5+a3rNZ9T+e3tGg+0OQqERHzbf0KUvR/9+moUK0nXlu2h5xCm9kx6qX0IhtPpybjFlW9YnV/rC8Hr34dw6tqy18Zaenc93km/QqbVeu+p/Nu5i5WdjjP4e2KiEgV2K2wcobZKZyaCtV6YE98Ft9s1DiX2mS3WHgxLoXUrr5Yqj5slSOx7uwZ9xp2/6Cq3Tc5lYe+yKdnYXjVb3oaBgYPu6VwMMzxE7dERKQKdn4HCdFmp3BaFsMwtCq8i7v+479YvS/Z7BgNxkVNAhkQZ1CYU/Ue7Kbh7kQtexL31Kqtc2tpFs5dAzLZuHQ/eUfysKZbaf3v1gT1q7jwzY7J5vCLh8sc7zyzM57BngB4bLaQ9Gk0OQU2burtxWsj/+71PZxu56LPc9l4mz9B3hrTKiJSa7pcCld/aXYKp6QeVRe3ck+iitQ6tjQ5iwWNrfiHVX2SVWKCje3Dn8HaLLJK1xlxCVy9zE7zFiE0v755la7t+EJHOs/sXPLhEVS8Xaw1y8q293bS/dYB/HKdP19sL+KnvUUl1921KJ8XRnirSBURqW27fyreCEDKUKHq4l5bttfsCA3Szsx83iKLgMiqj1tNSy5iy9mPUNS2e5WuG5xXwHxbJ3r2al2l6zwCPfAM9iz5sLgVF56FSYW4+7pzons26y+5jPPbuhOTVLyt39c7ivB0hyuiPKt0LxERqablVV8lpiFQoerCVu1N0uL+JkopsvFsegqeXfyrfG1WehGbuv+bwqhzqnSdcfg4L31Xtfvtf2I/u6fs5tDLh8jZl1Ny3DvcG3uhnbwjebx7Yiu/J3rSM9ydtDyDx1fk8/boqk3+EhGRGjiwHA6vNTuF01Gh6sLeWb7f7AgNXhHwfHwyWV39sFTxCXlulpUNkRPJ73th1S48eASARsbphx54BnvS/MbmtP53a1rf0xrPUE8OvXCIvMN5ALj7u9Py1pYc//A4B6YfwP28EDoM7Mr9S/O55ywvDqXb6fNBNt3fzWZedNFp7yUiIg6gXtUyNJnKRa0/lMqED/40O4ac4tKmQfQ8Zqcor2qTrDy83Oifswy/td9X+pque3bz5ln9+f4Od5Ldcs58wf8cnHEQz1BPWt3eqtzXAw77UPDRNtbc4EOHN7P5epwvEQEWzvooh33/DqCpv362FRGpVdd9Bx1GmJ3Caeh/HRf19gr1pjqbnxIz+bmpDb9QrypdZy20s95nBFkjJlbthsfjePvncBrZK/+I3q+tH4WJheW+Zi+ys+W/O2h/71D2poLVDkMjPejcxJ1Ojd3467jW6RURqXXqVS1FhaoL2n48nd/3JpkdQ8qxNSOPD7xyCWjtW6Xr7DaDjbYBpF367ypd57ZjL+8tbUWgvXIrEOQdyytZmuqfkhYmEdAjgN2N4/my40Cs9r8fthTZwKZnLyIitS92C8T8aHYKp+FhdgCpurc1NtWpxecX8XxBGtM6hVKwN7fS163cMZ/Ht31Ddl4qnT3debRpOD19/y54c+x2jhb+3Rs6PyODFxITSN67h5CFPmQ3teAR4UmrO4of6x/74BjZO7IxbAaBfQLx8PcgJzqHyGmRFCYVcviVw7R/qj3uvu7kn8gnY30GHaZ3AODnwGPYPDz5eHMhEQEWdifbGdC8GjsdiIhI1S1/DjpfAm7qT9RXwMXsic9iWUzVFouXuldgGDybmEJ+Vz+oxCSrTftX8MOf7zO63w1MG/c+rbqex23Hj5FitZacsys/j3FHDjPuyGEAludkE2u1MtTfn2dDm2A9VkDunuLxqtYsKxnrM8AN7IV2Mv7IIDsmm8gHIgnoGkDs57GEXxmOu687hmEQOzuWiGsicPMu/pbg5uVG+O2RPLHWzi0L83n7Yh9aBOnbhYhInUiKgZ3zzE7hFNSj6mLeWbEfTX9zHW/FpnBFp0Z0PmzFWmCv8LzlO+YxMOpizu0yCoDw/g/y174tfJeZyW2hoQCc5edPdOcuADybEM+BwkJmtfp7TdWrg4LY6umOu+FOblIuHv4edHmz+Pyj7x7FN9KXgKgA0telY3G30Kh/IwAsFgvtHm1XJpN3D2/avz+EOQf30igv3SFfDxERqaSVL0D38Q2+V7Vhv3sXczg5h0U74syOIVX0fUIGvzUH3wrGhlptRRxL2kvnFn1LjrlZ3GjfrC9/hLbH8Co7Waq3ry/R+flszyteaupYYSGrc3IYZof3/+yKb7hPyRqp1mwreYfy8Gnlgy3HRuL3iTS7rlmlsh/PjeeBLgOwWfTYX0SkTqUegH2/mJ3CdCpUXch7Kw9gs6s71RWtT8vhE998AlqUnWSVnZ+B3bAT6BtS6niQbwgJaWnsGfca9oBGpV67NKgR9zRpwnVHj9Bzz25GHjrIAF8/bm/chIBVW/goug8tJxWvkXpw+kGCBwYT2COQuDlxhF4QSlFyEfuf2M++R/eRseH0m0b8kb6HN3qPqvkXQUREqubPd8xOYDoVqi4iNj2P77ccNzuG1MDxvEJezEvDt0PVdpaKjTPYdcmL2ELDS46tz83hvykpPBEewbzISN5s3oJVOdm8l5wMQKNfN/GV2xA6PtuRTi91Ivz/wsnZnUPB8QJCh4Vy7L1jNPtXM1rf05oTn5zAmmmt6PYAzErfweIuw6r8nkVEpAYOr4b4nWanMJXGqLqID1YdoEjrA7m8XLvBtKWzMTbNJysjhRaN23PFOXfiZnEjKy+t1LmZeWkE+YayYvt3rI5eSFpOIqHuboz082V7Xh6XBTVifHAwP2Zm8HpSEuk2G++mJHN748a4WSyE/rKRR3OiuPGnRbR9tC2xn8XS8raWFCYWYtgM/P+39at3hDe5B3IJ6hN02uxPWmNpF9GVzvHRtfb1ERGRf1j3HlzecHtW1aPqApKyCpiz4ZjZMcQBcmJ+J3X5R7idfRUT7/+EVk3a8/6SR2neuB17TmwpOc9u2Nl7Ygue7l4sWP8ho/vdwGMTZnH92GdZnJvH0aIi3CyQZrXyRHw808KacltoY2zAyuzsknbenbOUh889l9RlqQT0CMA30hfDbsAp87oMa+nPK5Jny2dKY3/S/UId+BUREZHT2vEtZDfctdNVqLqAj9YcpMBaiUpCnF7mhvkE9hpJQM8LWUYIrW+4D28vH8IbteKP3YtYt+cX4tOOMHf1TAqK8vHy9KZdeHdijm1gTfRPRIb0oU/3y/Dy8mFOejpz09Pxc3Ojkbs7P2RmEOHhwaGi4rVWF2Vm4mGx0G/rUbzW5hN+RfHQAe9m3mCB1FWpZG3NoiCuAN92ldug4ERuAvd36qvJVSIidcVWABs/NjuFaVSoOrmMvCK+XHfU7BjiAIatiML4/fi06V1ybG1aLj7te2P3KOL/zrmDRRtn88K82zmecoC7L36Bzi36cSx5L7Gph8nMTSE5M5ZtB9Zxdu+ruK7bAL7LSCfNZuPBuFgG+PriBnT29ibDZuPN5CQeDWvKUwnxPOrbiBeO9weK10htMakFSQuTOPHJCZpd3wzPkPJXJCjPXxl7ebX3aAd/dUREpEIbPgZrgdkpTGExDK3K6cw+Wn2QZxfFmB1Daihr809krJuHLSsZz8ataHzxVLybdwYgbcUnFB3fybtTPiXnYPFOVpsPrGLRxlmkZMXj5x1Idl46WCzY7TbO6zqGJkHN+W3bXDyMQoZ6ebArv4B8w86YoCAG+wdw5/Fj3BbamO6+vjyfmIDVMLi7SRNa3TaCpyI3O+Q9Pe/TgTExyx3SloiInMHYd6HPtWanqHPqUXVyX61Xb6qrOzkuNbD/WAA8QpqT+M0T2HLSS86xGfB0agpGlD8H43cx+7dnObfzaK4efC/5hcXF680XPM6tFz3NtkNrWbj+IyZe8BjXXzSdxTm5vNy8Gb+0a88djZvwYFwsoR4eXBUSwn2xsTzcNJw3WrTg8fh4wj//g0eP9XHI+5pedIzo5t0c0paIiJzBuvfMTmAKFapO7I8DyRxMyjE7htTQyXGpQf0uBYsb/t0vwOLpTfaOZQDYctNx9w/BAF6JS2bJkQV0bX0WI3pfxZ+7f2Zw18toHdaZmOMb6dX2PPq0G4xht9OxeS86NetDROMO7OgxAoAPU1LIsNl4qVlzjhYWYsNggJ8fbb28ifTyYnt+Hr2+3Mi02N41fl/5tgKmBvuQ6t+kxm2JiMgZJOyAQ7+bnaLOqVB1Yl/+pd5UV3fquFSLuydeER0oOLodn8jeFJzYjWHYyT+8De8WXUqu2XNgO/69+uMd4EGhtQCLxUJUy/4cTiheFio0MAIDg9SsBFKzEkhMP06B70C2DJ/EZ2mpXBIURFcfH2yA9ZSRPUWGgc0ADIMBn29mSkKvGr+/uLwk7uvYC6ubVroTEal1DbBXVYWqk0rOLmDprnizY0gN2XIzwbDj7h8MQNCAy8na9gu23AysGQmk/vIuRlE+Af/rEU3+6VVs2ckcMHz5NqSQvl3PY030j6TlJJKek0zM8Y2sif6RVk068u7PD/H2oge47OxJRIS04dHvPsbdrxE9fXy57NBBHo2Pww58l57OquxsDhUW0sPnf9ux2u0M+nQrdyb1rPF73Jixj5e1c5WISO3buwRSD5qdok6pG8RJzd1wTAv810P+UUOw5WaQ/vtnGIV5WDy8aDphOu7+xdunWjP/XitvT1YBwYPGMcrLnWVrviWnIJOvVr1K99bnMOasW/DzDig5d92eX0jMOM64gXfzzJ9v8W2rNiQU5jP1xAneSU6iCHisaTjhnqfM7rfZOH/2dgpv6c7HoTXb+eSrtO1EdR3B5dG/1qgdERE5DcMO696Hi18yO0mdUY+qE7LbDb7WJKp6wd0vCCxupSZOBfUbg1+nc/HtcDbNbnitZPY/QMS/XsA9oEnJ+el22N7//xg6ZDwtQtvxzLVfc9XgKaWK1Oy8DBZv+pyHx3+Ir5c/TQJbYr3hXc4KLt6h6v1WrVjdoSPjg4PLBrRaGfnJLq5P71rj9/pMwWF2tKx5D62IiJzG1i8hP8PsFHVGhaoTWrU3ieNpeWbHEAc4OS41/8i2kmPljUs9lXeLLuQf2Vryuc0w+G3nWpp36YmlnH+x3/35Luf3HEdIQBiGYcdmt3E01o3d417HRvGKAqdVVMRlH+/mqozy81RWob2QqYEeJAc0rVE7IiJyGoXZsPkzs1PUGRWqTujLv46YHUEc6OS41Owdv1GUfKzccalpq2aXnB/Y7zLyDm0mc/33FKUcI33NlxTE7+d4lxHs6OCJl9/fu0LFHN9IYsZxhnQrXvqqdVhnEtKPsuvoX3z720IMrwDahLc6Y0ajsJDxn+zn/7I61ei9JuYnc1+H7hS5VX4DARERqaL1/wW7zewUdUIL/juZ2PQ8Br+0Aptdfyz1SeamH8lc/z22nDS8mrYjdMTtJY/84796CI9G4TS55N6S83N2ryF99edYMxLwDGlOyLCb8G0/AIAeQT6My/UmLT6LF+bdxs0jHqdlkw4l1/4Rs4gfN8zCw92Tq86bwuC+59HjzxfxiD3zAHyLnx+zb2nNooD9NXq/E0J68PjmRTVqQ0RETuOaOdC5/u8SqELVyby2dA9vLq9ZkSD1X5i3B/f4NCL7SG6lzg9o5EnvnW/jdWD7Gc+1BPjz4c0tWOpfs5mlT/l1YtwuTa4SEakVXS+HCZ+anaLW6dG/E7Ha7MzdeMzsGOICkgqsPJeZglfngDOfDGRnFLEp6m4Kup93xnON7BxunR3PsLw2Ncr4XP4htrbqXaM2RESkAnuXNIhJVSpUncivMQkkZBaYHUNcRKEBzyUkkR3lh8Vy5vPzsq1saHUdeQPOvOapkZnJ3Z+mMDD/zONbK1JkL+I/AZAUFFHtNkREpALWfNg13+wUtU6FqhP5Yp2WpJKqey8uhT2dvPDwOfM/58I8GxtCxpIz+MoznmukpXPvZxkMKGhe7WxJ+anc2zaKInevarchIiIV2D7X7AS1ToWqkzicnMPaA8lmxxAXtSAhg6XhBr4hZ55tby20s8HrfDIvuuWM5xopqTzwRS49C8OrnW1b5gGe63Vhta8XEZEKHPkD0ut3J5cKVSfx9fqjaFqb1MSmjFw+8sojoJXvGc+12ww2FfUl9bKpZzzXSEzm8a+sdC0Mq3a279J28E33i6p9vYiIlMeo972qKlSdgN1u8MOWE2bHkHogtqCIGTlp+HT0P+O5hgFbMzuSOP7xM58bl8DTcy10tDaudrYZefvZ3Lpvta8XEZFybFOhKrVs/eFUErM0iUocI99u8ExSMvlR/pWaZLUzOYITV8/AOMPJxvFYnv/Gk0hrcLVyWe1W/uNnI6FR9ce8iojIP6TsgxObzE5Ra1SoOoFF2+PMjiD10FtxyRzq7IO715n/me+JD+LINa9iuHuc9jzjyHFe+s6PltZG1cqUUpDGvZGdKHT3rtb1IiJSjnrcq6pC1WR2u8HinfFmx5B66tv4NFa2AN9GZ55kdTDWm/1XzcTwPsMY14NHeW1+EBG2yq3h+k87Mg8yvdeIal0rIiLl2Pkd2Kxmp6gVKlRNtu5QCsnZeuwvtWddWg6z/fIJaH7mSVbHYi3svuI17AHBpz9x3yHe+LExTexnHgtbngVpO/iyx8hqXSsiIv+Qmwz76+dOgCpUTabH/lIXjuYV8lJBGn4dzlxYxsXZ2Xnxi9gaNzvteZaYA7y9KJwQ+5kL4PK8krOPDW36V+taERH5h+1zzE5QK1SomshmN/hllx77S93IsRlMT0nGFuUPZ5hklZxoZduwp7G26HDa89x27uWdX1oSaK/6mFOrYeV+30Lig1tW+VoREfmHPYshP9PsFA6nQtVE6w6mkJxdaHYMaUAMA16LSya2iy9uHqevVtNTitjcfxpF7Xuf9jyPrTG8/2sb/OxnHgf7T6kF6Uxu3Y58z+r1yoqIyP9Y8yF6gdkpHE6Fqol+0mN/McmXcamsa+OGd+DpZ/lnZ1jZGHUnBd3PO+15npui+WBlB7wN9ypnick6zNM9zq/ydSIi8g/1cPF/FaomsdrseuwvplqVks2coCL8w31Oe15etpUNLa8j76yLT3ue9187+O/qLnhVo1j9KW0nn/UYVeXrRETkFIfXQPoxs1M4lApVk/xxIIXUHD32F3Ptz8nndVsG/u1OP8mqMN/GhkZjyB561WnP8127jQ/+6IqHUfVvLa/l7GFd27OqfJ2IiJxkwM55ZodwKBWqJtFsf3EWGVY701OTIer0xaq1yM5Gj6Fkjpx02vP8f9/C+xu6YzGqlsNm2JjmlceJ0NZVu1BERP62Z4nZCRxKhaoJrDY7v0Trsb84DzvwclwyyVF+WE7z5N5uM9hU2IfUsfeetr2g3zbz3ubeVS5W0wszmNqyDXleflW7UEREih3fALmpZqdwGBWqJlizP5n03CKzY4iUMSsuhc1tPfDyr3iSlWHA1owOJIx/4rRthS7dyNvb+1Q5w+6sIzzZfViVrxMREcCwwYHlZqdwGBWqJtBjf3FmvyZn8UNoEf5hp59ktSs5nBPXvIBhqXiZq7CfN/DGrr5VzrA4bSezempylYhItez9xewEDqNCtY4V2ewsjU4wO4bIaUVn5fMmmfi3Of0j+D1xgRy55jUM94p7YJstXM8ru6terL6RvYc/2p1T5etERBq8A7+B3W52CodQoVrH1u5PJiNPj/3F+aUW2Xg2MxWPzqefZHUw1ov9V83E8K540f7WP6xnxv6qFas2w8Y0zyyONW5TpetERBq83BQ4scnsFA6hQrWOrdqbZHYEkUqzGgYzEpLJ6OqPm1vFj/iPxVrYfcVr2ANDKzyn/bfrmX6oasVqZmEWU5q3Itfr9MWyiIj8w7768fhfhWodW7s/2ewIIlX239hkdnbwxNO34iUB4uLs7Bw9A1uTFhWe02XOeh47VrUJVvuyj/JY9yFVukZEpMHbt9TsBA6hQrUOJWTmszch2+wYItWyKDGDn8Ks+DX2rvCc5EQr24Y+ibVlxwrP6fnlRh6I7V2ley9L28VHvU6/M5aIiJwibjtkuf5SmCpU69CafepNFde2PTOf9z2yCWhd8SSr9JQiNve7n6IOFfScGgb9P9vEvfG9qnTvt7KiWd3+3CpdIyLScBmwb5nZIWpMhWod0mN/qQ8SCqw8l5WC92kmWWVnWNnY+Q7yew4u/wTD4NxPt3BXUs9K39du2HnQPYMjTdpVNbKISMNUDx7/q1CtQ2tUqEo9UWjAswnJ5Hb1x1LBJKu8HCsbm19L3lkVPLK32xk2ezuTUrpX+r5ZRdlMaRZBjndgdWKLiDQsB1eCzbVXGlKhWkf2JmSRmFVgdgwRh3onNpn9Hb3w8C7/W0lhvo0NjcaQM/Tq8huwWrnok53ckNat0vc8kH2cR7sNwqDiVQhERAQoyISjf5qdokZUqNaR1RqfKvXU9wnpLGsGviFe5b5uLbKzwX0IGSNvK78Bq5Uxn8RwdUaXSt/zt7Ro3u81ujpxRUQaFhffpUqFah3R+FSpzzam5/Cxdx4BLcpf9N9uN9hU2IuUsfeV+7pRWMi4T/ZzRVanSt/zvcxdrOxwXrXyiog0GC4+oUqFah0ostn562CK2TFEatWJ/EJm5KXh2zGg/BMM2JbRjoQrnyz/5fx8rvn4EJdmd6jU/QwMHnZL4WBY++pGFhGp/5L3QNphs1NUmwrVOrDlaDo5hTazY4jUuny7wfSkJAq7+lPRENJdSU05fs0LGJayJxh5edw46xgjcys3sz+7KIcp4U3J9gmqSWwRkfrNhXtVVajWgTX7tG2qNCxvxCZzrLMP7p7lV6t74wI5fM1r2D3Kjms1snOY9Ekc5+dFVupeh3NO8HDXczW5SkSkIgdWmJ2g2lSo1oHVGp8qDdCc+DRWt3LDJ8iz3NcPxXqxf8Lr2H3KrsdqZGVx1+wkBuW3qtS9VqbF8E5v7VwlIlKu4+vNTlBtKlRrWWZ+EduPZ5gdQ8QUa1Oz+SKggIBmPuW+fjwWdl/+KvbA0DKvGekZTP00nbMKWlTqXv/N2MlvHSvYYEBEpCHLSYLUQ2anqBYVqrXszwMp2OyG2TFETHMot4CXCzPwa1/+Tlbx8TZ2jJqBrUnZgtRITWPa5zn0Low4430MDB4liQNNK79ygIhIg3F8o9kJqkWFai3TslQikG2zMz0lGaNr+cVqSpKVrUOexNqqc5nXjKRkHv2ykG6FTc94nxxrLlOahpLp26jGmUVE6hUXffyvQrWWqVAVKWYAr8QmEx/li7tn2W89GalFbOrzHwo79i17bXwiT80x6FzU5Iz3OZITy4NdzsZu0bc3EZESxzeYnaBa9J28FmXkFnEgKcfsGCJO5fO4VP5q7Y53gEeZ13IyrWzsdDsFPYeUec04Ecez37jTzhpyxnusSd/NW9q5SkTkb/E7oSjP7BRVpkK1Fm09nm52BBGntCIlk7mNivBvWnaSVX6OlQ3N/0XeWZeUec04eoIX5/nS2hZ8xnt8lLGDXzoPdURcERHXZy+C2K1mp6gyFaq1aOvRdLMjiDitfTn5zLRn4t+27E5Whfk21je6lOxh/yrzmnHoKK/8EEAzW+AZ7/G4PZ694V0ckldExOW54DhVFaq1aJt6VEVOK91qY3paEm5dyk6yshXZ2eh2Hhmjbit74b7DzFwYSlNbBdu1/k+eNY8pTYLI8A12UGIRERfmguNUVajWom3H0s2OIOL07MCL8cmkdvXDzb307lJ2u8Gmgl6kXD6tzHWW3Qd4c1EYIXbf07Z/PDeeB7oMwGZxd2RsERHXc0yFqvzPsdRcUnIKzY4h4jI+jk1ha1tPvPz+UVAasC09kvgrnypzjduufby7pDmNjPI3FDjpj/Q9vNF7lAPTioi4oOx4SD9mdooqUaFaS7aqN1Wkyn5JzmBBExt+TbzLvBadFMbxa17EsJTudXXftod3l7UmwPA6bduz0newuMswR8YVEXE9LjZOVYVqLVGhKlI9OzPzeMeSRUCbsuNW98YFcPia17F7lC5KPTdF897ydvgYZZe8OtWT1lj2RHR1aF4REZfiYjtUqVCtJTuOZ5gdQcRlJRfZeDYzBc/OZSdLHYr1ZP+E17H7lC5kvdfv5IPfO+FlVDwWNc+Wz5TG/qT7hTo8s4iISzimHtUGzzAMouMyzY4h4tKKDIPnE5LIivLHza304/7jsRBz+SvYgxqXOu77x3Y++CMKD6Pib20nchO4v1NfTa4SkYYpfjtYC8xOUWkqVGvBkZRcsgusZscQqRfej0smuoMXHt6lv10lxNvZMfJ5bGEtSx33/30r7//VHXdKF7en+itjL6/21s5VItIA2QohbpvZKSpNhWot2BWr3lQRR/oxMZ0lEQa+IaXHpqYkWdk6+AmKWncudTxoxWbe3dQTi1Fxm5+nb+fHqOG1EVdExLm50ON/Faq1YFesxqeKONqWjFw+9MoloKVfqeMZqUVs7v0fCjv1L3U8ZOkm3tnW+7RtPl10jF3Nuzs6qoiIc4vdYnaCSlOhWgvUoypSO+IKipiRm4Z3x9KTrHIyrWzseCsFvYaVOt5k8Ube3NGnwvYKbAVMDfYm1b9JbcQVEXFOSbvNTlBpKlRrgQpVkdqTb7fzbFIS+V0DOHVJ1fwcK+sjriL3nDGlzo/4aQOv7u5bYXvxeUnc17EXVrfTL20lIlJvpOwHu83sFJWiQtXBEjPzSc52ndl0Iq7qrdgkDnTywcP779n7RQV2NgReTPb515Y6t9UP63lhX8XF6saMfbzUa2StZRURcSrWfEg7bHaKSlGh6mDqTRWpO98lpLG8Gfg08iw5Ziuys9EyiIzRd5Q6t9289Uw/VHGx+nX6DuZ3HVFrWUVEnIqLPP5Xoepg+xOzzY4g0qD8lZ7NbL98Apr/PcnKbjfYlN+D5MunlTq3y5z1PH604mL1mYLD7GjZs9ayiog4DRWqDdOR1ByzI4g0OMfyCnmxIA3fDqdMsjJge3ok8ROeLnVujy/X89CJ8idYFdoLmRroQXJA09qMKyJivqQ9ZieoFBWqDnYkJdfsCCINUq7NzvTkJIqiAjh1rf/oxCYcu+YljFNmXvX9fCP/ie9dbjuJ+cnc16E7RW6e5b4uIlIvqEe1YVKhKmKumXFJHO/si7vn39/e9sX5c+iamdg9/rdhgGFwzqebuTux/Mf8mzP280Lvi+oiroiIOZL3gXGaXVGchApVB7La7MSm55kdQ6TB+zo+lbWt3fEJ+rtX9HCsB/snvI7d93/DA+x2hs7exm3J5S/4/03aDr7rpslVIlJ/GG6eFIZ0JKH5CDZHTCA53fk3KLIYhguU0y7iSEoOQ19eaXYMEfmfdv4+3GD1JSchv+RYeIQ7UYsfwy0jufiAhweLJnXj05BdZa73dPPkk8JAeh/bWkeJRURqzu4XRnZgWxK9WnGY5uwqCGdDdmM2pAdSYP+7j/LzW85icMcwE5OemQpVB/p9bxI3fOI6++eKNARBnu7cGxBK7qG/V+RoHOZB91XP4Z54FACLlxffT+rM141iylwf5hPK3BPxhGXG11lmEZEzMdy9KWwUSZpvG467t2RvUTib85ryZ3owJ/K9K9XGM5d35/pz2tRy0prRViwOdCRV41NFnE1mkY3paUnc1yUMy+7iYjUlycqWQY/Re9NreBzdjVFYyBWf7KPols7MCyo9EzYpP5V720Yxa2cqnrZCM96CiDRgNv8IsgMiifdqzSGjGTsLwlmfFcqmjABsOTUbwXk42flXKlKPqgM9tyiaD1cfMjuGiFTgxogmNNufi81a/G3PP8iDPns+wmvPBgAsvr58PimShQH7ylw7LqQHT21eVKd5RaRhMDz9yA9qS6pPa467tWSPNZzNuU34Iz2ExILaW4FkRFRTPrpxQK217wjqUXWgw5rxL+LUPo1P5oI2QZwTb1CYYyUn08rGDpPo6xuAz9YVGHl5XP/JUQpvac8S/wOlrv0ubQdR3S/iqp1LTUovIq7MwIItsDlZ/pHEe7bioNGMHflNWZfZmG1Z/hhZljM34mCuULeoR9WBRr7+O3sSssyOISJn0CXAh6sLfMlJKp5k5entRr/Mxfj9uRAAS2Ag790cznK/w6Wu83Dz4OOiYPoe3VzXkUXERRhe/uQFtSPFpzXHLC2IsUawKbsJf6YHk1bkXP2DXh5u7J4+Cje3ui+SK0uFqgNFPb6EvCKb2TFEpBJCPT2Y7B9MzuHiMVruHhb62v8gcPkXAFiCG/HGTaGs8TlW6rrG3iHMjUsiPCO2zjOLiHMwLG5YA1uR6R9JnEdLDtibsT0/jHWZoezK8jc7XpWsefB8Wob4nflEk6hQdZDEzHzOev43s2OISBV4WCzc37QJtj3Fk6wsbtDHZxfBP79b/HloCK9MDOIv7xOlruse1JZPd67Dy1ZQ55lFpO4Y3o3IDWpLsndrjlhasLsonI3ZTfgzPYgsq3P1jlbXl5POZlCHJmbHqJAKVQfZcDiVK9//0+wYIlINtzZrQujeXOw2AyzQM/gITX54CQC3Jo157kY/tnjFlbpmbEgPntXkKhGXZ7h5YA1sTbp/G+LcW7LPHsG2vHD+zAhhX46v2fFq3YvjenDVgNZmx6iQClUHmbfpOPd/u83sGCJSTaPDGtH3uJ3CPCsAXZumEPHNEwBYwpvy9PWe7PRMKHXNQwFRXLvjlzrPKiJVZ/cNJTewLYlerTlsaU50YTgbsxrzV0YQeTZ3s+OZZtrIztx9fgezY1SofvRbO4GjKc6/FpmIVGxxUgYnmvjyf7ne5KYUEJ3YmKJrXqLlnAchIZEnv4rgsX81YY9ncsk1r+Tso1Ob/gw4stHE5CJykuHmSdH/FsE/4d6SfbYItuWF8Ud6CIfTfCDN7ITOJynLuYcwqVB1EFdY4kFETm97Vh7xPlbuatWInGM57Ivzp+iamUTOewC32HienduCh64O5YBHKgBWw8r9voXMCWlFs7RjZ2hdRBylvC1C12c1Zn1GEEW5zjuD3RklZzt3oapH/w4y7r0/2HREP6qJ1AdebhamNQmjcG/xcnMtmkPHHx7ELS8bS2Qr7puQx1H39JLzowIj+SxmAz5FeSYlFql/Tm4RmurbhuNuLdlri2BLbhhr00OIy/cyO169cU67UObcdq7ZMSqkQtVBhr+ykoMusBWZiFTeXc3CCNiTg2E3CA93J2rJY7hlJEOHSKZckUGc+9/rJl8a0p0Zm382Ma2Ia7IFNCMrIJIEz1Zltwg1arZFqJxZh6YB/PqfoWbHqJAKVQfpM30pablFZscQEQcb2zSYbketFOXbCA3zoPvvz+ORcASjczv+PTaVRPfsknOnBXTlhh1LTEwr4pzM2iJUzizYz5OtT1xkdowKqVB1ALvdoMOjP2PXV1KkXurfyJ+LMzzISy8kKMST3ptn4nEkGnu3jtx9aQIpbsVj1N0t7rxvhHHOofUmJxape//cIvSA0Ywd+eH8lRlavEWoobGjzshigX3PjsbD3Tl7r1WoOkB6biG9py8zO4aI1KIWPl7c5h5I9olc/IM86LP3I7x2b8DWszN3XHyCDEvxdqzBXo2Yk5RBi9SjJicWqR2GVwB5QW1J8WnDUUsLdlvDnXaLUKmcvx65gPAgH7NjlEt/oxxAj/xF6r8T+YXMcE9jWscm5OzLYmO7W+jrE4jP1uW859GV2y46TLalkPTCDKa2bMNn2cn4Fmo1EHFNp90iNNMfMs1OKI6UlFWgQrU+S80pNDuCiNSBfJudZ5ISmRwVBruz2RB+Jf0GBuH3x3ze9+jOpOH7ybdY2Z11hCe7D+MlTa4SJ1f+FqGNWZseTE5iw10Ev6Fx5iWqVKg6QHquClWRhuTNuCQmdAql/aECNvhdRN8LAgn87XP+696TW4fuocBiY3HaTqJ6juam7YvNjisNXMkWoX5tiPVsyX5bM7blNS3eIjTDFzLMTihmS8523jpGhaoD6NG/SMPzTUIqA1sGMiLFjY1Z59DnkiCCF73D+x69uXVQNFaLnTeyd9O53TkMPLjO7LjSANh9G5MT2JYkr1ZltwjNVe+oVEw9qvWcelRFGqY/UrM44e/Nzf4BbI7rSs8rHqLJ9y/wgUcfbjtnJzbDxjSvLOY0jqRVymGz40o9YLh7URTUptQWoVvzmrA2PZSj2iJUqinZibdRVaHqAGkqVEUarCO5BbzkUcT97Zqw/UAroq56hmZzH+c9j37c3m8bmYVZTG7eii+zkvAr1KYgUjmnbhF6yGjOrsJwNpzcIjRHyzyJY6U48VwbFaoOoEf/Ig1bjtXO9JRE7o1qSkwMFP3rZVrNeYh33PtwV5+t7M8+xmPdh/DaZo1Xlb8ZHj4UBEWS5tuG424tSm8RmuoFqWYnlIZCj/7rOT36FxEDeC0ukeuimuC+342iq1+j7bwHeMujD//usYVlabv4sNdobt2mYrWhOe0WodnOuci6NCxJevRfv6XlqEdVRIp9EZfM0NZBDEnwxTrudToufIjX3Pvyn66beTsrhs7tBzLkwB9mxxQH++cWobtPbhGaFkJSsickm51QpGKa9V/PaYyqiJxqVUomscG+XFfkS/SlLxG19Ale9OjLg50285BHOl83aUeb5INmx5QqOnWL0DjP1hw0mrEjv+nfW4RmaeyouKb8IpvZESqkLVQd4JznfyM+M9/sGCLiZBp5uHNvYGO8s/LovnYGB4c05bF2m2kf0JIv9+7AvyDL7IhSjuItQtuR4tNaW4RKg+Dl7sbe50abHaNcKlQdoPNjiymw2s2OISJOyA24P6IpgQn59NryBnsG+jG9zRYuCOnK65t/wYK+BZuhvC1Ct+WH8WdGY2Ky/cyOJ1LnDs24GIvF+Z4K6EfDGsortKlIFZEK2YGX4hO5qVkT7L2n0HvLxzzs3ocZbOH9XqO5c5u2Wa1NJ7cITfrfFqExheFsymnCH+mNtEWoyCkKbXa8PZzv34QK1Rpy5nEdIuI8ZsUlc1FYIyzuk+ixay73uffmNbYR1eE8hu1fY3Y8l2a4eVAU1JoMv0hiPVpoi1CRaii0qlCtl2waOSEilbQ0KYPjQb5YOv+L7vt/4h53g4db7OfLsPa0Szpgdjynd9otQuOd7z9YEVdS6KRPh1Wo1pDdrkJVRCovOjOPmV5FTOk4ll5HV3Ctm50pbVL5OiuJgPxMs+OZrrwtQrfkhfFHeoi2CBWpRUU256xnVKjWkHpURaSqUgqtTC9K5oH2w+kbG0Sh2yoe7noub25e2mAmV53cIjTBqzWHjebsKmyqLUJFTKQe1XrKph5VEakGq2HwfHwit7Xsx3mJ/hS6/cQ7vS/mnq2LzI7mMNoiVMR1FNqcc86NCtUasjvnDyAi4iL+G5tEbNMOXJF5JWuOfcNvHQdzwb7VZseqkvK2CP0rM5TNmdoiVMRVOOsKRipUa0iP/kWkpn5KTONYoybclXMtf3jMIbJpJ9on7jU7VimnbhF6zK0lu60RbMltrC1CReoJPfqvp2zqUhURB9iWkcuTPn487HEdP4TM4zbfBILy6nZdpeItQluQ6R9JvGcrbREq0oCoUK2nbM755yoiLig+v4gHCt14wuNKvmnmy82H5uBmOP6bzGm3CE3ygCSH31JEnJxm/ddTmkwlIo5UYDd4NB4mWy7hl0iD0Ye+rlY7/9widL+9GdtPbhGa6QdaCUtETqHJVPWUXWNURaQWvBln4TJjNK1apNH9xJIKz7P7BJMb2JZk79YcsTTXFqEiUi169F9PqUdVRGrLwngPToRM4KPQ4/jbc8vfIjTdF9LNTioirk6z/uspzfoXkdq0Kc2HPmmPmB1DROo5Z+1R1QJ3NaQtVEVERMTVOetQRhWqNaRH/yIiIuLqfDydc0y7CtUa0qN/ERERcXXeHipU6yWt9y8iIiKuztdLhaqIiIiIOCEfD+csCZ0zlQtx1p9ARERERCpLY1TrqQBvrfAlIiIirk2Faj3l7+2cf7AiIiIileXj6ZwloXOmciHqURURERFXpx7VespfhaqIiIi4OBWq9ZSnuxteTjpTTkRERKQy9Oi/HtPjfxEREXFVbhYt+F+vaUKViIiIuCpnLVJBhapD+HupR1VERERck7M+9gcVqg6hCVUiIiLiqnyddCIVqFB1CBWqIiIi4qqcdcY/qFB1iACNURUREREX5a1CtX7TGFURERFxVRqjWs/p0b+IiIi4qlA/L7MjVEiFqgNoHVURERFxVU2DfMyOUCEVqg6gHlURERFxVU0Dvc2OUCEVqg6gyVQiIiLiqpoGqVCt1xoHOO8fsIiIiMjpNA3Uo/96rVkj5/0DFhERETkdPfqv55oH+5odQURERKRa9Oi/ngsL8MbT3WJ2DBEREZEqsVigiRMPYVSh6gBubhanHt8hIiIiUp5QPy883Z23HHTeZC6mebAKVREREXEtYU48PhVUqDpMs0YapyoiIiKuxZkX+wcVqg7TTD2qIiIi4mLC1aPaMDRXj6qIiIi4GGee8Q8qVB0mQmupioiIiItx9sngKlQdRD2qIiIi4mqcebF/UKHqMBqjKiIiIq5Gj/4biMb+Xnh56MspIiIirkOP/hsIi8VCM41TFRERERfh7mZRj2pDokJVREREXEXrUD+8PdzNjnFaKlQdSBOqRERExFW0DwswO8IZqVB1IE2oEhEREVfRoakK1QalVYif2RFEREREKqWjCtWGpVNEoNkRRERERCpFPaoNTOfwQCwWs1OIiIiInJkK1QbG39uDliGaUCUiIiLOrXkjH/y9PcyOcUYqVB2sc3iQ2RFERERETqu9C/SmggpVh+uicaoiIiLi5FzhsT+oUHW4zipURURExMl1bOoa9YoKVQeLauYaf/AiIiLScKlHtYGKbOyPl4e+rCIiIuK8XGENVVCh6nAe7m50cIEtyURERKRhauzvRYi/l9kxKkWFai3QhCoRERFxVq4y4x9UqNYKTagSERERZ+Uq41NBhWqtUKEqIiIizspVxqeCCtVa0SVCi/6LiIiIc+oU7jodaipUa0FEIx+C/TzNjiEiIiJSipsFerZsZHaMSlOhWks6u9BPKyIiItIwdGwaSKCP63SmqVCtJZr5LyIiIs6mb5sQsyNUiQrVWtKlmcapioiIiHPpp0JVwPX+IoiIiEj952r1iQrVWtKxaQChLrLrg4iIiNR/jf29aNvE3+wYVaJCtZZYLBb6u9hPLSIiIlJ/9WntenWJCtVadFbbULMjiIiIiADQt02w2RGqTIVqLTq7bWOzI4iIiIgA0E89qnKqrs2DCPT2MDuGiIiINHCe7hZ6tQo2O0aVqVCtRe5uFpdbr0xERETqn67NgvDxdDc7RpWpUK1lGqcqIiIiZnPVjjMVqrXsbBWqIiIiYjJXWz/1JBWqtaxny2C8PfRlFhEREfOoUJVyeXm40dsFBy+LiIhI/dCskQ/NGvmaHaNaVKjWAT3+FxEREbO46vhUUKFaJ87SeqoiIiJiElfeKVOFah3o1yYET3eL2TFERESkARrSKczsCNWmQrUO+Hq50615I7NjiIiISAPTprEf7cMCzI5RbSpU64jGqYqIiEhdO79zU7Mj1IgK1TpydjsVqiIiIlK3hndRoSqVcE67xnhpPVURERGpI35e7i7fUabKqY74eXlwTjvN/hcREZG6MahDE7w93M2OUSMqVOvQBS7e/S4iIiKuw9Uf+4MK1Tp1QZTr/4URERER1+DqE6lAhWqdahniR+fwQLNjiIiISD0X1SyIiEY+ZseoMRWqdWy4elVFRESklg3v4rqL/J9KhWod0zhVERERqW31YXwqqFCtc31bhxDi52l2DBEREamnQvw86dMqxOwYDqFCtY65uVkY3iXc7BgiIiJSTw3tFIabm8XsGA6hQtUEI7upUBUREZHacX49eewPKlRNMaRTGH5err0Ar4iIiDgfdzcLwzqpUJUa8PF0Z1jn+jEbT0RERJxH39bBNKpHc2FUqJpkZLcIsyOIiIhIPVPf5sGoUDXJBVHheHnoyy8iIiKOc2nPZmZHcChVSiYJ8PZgUPvGZscQERGReqJv62BahfqZHcOhVKiaaFR3Pf4XERERx7isV3OzIzicClUTXdg1Ao96ss6ZiIiImMfdzcKlKlTFkUL9vRjWuf4sISEiIiLmGNi+MU0CvM2O4XAqVE12Zf+WZkcQERERF1cfH/uDClXTDe/SlMb+XmbHEBERERfl7eFWb+e9qFA1mae7G5f3aWF2DBEREXFR53duSqBP/Vnk/1QqVJ2AHv+LiIhIdV3Rt/52eKlQdQJdIoLo0aKR2TFERETExTT29+L8LvV3YrYKVScxQb2qIiIiUkWX9W6Op3v9Lefq7ztzMZf1aqEtVUVERKRKxver3x1dqoycRCM/Ty7qGm52DBEREXERUc2C6Na8fg8dVKHqRK7s38rsCCIiIuIixtXjSVQnqVB1IoM7NKFZIx+zY4iIiIiT83S38H8NYHlLFapOxM3NUq+XmBARERHHGNqpKY3r4Zap/6RC1cmM76fH/yIiInJ615zVMOoFFapOpm0TfwZEhpgdQ0RERJxUZGM/htfjtVNPpULVCV2pXlURERGpwI0DI7FYLGbHqBMqVJ3QJT2b4eflbnYMERERcTKB3h4NapUgFapOyN/bg8sbwEw+ERERqZor+7ciwNvD7Bh1RoWqk5p0XlsaSK++iIiIVIKbBSYOjDQ7Rp1Soeqk2oUFcEEX7VQlIiIixYZ3Cad1Yz+zY9QpFapO7LYh7cyOICIiIk7i5kGRZkeocypUndhZbUPp1SrY7BgiIiJisi4RgQzs0MTsGHVOhaqTu3VwW7MjiIiIiMluaoC9qaBC1emN7t6MVqG+ZscQERERk4T6ezG2d8NcDUiFqpNzd7Nw8yD1qoqIiDRU15zVCh/Phrm+ugpVF3DVgFY08vU0O4aIiIjUMU93C9efE2l2DNOoUHUBfl4e/Ovs1mbHEBERkTo2unszIhr5mB3DNCpUXcRNAyPxctcfl4iISEPSUCdRnaTKx0U0DfLhst7NzY4hIiIidaR3q2D6tA4xO4apVKi6EG0AICIi0nDcOlj/76tQdSGdwgMZ2inM7BgiIiJSy7pEBHJxjwizY5hOhaqL0U9XIiIi9d+9F3bCYrGYHcN0KlRdzHkdm9C1WZDZMURERKSW9GjRiJHd1JsKKlRd0r+HdzA7goiIiNSSey/saHYEp6FC1QWN7tGMni0bmR1DREREHKxP62CGdwk3O4bTUKHqoh4Y2cXsCCIiIuJg/7mwk9kRnIoKVRd1XscmDOrQ2OwYIiIi4iBnRYYyuKNW9zmVClUXNk29qiIiIvXGfy5Sb+o/qVB1Yb1bBTOym8axiIiIuLqB7RtzTjs9Kf0nFaoubtrIzri7aZ01ERERV3afelPLpULVxXVoGsj/9WlhdgwRERGppqGdwv6/vTsPj7o62D5+z55MJvu+E8gelgASrIKyyCJBWRQp7oK2Fltc3ldqK+7yiq21bt2U51WptlqrT0XbUvtI3TcUAVEBWQw7JIHEJGSbSZ4/wGhkhyRnlu/nuuZKZubMzD0hy83M75yjwdlxpmP4JYpqELh+TL6cdv4pAQAIRMz0PzzaTRBIjwnXRUOzTMcAAADH6ayiJA3IjDEdw29RVIPEj0fmKsJpMx0DAAAcI4tl/7uiODyKapCI97g0a3hv0zEAAMAxGl+SopI0dpo8EopqEPnBGb0VF+E0HQMAAByF02bV3PGsh340FNUg4nHZNXtEH9MxAADAUcwclqOchAjTMfweRTXIXPK9bKVFh5mOAQAADiMlKkxzRueajhEQKKpBxmW3cWA2AAB+7OflRXI77aZjBASKahA6f3CGBmfHmo4BAAC+Y2hOnM4dkGY6RsCgqAYhi8Wiuyf3lZ2tVQEA8Bt2q0V3TCoxHSOgUFSDVFFqlC47rZfpGAAA4ICLT81WYUqU6RgBhaIaxK4fk6+UKCZWAQBgWoLHqRvGMofkeFFUg5jHZdet5xSbjgEAQMibO65QUWEO0zECDkU1yE3ol6oz8xNNxwAAIGQNyIzRtFMyTMcISBTVEHDnpBK57PxTAwDQ06wW6a5JJbJYmOB8ImgvISA7PkKzR7CwMAAAPe2CUzLVPyPGdIyARVENEVeP6M1WbQAA9KDocIfmji80HSOgUVRDhMtu052s3QYAQI+5YUy+4iKcpmMENIpqCBmel6iJ/VNNxwAAIOgVpkTq4lOzTccIeBTVEHPrxGJFuthfGACA7mKzWnTP1H6ysUPkSaOohpikqDBdP4YFhwEA6C5Xn9lbA7NiTccIChTVEHTZab1UksYWbgAAdLXClEhdO5oXhLoKRTUE2awWzZ/CWxIAAHQlh82i+y8olZO1y7sMX8kQVZoZo9kj+piOAQBA0JgzKk/FvGPZpSiqIeza0XkakBFtOgYAAAFvQGaMZo9kc52uZmlvb283HQLmbKysV/lDb6mx1Wc6CnBI3roq1bz2hBo3fqR2b7PsMamKn3CdXKl5kqSat55Ww+dvyldXKYvVLmdKrmLOuFSutILD3mfNW0+r9u0/d7rMHpeh9Kt+33F+z6uPqWH1q7I4whRz5mXylIzsuK5hzVtqWP2qks6/rYufLYBA5LJb9fc5w5Wb5DEdJeiwTlGI653o0c3lRZr3t9WmowAH8TXVa+dTcxWW1V9J026X1R0t797tsoZ988fAEZeuuDFXyx6TovbWZtV9+KJ2PXuL0n/4mGzuw79j4EjIUvL0+d9cYP3mDaZ9699Xw+evK+mCu+Tdu13V/3xQ4TmDZHNHq625QTVvLFLy9+/ulucMIPDcOK6AktpNKKrQxadma+ma3Vq6ZrfpKEAnX733V9mjEpRQfl3HZY6YlE5jIopHdDofO+pK1a96RS27Nym8V+nh79xqk81z6OVjWqu3KCyzn1ypeXKl5mnPq4/JW7tLNne09v7ncUUOnCB7VNIJPisAwaQsJ04zT88xHSNoUVQhSbr3vP4a/8Abqm5oMR0F6NC4/n2F5QxS5d/uUdOW1bJ54hU5cIIiS8cfcny7r1V1K5bI4oqQM+nIfzi8e7dr628ulcXmkDO9ULFnXtZRPp2JOapf8S/5murlrdm5/5CD2DQ1bf1ULbs2KG7sj7r8uQIIPBFOm+47f4CsrKLTbThGFR3+/dkuXbXoQ9MxgA4V902RJEUNmayIwmFq3vGF9r76qOLGXiNPv9Ed4/at/0BVi3+h9tZm2TyxSpw6T67Uw69j2LjhQ7W1NskRly5f/R7Vvv1neeurlTbzN7K63JIOHPv66Wuy2J2KGX6RwvsM0Y4nrlN8+fVq3va56pa/LFt4lOLG/VjORLZJBELR3ZP7sk1qN6OoopObnl+lZ5ZtMR0DkCRV/HKyXCm5Srnkvo7L9vzPH9S8Y51SL/lVx2VtLU3yNexR276vVLfyX2ravEqpl/xKtoiYY3qctqZ6bf3dTMWOulKRA8YeckzNW39SW3ODPP3O0q6/3KK0mb9R4/oPVLf8ZaVe/uBJPU8AgWd4XoL+OGuo6RhBj+Wp0Mmt5xSrV7zbdAxAkmTzxMqRkNXpMkd8pnxfVXa6zOoMkyM2Ta70QiVMuFYWq1X1q1455sexhnnkiEuXt2b7Ia9vrd6ihs/+o5jhF6tp8ycKy+grmzta7sLhatm1QW3N+47/yQEIWFFhdv3i/P6mY4QEiio6cTvtun96KbtWwS+40ovVumdrp8ta92w7+kSm9na1+1qP+XHaWhrlrdkhW0TcIe6qXdX/+o1iR10pqzNcam9Te5v3wA0PfGxvO+bHAhD4bjunRKnR4aZjhASKKg4yKCtW17BoMfxA1JBJat6+VrXv/kWte7er4bPXVL9yiTyDyiXtf8t/7+tPqnnbGnlrd6t553pV/eMBeeuq5S4Y1nE/u575ub766KWO83uX/peaNn8ib+0uNW39XJUvzJcsVkUUn3lQhvqV/5ItPEru3P1v8bnSi9RUsUrN29boq2UvyhGf1Wm5LADBbVxJss4bnGE6Rshg1j8Oac6oXL2+rlIrt9SYjoIQ5krNV+KUm1Xz+pOqefvPskcnK3bUVR2L71usVrXu2arKv70qX+NXsoVHyZmSp5SL7u00wal17065Gr/qOO+tq1LVS788cJtouTKKlXLJrw5ad9XXsFe17/5FKRf/8ptMaQWKKpui3X+9Q1Z3tBLKr+/mrwIAf5Ed79Yvpw0wHSOkMJkKh7WpqkHlD72pfS3sWgUACG1hDqte+NHpKk6LMh0lpPDWPw4rJyFC88qLTccAAMC4uyf3o6QaQFHFEV04NEtTBqabjgEAgDEzyrJ0PselGkFRxVHdM7WfSvhfJAAgBPXPiNbt5/LuoikUVRxVmMOmP1wyWHERTtNRAADoMTFuh3570SC57DbTUUIWRRXHJCPWrUdmDGR9VQBASLBapAemlyojlk1wTKKo4pidlpugn51daDoGAADd7iej8jSi4Cibi6DbUVRxXK4c3luTStNMxwAAoNucmZ+oa0fnmY4BUVRxAhZM7a/iVCZXAQCCT3pMuB6YXiorh7r5BYoqjlu4c//kqli3w3QUAAC6jNNu1e8uHqRYJg/7DYoqTkhmnFsPzxjE5CoAQNC47Zxi9c+IMR0D30JRxQkblpegueMKTMcAAOCknTcoQxcNzTYdA99BUcVJ+eGZfXTOACZXAQACV9/0KM2f0td0DBwCRRUn7Rfn9VdhSqTpGAAAHLeM2HD9/8uHKMzBov7+iKKKkxbutOnRS05RDJOrAAABJDrcoSeuKFNSZJjpKDgMiiq6RFa8Ww/PGCg7k6sAAAHAabdq4WWnKDfJYzoKjoCiii4zPC9RC87rbzoGAABHZLFI918wQEN6xZmOgqOgqKJLnT84Qz8dzzarAAD/9fOzizSxPxOBAwFFFV3uRyP6aNawHNMxAAA4yOWn9dJVZ/Q2HQPHiKKKbjGvvEiTSvnfKgDAf4wrSdatE4tNx8BxoKiiW1gsFt03bYCG5yWYjgIAgAZlxejB7w+UlUm/AYWiim7jsFn1+4sHq39GtOkoAIAQlpMQoYWXsVZqIKKooltFuOx6/PIhykmIMB0FABCC4iOceuKKIYqLcJqOghNAUUW3i/e4tGhmmZIiXaajAABCSLjDpv+6fIiy43mxJFBRVNEjMuPceuKKMkWG2U1HAQCEAJvVoodmDFRpZozpKDgJFFX0mOK0KD126Sly2vm2AwB0r9vPLdGY4mTTMXCSaAzoUaf2jtdD3y8Vky4BAN3l1onFuuTUbNMx0AUoquhx4/um6q7JfU3HAAAEoVsmFmsmm84EDYoqjLhoaLauPyvfdAwAQBCZV17EzohBhqIKY649K09zRuWajgEACALzyot05XC2Rg02FFUYdcPYAs0ZnWc6BgAggN08gZIarCiqMO6GMfm6lrIKADgBP59QqKvOoKQGK4oq/ML1Y/J13VmUVQDAsfvZ2YX6wRl9TMdAN6Kowm9cd1a+bhjDBCsAwNHddHahfngmJTXYUVThV+aMztP/HUtZBQAc3k/HF+pqSmpIsLS3t7ebDgF816NvbND/+8ca0zEAAH5m7vgCzR7BijGhgqIKv/XH9yp064urxXcoAECipIYiiir82vMfbdXc51fJ18a3KQCEshvHFeiakZTUUENRhd/7xyc7dO0zH6vVx7cqAIQai0WaV17MjlMhiqKKgLB0zS796Knlava2mY4CAOghDptF900boEml6aajwBCKKgLGO+urdNWiD9XQ4jMdBQDQzSKcNv3+ksEanpdoOgoMoqgioHyytVaznlym3XXNpqMAALpJfIRTj18xRP0zYkxHgWEUVQSc7TWNmvnEMq3ZWWc6CgCgi2XFubVoZpl6JUSYjgI/QFFFQKpv9mr208v1xrpK01EAAF2kODVKT84sU2Kky3QU+AmKKgKW19em2xZ/qqff32w6CgDgJJ2Rn6jfXjRIHpfddBT4EYoqAt5jb2zUPf/8XCy1CgCBaUZZpu6a1Fd2Gzu7ozOKKoLCktU7df2zK9TYyooAABAoLJb9C/mz2xQOh6KKoLFyS42uXPShKlkRAAD8ntNu1a+mDdA5A9JMR4Efo6giqGyradTMx5dp7S5WBAAAfxXrdujRS0/RkF5xpqPAz1FUEXTqmlo1++nlevOLKtNRAADf0SvercevKFMOy0/hGFBUEZS8vjbd8uJq/fmDLaajAAAOOKsoSb+6oFTR4Q7TURAgKKoIar9/fYPuXbJGfJcDgDlWi3TDmHxdMzJXFovFdBwEEIoqgt6S1Tt043OrVNfsNR0FAEJOrNuhh2YM1PC8RNNREIAoqggJm6oaNPvp5fp8x1emowBAyBiQEa3fXjxY6THhpqMgQFFUETKaWn2646VPOW4VAHrAjLIs3X5usVx2m+koCGAUVYSc//54q27+79Xa18LmAADQ1Vx2q+6a3FcXnJJpOgqCAEUVIWn97jrNfnq51u2qNx0FAIJGZly4fnfRYPVNjzYdBUGCooqQ1dji07y/rdbzy7eajgIAAW9EQaIenD5Q0W6WnkLXoagi5P1l2Rbduni1mlrbTEcBgIBjtUhzRufp2tF5LD2FLkdRBSSt2fmVZj+9XBsrG0xHAYCAEeN26IHppRpRkGQ6CoIURRU4oKHZq5+98IkWr9xuOgoA+L0BGdF65MJByoxzm46CIEZRBb7jqfcqdOfLn6nFy6EAAPBdDptFPx6Zp2tG9pHdZjUdB0GOogocwupttbrmT8tVUb3PdBQA8Bv5yR7df0Eps/rRYyiqwGHUN3s1/++f688fbDYdBQCMslqkK4f31v8Zm88C/uhRFFXgKN5eX6WfPr9KW/c2mo4CAD0uK86t+6YNUFlOnOkoCEEUVeAYNDR7teCfa/TU+xXiJwZAqLhwaJZunlCkCJfddBSEKIoqcBze3VCtnz6/Spv3cOwqgOCVHOXSvef1Z9kpGEdRBY7TvhavfrFkrZ5890teXQUQdCaVpunOc/uywxT8AkUVOEEfbNqjuX9dqS9ZGQBAEIiLcOruyX01oV+q6ShAB4oqcBKaWn36xZK1euKdTWrjJwlAgDqrKFn3TO2nxEiX6ShAJxRVoAt8VLFHNz63Shur2IIVQOCIdTv08wlFmnZKpukowCFRVIEu0tTq0/3/XqeFb27k1VUAfs1qkWaUZenGcQWKcTtNxwEOi6IKdLHlm/fqpudXad2uetNRAOAgA7NidNekvuwuhYBAUQW6gdfXpqfeq9Cv/+cL1Ta2mo4DAErwOPXT8YU6f3CGLBaL6TjAMaGoAt2oZl+L7v/3Oj39/mb5OB4AgAE2q0WXnJqtG8bmKyqMJacQWCiqQA9Yt6tOd770md5aX2U6CoAQUpYTpzsnlagwJcp0FOCEUFSBHvTvz3Zp/t8/Y+1VAN0qKdKlm8uLNKk03XQU4KRQVIEe1uJt0+Nvb9IjS9errtlrOg6AIOKwWXT5ab107Vn58rjspuMAJ42iChhSWdes+/61Vs99tIXlrACctNNz43XHuSXKTYo0HQXoMhRVwLDV22p1x0ufatmXe01HARCAesW7deO4QpX3Z+tTBB+KKuAnXlq5XQv+uUbbahpNRwEQANJjwjVndK7OG5Qhu81qOg7QLSiqgB9pavVp4Zsb9dibm1h/FcAhJUe59OORuZo+JEtOOwUVwY2iCvihuqZWPfnOl1r41ibV7KOwAti/YP/VZ/bRxadmK8xhMx0H6BEUVcCP1Td79xfWNzdqL4UVCEnR4Q794IzeuuL0XnI7mcmP0EJRBQJAQ7NXi96t0GNvbtSehhbTcQD0gEiXXTOH5WjW8Bx2lELIoqgCAWRfi1d/fLdCj76xUdUUViAouZ02Xfq9Xrr6zN6KcTtNxwGMoqgCAaixxaen3qvQH97YqKr6ZtNxAHQBl92qi4Zma/bIPkrwuEzHAfwCRRUIYE2t3xTWyjoKKxCI3E6bpg3O0I9G5ColOsx0HMCvUFSBINDU6tOf3t+s37++QbsprEBASI8J16Xfy9b3y7IUHc4xqMChUFSBINLU6tPzy7dq0TsVWrurznQcAIcwKCtGs4b11vi+KbJZLabjAH6NogoEqfc2VmvRu1/qlU93ydvGjzlgksNm0dl9UzVzWI5KM2NMxwECBkUVCHI7a5v0p/cr9KcPtjDxCuhhsW6HZpRl6dLv9eL4U+AEUFSBENHibdM/V+/Qoncr9FHFXtNxgKCWm+TRzNNzNHVQOrtIASeBogqEoE+312rROxV6ceU2NbW2mY4DBAWLRTojL1Ezh+XojLwEWSwcfwqcLIoqEMJq97Xq2Q8366n3Nmvznn2m4wABKcbt0Dn903TZadnKTYo0HQcIKhRVAGpra9dr63bryXcq9MYXleK3AnBkTptVIwoSNXVQukYVJstpt5qOBAQliiqATrbs2afFK7dr8YrtLHEFfEdpZozOG5Suif3TFBvB9qZAd6OoAjistTvrtHjlNi1euV1b9jSajgMYkREbrikD0zVlYLp6J3pMxwFCCkUVwDFZvnmvFq/YrpdX7WCZKwS9SJddE/qlasqgdA3NiWNiFGAIRRXAcfG1tevdDdV6ccU2Lfl0p+qavKYjAV3CbrVoeF6Cpg7K0JjiZJaVAvwARRXACWv2+vSfNZV6aeV2vbpmF0tdIeDYrBYNzIzR2f1SNak0TQkel+lIAL6FogqgS9Q3e/XKpzu1eOV2vb2+Sq0+frXAP0WF2XVGfqJGFyVpRH4Sk6IAP0ZRBdDl6ppa9dYXVVq6ZrdeW1epyjqOaYVZfRIjNLooWSMLkjSkV6zsNpaTAgIBRRVAt2pvb9fqbV9p6ZrdWrp2tz7ZWqM2fuugmzltVpXlxGlUYZJGFyUpOz7CdCQAJ4CiCqBHVdc36/V1lXrziyq9tb6KV1vRZRI8To0oSNLowiQNz0+Ux2U3HQnASaKoAjBq7c46vflFpd5aX6X3N+5RY6vPdCQECKfNqn4Z0Tq9T7xGFiapNDOGZaSAIENRBeA3Wrxt+qhir95eX6UPNu3RJ9tqKa7o4HbaNCgrVkN6xaksJ04Ds2JYQgoIchRVAH7L62vT2l11WrGlRiu31GjFlhqt313PMa4hIsHjVGlmrMpy9pfTfunRTIICQgxFFUBAqW/2atXW/aV1xeb9H3dznGvAc9qsKkqL0sDMGA3MitGgrFhlxrlNxwJgGEUVQMDbUdvYUVpXbKnRJ9tqta+FQwb8ldtpU59Ej/KSPCpOi9LArFj1TY+Sy87b+AA6o6gCCDq+tnat21Wn1dtqtamqQRsrG7SpqkFfVjeo2cvuWT3F47KrT9L+QpqX5FF+cqRykzzKiA1n0hOAY0JRBRAy2trata2mUZuqGg4U2HptPPD59ppGjn09QVFhduUmeZSXFKm8ZI/ykiOVl+RRWky46WgAAhxFFQAkNbX6VFG9T5uqDpTXygZtrGrQl1UN2rOvRaH8mzI63KHkKJeSo8KUGLn/Y2p0mHoneJSX7FFyVJjpiACCFEUVAI7C62vTnoYWVdW3qLqhWdX1Laqqb1Z1Q4uq6w+c/9bngbKkVqTLrqQDBTQ5Kmz/55Fh31x24HOWgAJgCkUVALrYvhbvN2X2QLmta/KqxdemVm+7Wn1tavG1qcXbplbf16f2A9d3Pv/tMd62djltVoU5bAp32BTu3P8xzGFTmMPacdnX14c5bAp3Wr/5/MD1UWEOJUW55HaycxMA/0ZRBQAAgF9i5WQAAAD4JYoqAAAA/BJFFQAAAH6JogoAAAC/RFEFAACAX6KoAgAAwC9RVAEAAOCXKKoAAADwSxRVAAAA+CWKKgAAAPwSRRXwA5dffrksFkvHKT4+XuPHj9eqVas6xnz7+m+fnnnmGUnSa6+9JovFopKSEvl8vk73HxMToyeeeKLjfK9evfTAAw90GvPxxx9r+vTpSk1NlcvlUnZ2tiZOnKiXXnpJX++0/OWXX8pisSgpKUl1dXWdbl9aWqrbb7+9674oAICQR1EF/MT48eO1Y8cO7dixQ6+++qrsdrsmTpzYaczjjz/eMebr0+TJkzuN2bhxoxYtWnRcj/3iiy/q1FNPVX19vZ588kl9/vnnWrJkiaZMmaJ58+aptra20/i6ujrdd999J/Q8AQA4VnbTAQDs53K5lJKSIklKSUnRTTfdpOHDh6uyslKJiYmS9r8y+vWYw/nJT36i2267TRdeeKFcLtdRH7ehoUGzZs1SeXm5XnjhhU7XFRUVadasWR2vqH77Me6//35dc801SkpKOp6nCQDAMeMVVcAP1dfX66mnnlJubq7i4+OP67bXXXedvF6vHn744WMa/8orr6i6ulpz58497BiLxdLp/IwZM5Sbm6s777zzuLIBAHA8KKqAn3j55Zfl8Xjk8XgUGRmpxYsX69lnn5XV+s2P6YwZMzrGfH3avHlzp/txu9267bbbdM899xz0lv2hrFu3TpJUUFDQcdmyZcs6PcbLL7/c6TYWi0ULFizQo48+qg0bNpzM0wYA4LAoqoCfGDlypFasWKEVK1bogw8+0Lhx43T22WeroqKiY8yvf/3rjjFfn9LS0g66r1mzZik+Pl733nvvCWXp379/x/03NDTI6/UeNGbcuHEaNmyYbrnllhN6DAAAjoaiCviJiIgI5ebmKjc3V0OGDNHChQvV0NCgxx57rGNMSkpKx5ivT3b7wYea2+12zZ8/Xw8++KC2b99+xMfNy8uTJK1du7bjMpfL1XH/R7JgwQI9++yz+vjjj4/nqQIAcEwoqoCfslgsslqtamxsPKHbT5s2TSUlJbrjjjuOOG7s2LGKi4s7oVdfy8rKNHXqVN10000nlBEAgCNh1j/gJ5qbm7Vz505J0t69e/XII4+ovr5e55xzTseYmpqajjFfi4yMVERExCHvc8GCBRo3btwRH9fj8WjhwoWaPn26ysvLNWfOHOXl5am+vl5LliyRJNlstsPefv78+SopKTnkK7sAAJwMXlEF/MSSJUuUmpqq1NRUDR06VMuWLdNzzz2nESNGdIy54oorOsZ8fTrS7P5Ro0Zp1KhRhzzG9NumTJmid955R263W5deeqkKCgo0atQoLV26VM8888xB67l+W35+vmbOnKmmpqbjfs4AAByJpf27CyQCAAAAfoBXVAEAAOCXKKoAAADwSxRVAAAA+CWKKgAAAPwSRRUAAAB+iaIKAAAAv0RRBQAAgF+iqAIAAMAvUVQBAADglyiqAAAA8EsUVQAAAPgliioAAAD8EkUVAAAAfomiCgAAAL/0v+e7/ykBA5vTAAAAAElFTkSuQmCC",
            "text/plain": [
              "<Figure size 800x800 with 1 Axes>"
            ]
          },
          "metadata": {},
          "output_type": "display_data"
        }
      ],
      "source": [
        "#pie chart\n",
        "\n",
        "import matplotlib.pyplot as plt\n",
        "\n",
        "# Count the occurrences of each unique value in the 'Label' column\n",
        "label_counts = df[' Label'].value_counts()\n",
        "\n",
        "# Get labels and sizes for the pie chart\n",
        "labels = label_counts.index\n",
        "sizes = label_counts.values\n",
        "\n",
        "# Create the pie chart\n",
        "plt.figure(figsize=(8, 8))\n",
        "plt.pie(sizes, labels=labels, autopct='%1.1f%%', startangle=140)\n",
        "\n",
        "# Equal aspect ratio ensures that pie is drawn as a circle\n",
        "plt.axis('equal')\n",
        "plt.title('Distribution of Labels')\n",
        "plt.show()"
      ]
    },
    {
      "cell_type": "markdown",
      "metadata": {
        "id": "Ht75MJy8j3Pk"
      },
      "source": [
        "### Preprocessing (normalization and padding values)"
      ]
    },
    {
      "cell_type": "code",
      "execution_count": 13,
      "metadata": {
        "id": "bVKMQLbBj3Pk",
        "outputId": "5227ed2b-f053-4d26-b404-6be820f3d749"
      },
      "outputs": [],
      "source": [
        "# Z-score normalization\n",
        "features = df.dtypes[df.dtypes != 'object'].index\n",
        "df[features] = df[features].apply(\n",
        "    lambda x: (x - x.mean()) / (x.std()))\n",
        "# Fill empty values by 0\n",
        "df = df.fillna(0)"
      ]
    },
    {
      "cell_type": "code",
      "execution_count": 20,
      "metadata": {},
      "outputs": [
        {
          "data": {
            "text/plain": [
              "Index([' Destination Port', ' Flow Duration', ' Total Fwd Packets',\n",
              "       ' Total Backward Packets', 'Total Length of Fwd Packets',\n",
              "       ' Total Length of Bwd Packets', ' Fwd Packet Length Max',\n",
              "       ' Fwd Packet Length Min', ' Fwd Packet Length Mean',\n",
              "       ' Fwd Packet Length Std', 'Bwd Packet Length Max',\n",
              "       ' Bwd Packet Length Min', ' Bwd Packet Length Mean',\n",
              "       ' Bwd Packet Length Std', 'Flow Bytes/s', ' Flow Packets/s',\n",
              "       ' Flow IAT Mean', ' Flow IAT Std', ' Flow IAT Max', ' Flow IAT Min',\n",
              "       'Fwd IAT Total', ' Fwd IAT Mean', ' Fwd IAT Std', ' Fwd IAT Max',\n",
              "       ' Fwd IAT Min', 'Bwd IAT Total', ' Bwd IAT Mean', ' Bwd IAT Std',\n",
              "       ' Bwd IAT Max', ' Bwd IAT Min', 'Fwd PSH Flags', ' Bwd PSH Flags',\n",
              "       ' Fwd URG Flags', ' Bwd URG Flags', ' Fwd Header Length',\n",
              "       ' Bwd Header Length', 'Fwd Packets/s', ' Bwd Packets/s',\n",
              "       ' Min Packet Length', ' Max Packet Length', ' Packet Length Mean',\n",
              "       ' Packet Length Std', ' Packet Length Variance', 'FIN Flag Count',\n",
              "       ' SYN Flag Count', ' RST Flag Count', ' PSH Flag Count',\n",
              "       ' ACK Flag Count', ' URG Flag Count', ' CWE Flag Count',\n",
              "       ' ECE Flag Count', ' Down/Up Ratio', ' Average Packet Size',\n",
              "       ' Avg Fwd Segment Size', ' Avg Bwd Segment Size',\n",
              "       ' Fwd Header Length.1', 'Fwd Avg Bytes/Bulk', ' Fwd Avg Packets/Bulk',\n",
              "       ' Fwd Avg Bulk Rate', ' Bwd Avg Bytes/Bulk', ' Bwd Avg Packets/Bulk',\n",
              "       'Bwd Avg Bulk Rate', 'Subflow Fwd Packets', ' Subflow Fwd Bytes',\n",
              "       ' Subflow Bwd Packets', ' Subflow Bwd Bytes', 'Init_Win_bytes_forward',\n",
              "       ' Init_Win_bytes_backward', ' act_data_pkt_fwd',\n",
              "       ' min_seg_size_forward', 'Active Mean', ' Active Std', ' Active Max',\n",
              "       ' Active Min', 'Idle Mean', ' Idle Std', ' Idle Max', ' Idle Min'],\n",
              "      dtype='object')"
            ]
          },
          "execution_count": 20,
          "metadata": {},
          "output_type": "execute_result"
        }
      ],
      "source": [
        "#features list\n",
        "features\n",
        "# df.describe"
      ]
    },
    {
      "cell_type": "code",
      "execution_count": 21,
      "metadata": {},
      "outputs": [
        {
          "name": "stdout",
          "output_type": "stream",
          "text": [
            " Bwd Packet Length Std     0.091903\n",
            " Avg Bwd Segment Size      0.066831\n",
            " Bwd Packet Length Mean    0.053245\n",
            " Packet Length Mean        0.053225\n",
            " Packet Length Std         0.052243\n",
            " Packet Length Variance    0.044257\n",
            " Max Packet Length         0.042192\n",
            " Destination Port          0.038348\n",
            " Average Packet Size       0.034783\n",
            "Init_Win_bytes_forward     0.028249\n",
            "dtype: float64\n"
          ]
        }
      ],
      "source": [
        "#checking for the top 10 best features of the avaialble 79 features.\n",
        "\n",
        "from sklearn.ensemble import RandomForestClassifier\n",
        "import pandas as pd\n",
        "\n",
        "# Assuming df is your DataFrame containing all the columns\n",
        "X = df.drop(' Label', axis=1)  # Features\n",
        "y = df[' Label']  # Target variable\n",
        "\n",
        "# Train Random Forest classifier\n",
        "model = RandomForestClassifier()\n",
        "model.fit(X, y)\n",
        "\n",
        "# Get feature importances\n",
        "feature_importances = pd.Series(model.feature_importances_, index=X.columns)\n",
        "\n",
        "# Sort feature importances in descending order\n",
        "feature_importances_sorted = feature_importances.sort_values(ascending=False)\n",
        "\n",
        "# Display top N important features\n",
        "top_n = 10  # Adjust this number as needed\n",
        "print(feature_importances_sorted.head(top_n))\n"
      ]
    },
    {
      "cell_type": "code",
      "execution_count": 25,
      "metadata": {},
      "outputs": [
        {
          "data": {
            "text/plain": [
              " Bwd Packet Length Std     0.091903\n",
              " Avg Bwd Segment Size      0.066831\n",
              " Bwd Packet Length Mean    0.053245\n",
              " Packet Length Mean        0.053225\n",
              " Packet Length Std         0.052243\n",
              " Packet Length Variance    0.044257\n",
              " Max Packet Length         0.042192\n",
              " Destination Port          0.038348\n",
              " Average Packet Size       0.034783\n",
              "Init_Win_bytes_forward     0.028249\n",
              "dtype: float64"
            ]
          },
          "execution_count": 25,
          "metadata": {},
          "output_type": "execute_result"
        }
      ],
      "source": [
        "feature_importances_sorted[:10]"
      ]
    },
    {
      "cell_type": "code",
      "execution_count": 28,
      "metadata": {},
      "outputs": [
        {
          "data": {
            "text/plain": [
              "Index([' Destination Port', ' Flow Duration', ' Total Fwd Packets',\n",
              "       ' Total Backward Packets', 'Total Length of Fwd Packets',\n",
              "       ' Total Length of Bwd Packets', ' Fwd Packet Length Max',\n",
              "       ' Fwd Packet Length Min', ' Fwd Packet Length Mean',\n",
              "       ' Fwd Packet Length Std', 'Bwd Packet Length Max',\n",
              "       ' Bwd Packet Length Min', ' Bwd Packet Length Mean',\n",
              "       ' Bwd Packet Length Std', 'Flow Bytes/s', ' Flow Packets/s',\n",
              "       ' Flow IAT Mean', ' Flow IAT Std', ' Flow IAT Max', ' Flow IAT Min',\n",
              "       'Fwd IAT Total', ' Fwd IAT Mean', ' Fwd IAT Std', ' Fwd IAT Max',\n",
              "       ' Fwd IAT Min', 'Bwd IAT Total', ' Bwd IAT Mean', ' Bwd IAT Std',\n",
              "       ' Bwd IAT Max', ' Bwd IAT Min', 'Fwd PSH Flags', ' Bwd PSH Flags',\n",
              "       ' Fwd URG Flags', ' Bwd URG Flags', ' Fwd Header Length',\n",
              "       ' Bwd Header Length', 'Fwd Packets/s', ' Bwd Packets/s',\n",
              "       ' Min Packet Length', ' Max Packet Length', ' Packet Length Mean',\n",
              "       ' Packet Length Std', ' Packet Length Variance', 'FIN Flag Count',\n",
              "       ' SYN Flag Count', ' RST Flag Count', ' PSH Flag Count',\n",
              "       ' ACK Flag Count', ' URG Flag Count', ' CWE Flag Count',\n",
              "       ' ECE Flag Count', ' Down/Up Ratio', ' Average Packet Size',\n",
              "       ' Avg Fwd Segment Size', ' Avg Bwd Segment Size',\n",
              "       ' Fwd Header Length.1', 'Fwd Avg Bytes/Bulk', ' Fwd Avg Packets/Bulk',\n",
              "       ' Fwd Avg Bulk Rate', ' Bwd Avg Bytes/Bulk', ' Bwd Avg Packets/Bulk',\n",
              "       'Bwd Avg Bulk Rate', 'Subflow Fwd Packets', ' Subflow Fwd Bytes',\n",
              "       ' Subflow Bwd Packets', ' Subflow Bwd Bytes', 'Init_Win_bytes_forward',\n",
              "       ' Init_Win_bytes_backward', ' act_data_pkt_fwd',\n",
              "       ' min_seg_size_forward', 'Active Mean', ' Active Std', ' Active Max',\n",
              "       ' Active Min', 'Idle Mean', ' Idle Std', ' Idle Max', ' Idle Min',\n",
              "       ' Label'],\n",
              "      dtype='object')"
            ]
          },
          "execution_count": 28,
          "metadata": {},
          "output_type": "execute_result"
        }
      ],
      "source": [
        "df.columns"
      ]
    },
    {
      "cell_type": "code",
      "execution_count": 31,
      "metadata": {},
      "outputs": [
        {
          "data": {
            "text/plain": [
              "0   -0.599827\n",
              "1   -0.518520\n",
              "2    0.140878\n",
              "3    0.290375\n",
              "4    0.141348\n",
              "Name:  Bwd Packet Length Std, dtype: float64"
            ]
          },
          "execution_count": 31,
          "metadata": {},
          "output_type": "execute_result"
        }
      ],
      "source": [
        "df[' Bwd Packet Length Std'].head()"
      ]
    },
    {
      "cell_type": "code",
      "execution_count": 35,
      "metadata": {},
      "outputs": [
        {
          "data": {
            "text/plain": [
              "array(['BENIGN', 'BENIGN', 'BENIGN', ..., 'BENIGN', 'BENIGN', 'BENIGN'],\n",
              "      dtype=object)"
            ]
          },
          "execution_count": 35,
          "metadata": {},
          "output_type": "execute_result"
        }
      ],
      "source": [
        "from sklearn.tree import DecisionTreeClassifier\n",
        "col_names = [' Bwd Packet Length Std',' Avg Bwd Segment Size', ' Bwd Packet Length Mean',\n",
        "    ' Packet Length Mean', ' Packet Length Std', ' Packet Length Variance',\n",
        "    ' Max Packet Length', ' Destination Port', ' Average Packet Size', 'Init_Win_bytes_forward']\n",
        "X = df[col_names]\n",
        "y = df[' Label']\n",
        "model = DecisionTreeClassifier()\n",
        "model.fit(X, y)\n",
        "pred = model.predict(X)\n",
        "pred"
      ]
    },
    {
      "cell_type": "code",
      "execution_count": 37,
      "metadata": {},
      "outputs": [
        {
          "name": "stdout",
          "output_type": "stream",
          "text": [
            "Accuracy: 0.9922030076381941\n",
            "        Actual Predicted\n",
            "0       BENIGN    BENIGN\n",
            "1       BENIGN    BENIGN\n",
            "2       BENIGN    BENIGN\n",
            "3       BENIGN    BENIGN\n",
            "4       BENIGN    BENIGN\n",
            "...        ...       ...\n",
            "692698  BENIGN    BENIGN\n",
            "692699  BENIGN    BENIGN\n",
            "692700  BENIGN    BENIGN\n",
            "692701  BENIGN    BENIGN\n",
            "692702  BENIGN    BENIGN\n",
            "\n",
            "[692703 rows x 2 columns]\n"
          ]
        }
      ],
      "source": [
        "#checking the difference between predicted values from  model and actual values\n",
        "from sklearn.metrics import accuracy_score\n",
        "\n",
        "# Calculate the accuracy score\n",
        "accuracy = accuracy_score(y, pred)\n",
        "print(\"Accuracy:\", accuracy)\n",
        "\n",
        "# Create a DataFrame to display actual and predicted values\n",
        "result_df = pd.DataFrame({'Actual': y, 'Predicted': pred})\n",
        "print(result_df)"
      ]
    },
    {
      "cell_type": "markdown",
      "metadata": {
        "id": "WC6BlEzBj3Pk"
      },
      "source": [
        "### Data sampling\n",
        "Due to the space limit of GitHub files and the large size of network traffic data, we sample a small-sized subset for model learning using **k-means cluster sampling**"
      ]
    },
    {
      "cell_type": "code",
      "execution_count": 41,
      "metadata": {
        "id": "qrECbr6Ij3Pk"
      },
      "outputs": [],
      "source": [
        "labelencoder = LabelEncoder()\n",
        "df.iloc[:, -1] = labelencoder.fit_transform(df.iloc[:, -1])"
      ]
    },
    {
      "cell_type": "code",
      "execution_count": 42,
      "metadata": {
        "colab": {
          "base_uri": "https://localhost:8080/"
        },
        "id": "OvrCCgeCj3Pl",
        "outputId": "82b3df1b-98a6-4207-d5e7-0a319fc2c8c2"
      },
      "outputs": [
        {
          "data": {
            "text/plain": [
              " Label\n",
              "0    440031\n",
              "2    231073\n",
              "1     10293\n",
              "4      5796\n",
              "3      5499\n",
              "5        11\n",
              "Name: count, dtype: int64"
            ]
          },
          "execution_count": 42,
          "metadata": {},
          "output_type": "execute_result"
        }
      ],
      "source": [
        "df[' Label'].value_counts()"
      ]
    },
    {
      "cell_type": "code",
      "execution_count": 43,
      "metadata": {
        "id": "pnFVjwI_uHVH"
      },
      "outputs": [],
      "source": [
        "# Z-score normalization\n",
        "features = df.dtypes[df.dtypes != 'object'].index\n",
        "df[features] = df[features].apply(\n",
        "    lambda x: (x - x.mean()) / (x.std()))\n",
        "# Fill empty values by 0\n",
        "df = df.fillna(0)"
      ]
    },
    {
      "cell_type": "code",
      "execution_count": 44,
      "metadata": {
        "colab": {
          "base_uri": "https://localhost:8080/",
          "height": 495
        },
        "id": "367-w0DauLuS",
        "outputId": "5be86bbb-94dd-4bd9-8a48-16ec38615c12"
      },
      "outputs": [
        {
          "data": {
            "text/html": [
              "<div>\n",
              "<style scoped>\n",
              "    .dataframe tbody tr th:only-of-type {\n",
              "        vertical-align: middle;\n",
              "    }\n",
              "\n",
              "    .dataframe tbody tr th {\n",
              "        vertical-align: top;\n",
              "    }\n",
              "\n",
              "    .dataframe thead th {\n",
              "        text-align: right;\n",
              "    }\n",
              "</style>\n",
              "<table border=\"1\" class=\"dataframe\">\n",
              "  <thead>\n",
              "    <tr style=\"text-align: right;\">\n",
              "      <th></th>\n",
              "      <th>Destination Port</th>\n",
              "      <th>Flow Duration</th>\n",
              "      <th>Total Fwd Packets</th>\n",
              "      <th>Total Backward Packets</th>\n",
              "      <th>Total Length of Fwd Packets</th>\n",
              "      <th>Total Length of Bwd Packets</th>\n",
              "      <th>Fwd Packet Length Max</th>\n",
              "      <th>Fwd Packet Length Min</th>\n",
              "      <th>Fwd Packet Length Mean</th>\n",
              "      <th>Fwd Packet Length Std</th>\n",
              "      <th>...</th>\n",
              "      <th>min_seg_size_forward</th>\n",
              "      <th>Active Mean</th>\n",
              "      <th>Active Std</th>\n",
              "      <th>Active Max</th>\n",
              "      <th>Active Min</th>\n",
              "      <th>Idle Mean</th>\n",
              "      <th>Idle Std</th>\n",
              "      <th>Idle Max</th>\n",
              "      <th>Idle Min</th>\n",
              "      <th>Label</th>\n",
              "    </tr>\n",
              "  </thead>\n",
              "  <tbody>\n",
              "    <tr>\n",
              "      <th>0</th>\n",
              "      <td>-0.356503</td>\n",
              "      <td>-0.653857</td>\n",
              "      <td>-0.011451</td>\n",
              "      <td>-0.009362</td>\n",
              "      <td>-0.089086</td>\n",
              "      <td>-0.007581</td>\n",
              "      <td>-0.376966</td>\n",
              "      <td>-0.176667</td>\n",
              "      <td>-0.346068</td>\n",
              "      <td>-0.366591</td>\n",
              "      <td>...</td>\n",
              "      <td>-1.069400</td>\n",
              "      <td>-0.131646</td>\n",
              "      <td>-0.100396</td>\n",
              "      <td>-0.14867</td>\n",
              "      <td>-0.104366</td>\n",
              "      <td>-0.579979</td>\n",
              "      <td>-0.105686</td>\n",
              "      <td>-0.58524</td>\n",
              "      <td>-0.57078</td>\n",
              "      <td>0</td>\n",
              "    </tr>\n",
              "    <tr>\n",
              "      <th>1</th>\n",
              "      <td>-0.336856</td>\n",
              "      <td>-0.654742</td>\n",
              "      <td>0.001932</td>\n",
              "      <td>-0.005298</td>\n",
              "      <td>-0.062153</td>\n",
              "      <td>-0.007438</td>\n",
              "      <td>-0.256055</td>\n",
              "      <td>-0.294156</td>\n",
              "      <td>-0.284940</td>\n",
              "      <td>-0.227513</td>\n",
              "      <td>...</td>\n",
              "      <td>0.828623</td>\n",
              "      <td>-0.131646</td>\n",
              "      <td>-0.100396</td>\n",
              "      <td>-0.14867</td>\n",
              "      <td>-0.104366</td>\n",
              "      <td>-0.579979</td>\n",
              "      <td>-0.105686</td>\n",
              "      <td>-0.58524</td>\n",
              "      <td>-0.57078</td>\n",
              "      <td>0</td>\n",
              "    </tr>\n",
              "    <tr>\n",
              "      <th>2</th>\n",
              "      <td>-0.355994</td>\n",
              "      <td>-0.654727</td>\n",
              "      <td>0.000594</td>\n",
              "      <td>-0.004282</td>\n",
              "      <td>0.421001</td>\n",
              "      <td>-0.006178</td>\n",
              "      <td>2.221784</td>\n",
              "      <td>-0.294156</td>\n",
              "      <td>1.614047</td>\n",
              "      <td>2.430793</td>\n",
              "      <td>...</td>\n",
              "      <td>0.828623</td>\n",
              "      <td>-0.131646</td>\n",
              "      <td>-0.100396</td>\n",
              "      <td>-0.14867</td>\n",
              "      <td>-0.104366</td>\n",
              "      <td>-0.579979</td>\n",
              "      <td>-0.105686</td>\n",
              "      <td>-0.58524</td>\n",
              "      <td>-0.57078</td>\n",
              "      <td>0</td>\n",
              "    </tr>\n",
              "    <tr>\n",
              "      <th>3</th>\n",
              "      <td>-0.336856</td>\n",
              "      <td>-0.654397</td>\n",
              "      <td>0.009962</td>\n",
              "      <td>0.001815</td>\n",
              "      <td>0.469998</td>\n",
              "      <td>-0.004612</td>\n",
              "      <td>1.787831</td>\n",
              "      <td>-0.294156</td>\n",
              "      <td>0.903958</td>\n",
              "      <td>1.516334</td>\n",
              "      <td>...</td>\n",
              "      <td>0.828623</td>\n",
              "      <td>-0.131646</td>\n",
              "      <td>-0.100396</td>\n",
              "      <td>-0.14867</td>\n",
              "      <td>-0.104366</td>\n",
              "      <td>-0.579979</td>\n",
              "      <td>-0.105686</td>\n",
              "      <td>-0.58524</td>\n",
              "      <td>-0.57078</td>\n",
              "      <td>0</td>\n",
              "    </tr>\n",
              "    <tr>\n",
              "      <th>4</th>\n",
              "      <td>-0.355994</td>\n",
              "      <td>-0.654727</td>\n",
              "      <td>-0.000744</td>\n",
              "      <td>-0.004282</td>\n",
              "      <td>0.421001</td>\n",
              "      <td>-0.006177</td>\n",
              "      <td>2.221784</td>\n",
              "      <td>-0.294156</td>\n",
              "      <td>1.836067</td>\n",
              "      <td>2.704747</td>\n",
              "      <td>...</td>\n",
              "      <td>0.828623</td>\n",
              "      <td>-0.131646</td>\n",
              "      <td>-0.100396</td>\n",
              "      <td>-0.14867</td>\n",
              "      <td>-0.104366</td>\n",
              "      <td>-0.579979</td>\n",
              "      <td>-0.105686</td>\n",
              "      <td>-0.58524</td>\n",
              "      <td>-0.57078</td>\n",
              "      <td>0</td>\n",
              "    </tr>\n",
              "    <tr>\n",
              "      <th>...</th>\n",
              "      <td>...</td>\n",
              "      <td>...</td>\n",
              "      <td>...</td>\n",
              "      <td>...</td>\n",
              "      <td>...</td>\n",
              "      <td>...</td>\n",
              "      <td>...</td>\n",
              "      <td>...</td>\n",
              "      <td>...</td>\n",
              "      <td>...</td>\n",
              "      <td>...</td>\n",
              "      <td>...</td>\n",
              "      <td>...</td>\n",
              "      <td>...</td>\n",
              "      <td>...</td>\n",
              "      <td>...</td>\n",
              "      <td>...</td>\n",
              "      <td>...</td>\n",
              "      <td>...</td>\n",
              "      <td>...</td>\n",
              "      <td>...</td>\n",
              "    </tr>\n",
              "    <tr>\n",
              "      <th>692698</th>\n",
              "      <td>-0.358219</td>\n",
              "      <td>-0.653999</td>\n",
              "      <td>-0.007436</td>\n",
              "      <td>-0.008346</td>\n",
              "      <td>-0.071888</td>\n",
              "      <td>-0.007516</td>\n",
              "      <td>-0.340527</td>\n",
              "      <td>0.254124</td>\n",
              "      <td>-0.206513</td>\n",
              "      <td>-0.366591</td>\n",
              "      <td>...</td>\n",
              "      <td>-1.069400</td>\n",
              "      <td>-0.131646</td>\n",
              "      <td>-0.100396</td>\n",
              "      <td>-0.14867</td>\n",
              "      <td>-0.104366</td>\n",
              "      <td>-0.579979</td>\n",
              "      <td>-0.105686</td>\n",
              "      <td>-0.58524</td>\n",
              "      <td>-0.57078</td>\n",
              "      <td>0</td>\n",
              "    </tr>\n",
              "    <tr>\n",
              "      <th>692699</th>\n",
              "      <td>-0.358219</td>\n",
              "      <td>-0.654745</td>\n",
              "      <td>-0.010113</td>\n",
              "      <td>-0.008346</td>\n",
              "      <td>-0.076431</td>\n",
              "      <td>-0.007422</td>\n",
              "      <td>-0.317339</td>\n",
              "      <td>0.528264</td>\n",
              "      <td>-0.117705</td>\n",
              "      <td>-0.366591</td>\n",
              "      <td>...</td>\n",
              "      <td>-1.069400</td>\n",
              "      <td>-0.131646</td>\n",
              "      <td>-0.100396</td>\n",
              "      <td>-0.14867</td>\n",
              "      <td>-0.104366</td>\n",
              "      <td>-0.579979</td>\n",
              "      <td>-0.105686</td>\n",
              "      <td>-0.58524</td>\n",
              "      <td>-0.57078</td>\n",
              "      <td>0</td>\n",
              "    </tr>\n",
              "    <tr>\n",
              "      <th>692700</th>\n",
              "      <td>3.328144</td>\n",
              "      <td>-0.654751</td>\n",
              "      <td>-0.010113</td>\n",
              "      <td>-0.009362</td>\n",
              "      <td>-0.085029</td>\n",
              "      <td>-0.007581</td>\n",
              "      <td>-0.335558</td>\n",
              "      <td>-0.294156</td>\n",
              "      <td>-0.285805</td>\n",
              "      <td>-0.269653</td>\n",
              "      <td>...</td>\n",
              "      <td>0.828623</td>\n",
              "      <td>-0.131646</td>\n",
              "      <td>-0.100396</td>\n",
              "      <td>-0.14867</td>\n",
              "      <td>-0.104366</td>\n",
              "      <td>-0.579979</td>\n",
              "      <td>-0.105686</td>\n",
              "      <td>-0.58524</td>\n",
              "      <td>-0.57078</td>\n",
              "      <td>0</td>\n",
              "    </tr>\n",
              "    <tr>\n",
              "      <th>692701</th>\n",
              "      <td>-0.358219</td>\n",
              "      <td>-0.630233</td>\n",
              "      <td>-0.004759</td>\n",
              "      <td>-0.008346</td>\n",
              "      <td>-0.058909</td>\n",
              "      <td>-0.007469</td>\n",
              "      <td>-0.333902</td>\n",
              "      <td>0.332450</td>\n",
              "      <td>-0.181139</td>\n",
              "      <td>-0.366591</td>\n",
              "      <td>...</td>\n",
              "      <td>-1.069400</td>\n",
              "      <td>-0.131646</td>\n",
              "      <td>-0.100396</td>\n",
              "      <td>-0.14867</td>\n",
              "      <td>-0.104366</td>\n",
              "      <td>-0.579979</td>\n",
              "      <td>-0.105686</td>\n",
              "      <td>-0.58524</td>\n",
              "      <td>-0.57078</td>\n",
              "      <td>0</td>\n",
              "    </tr>\n",
              "    <tr>\n",
              "      <th>692702</th>\n",
              "      <td>-0.358219</td>\n",
              "      <td>-0.652533</td>\n",
              "      <td>-0.007436</td>\n",
              "      <td>-0.008346</td>\n",
              "      <td>-0.059558</td>\n",
              "      <td>-0.007483</td>\n",
              "      <td>-0.309057</td>\n",
              "      <td>0.626171</td>\n",
              "      <td>-0.085988</td>\n",
              "      <td>-0.366591</td>\n",
              "      <td>...</td>\n",
              "      <td>-1.069400</td>\n",
              "      <td>-0.131646</td>\n",
              "      <td>-0.100396</td>\n",
              "      <td>-0.14867</td>\n",
              "      <td>-0.104366</td>\n",
              "      <td>-0.579979</td>\n",
              "      <td>-0.105686</td>\n",
              "      <td>-0.58524</td>\n",
              "      <td>-0.57078</td>\n",
              "      <td>0</td>\n",
              "    </tr>\n",
              "  </tbody>\n",
              "</table>\n",
              "<p>692703 rows × 79 columns</p>\n",
              "</div>"
            ],
            "text/plain": [
              "         Destination Port   Flow Duration   Total Fwd Packets  \\\n",
              "0               -0.356503       -0.653857           -0.011451   \n",
              "1               -0.336856       -0.654742            0.001932   \n",
              "2               -0.355994       -0.654727            0.000594   \n",
              "3               -0.336856       -0.654397            0.009962   \n",
              "4               -0.355994       -0.654727           -0.000744   \n",
              "...                   ...             ...                 ...   \n",
              "692698          -0.358219       -0.653999           -0.007436   \n",
              "692699          -0.358219       -0.654745           -0.010113   \n",
              "692700           3.328144       -0.654751           -0.010113   \n",
              "692701          -0.358219       -0.630233           -0.004759   \n",
              "692702          -0.358219       -0.652533           -0.007436   \n",
              "\n",
              "         Total Backward Packets  Total Length of Fwd Packets  \\\n",
              "0                     -0.009362                    -0.089086   \n",
              "1                     -0.005298                    -0.062153   \n",
              "2                     -0.004282                     0.421001   \n",
              "3                      0.001815                     0.469998   \n",
              "4                     -0.004282                     0.421001   \n",
              "...                         ...                          ...   \n",
              "692698                -0.008346                    -0.071888   \n",
              "692699                -0.008346                    -0.076431   \n",
              "692700                -0.009362                    -0.085029   \n",
              "692701                -0.008346                    -0.058909   \n",
              "692702                -0.008346                    -0.059558   \n",
              "\n",
              "         Total Length of Bwd Packets   Fwd Packet Length Max  \\\n",
              "0                          -0.007581               -0.376966   \n",
              "1                          -0.007438               -0.256055   \n",
              "2                          -0.006178                2.221784   \n",
              "3                          -0.004612                1.787831   \n",
              "4                          -0.006177                2.221784   \n",
              "...                              ...                     ...   \n",
              "692698                     -0.007516               -0.340527   \n",
              "692699                     -0.007422               -0.317339   \n",
              "692700                     -0.007581               -0.335558   \n",
              "692701                     -0.007469               -0.333902   \n",
              "692702                     -0.007483               -0.309057   \n",
              "\n",
              "         Fwd Packet Length Min   Fwd Packet Length Mean  \\\n",
              "0                    -0.176667                -0.346068   \n",
              "1                    -0.294156                -0.284940   \n",
              "2                    -0.294156                 1.614047   \n",
              "3                    -0.294156                 0.903958   \n",
              "4                    -0.294156                 1.836067   \n",
              "...                        ...                      ...   \n",
              "692698                0.254124                -0.206513   \n",
              "692699                0.528264                -0.117705   \n",
              "692700               -0.294156                -0.285805   \n",
              "692701                0.332450                -0.181139   \n",
              "692702                0.626171                -0.085988   \n",
              "\n",
              "         Fwd Packet Length Std  ...   min_seg_size_forward  Active Mean  \\\n",
              "0                    -0.366591  ...              -1.069400    -0.131646   \n",
              "1                    -0.227513  ...               0.828623    -0.131646   \n",
              "2                     2.430793  ...               0.828623    -0.131646   \n",
              "3                     1.516334  ...               0.828623    -0.131646   \n",
              "4                     2.704747  ...               0.828623    -0.131646   \n",
              "...                        ...  ...                    ...          ...   \n",
              "692698               -0.366591  ...              -1.069400    -0.131646   \n",
              "692699               -0.366591  ...              -1.069400    -0.131646   \n",
              "692700               -0.269653  ...               0.828623    -0.131646   \n",
              "692701               -0.366591  ...              -1.069400    -0.131646   \n",
              "692702               -0.366591  ...              -1.069400    -0.131646   \n",
              "\n",
              "         Active Std   Active Max   Active Min  Idle Mean   Idle Std  \\\n",
              "0         -0.100396     -0.14867    -0.104366  -0.579979  -0.105686   \n",
              "1         -0.100396     -0.14867    -0.104366  -0.579979  -0.105686   \n",
              "2         -0.100396     -0.14867    -0.104366  -0.579979  -0.105686   \n",
              "3         -0.100396     -0.14867    -0.104366  -0.579979  -0.105686   \n",
              "4         -0.100396     -0.14867    -0.104366  -0.579979  -0.105686   \n",
              "...             ...          ...          ...        ...        ...   \n",
              "692698    -0.100396     -0.14867    -0.104366  -0.579979  -0.105686   \n",
              "692699    -0.100396     -0.14867    -0.104366  -0.579979  -0.105686   \n",
              "692700    -0.100396     -0.14867    -0.104366  -0.579979  -0.105686   \n",
              "692701    -0.100396     -0.14867    -0.104366  -0.579979  -0.105686   \n",
              "692702    -0.100396     -0.14867    -0.104366  -0.579979  -0.105686   \n",
              "\n",
              "         Idle Max   Idle Min   Label  \n",
              "0        -0.58524   -0.57078       0  \n",
              "1        -0.58524   -0.57078       0  \n",
              "2        -0.58524   -0.57078       0  \n",
              "3        -0.58524   -0.57078       0  \n",
              "4        -0.58524   -0.57078       0  \n",
              "...           ...        ...     ...  \n",
              "692698   -0.58524   -0.57078       0  \n",
              "692699   -0.58524   -0.57078       0  \n",
              "692700   -0.58524   -0.57078       0  \n",
              "692701   -0.58524   -0.57078       0  \n",
              "692702   -0.58524   -0.57078       0  \n",
              "\n",
              "[692703 rows x 79 columns]"
            ]
          },
          "execution_count": 44,
          "metadata": {},
          "output_type": "execute_result"
        }
      ],
      "source": [
        "df"
      ]
    },
    {
      "cell_type": "code",
      "execution_count": 45,
      "metadata": {
        "id": "A6gQ5bRJj3Pl"
      },
      "outputs": [],
      "source": [
        "# retain the minority class instances and sample the majority class instances\n",
        "df_minor = df[(df[' Label']==6)|(df[' Label']==1)|(df[' Label']==4)|(df[' Label']==3)|(df[' Label']==5)]\n",
        "df_major = df.drop(df_minor.index)"
      ]
    },
    {
      "cell_type": "code",
      "execution_count": 46,
      "metadata": {
        "id": "dmpLkbhGj3Pl"
      },
      "outputs": [],
      "source": [
        "X = df_major.drop([' Label'],axis=1)\n",
        "y = df_major.iloc[:, -1].values.reshape(-1,1)\n",
        "y=np.ravel(y)"
      ]
    },
    {
      "cell_type": "code",
      "execution_count": 47,
      "metadata": {
        "id": "7HIzxNdFj3Pl",
        "scrolled": true
      },
      "outputs": [],
      "source": [
        "# use k-means to cluster the data samples and select a proportion of data from each cluster\n",
        "from sklearn.cluster import MiniBatchKMeans\n",
        "kmeans = MiniBatchKMeans(n_clusters=1000, random_state=0).fit(X)"
      ]
    },
    {
      "cell_type": "code",
      "execution_count": 48,
      "metadata": {
        "id": "WllyWDVRj3Pl"
      },
      "outputs": [],
      "source": [
        "klabel=kmeans.labels_\n",
        "df_major['klabel']=klabel"
      ]
    },
    {
      "cell_type": "code",
      "execution_count": 49,
      "metadata": {
        "colab": {
          "base_uri": "https://localhost:8080/"
        },
        "id": "N6tmeVk6j3Pl",
        "outputId": "dbdfdc0a-98d8-45d3-bf40-78bc96b31d7f",
        "scrolled": true
      },
      "outputs": [
        {
          "data": {
            "text/plain": [
              "klabel\n",
              "860    9330\n",
              "721    6814\n",
              "155    6613\n",
              "567    5848\n",
              "707    4675\n",
              "       ... \n",
              "154       9\n",
              "451       8\n",
              "25        8\n",
              "177       7\n",
              "27        2\n",
              "Name: count, Length: 985, dtype: int64"
            ]
          },
          "execution_count": 49,
          "metadata": {},
          "output_type": "execute_result"
        }
      ],
      "source": [
        "df_major['klabel'].value_counts()"
      ]
    },
    {
      "cell_type": "code",
      "execution_count": 50,
      "metadata": {
        "id": "DuUAuWOPj3Pl"
      },
      "outputs": [],
      "source": [
        "cols = list(df_major)\n",
        "cols.insert(78, cols.pop(cols.index(' Label')))\n",
        "df_major = df_major.loc[:, cols]"
      ]
    },
    {
      "cell_type": "code",
      "execution_count": 44,
      "metadata": {
        "colab": {
          "base_uri": "https://localhost:8080/",
          "height": 495
        },
        "id": "WYCwK4nNj3Pl",
        "outputId": "8439aecb-fc2e-42d6-e1c6-d4057c1a1251",
        "scrolled": true
      },
      "outputs": [
        {
          "data": {
            "application/vnd.google.colaboratory.intrinsic+json": {
              "type": "dataframe",
              "variable_name": "df_major"
            },
            "text/html": [
              "\n",
              "  <div id=\"df-b58ee048-ac8a-41f0-b1d5-0f60f3bde755\" class=\"colab-df-container\">\n",
              "    <div>\n",
              "<style scoped>\n",
              "    .dataframe tbody tr th:only-of-type {\n",
              "        vertical-align: middle;\n",
              "    }\n",
              "\n",
              "    .dataframe tbody tr th {\n",
              "        vertical-align: top;\n",
              "    }\n",
              "\n",
              "    .dataframe thead th {\n",
              "        text-align: right;\n",
              "    }\n",
              "</style>\n",
              "<table border=\"1\" class=\"dataframe\">\n",
              "  <thead>\n",
              "    <tr style=\"text-align: right;\">\n",
              "      <th></th>\n",
              "      <th>Destination Port</th>\n",
              "      <th>Flow Duration</th>\n",
              "      <th>Total Fwd Packets</th>\n",
              "      <th>Total Backward Packets</th>\n",
              "      <th>Total Length of Fwd Packets</th>\n",
              "      <th>Total Length of Bwd Packets</th>\n",
              "      <th>Fwd Packet Length Max</th>\n",
              "      <th>Fwd Packet Length Min</th>\n",
              "      <th>Fwd Packet Length Mean</th>\n",
              "      <th>Fwd Packet Length Std</th>\n",
              "      <th>...</th>\n",
              "      <th>Active Mean</th>\n",
              "      <th>Active Std</th>\n",
              "      <th>Active Max</th>\n",
              "      <th>Active Min</th>\n",
              "      <th>Idle Mean</th>\n",
              "      <th>Idle Std</th>\n",
              "      <th>Idle Max</th>\n",
              "      <th>Idle Min</th>\n",
              "      <th>Label</th>\n",
              "      <th>klabel</th>\n",
              "    </tr>\n",
              "  </thead>\n",
              "  <tbody>\n",
              "    <tr>\n",
              "      <th>0</th>\n",
              "      <td>-0.331204</td>\n",
              "      <td>-0.709187</td>\n",
              "      <td>-0.011895</td>\n",
              "      <td>-0.009769</td>\n",
              "      <td>-0.092009</td>\n",
              "      <td>-0.007977</td>\n",
              "      <td>-0.393905</td>\n",
              "      <td>-0.145825</td>\n",
              "      <td>-0.351241</td>\n",
              "      <td>-0.386792</td>\n",
              "      <td>...</td>\n",
              "      <td>-0.137734</td>\n",
              "      <td>-0.105308</td>\n",
              "      <td>-0.155682</td>\n",
              "      <td>-0.108882</td>\n",
              "      <td>-0.626637</td>\n",
              "      <td>-0.111586</td>\n",
              "      <td>-0.632531</td>\n",
              "      <td>-0.616339</td>\n",
              "      <td>0</td>\n",
              "      <td>167</td>\n",
              "    </tr>\n",
              "    <tr>\n",
              "      <th>1</th>\n",
              "      <td>-0.310375</td>\n",
              "      <td>-0.710042</td>\n",
              "      <td>0.000688</td>\n",
              "      <td>-0.005948</td>\n",
              "      <td>-0.066428</td>\n",
              "      <td>-0.007842</td>\n",
              "      <td>-0.278524</td>\n",
              "      <td>-0.262472</td>\n",
              "      <td>-0.292761</td>\n",
              "      <td>-0.254258</td>\n",
              "      <td>...</td>\n",
              "      <td>-0.137734</td>\n",
              "      <td>-0.105308</td>\n",
              "      <td>-0.155682</td>\n",
              "      <td>-0.108882</td>\n",
              "      <td>-0.626637</td>\n",
              "      <td>-0.111586</td>\n",
              "      <td>-0.632531</td>\n",
              "      <td>-0.616339</td>\n",
              "      <td>0</td>\n",
              "      <td>924</td>\n",
              "    </tr>\n",
              "    <tr>\n",
              "      <th>2</th>\n",
              "      <td>-0.330665</td>\n",
              "      <td>-0.710029</td>\n",
              "      <td>-0.000571</td>\n",
              "      <td>-0.004993</td>\n",
              "      <td>0.392491</td>\n",
              "      <td>-0.006658</td>\n",
              "      <td>2.085994</td>\n",
              "      <td>-0.262472</td>\n",
              "      <td>1.523994</td>\n",
              "      <td>2.278957</td>\n",
              "      <td>...</td>\n",
              "      <td>-0.137734</td>\n",
              "      <td>-0.105308</td>\n",
              "      <td>-0.155682</td>\n",
              "      <td>-0.108882</td>\n",
              "      <td>-0.626637</td>\n",
              "      <td>-0.111586</td>\n",
              "      <td>-0.632531</td>\n",
              "      <td>-0.616339</td>\n",
              "      <td>0</td>\n",
              "      <td>86</td>\n",
              "    </tr>\n",
              "    <tr>\n",
              "      <th>3</th>\n",
              "      <td>-0.310375</td>\n",
              "      <td>-0.709709</td>\n",
              "      <td>0.008237</td>\n",
              "      <td>0.000739</td>\n",
              "      <td>0.439030</td>\n",
              "      <td>-0.005185</td>\n",
              "      <td>1.671888</td>\n",
              "      <td>-0.262472</td>\n",
              "      <td>0.844654</td>\n",
              "      <td>1.407529</td>\n",
              "      <td>...</td>\n",
              "      <td>-0.137734</td>\n",
              "      <td>-0.105308</td>\n",
              "      <td>-0.155682</td>\n",
              "      <td>-0.108882</td>\n",
              "      <td>-0.626637</td>\n",
              "      <td>-0.111586</td>\n",
              "      <td>-0.632531</td>\n",
              "      <td>-0.616339</td>\n",
              "      <td>0</td>\n",
              "      <td>981</td>\n",
              "    </tr>\n",
              "    <tr>\n",
              "      <th>4</th>\n",
              "      <td>-0.330665</td>\n",
              "      <td>-0.710029</td>\n",
              "      <td>-0.001829</td>\n",
              "      <td>-0.004993</td>\n",
              "      <td>0.392491</td>\n",
              "      <td>-0.006657</td>\n",
              "      <td>2.085994</td>\n",
              "      <td>-0.262472</td>\n",
              "      <td>1.736399</td>\n",
              "      <td>2.540019</td>\n",
              "      <td>...</td>\n",
              "      <td>-0.137734</td>\n",
              "      <td>-0.105308</td>\n",
              "      <td>-0.155682</td>\n",
              "      <td>-0.108882</td>\n",
              "      <td>-0.626637</td>\n",
              "      <td>-0.111586</td>\n",
              "      <td>-0.632531</td>\n",
              "      <td>-0.616339</td>\n",
              "      <td>0</td>\n",
              "      <td>86</td>\n",
              "    </tr>\n",
              "    <tr>\n",
              "      <th>...</th>\n",
              "      <td>...</td>\n",
              "      <td>...</td>\n",
              "      <td>...</td>\n",
              "      <td>...</td>\n",
              "      <td>...</td>\n",
              "      <td>...</td>\n",
              "      <td>...</td>\n",
              "      <td>...</td>\n",
              "      <td>...</td>\n",
              "      <td>...</td>\n",
              "      <td>...</td>\n",
              "      <td>...</td>\n",
              "      <td>...</td>\n",
              "      <td>...</td>\n",
              "      <td>...</td>\n",
              "      <td>...</td>\n",
              "      <td>...</td>\n",
              "      <td>...</td>\n",
              "      <td>...</td>\n",
              "      <td>...</td>\n",
              "      <td>...</td>\n",
              "    </tr>\n",
              "    <tr>\n",
              "      <th>612055</th>\n",
              "      <td>0.639196</td>\n",
              "      <td>-0.710050</td>\n",
              "      <td>-0.011895</td>\n",
              "      <td>-0.009769</td>\n",
              "      <td>-0.092009</td>\n",
              "      <td>-0.007977</td>\n",
              "      <td>-0.393905</td>\n",
              "      <td>-0.145825</td>\n",
              "      <td>-0.351241</td>\n",
              "      <td>-0.386792</td>\n",
              "      <td>...</td>\n",
              "      <td>-0.137734</td>\n",
              "      <td>-0.105308</td>\n",
              "      <td>-0.155682</td>\n",
              "      <td>-0.108882</td>\n",
              "      <td>-0.626637</td>\n",
              "      <td>-0.111586</td>\n",
              "      <td>-0.632531</td>\n",
              "      <td>-0.616339</td>\n",
              "      <td>0</td>\n",
              "      <td>764</td>\n",
              "    </tr>\n",
              "    <tr>\n",
              "      <th>612056</th>\n",
              "      <td>-0.333024</td>\n",
              "      <td>-0.701827</td>\n",
              "      <td>-0.010637</td>\n",
              "      <td>-0.008814</td>\n",
              "      <td>-0.081530</td>\n",
              "      <td>-0.007785</td>\n",
              "      <td>-0.344908</td>\n",
              "      <td>0.456852</td>\n",
              "      <td>-0.163111</td>\n",
              "      <td>-0.386792</td>\n",
              "      <td>...</td>\n",
              "      <td>-0.137734</td>\n",
              "      <td>-0.105308</td>\n",
              "      <td>-0.155682</td>\n",
              "      <td>-0.108882</td>\n",
              "      <td>-0.626637</td>\n",
              "      <td>-0.111586</td>\n",
              "      <td>-0.632531</td>\n",
              "      <td>-0.616339</td>\n",
              "      <td>0</td>\n",
              "      <td>200</td>\n",
              "    </tr>\n",
              "    <tr>\n",
              "      <th>612057</th>\n",
              "      <td>-0.333024</td>\n",
              "      <td>0.695653</td>\n",
              "      <td>-0.008120</td>\n",
              "      <td>-0.006903</td>\n",
              "      <td>-0.071668</td>\n",
              "      <td>-0.007581</td>\n",
              "      <td>-0.341746</td>\n",
              "      <td>0.320764</td>\n",
              "      <td>-0.178283</td>\n",
              "      <td>-0.364894</td>\n",
              "      <td>...</td>\n",
              "      <td>-0.137381</td>\n",
              "      <td>-0.105308</td>\n",
              "      <td>-0.155457</td>\n",
              "      <td>-0.108472</td>\n",
              "      <td>0.940746</td>\n",
              "      <td>-0.111586</td>\n",
              "      <td>0.920831</td>\n",
              "      <td>0.951953</td>\n",
              "      <td>0</td>\n",
              "      <td>858</td>\n",
              "    </tr>\n",
              "    <tr>\n",
              "      <th>612059</th>\n",
              "      <td>1.901335</td>\n",
              "      <td>-0.710051</td>\n",
              "      <td>-0.011895</td>\n",
              "      <td>-0.009769</td>\n",
              "      <td>-0.092934</td>\n",
              "      <td>-0.007979</td>\n",
              "      <td>-0.403388</td>\n",
              "      <td>-0.262472</td>\n",
              "      <td>-0.387654</td>\n",
              "      <td>-0.386792</td>\n",
              "      <td>...</td>\n",
              "      <td>-0.137734</td>\n",
              "      <td>-0.105308</td>\n",
              "      <td>-0.155682</td>\n",
              "      <td>-0.108882</td>\n",
              "      <td>-0.626637</td>\n",
              "      <td>-0.111586</td>\n",
              "      <td>-0.632531</td>\n",
              "      <td>-0.616339</td>\n",
              "      <td>0</td>\n",
              "      <td>257</td>\n",
              "    </tr>\n",
              "    <tr>\n",
              "      <th>612060</th>\n",
              "      <td>-0.333024</td>\n",
              "      <td>-0.708891</td>\n",
              "      <td>-0.010637</td>\n",
              "      <td>-0.008814</td>\n",
              "      <td>-0.079989</td>\n",
              "      <td>-0.007884</td>\n",
              "      <td>-0.337005</td>\n",
              "      <td>0.554058</td>\n",
              "      <td>-0.132767</td>\n",
              "      <td>-0.386792</td>\n",
              "      <td>...</td>\n",
              "      <td>-0.137734</td>\n",
              "      <td>-0.105308</td>\n",
              "      <td>-0.155682</td>\n",
              "      <td>-0.108882</td>\n",
              "      <td>-0.626637</td>\n",
              "      <td>-0.111586</td>\n",
              "      <td>-0.632531</td>\n",
              "      <td>-0.616339</td>\n",
              "      <td>0</td>\n",
              "      <td>320</td>\n",
              "    </tr>\n",
              "  </tbody>\n",
              "</table>\n",
              "<p>594611 rows × 80 columns</p>\n",
              "</div>\n",
              "    <div class=\"colab-df-buttons\">\n",
              "\n",
              "  <div class=\"colab-df-container\">\n",
              "    <button class=\"colab-df-convert\" onclick=\"convertToInteractive('df-b58ee048-ac8a-41f0-b1d5-0f60f3bde755')\"\n",
              "            title=\"Convert this dataframe to an interactive table.\"\n",
              "            style=\"display:none;\">\n",
              "\n",
              "  <svg xmlns=\"http://www.w3.org/2000/svg\" height=\"24px\" viewBox=\"0 -960 960 960\">\n",
              "    <path d=\"M120-120v-720h720v720H120Zm60-500h600v-160H180v160Zm220 220h160v-160H400v160Zm0 220h160v-160H400v160ZM180-400h160v-160H180v160Zm440 0h160v-160H620v160ZM180-180h160v-160H180v160Zm440 0h160v-160H620v160Z\"/>\n",
              "  </svg>\n",
              "    </button>\n",
              "\n",
              "  <style>\n",
              "    .colab-df-container {\n",
              "      display:flex;\n",
              "      gap: 12px;\n",
              "    }\n",
              "\n",
              "    .colab-df-convert {\n",
              "      background-color: #E8F0FE;\n",
              "      border: none;\n",
              "      border-radius: 50%;\n",
              "      cursor: pointer;\n",
              "      display: none;\n",
              "      fill: #1967D2;\n",
              "      height: 32px;\n",
              "      padding: 0 0 0 0;\n",
              "      width: 32px;\n",
              "    }\n",
              "\n",
              "    .colab-df-convert:hover {\n",
              "      background-color: #E2EBFA;\n",
              "      box-shadow: 0px 1px 2px rgba(60, 64, 67, 0.3), 0px 1px 3px 1px rgba(60, 64, 67, 0.15);\n",
              "      fill: #174EA6;\n",
              "    }\n",
              "\n",
              "    .colab-df-buttons div {\n",
              "      margin-bottom: 4px;\n",
              "    }\n",
              "\n",
              "    [theme=dark] .colab-df-convert {\n",
              "      background-color: #3B4455;\n",
              "      fill: #D2E3FC;\n",
              "    }\n",
              "\n",
              "    [theme=dark] .colab-df-convert:hover {\n",
              "      background-color: #434B5C;\n",
              "      box-shadow: 0px 1px 3px 1px rgba(0, 0, 0, 0.15);\n",
              "      filter: drop-shadow(0px 1px 2px rgba(0, 0, 0, 0.3));\n",
              "      fill: #FFFFFF;\n",
              "    }\n",
              "  </style>\n",
              "\n",
              "    <script>\n",
              "      const buttonEl =\n",
              "        document.querySelector('#df-b58ee048-ac8a-41f0-b1d5-0f60f3bde755 button.colab-df-convert');\n",
              "      buttonEl.style.display =\n",
              "        google.colab.kernel.accessAllowed ? 'block' : 'none';\n",
              "\n",
              "      async function convertToInteractive(key) {\n",
              "        const element = document.querySelector('#df-b58ee048-ac8a-41f0-b1d5-0f60f3bde755');\n",
              "        const dataTable =\n",
              "          await google.colab.kernel.invokeFunction('convertToInteractive',\n",
              "                                                    [key], {});\n",
              "        if (!dataTable) return;\n",
              "\n",
              "        const docLinkHtml = 'Like what you see? Visit the ' +\n",
              "          '<a target=\"_blank\" href=https://colab.research.google.com/notebooks/data_table.ipynb>data table notebook</a>'\n",
              "          + ' to learn more about interactive tables.';\n",
              "        element.innerHTML = '';\n",
              "        dataTable['output_type'] = 'display_data';\n",
              "        await google.colab.output.renderOutput(dataTable, element);\n",
              "        const docLink = document.createElement('div');\n",
              "        docLink.innerHTML = docLinkHtml;\n",
              "        element.appendChild(docLink);\n",
              "      }\n",
              "    </script>\n",
              "  </div>\n",
              "\n",
              "\n",
              "<div id=\"df-b15537ad-20d0-4547-bc68-cad078357b96\">\n",
              "  <button class=\"colab-df-quickchart\" onclick=\"quickchart('df-b15537ad-20d0-4547-bc68-cad078357b96')\"\n",
              "            title=\"Suggest charts\"\n",
              "            style=\"display:none;\">\n",
              "\n",
              "<svg xmlns=\"http://www.w3.org/2000/svg\" height=\"24px\"viewBox=\"0 0 24 24\"\n",
              "     width=\"24px\">\n",
              "    <g>\n",
              "        <path d=\"M19 3H5c-1.1 0-2 .9-2 2v14c0 1.1.9 2 2 2h14c1.1 0 2-.9 2-2V5c0-1.1-.9-2-2-2zM9 17H7v-7h2v7zm4 0h-2V7h2v10zm4 0h-2v-4h2v4z\"/>\n",
              "    </g>\n",
              "</svg>\n",
              "  </button>\n",
              "\n",
              "<style>\n",
              "  .colab-df-quickchart {\n",
              "      --bg-color: #E8F0FE;\n",
              "      --fill-color: #1967D2;\n",
              "      --hover-bg-color: #E2EBFA;\n",
              "      --hover-fill-color: #174EA6;\n",
              "      --disabled-fill-color: #AAA;\n",
              "      --disabled-bg-color: #DDD;\n",
              "  }\n",
              "\n",
              "  [theme=dark] .colab-df-quickchart {\n",
              "      --bg-color: #3B4455;\n",
              "      --fill-color: #D2E3FC;\n",
              "      --hover-bg-color: #434B5C;\n",
              "      --hover-fill-color: #FFFFFF;\n",
              "      --disabled-bg-color: #3B4455;\n",
              "      --disabled-fill-color: #666;\n",
              "  }\n",
              "\n",
              "  .colab-df-quickchart {\n",
              "    background-color: var(--bg-color);\n",
              "    border: none;\n",
              "    border-radius: 50%;\n",
              "    cursor: pointer;\n",
              "    display: none;\n",
              "    fill: var(--fill-color);\n",
              "    height: 32px;\n",
              "    padding: 0;\n",
              "    width: 32px;\n",
              "  }\n",
              "\n",
              "  .colab-df-quickchart:hover {\n",
              "    background-color: var(--hover-bg-color);\n",
              "    box-shadow: 0 1px 2px rgba(60, 64, 67, 0.3), 0 1px 3px 1px rgba(60, 64, 67, 0.15);\n",
              "    fill: var(--button-hover-fill-color);\n",
              "  }\n",
              "\n",
              "  .colab-df-quickchart-complete:disabled,\n",
              "  .colab-df-quickchart-complete:disabled:hover {\n",
              "    background-color: var(--disabled-bg-color);\n",
              "    fill: var(--disabled-fill-color);\n",
              "    box-shadow: none;\n",
              "  }\n",
              "\n",
              "  .colab-df-spinner {\n",
              "    border: 2px solid var(--fill-color);\n",
              "    border-color: transparent;\n",
              "    border-bottom-color: var(--fill-color);\n",
              "    animation:\n",
              "      spin 1s steps(1) infinite;\n",
              "  }\n",
              "\n",
              "  @keyframes spin {\n",
              "    0% {\n",
              "      border-color: transparent;\n",
              "      border-bottom-color: var(--fill-color);\n",
              "      border-left-color: var(--fill-color);\n",
              "    }\n",
              "    20% {\n",
              "      border-color: transparent;\n",
              "      border-left-color: var(--fill-color);\n",
              "      border-top-color: var(--fill-color);\n",
              "    }\n",
              "    30% {\n",
              "      border-color: transparent;\n",
              "      border-left-color: var(--fill-color);\n",
              "      border-top-color: var(--fill-color);\n",
              "      border-right-color: var(--fill-color);\n",
              "    }\n",
              "    40% {\n",
              "      border-color: transparent;\n",
              "      border-right-color: var(--fill-color);\n",
              "      border-top-color: var(--fill-color);\n",
              "    }\n",
              "    60% {\n",
              "      border-color: transparent;\n",
              "      border-right-color: var(--fill-color);\n",
              "    }\n",
              "    80% {\n",
              "      border-color: transparent;\n",
              "      border-right-color: var(--fill-color);\n",
              "      border-bottom-color: var(--fill-color);\n",
              "    }\n",
              "    90% {\n",
              "      border-color: transparent;\n",
              "      border-bottom-color: var(--fill-color);\n",
              "    }\n",
              "  }\n",
              "</style>\n",
              "\n",
              "  <script>\n",
              "    async function quickchart(key) {\n",
              "      const quickchartButtonEl =\n",
              "        document.querySelector('#' + key + ' button');\n",
              "      quickchartButtonEl.disabled = true;  // To prevent multiple clicks.\n",
              "      quickchartButtonEl.classList.add('colab-df-spinner');\n",
              "      try {\n",
              "        const charts = await google.colab.kernel.invokeFunction(\n",
              "            'suggestCharts', [key], {});\n",
              "      } catch (error) {\n",
              "        console.error('Error during call to suggestCharts:', error);\n",
              "      }\n",
              "      quickchartButtonEl.classList.remove('colab-df-spinner');\n",
              "      quickchartButtonEl.classList.add('colab-df-quickchart-complete');\n",
              "    }\n",
              "    (() => {\n",
              "      let quickchartButtonEl =\n",
              "        document.querySelector('#df-b15537ad-20d0-4547-bc68-cad078357b96 button');\n",
              "      quickchartButtonEl.style.display =\n",
              "        google.colab.kernel.accessAllowed ? 'block' : 'none';\n",
              "    })();\n",
              "  </script>\n",
              "</div>\n",
              "    </div>\n",
              "  </div>\n"
            ],
            "text/plain": [
              "         Destination Port   Flow Duration   Total Fwd Packets  \\\n",
              "0               -0.331204       -0.709187           -0.011895   \n",
              "1               -0.310375       -0.710042            0.000688   \n",
              "2               -0.330665       -0.710029           -0.000571   \n",
              "3               -0.310375       -0.709709            0.008237   \n",
              "4               -0.330665       -0.710029           -0.001829   \n",
              "...                   ...             ...                 ...   \n",
              "612055           0.639196       -0.710050           -0.011895   \n",
              "612056          -0.333024       -0.701827           -0.010637   \n",
              "612057          -0.333024        0.695653           -0.008120   \n",
              "612059           1.901335       -0.710051           -0.011895   \n",
              "612060          -0.333024       -0.708891           -0.010637   \n",
              "\n",
              "         Total Backward Packets  Total Length of Fwd Packets  \\\n",
              "0                     -0.009769                    -0.092009   \n",
              "1                     -0.005948                    -0.066428   \n",
              "2                     -0.004993                     0.392491   \n",
              "3                      0.000739                     0.439030   \n",
              "4                     -0.004993                     0.392491   \n",
              "...                         ...                          ...   \n",
              "612055                -0.009769                    -0.092009   \n",
              "612056                -0.008814                    -0.081530   \n",
              "612057                -0.006903                    -0.071668   \n",
              "612059                -0.009769                    -0.092934   \n",
              "612060                -0.008814                    -0.079989   \n",
              "\n",
              "         Total Length of Bwd Packets   Fwd Packet Length Max  \\\n",
              "0                          -0.007977               -0.393905   \n",
              "1                          -0.007842               -0.278524   \n",
              "2                          -0.006658                2.085994   \n",
              "3                          -0.005185                1.671888   \n",
              "4                          -0.006657                2.085994   \n",
              "...                              ...                     ...   \n",
              "612055                     -0.007977               -0.393905   \n",
              "612056                     -0.007785               -0.344908   \n",
              "612057                     -0.007581               -0.341746   \n",
              "612059                     -0.007979               -0.403388   \n",
              "612060                     -0.007884               -0.337005   \n",
              "\n",
              "         Fwd Packet Length Min   Fwd Packet Length Mean  \\\n",
              "0                    -0.145825                -0.351241   \n",
              "1                    -0.262472                -0.292761   \n",
              "2                    -0.262472                 1.523994   \n",
              "3                    -0.262472                 0.844654   \n",
              "4                    -0.262472                 1.736399   \n",
              "...                        ...                      ...   \n",
              "612055               -0.145825                -0.351241   \n",
              "612056                0.456852                -0.163111   \n",
              "612057                0.320764                -0.178283   \n",
              "612059               -0.262472                -0.387654   \n",
              "612060                0.554058                -0.132767   \n",
              "\n",
              "         Fwd Packet Length Std  ...  Active Mean   Active Std   Active Max  \\\n",
              "0                    -0.386792  ...    -0.137734    -0.105308    -0.155682   \n",
              "1                    -0.254258  ...    -0.137734    -0.105308    -0.155682   \n",
              "2                     2.278957  ...    -0.137734    -0.105308    -0.155682   \n",
              "3                     1.407529  ...    -0.137734    -0.105308    -0.155682   \n",
              "4                     2.540019  ...    -0.137734    -0.105308    -0.155682   \n",
              "...                        ...  ...          ...          ...          ...   \n",
              "612055               -0.386792  ...    -0.137734    -0.105308    -0.155682   \n",
              "612056               -0.386792  ...    -0.137734    -0.105308    -0.155682   \n",
              "612057               -0.364894  ...    -0.137381    -0.105308    -0.155457   \n",
              "612059               -0.386792  ...    -0.137734    -0.105308    -0.155682   \n",
              "612060               -0.386792  ...    -0.137734    -0.105308    -0.155682   \n",
              "\n",
              "         Active Min  Idle Mean   Idle Std   Idle Max   Idle Min   Label  \\\n",
              "0         -0.108882  -0.626637  -0.111586  -0.632531  -0.616339       0   \n",
              "1         -0.108882  -0.626637  -0.111586  -0.632531  -0.616339       0   \n",
              "2         -0.108882  -0.626637  -0.111586  -0.632531  -0.616339       0   \n",
              "3         -0.108882  -0.626637  -0.111586  -0.632531  -0.616339       0   \n",
              "4         -0.108882  -0.626637  -0.111586  -0.632531  -0.616339       0   \n",
              "...             ...        ...        ...        ...        ...     ...   \n",
              "612055    -0.108882  -0.626637  -0.111586  -0.632531  -0.616339       0   \n",
              "612056    -0.108882  -0.626637  -0.111586  -0.632531  -0.616339       0   \n",
              "612057    -0.108472   0.940746  -0.111586   0.920831   0.951953       0   \n",
              "612059    -0.108882  -0.626637  -0.111586  -0.632531  -0.616339       0   \n",
              "612060    -0.108882  -0.626637  -0.111586  -0.632531  -0.616339       0   \n",
              "\n",
              "        klabel  \n",
              "0          167  \n",
              "1          924  \n",
              "2           86  \n",
              "3          981  \n",
              "4           86  \n",
              "...        ...  \n",
              "612055     764  \n",
              "612056     200  \n",
              "612057     858  \n",
              "612059     257  \n",
              "612060     320  \n",
              "\n",
              "[594611 rows x 80 columns]"
            ]
          },
          "execution_count": 44,
          "metadata": {},
          "output_type": "execute_result"
        }
      ],
      "source": [
        "df_major"
      ]
    },
    {
      "cell_type": "code",
      "execution_count": 51,
      "metadata": {
        "id": "2e93pyfej3Pl"
      },
      "outputs": [],
      "source": [
        "def typicalSampling(group):\n",
        "    name = group.name\n",
        "    frac = 0.008\n",
        "    return group.sample(frac=frac)\n",
        "\n",
        "result = df_major.groupby(\n",
        "    'klabel', group_keys=False\n",
        ").apply(typicalSampling)"
      ]
    },
    {
      "cell_type": "code",
      "execution_count": 52,
      "metadata": {
        "colab": {
          "base_uri": "https://localhost:8080/"
        },
        "id": "XI_5LCMTj3Pl",
        "outputId": "8c73ac9f-dc52-4eeb-f115-118387aa0f4e"
      },
      "outputs": [
        {
          "data": {
            "text/plain": [
              " Label\n",
              "0    3504\n",
              "2    1853\n",
              "Name: count, dtype: int64"
            ]
          },
          "execution_count": 52,
          "metadata": {},
          "output_type": "execute_result"
        }
      ],
      "source": [
        "result[' Label'].value_counts()"
      ]
    },
    {
      "cell_type": "code",
      "execution_count": 53,
      "metadata": {
        "colab": {
          "base_uri": "https://localhost:8080/",
          "height": 495
        },
        "id": "Xwg9mA4kj3Pm",
        "outputId": "916d4691-6a05-4a11-add2-a02fe322fdc4",
        "scrolled": true
      },
      "outputs": [
        {
          "data": {
            "application/vnd.google.colaboratory.intrinsic+json": {
              "type": "dataframe",
              "variable_name": "result"
            },
            "text/html": [
              "\n",
              "  <div id=\"df-ccd755ca-fe99-4842-997c-d3b0cc46f17d\" class=\"colab-df-container\">\n",
              "    <div>\n",
              "<style scoped>\n",
              "    .dataframe tbody tr th:only-of-type {\n",
              "        vertical-align: middle;\n",
              "    }\n",
              "\n",
              "    .dataframe tbody tr th {\n",
              "        vertical-align: top;\n",
              "    }\n",
              "\n",
              "    .dataframe thead th {\n",
              "        text-align: right;\n",
              "    }\n",
              "</style>\n",
              "<table border=\"1\" class=\"dataframe\">\n",
              "  <thead>\n",
              "    <tr style=\"text-align: right;\">\n",
              "      <th></th>\n",
              "      <th>Destination Port</th>\n",
              "      <th>Flow Duration</th>\n",
              "      <th>Total Fwd Packets</th>\n",
              "      <th>Total Backward Packets</th>\n",
              "      <th>Total Length of Fwd Packets</th>\n",
              "      <th>Total Length of Bwd Packets</th>\n",
              "      <th>Fwd Packet Length Max</th>\n",
              "      <th>Fwd Packet Length Min</th>\n",
              "      <th>Fwd Packet Length Mean</th>\n",
              "      <th>Fwd Packet Length Std</th>\n",
              "      <th>...</th>\n",
              "      <th>min_seg_size_forward</th>\n",
              "      <th>Active Mean</th>\n",
              "      <th>Active Std</th>\n",
              "      <th>Active Max</th>\n",
              "      <th>Active Min</th>\n",
              "      <th>Idle Mean</th>\n",
              "      <th>Idle Std</th>\n",
              "      <th>Idle Max</th>\n",
              "      <th>Idle Min</th>\n",
              "      <th>Label</th>\n",
              "    </tr>\n",
              "  </thead>\n",
              "  <tbody>\n",
              "    <tr>\n",
              "      <th>0</th>\n",
              "      <td>3.050770</td>\n",
              "      <td>-0.710051</td>\n",
              "      <td>-0.011895</td>\n",
              "      <td>-0.009769</td>\n",
              "      <td>-0.092009</td>\n",
              "      <td>-0.007977</td>\n",
              "      <td>-0.393905</td>\n",
              "      <td>-0.145825</td>\n",
              "      <td>-0.351241</td>\n",
              "      <td>-0.386792</td>\n",
              "      <td>...</td>\n",
              "      <td>-1.067509</td>\n",
              "      <td>-0.137734</td>\n",
              "      <td>-0.105308</td>\n",
              "      <td>-0.155682</td>\n",
              "      <td>-0.108882</td>\n",
              "      <td>-0.626637</td>\n",
              "      <td>-0.111586</td>\n",
              "      <td>-0.632531</td>\n",
              "      <td>-0.616339</td>\n",
              "      <td>0</td>\n",
              "    </tr>\n",
              "    <tr>\n",
              "      <th>1</th>\n",
              "      <td>3.058926</td>\n",
              "      <td>-0.710052</td>\n",
              "      <td>-0.011895</td>\n",
              "      <td>-0.009769</td>\n",
              "      <td>-0.092009</td>\n",
              "      <td>-0.007977</td>\n",
              "      <td>-0.393905</td>\n",
              "      <td>-0.145825</td>\n",
              "      <td>-0.351241</td>\n",
              "      <td>-0.386792</td>\n",
              "      <td>...</td>\n",
              "      <td>-1.067509</td>\n",
              "      <td>-0.137734</td>\n",
              "      <td>-0.105308</td>\n",
              "      <td>-0.155682</td>\n",
              "      <td>-0.108882</td>\n",
              "      <td>-0.626637</td>\n",
              "      <td>-0.111586</td>\n",
              "      <td>-0.632531</td>\n",
              "      <td>-0.616339</td>\n",
              "      <td>0</td>\n",
              "    </tr>\n",
              "    <tr>\n",
              "      <th>2</th>\n",
              "      <td>2.661963</td>\n",
              "      <td>-0.710052</td>\n",
              "      <td>-0.011895</td>\n",
              "      <td>-0.009769</td>\n",
              "      <td>-0.092009</td>\n",
              "      <td>-0.007977</td>\n",
              "      <td>-0.393905</td>\n",
              "      <td>-0.145825</td>\n",
              "      <td>-0.351241</td>\n",
              "      <td>-0.386792</td>\n",
              "      <td>...</td>\n",
              "      <td>-1.067509</td>\n",
              "      <td>-0.137734</td>\n",
              "      <td>-0.105308</td>\n",
              "      <td>-0.155682</td>\n",
              "      <td>-0.108882</td>\n",
              "      <td>-0.626637</td>\n",
              "      <td>-0.111586</td>\n",
              "      <td>-0.632531</td>\n",
              "      <td>-0.616339</td>\n",
              "      <td>0</td>\n",
              "    </tr>\n",
              "    <tr>\n",
              "      <th>3</th>\n",
              "      <td>3.082991</td>\n",
              "      <td>-0.710052</td>\n",
              "      <td>-0.011895</td>\n",
              "      <td>-0.009769</td>\n",
              "      <td>-0.092009</td>\n",
              "      <td>-0.007977</td>\n",
              "      <td>-0.393905</td>\n",
              "      <td>-0.145825</td>\n",
              "      <td>-0.351241</td>\n",
              "      <td>-0.386792</td>\n",
              "      <td>...</td>\n",
              "      <td>-1.067509</td>\n",
              "      <td>-0.137734</td>\n",
              "      <td>-0.105308</td>\n",
              "      <td>-0.155682</td>\n",
              "      <td>-0.108882</td>\n",
              "      <td>-0.626637</td>\n",
              "      <td>-0.111586</td>\n",
              "      <td>-0.632531</td>\n",
              "      <td>-0.616339</td>\n",
              "      <td>0</td>\n",
              "    </tr>\n",
              "    <tr>\n",
              "      <th>4</th>\n",
              "      <td>-0.331204</td>\n",
              "      <td>1.229663</td>\n",
              "      <td>-0.004346</td>\n",
              "      <td>-0.005948</td>\n",
              "      <td>-0.036070</td>\n",
              "      <td>-0.003115</td>\n",
              "      <td>0.179839</td>\n",
              "      <td>-0.262472</td>\n",
              "      <td>-0.067745</td>\n",
              "      <td>0.200960</td>\n",
              "      <td>...</td>\n",
              "      <td>0.838847</td>\n",
              "      <td>-0.136343</td>\n",
              "      <td>-0.105308</td>\n",
              "      <td>-0.154797</td>\n",
              "      <td>-0.107266</td>\n",
              "      <td>1.533878</td>\n",
              "      <td>-0.111586</td>\n",
              "      <td>1.508657</td>\n",
              "      <td>1.545428</td>\n",
              "      <td>2</td>\n",
              "    </tr>\n",
              "    <tr>\n",
              "      <th>...</th>\n",
              "      <td>...</td>\n",
              "      <td>...</td>\n",
              "      <td>...</td>\n",
              "      <td>...</td>\n",
              "      <td>...</td>\n",
              "      <td>...</td>\n",
              "      <td>...</td>\n",
              "      <td>...</td>\n",
              "      <td>...</td>\n",
              "      <td>...</td>\n",
              "      <td>...</td>\n",
              "      <td>...</td>\n",
              "      <td>...</td>\n",
              "      <td>...</td>\n",
              "      <td>...</td>\n",
              "      <td>...</td>\n",
              "      <td>...</td>\n",
              "      <td>...</td>\n",
              "      <td>...</td>\n",
              "      <td>...</td>\n",
              "      <td>...</td>\n",
              "    </tr>\n",
              "    <tr>\n",
              "      <th>22200</th>\n",
              "      <td>-0.331204</td>\n",
              "      <td>-0.439302</td>\n",
              "      <td>-0.006862</td>\n",
              "      <td>-0.006903</td>\n",
              "      <td>-0.004016</td>\n",
              "      <td>-0.006500</td>\n",
              "      <td>0.508595</td>\n",
              "      <td>-0.262472</td>\n",
              "      <td>0.312677</td>\n",
              "      <td>0.700653</td>\n",
              "      <td>...</td>\n",
              "      <td>0.838847</td>\n",
              "      <td>-0.136647</td>\n",
              "      <td>-0.105308</td>\n",
              "      <td>-0.154990</td>\n",
              "      <td>-0.107618</td>\n",
              "      <td>-0.450916</td>\n",
              "      <td>-0.111586</td>\n",
              "      <td>-0.458382</td>\n",
              "      <td>-0.440516</td>\n",
              "      <td>1</td>\n",
              "    </tr>\n",
              "    <tr>\n",
              "      <th>22201</th>\n",
              "      <td>-0.331204</td>\n",
              "      <td>-0.439328</td>\n",
              "      <td>-0.006862</td>\n",
              "      <td>-0.006903</td>\n",
              "      <td>-0.032834</td>\n",
              "      <td>-0.006500</td>\n",
              "      <td>0.213030</td>\n",
              "      <td>-0.262472</td>\n",
              "      <td>0.085707</td>\n",
              "      <td>0.348223</td>\n",
              "      <td>...</td>\n",
              "      <td>0.838847</td>\n",
              "      <td>-0.135234</td>\n",
              "      <td>-0.105308</td>\n",
              "      <td>-0.154092</td>\n",
              "      <td>-0.105977</td>\n",
              "      <td>-0.450928</td>\n",
              "      <td>-0.111586</td>\n",
              "      <td>-0.458394</td>\n",
              "      <td>-0.440528</td>\n",
              "      <td>1</td>\n",
              "    </tr>\n",
              "    <tr>\n",
              "      <th>22202</th>\n",
              "      <td>-0.331204</td>\n",
              "      <td>-0.439326</td>\n",
              "      <td>-0.001829</td>\n",
              "      <td>-0.004993</td>\n",
              "      <td>-0.031293</td>\n",
              "      <td>-0.003099</td>\n",
              "      <td>0.228836</td>\n",
              "      <td>-0.262472</td>\n",
              "      <td>-0.117933</td>\n",
              "      <td>0.175103</td>\n",
              "      <td>...</td>\n",
              "      <td>0.838847</td>\n",
              "      <td>-0.136446</td>\n",
              "      <td>-0.105308</td>\n",
              "      <td>-0.154862</td>\n",
              "      <td>-0.107385</td>\n",
              "      <td>-0.450950</td>\n",
              "      <td>-0.111586</td>\n",
              "      <td>-0.458416</td>\n",
              "      <td>-0.440550</td>\n",
              "      <td>1</td>\n",
              "    </tr>\n",
              "    <tr>\n",
              "      <th>22203</th>\n",
              "      <td>-0.331204</td>\n",
              "      <td>-0.439353</td>\n",
              "      <td>-0.006862</td>\n",
              "      <td>-0.006903</td>\n",
              "      <td>-0.023896</td>\n",
              "      <td>-0.006500</td>\n",
              "      <td>0.304703</td>\n",
              "      <td>-0.262472</td>\n",
              "      <td>0.156104</td>\n",
              "      <td>0.457533</td>\n",
              "      <td>...</td>\n",
              "      <td>0.838847</td>\n",
              "      <td>-0.136500</td>\n",
              "      <td>-0.105308</td>\n",
              "      <td>-0.154897</td>\n",
              "      <td>-0.107448</td>\n",
              "      <td>-0.450964</td>\n",
              "      <td>-0.111586</td>\n",
              "      <td>-0.458429</td>\n",
              "      <td>-0.440564</td>\n",
              "      <td>1</td>\n",
              "    </tr>\n",
              "    <tr>\n",
              "      <th>22204</th>\n",
              "      <td>2.020377</td>\n",
              "      <td>-0.710052</td>\n",
              "      <td>-0.011895</td>\n",
              "      <td>-0.009769</td>\n",
              "      <td>-0.092934</td>\n",
              "      <td>-0.007979</td>\n",
              "      <td>-0.403388</td>\n",
              "      <td>-0.262472</td>\n",
              "      <td>-0.387654</td>\n",
              "      <td>-0.386792</td>\n",
              "      <td>...</td>\n",
              "      <td>0.000000</td>\n",
              "      <td>0.000000</td>\n",
              "      <td>0.000000</td>\n",
              "      <td>0.000000</td>\n",
              "      <td>0.000000</td>\n",
              "      <td>0.000000</td>\n",
              "      <td>0.000000</td>\n",
              "      <td>0.000000</td>\n",
              "      <td>0.000000</td>\n",
              "      <td>6</td>\n",
              "    </tr>\n",
              "  </tbody>\n",
              "</table>\n",
              "<p>22205 rows × 79 columns</p>\n",
              "</div>\n",
              "    <div class=\"colab-df-buttons\">\n",
              "\n",
              "  <div class=\"colab-df-container\">\n",
              "    <button class=\"colab-df-convert\" onclick=\"convertToInteractive('df-ccd755ca-fe99-4842-997c-d3b0cc46f17d')\"\n",
              "            title=\"Convert this dataframe to an interactive table.\"\n",
              "            style=\"display:none;\">\n",
              "\n",
              "  <svg xmlns=\"http://www.w3.org/2000/svg\" height=\"24px\" viewBox=\"0 -960 960 960\">\n",
              "    <path d=\"M120-120v-720h720v720H120Zm60-500h600v-160H180v160Zm220 220h160v-160H400v160Zm0 220h160v-160H400v160ZM180-400h160v-160H180v160Zm440 0h160v-160H620v160ZM180-180h160v-160H180v160Zm440 0h160v-160H620v160Z\"/>\n",
              "  </svg>\n",
              "    </button>\n",
              "\n",
              "  <style>\n",
              "    .colab-df-container {\n",
              "      display:flex;\n",
              "      gap: 12px;\n",
              "    }\n",
              "\n",
              "    .colab-df-convert {\n",
              "      background-color: #E8F0FE;\n",
              "      border: none;\n",
              "      border-radius: 50%;\n",
              "      cursor: pointer;\n",
              "      display: none;\n",
              "      fill: #1967D2;\n",
              "      height: 32px;\n",
              "      padding: 0 0 0 0;\n",
              "      width: 32px;\n",
              "    }\n",
              "\n",
              "    .colab-df-convert:hover {\n",
              "      background-color: #E2EBFA;\n",
              "      box-shadow: 0px 1px 2px rgba(60, 64, 67, 0.3), 0px 1px 3px 1px rgba(60, 64, 67, 0.15);\n",
              "      fill: #174EA6;\n",
              "    }\n",
              "\n",
              "    .colab-df-buttons div {\n",
              "      margin-bottom: 4px;\n",
              "    }\n",
              "\n",
              "    [theme=dark] .colab-df-convert {\n",
              "      background-color: #3B4455;\n",
              "      fill: #D2E3FC;\n",
              "    }\n",
              "\n",
              "    [theme=dark] .colab-df-convert:hover {\n",
              "      background-color: #434B5C;\n",
              "      box-shadow: 0px 1px 3px 1px rgba(0, 0, 0, 0.15);\n",
              "      filter: drop-shadow(0px 1px 2px rgba(0, 0, 0, 0.3));\n",
              "      fill: #FFFFFF;\n",
              "    }\n",
              "  </style>\n",
              "\n",
              "    <script>\n",
              "      const buttonEl =\n",
              "        document.querySelector('#df-ccd755ca-fe99-4842-997c-d3b0cc46f17d button.colab-df-convert');\n",
              "      buttonEl.style.display =\n",
              "        google.colab.kernel.accessAllowed ? 'block' : 'none';\n",
              "\n",
              "      async function convertToInteractive(key) {\n",
              "        const element = document.querySelector('#df-ccd755ca-fe99-4842-997c-d3b0cc46f17d');\n",
              "        const dataTable =\n",
              "          await google.colab.kernel.invokeFunction('convertToInteractive',\n",
              "                                                    [key], {});\n",
              "        if (!dataTable) return;\n",
              "\n",
              "        const docLinkHtml = 'Like what you see? Visit the ' +\n",
              "          '<a target=\"_blank\" href=https://colab.research.google.com/notebooks/data_table.ipynb>data table notebook</a>'\n",
              "          + ' to learn more about interactive tables.';\n",
              "        element.innerHTML = '';\n",
              "        dataTable['output_type'] = 'display_data';\n",
              "        await google.colab.output.renderOutput(dataTable, element);\n",
              "        const docLink = document.createElement('div');\n",
              "        docLink.innerHTML = docLinkHtml;\n",
              "        element.appendChild(docLink);\n",
              "      }\n",
              "    </script>\n",
              "  </div>\n",
              "\n",
              "\n",
              "<div id=\"df-7d0334ea-911d-43b9-9d37-63d2326fa3db\">\n",
              "  <button class=\"colab-df-quickchart\" onclick=\"quickchart('df-7d0334ea-911d-43b9-9d37-63d2326fa3db')\"\n",
              "            title=\"Suggest charts\"\n",
              "            style=\"display:none;\">\n",
              "\n",
              "<svg xmlns=\"http://www.w3.org/2000/svg\" height=\"24px\"viewBox=\"0 0 24 24\"\n",
              "     width=\"24px\">\n",
              "    <g>\n",
              "        <path d=\"M19 3H5c-1.1 0-2 .9-2 2v14c0 1.1.9 2 2 2h14c1.1 0 2-.9 2-2V5c0-1.1-.9-2-2-2zM9 17H7v-7h2v7zm4 0h-2V7h2v10zm4 0h-2v-4h2v4z\"/>\n",
              "    </g>\n",
              "</svg>\n",
              "  </button>\n",
              "\n",
              "<style>\n",
              "  .colab-df-quickchart {\n",
              "      --bg-color: #E8F0FE;\n",
              "      --fill-color: #1967D2;\n",
              "      --hover-bg-color: #E2EBFA;\n",
              "      --hover-fill-color: #174EA6;\n",
              "      --disabled-fill-color: #AAA;\n",
              "      --disabled-bg-color: #DDD;\n",
              "  }\n",
              "\n",
              "  [theme=dark] .colab-df-quickchart {\n",
              "      --bg-color: #3B4455;\n",
              "      --fill-color: #D2E3FC;\n",
              "      --hover-bg-color: #434B5C;\n",
              "      --hover-fill-color: #FFFFFF;\n",
              "      --disabled-bg-color: #3B4455;\n",
              "      --disabled-fill-color: #666;\n",
              "  }\n",
              "\n",
              "  .colab-df-quickchart {\n",
              "    background-color: var(--bg-color);\n",
              "    border: none;\n",
              "    border-radius: 50%;\n",
              "    cursor: pointer;\n",
              "    display: none;\n",
              "    fill: var(--fill-color);\n",
              "    height: 32px;\n",
              "    padding: 0;\n",
              "    width: 32px;\n",
              "  }\n",
              "\n",
              "  .colab-df-quickchart:hover {\n",
              "    background-color: var(--hover-bg-color);\n",
              "    box-shadow: 0 1px 2px rgba(60, 64, 67, 0.3), 0 1px 3px 1px rgba(60, 64, 67, 0.15);\n",
              "    fill: var(--button-hover-fill-color);\n",
              "  }\n",
              "\n",
              "  .colab-df-quickchart-complete:disabled,\n",
              "  .colab-df-quickchart-complete:disabled:hover {\n",
              "    background-color: var(--disabled-bg-color);\n",
              "    fill: var(--disabled-fill-color);\n",
              "    box-shadow: none;\n",
              "  }\n",
              "\n",
              "  .colab-df-spinner {\n",
              "    border: 2px solid var(--fill-color);\n",
              "    border-color: transparent;\n",
              "    border-bottom-color: var(--fill-color);\n",
              "    animation:\n",
              "      spin 1s steps(1) infinite;\n",
              "  }\n",
              "\n",
              "  @keyframes spin {\n",
              "    0% {\n",
              "      border-color: transparent;\n",
              "      border-bottom-color: var(--fill-color);\n",
              "      border-left-color: var(--fill-color);\n",
              "    }\n",
              "    20% {\n",
              "      border-color: transparent;\n",
              "      border-left-color: var(--fill-color);\n",
              "      border-top-color: var(--fill-color);\n",
              "    }\n",
              "    30% {\n",
              "      border-color: transparent;\n",
              "      border-left-color: var(--fill-color);\n",
              "      border-top-color: var(--fill-color);\n",
              "      border-right-color: var(--fill-color);\n",
              "    }\n",
              "    40% {\n",
              "      border-color: transparent;\n",
              "      border-right-color: var(--fill-color);\n",
              "      border-top-color: var(--fill-color);\n",
              "    }\n",
              "    60% {\n",
              "      border-color: transparent;\n",
              "      border-right-color: var(--fill-color);\n",
              "    }\n",
              "    80% {\n",
              "      border-color: transparent;\n",
              "      border-right-color: var(--fill-color);\n",
              "      border-bottom-color: var(--fill-color);\n",
              "    }\n",
              "    90% {\n",
              "      border-color: transparent;\n",
              "      border-bottom-color: var(--fill-color);\n",
              "    }\n",
              "  }\n",
              "</style>\n",
              "\n",
              "  <script>\n",
              "    async function quickchart(key) {\n",
              "      const quickchartButtonEl =\n",
              "        document.querySelector('#' + key + ' button');\n",
              "      quickchartButtonEl.disabled = true;  // To prevent multiple clicks.\n",
              "      quickchartButtonEl.classList.add('colab-df-spinner');\n",
              "      try {\n",
              "        const charts = await google.colab.kernel.invokeFunction(\n",
              "            'suggestCharts', [key], {});\n",
              "      } catch (error) {\n",
              "        console.error('Error during call to suggestCharts:', error);\n",
              "      }\n",
              "      quickchartButtonEl.classList.remove('colab-df-spinner');\n",
              "      quickchartButtonEl.classList.add('colab-df-quickchart-complete');\n",
              "    }\n",
              "    (() => {\n",
              "      let quickchartButtonEl =\n",
              "        document.querySelector('#df-7d0334ea-911d-43b9-9d37-63d2326fa3db button');\n",
              "      quickchartButtonEl.style.display =\n",
              "        google.colab.kernel.accessAllowed ? 'block' : 'none';\n",
              "    })();\n",
              "  </script>\n",
              "</div>\n",
              "    </div>\n",
              "  </div>\n"
            ],
            "text/plain": [
              "        Destination Port   Flow Duration   Total Fwd Packets  \\\n",
              "0               3.050770       -0.710051           -0.011895   \n",
              "1               3.058926       -0.710052           -0.011895   \n",
              "2               2.661963       -0.710052           -0.011895   \n",
              "3               3.082991       -0.710052           -0.011895   \n",
              "4              -0.331204        1.229663           -0.004346   \n",
              "...                  ...             ...                 ...   \n",
              "22200          -0.331204       -0.439302           -0.006862   \n",
              "22201          -0.331204       -0.439328           -0.006862   \n",
              "22202          -0.331204       -0.439326           -0.001829   \n",
              "22203          -0.331204       -0.439353           -0.006862   \n",
              "22204           2.020377       -0.710052           -0.011895   \n",
              "\n",
              "        Total Backward Packets  Total Length of Fwd Packets  \\\n",
              "0                    -0.009769                    -0.092009   \n",
              "1                    -0.009769                    -0.092009   \n",
              "2                    -0.009769                    -0.092009   \n",
              "3                    -0.009769                    -0.092009   \n",
              "4                    -0.005948                    -0.036070   \n",
              "...                        ...                          ...   \n",
              "22200                -0.006903                    -0.004016   \n",
              "22201                -0.006903                    -0.032834   \n",
              "22202                -0.004993                    -0.031293   \n",
              "22203                -0.006903                    -0.023896   \n",
              "22204                -0.009769                    -0.092934   \n",
              "\n",
              "        Total Length of Bwd Packets   Fwd Packet Length Max  \\\n",
              "0                         -0.007977               -0.393905   \n",
              "1                         -0.007977               -0.393905   \n",
              "2                         -0.007977               -0.393905   \n",
              "3                         -0.007977               -0.393905   \n",
              "4                         -0.003115                0.179839   \n",
              "...                             ...                     ...   \n",
              "22200                     -0.006500                0.508595   \n",
              "22201                     -0.006500                0.213030   \n",
              "22202                     -0.003099                0.228836   \n",
              "22203                     -0.006500                0.304703   \n",
              "22204                     -0.007979               -0.403388   \n",
              "\n",
              "        Fwd Packet Length Min   Fwd Packet Length Mean  \\\n",
              "0                   -0.145825                -0.351241   \n",
              "1                   -0.145825                -0.351241   \n",
              "2                   -0.145825                -0.351241   \n",
              "3                   -0.145825                -0.351241   \n",
              "4                   -0.262472                -0.067745   \n",
              "...                       ...                      ...   \n",
              "22200               -0.262472                 0.312677   \n",
              "22201               -0.262472                 0.085707   \n",
              "22202               -0.262472                -0.117933   \n",
              "22203               -0.262472                 0.156104   \n",
              "22204               -0.262472                -0.387654   \n",
              "\n",
              "        Fwd Packet Length Std  ...   min_seg_size_forward  Active Mean  \\\n",
              "0                   -0.386792  ...              -1.067509    -0.137734   \n",
              "1                   -0.386792  ...              -1.067509    -0.137734   \n",
              "2                   -0.386792  ...              -1.067509    -0.137734   \n",
              "3                   -0.386792  ...              -1.067509    -0.137734   \n",
              "4                    0.200960  ...               0.838847    -0.136343   \n",
              "...                       ...  ...                    ...          ...   \n",
              "22200                0.700653  ...               0.838847    -0.136647   \n",
              "22201                0.348223  ...               0.838847    -0.135234   \n",
              "22202                0.175103  ...               0.838847    -0.136446   \n",
              "22203                0.457533  ...               0.838847    -0.136500   \n",
              "22204               -0.386792  ...               0.000000     0.000000   \n",
              "\n",
              "        Active Std   Active Max   Active Min  Idle Mean   Idle Std   Idle Max  \\\n",
              "0        -0.105308    -0.155682    -0.108882  -0.626637  -0.111586  -0.632531   \n",
              "1        -0.105308    -0.155682    -0.108882  -0.626637  -0.111586  -0.632531   \n",
              "2        -0.105308    -0.155682    -0.108882  -0.626637  -0.111586  -0.632531   \n",
              "3        -0.105308    -0.155682    -0.108882  -0.626637  -0.111586  -0.632531   \n",
              "4        -0.105308    -0.154797    -0.107266   1.533878  -0.111586   1.508657   \n",
              "...            ...          ...          ...        ...        ...        ...   \n",
              "22200    -0.105308    -0.154990    -0.107618  -0.450916  -0.111586  -0.458382   \n",
              "22201    -0.105308    -0.154092    -0.105977  -0.450928  -0.111586  -0.458394   \n",
              "22202    -0.105308    -0.154862    -0.107385  -0.450950  -0.111586  -0.458416   \n",
              "22203    -0.105308    -0.154897    -0.107448  -0.450964  -0.111586  -0.458429   \n",
              "22204     0.000000     0.000000     0.000000   0.000000   0.000000   0.000000   \n",
              "\n",
              "        Idle Min   Label  \n",
              "0      -0.616339       0  \n",
              "1      -0.616339       0  \n",
              "2      -0.616339       0  \n",
              "3      -0.616339       0  \n",
              "4       1.545428       2  \n",
              "...          ...     ...  \n",
              "22200  -0.440516       1  \n",
              "22201  -0.440528       1  \n",
              "22202  -0.440550       1  \n",
              "22203  -0.440564       1  \n",
              "22204   0.000000       6  \n",
              "\n",
              "[22205 rows x 79 columns]"
            ]
          },
          "execution_count": 53,
          "metadata": {},
          "output_type": "execute_result"
        }
      ],
      "source": [
        "result"
      ]
    },
    {
      "cell_type": "code",
      "execution_count": 53,
      "metadata": {
        "colab": {
          "base_uri": "https://localhost:8080/",
          "height": 304
        },
        "id": "tRgSWlCPj3Pm",
        "outputId": "19b4f601-9ff1-4601-fd2f-895811488b5d"
      },
      "outputs": [],
      "source": [
        "result = result.drop(['klabel'],axis=1)"
      ]
    },
    {
      "cell_type": "code",
      "execution_count": 54,
      "metadata": {
        "id": "1fZ5E60MwUYb"
      },
      "outputs": [],
      "source": [
        "result = pd.concat([result, df_minor], ignore_index=True)"
      ]
    },
    {
      "cell_type": "code",
      "execution_count": 55,
      "metadata": {
        "id": "kl61ra1qj3Pm"
      },
      "outputs": [],
      "source": [
        "result.to_csv('extracted_sample.csv',index=0)"
      ]
    },
    {
      "cell_type": "markdown",
      "metadata": {
        "id": "wqXGxGYwj3Pm"
      },
      "source": [
        "### split train set and test set"
      ]
    },
    {
      "cell_type": "code",
      "execution_count": 56,
      "metadata": {
        "id": "WpAs_6_jj3Pm"
      },
      "outputs": [],
      "source": [
        "# Read the sampled dataset\n",
        "df=pd.read_csv('extracted_sample.csv')"
      ]
    },
    {
      "cell_type": "code",
      "execution_count": 57,
      "metadata": {},
      "outputs": [
        {
          "data": {
            "text/html": [
              "<div>\n",
              "<style scoped>\n",
              "    .dataframe tbody tr th:only-of-type {\n",
              "        vertical-align: middle;\n",
              "    }\n",
              "\n",
              "    .dataframe tbody tr th {\n",
              "        vertical-align: top;\n",
              "    }\n",
              "\n",
              "    .dataframe thead th {\n",
              "        text-align: right;\n",
              "    }\n",
              "</style>\n",
              "<table border=\"1\" class=\"dataframe\">\n",
              "  <thead>\n",
              "    <tr style=\"text-align: right;\">\n",
              "      <th></th>\n",
              "      <th>Destination Port</th>\n",
              "      <th>Flow Duration</th>\n",
              "      <th>Total Fwd Packets</th>\n",
              "      <th>Total Backward Packets</th>\n",
              "      <th>Total Length of Fwd Packets</th>\n",
              "      <th>Total Length of Bwd Packets</th>\n",
              "      <th>Fwd Packet Length Max</th>\n",
              "      <th>Fwd Packet Length Min</th>\n",
              "      <th>Fwd Packet Length Mean</th>\n",
              "      <th>Fwd Packet Length Std</th>\n",
              "      <th>...</th>\n",
              "      <th>min_seg_size_forward</th>\n",
              "      <th>Active Mean</th>\n",
              "      <th>Active Std</th>\n",
              "      <th>Active Max</th>\n",
              "      <th>Active Min</th>\n",
              "      <th>Idle Mean</th>\n",
              "      <th>Idle Std</th>\n",
              "      <th>Idle Max</th>\n",
              "      <th>Idle Min</th>\n",
              "      <th>Label</th>\n",
              "    </tr>\n",
              "  </thead>\n",
              "  <tbody>\n",
              "    <tr>\n",
              "      <th>0</th>\n",
              "      <td>-0.358219</td>\n",
              "      <td>-0.654748</td>\n",
              "      <td>-0.010113</td>\n",
              "      <td>-0.008346</td>\n",
              "      <td>-0.077080</td>\n",
              "      <td>-0.007503</td>\n",
              "      <td>-0.320651</td>\n",
              "      <td>0.489101</td>\n",
              "      <td>-0.130392</td>\n",
              "      <td>-0.366591</td>\n",
              "      <td>...</td>\n",
              "      <td>0.828623</td>\n",
              "      <td>-0.131646</td>\n",
              "      <td>-0.100396</td>\n",
              "      <td>-0.148670</td>\n",
              "      <td>-0.104366</td>\n",
              "      <td>-0.579979</td>\n",
              "      <td>-0.105686</td>\n",
              "      <td>-0.585240</td>\n",
              "      <td>-0.570780</td>\n",
              "      <td>0</td>\n",
              "    </tr>\n",
              "    <tr>\n",
              "      <th>1</th>\n",
              "      <td>-0.358219</td>\n",
              "      <td>-0.654747</td>\n",
              "      <td>-0.010113</td>\n",
              "      <td>-0.008346</td>\n",
              "      <td>-0.076431</td>\n",
              "      <td>-0.007498</td>\n",
              "      <td>-0.317339</td>\n",
              "      <td>0.528264</td>\n",
              "      <td>-0.117705</td>\n",
              "      <td>-0.366591</td>\n",
              "      <td>...</td>\n",
              "      <td>0.828623</td>\n",
              "      <td>-0.131646</td>\n",
              "      <td>-0.100396</td>\n",
              "      <td>-0.148670</td>\n",
              "      <td>-0.104366</td>\n",
              "      <td>-0.579979</td>\n",
              "      <td>-0.105686</td>\n",
              "      <td>-0.585240</td>\n",
              "      <td>-0.570780</td>\n",
              "      <td>0</td>\n",
              "    </tr>\n",
              "    <tr>\n",
              "      <th>2</th>\n",
              "      <td>-0.358219</td>\n",
              "      <td>-0.654748</td>\n",
              "      <td>-0.010113</td>\n",
              "      <td>-0.008346</td>\n",
              "      <td>-0.077080</td>\n",
              "      <td>-0.007497</td>\n",
              "      <td>-0.320651</td>\n",
              "      <td>0.489101</td>\n",
              "      <td>-0.130392</td>\n",
              "      <td>-0.366591</td>\n",
              "      <td>...</td>\n",
              "      <td>0.828623</td>\n",
              "      <td>-0.131646</td>\n",
              "      <td>-0.100396</td>\n",
              "      <td>-0.148670</td>\n",
              "      <td>-0.104366</td>\n",
              "      <td>-0.579979</td>\n",
              "      <td>-0.105686</td>\n",
              "      <td>-0.585240</td>\n",
              "      <td>-0.570780</td>\n",
              "      <td>0</td>\n",
              "    </tr>\n",
              "    <tr>\n",
              "      <th>3</th>\n",
              "      <td>-0.356503</td>\n",
              "      <td>1.640064</td>\n",
              "      <td>-0.002083</td>\n",
              "      <td>-0.004282</td>\n",
              "      <td>-0.028570</td>\n",
              "      <td>-0.002410</td>\n",
              "      <td>0.230900</td>\n",
              "      <td>-0.294156</td>\n",
              "      <td>-0.083609</td>\n",
              "      <td>0.215337</td>\n",
              "      <td>...</td>\n",
              "      <td>-1.069400</td>\n",
              "      <td>-0.128791</td>\n",
              "      <td>-0.100396</td>\n",
              "      <td>-0.146843</td>\n",
              "      <td>-0.101060</td>\n",
              "      <td>1.993193</td>\n",
              "      <td>-0.105686</td>\n",
              "      <td>1.963943</td>\n",
              "      <td>2.005562</td>\n",
              "      <td>2</td>\n",
              "    </tr>\n",
              "    <tr>\n",
              "      <th>4</th>\n",
              "      <td>-0.356503</td>\n",
              "      <td>1.661887</td>\n",
              "      <td>-0.000744</td>\n",
              "      <td>-0.004282</td>\n",
              "      <td>-0.026298</td>\n",
              "      <td>-0.002410</td>\n",
              "      <td>0.254088</td>\n",
              "      <td>-0.294156</td>\n",
              "      <td>-0.107132</td>\n",
              "      <td>0.202849</td>\n",
              "      <td>...</td>\n",
              "      <td>-1.069400</td>\n",
              "      <td>-0.128786</td>\n",
              "      <td>-0.100396</td>\n",
              "      <td>-0.146839</td>\n",
              "      <td>-0.101054</td>\n",
              "      <td>2.019423</td>\n",
              "      <td>-0.105686</td>\n",
              "      <td>1.989928</td>\n",
              "      <td>2.031824</td>\n",
              "      <td>2</td>\n",
              "    </tr>\n",
              "    <tr>\n",
              "      <th>...</th>\n",
              "      <td>...</td>\n",
              "      <td>...</td>\n",
              "      <td>...</td>\n",
              "      <td>...</td>\n",
              "      <td>...</td>\n",
              "      <td>...</td>\n",
              "      <td>...</td>\n",
              "      <td>...</td>\n",
              "      <td>...</td>\n",
              "      <td>...</td>\n",
              "      <td>...</td>\n",
              "      <td>...</td>\n",
              "      <td>...</td>\n",
              "      <td>...</td>\n",
              "      <td>...</td>\n",
              "      <td>...</td>\n",
              "      <td>...</td>\n",
              "      <td>...</td>\n",
              "      <td>...</td>\n",
              "      <td>...</td>\n",
              "      <td>...</td>\n",
              "    </tr>\n",
              "    <tr>\n",
              "      <th>26951</th>\n",
              "      <td>-0.356503</td>\n",
              "      <td>-0.385567</td>\n",
              "      <td>-0.002083</td>\n",
              "      <td>-0.005298</td>\n",
              "      <td>-0.037168</td>\n",
              "      <td>-0.002394</td>\n",
              "      <td>0.153053</td>\n",
              "      <td>-0.294156</td>\n",
              "      <td>-0.125634</td>\n",
              "      <td>0.143117</td>\n",
              "      <td>...</td>\n",
              "      <td>0.828623</td>\n",
              "      <td>-0.130373</td>\n",
              "      <td>-0.100396</td>\n",
              "      <td>-0.147855</td>\n",
              "      <td>-0.102891</td>\n",
              "      <td>-0.409295</td>\n",
              "      <td>-0.105686</td>\n",
              "      <td>-0.416147</td>\n",
              "      <td>-0.399885</td>\n",
              "      <td>1</td>\n",
              "    </tr>\n",
              "    <tr>\n",
              "      <th>26952</th>\n",
              "      <td>-0.356503</td>\n",
              "      <td>-0.385541</td>\n",
              "      <td>-0.006098</td>\n",
              "      <td>-0.005298</td>\n",
              "      <td>-0.013643</td>\n",
              "      <td>-0.006011</td>\n",
              "      <td>0.393218</td>\n",
              "      <td>-0.294156</td>\n",
              "      <td>0.213421</td>\n",
              "      <td>0.564914</td>\n",
              "      <td>...</td>\n",
              "      <td>0.828623</td>\n",
              "      <td>-0.130336</td>\n",
              "      <td>-0.100396</td>\n",
              "      <td>-0.147831</td>\n",
              "      <td>-0.102848</td>\n",
              "      <td>-0.409259</td>\n",
              "      <td>-0.105686</td>\n",
              "      <td>-0.416111</td>\n",
              "      <td>-0.399849</td>\n",
              "      <td>1</td>\n",
              "    </tr>\n",
              "    <tr>\n",
              "      <th>26953</th>\n",
              "      <td>-0.356503</td>\n",
              "      <td>-0.385637</td>\n",
              "      <td>-0.003421</td>\n",
              "      <td>-0.004282</td>\n",
              "      <td>-0.039115</td>\n",
              "      <td>-0.002394</td>\n",
              "      <td>0.133177</td>\n",
              "      <td>-0.294156</td>\n",
              "      <td>-0.099581</td>\n",
              "      <td>0.158252</td>\n",
              "      <td>...</td>\n",
              "      <td>0.828623</td>\n",
              "      <td>-0.130363</td>\n",
              "      <td>-0.100396</td>\n",
              "      <td>-0.147848</td>\n",
              "      <td>-0.102880</td>\n",
              "      <td>-0.409398</td>\n",
              "      <td>-0.105686</td>\n",
              "      <td>-0.416249</td>\n",
              "      <td>-0.399989</td>\n",
              "      <td>1</td>\n",
              "    </tr>\n",
              "    <tr>\n",
              "      <th>26954</th>\n",
              "      <td>-0.356503</td>\n",
              "      <td>-0.385640</td>\n",
              "      <td>-0.002083</td>\n",
              "      <td>-0.005298</td>\n",
              "      <td>-0.030192</td>\n",
              "      <td>-0.002394</td>\n",
              "      <td>0.224274</td>\n",
              "      <td>-0.294156</td>\n",
              "      <td>-0.091538</td>\n",
              "      <td>0.210349</td>\n",
              "      <td>...</td>\n",
              "      <td>0.828623</td>\n",
              "      <td>-0.130341</td>\n",
              "      <td>-0.100396</td>\n",
              "      <td>-0.147835</td>\n",
              "      <td>-0.102855</td>\n",
              "      <td>-0.409354</td>\n",
              "      <td>-0.105686</td>\n",
              "      <td>-0.416205</td>\n",
              "      <td>-0.399944</td>\n",
              "      <td>1</td>\n",
              "    </tr>\n",
              "    <tr>\n",
              "      <th>26955</th>\n",
              "      <td>-0.356503</td>\n",
              "      <td>-0.385567</td>\n",
              "      <td>-0.006098</td>\n",
              "      <td>-0.005298</td>\n",
              "      <td>0.018967</td>\n",
              "      <td>-0.006011</td>\n",
              "      <td>0.726136</td>\n",
              "      <td>-0.294156</td>\n",
              "      <td>0.468427</td>\n",
              "      <td>0.962435</td>\n",
              "      <td>...</td>\n",
              "      <td>0.828623</td>\n",
              "      <td>-0.130474</td>\n",
              "      <td>-0.100396</td>\n",
              "      <td>-0.147920</td>\n",
              "      <td>-0.103009</td>\n",
              "      <td>-0.409321</td>\n",
              "      <td>-0.105686</td>\n",
              "      <td>-0.416172</td>\n",
              "      <td>-0.399911</td>\n",
              "      <td>1</td>\n",
              "    </tr>\n",
              "  </tbody>\n",
              "</table>\n",
              "<p>26956 rows × 79 columns</p>\n",
              "</div>"
            ],
            "text/plain": [
              "        Destination Port   Flow Duration   Total Fwd Packets  \\\n",
              "0              -0.358219       -0.654748           -0.010113   \n",
              "1              -0.358219       -0.654747           -0.010113   \n",
              "2              -0.358219       -0.654748           -0.010113   \n",
              "3              -0.356503        1.640064           -0.002083   \n",
              "4              -0.356503        1.661887           -0.000744   \n",
              "...                  ...             ...                 ...   \n",
              "26951          -0.356503       -0.385567           -0.002083   \n",
              "26952          -0.356503       -0.385541           -0.006098   \n",
              "26953          -0.356503       -0.385637           -0.003421   \n",
              "26954          -0.356503       -0.385640           -0.002083   \n",
              "26955          -0.356503       -0.385567           -0.006098   \n",
              "\n",
              "        Total Backward Packets  Total Length of Fwd Packets  \\\n",
              "0                    -0.008346                    -0.077080   \n",
              "1                    -0.008346                    -0.076431   \n",
              "2                    -0.008346                    -0.077080   \n",
              "3                    -0.004282                    -0.028570   \n",
              "4                    -0.004282                    -0.026298   \n",
              "...                        ...                          ...   \n",
              "26951                -0.005298                    -0.037168   \n",
              "26952                -0.005298                    -0.013643   \n",
              "26953                -0.004282                    -0.039115   \n",
              "26954                -0.005298                    -0.030192   \n",
              "26955                -0.005298                     0.018967   \n",
              "\n",
              "        Total Length of Bwd Packets   Fwd Packet Length Max  \\\n",
              "0                         -0.007503               -0.320651   \n",
              "1                         -0.007498               -0.317339   \n",
              "2                         -0.007497               -0.320651   \n",
              "3                         -0.002410                0.230900   \n",
              "4                         -0.002410                0.254088   \n",
              "...                             ...                     ...   \n",
              "26951                     -0.002394                0.153053   \n",
              "26952                     -0.006011                0.393218   \n",
              "26953                     -0.002394                0.133177   \n",
              "26954                     -0.002394                0.224274   \n",
              "26955                     -0.006011                0.726136   \n",
              "\n",
              "        Fwd Packet Length Min   Fwd Packet Length Mean  \\\n",
              "0                    0.489101                -0.130392   \n",
              "1                    0.528264                -0.117705   \n",
              "2                    0.489101                -0.130392   \n",
              "3                   -0.294156                -0.083609   \n",
              "4                   -0.294156                -0.107132   \n",
              "...                       ...                      ...   \n",
              "26951               -0.294156                -0.125634   \n",
              "26952               -0.294156                 0.213421   \n",
              "26953               -0.294156                -0.099581   \n",
              "26954               -0.294156                -0.091538   \n",
              "26955               -0.294156                 0.468427   \n",
              "\n",
              "        Fwd Packet Length Std  ...   min_seg_size_forward  Active Mean  \\\n",
              "0                   -0.366591  ...               0.828623    -0.131646   \n",
              "1                   -0.366591  ...               0.828623    -0.131646   \n",
              "2                   -0.366591  ...               0.828623    -0.131646   \n",
              "3                    0.215337  ...              -1.069400    -0.128791   \n",
              "4                    0.202849  ...              -1.069400    -0.128786   \n",
              "...                       ...  ...                    ...          ...   \n",
              "26951                0.143117  ...               0.828623    -0.130373   \n",
              "26952                0.564914  ...               0.828623    -0.130336   \n",
              "26953                0.158252  ...               0.828623    -0.130363   \n",
              "26954                0.210349  ...               0.828623    -0.130341   \n",
              "26955                0.962435  ...               0.828623    -0.130474   \n",
              "\n",
              "        Active Std   Active Max   Active Min  Idle Mean   Idle Std   Idle Max  \\\n",
              "0        -0.100396    -0.148670    -0.104366  -0.579979  -0.105686  -0.585240   \n",
              "1        -0.100396    -0.148670    -0.104366  -0.579979  -0.105686  -0.585240   \n",
              "2        -0.100396    -0.148670    -0.104366  -0.579979  -0.105686  -0.585240   \n",
              "3        -0.100396    -0.146843    -0.101060   1.993193  -0.105686   1.963943   \n",
              "4        -0.100396    -0.146839    -0.101054   2.019423  -0.105686   1.989928   \n",
              "...            ...          ...          ...        ...        ...        ...   \n",
              "26951    -0.100396    -0.147855    -0.102891  -0.409295  -0.105686  -0.416147   \n",
              "26952    -0.100396    -0.147831    -0.102848  -0.409259  -0.105686  -0.416111   \n",
              "26953    -0.100396    -0.147848    -0.102880  -0.409398  -0.105686  -0.416249   \n",
              "26954    -0.100396    -0.147835    -0.102855  -0.409354  -0.105686  -0.416205   \n",
              "26955    -0.100396    -0.147920    -0.103009  -0.409321  -0.105686  -0.416172   \n",
              "\n",
              "        Idle Min   Label  \n",
              "0      -0.570780       0  \n",
              "1      -0.570780       0  \n",
              "2      -0.570780       0  \n",
              "3       2.005562       2  \n",
              "4       2.031824       2  \n",
              "...          ...     ...  \n",
              "26951  -0.399885       1  \n",
              "26952  -0.399849       1  \n",
              "26953  -0.399989       1  \n",
              "26954  -0.399944       1  \n",
              "26955  -0.399911       1  \n",
              "\n",
              "[26956 rows x 79 columns]"
            ]
          },
          "execution_count": 57,
          "metadata": {},
          "output_type": "execute_result"
        }
      ],
      "source": [
        "df"
      ]
    },
    {
      "cell_type": "code",
      "execution_count": 58,
      "metadata": {
        "id": "I7J3Cr3kj3Pm"
      },
      "outputs": [],
      "source": [
        "X = df.drop([' Label'],axis=1).values\n",
        "y = df.iloc[:, -1].values.reshape(-1,1)\n",
        "y=np.ravel(y)"
      ]
    },
    {
      "cell_type": "code",
      "execution_count": 59,
      "metadata": {
        "collapsed": true,
        "id": "t0Febi3Jj3Pm"
      },
      "outputs": [],
      "source": [
        "X_train, X_test, y_train, y_test = train_test_split(X,y, train_size = 0.8, test_size = 0.2, random_state = 0)"
      ]
    },
    {
      "cell_type": "markdown",
      "metadata": {
        "id": "a9yl9ff1j3Pm"
      },
      "source": [
        "## Feature engineering"
      ]
    },
    {
      "cell_type": "markdown",
      "metadata": {
        "id": "rNH9iLB0j3Pm"
      },
      "source": [
        "### Feature selection by information gain"
      ]
    },
    {
      "cell_type": "code",
      "execution_count": 60,
      "metadata": {
        "collapsed": true,
        "id": "TO7GEQepj3Pm"
      },
      "outputs": [],
      "source": [
        "from sklearn.feature_selection import mutual_info_classif\n",
        "importances = mutual_info_classif(X_train, y_train)"
      ]
    },
    {
      "cell_type": "code",
      "execution_count": 61,
      "metadata": {
        "id": "P7QGLqADj3Pm"
      },
      "outputs": [],
      "source": [
        "# calculate the sum of importance scores\n",
        "f_list = sorted(zip(map(lambda x: round(x, 4), importances), features), reverse=True)\n",
        "Sum = 0\n",
        "fs = []\n",
        "for i in range(0, len(f_list)):\n",
        "    Sum = Sum + f_list[i][0]\n",
        "    fs.append(f_list[i][1])"
      ]
    },
    {
      "cell_type": "code",
      "execution_count": 62,
      "metadata": {
        "id": "E3XTdMUDj3Pm"
      },
      "outputs": [],
      "source": [
        "# select the important features from top to bottom until the accumulated importance reaches 90%\n",
        "f_list2 = sorted(zip(map(lambda x: round(x, 4), importances/Sum), features), reverse=True)\n",
        "Sum2 = 0\n",
        "fs = []\n",
        "for i in range(0, len(f_list2)):\n",
        "    Sum2 = Sum2 + f_list2[i][0]\n",
        "    fs.append(f_list2[i][1])\n",
        "    if Sum2>=0.9:\n",
        "        break"
      ]
    },
    {
      "cell_type": "code",
      "execution_count": 63,
      "metadata": {
        "collapsed": true,
        "id": "3f1U5fCpj3Pm"
      },
      "outputs": [],
      "source": [
        "X_fs = df[fs].values"
      ]
    },
    {
      "cell_type": "code",
      "execution_count": 64,
      "metadata": {
        "colab": {
          "base_uri": "https://localhost:8080/"
        },
        "id": "8D0fFiFFj3Pm",
        "outputId": "0044a201-40f2-40a6-ef62-c8c3c70323ee"
      },
      "outputs": [
        {
          "data": {
            "text/plain": [
              "(26956, 46)"
            ]
          },
          "execution_count": 64,
          "metadata": {},
          "output_type": "execute_result"
        }
      ],
      "source": [
        "X_fs.shape"
      ]
    },
    {
      "cell_type": "code",
      "execution_count": 82,
      "metadata": {
        "colab": {
          "base_uri": "https://localhost:8080/",
          "height": 73
        },
        "id": "NajwicMU2YP7",
        "outputId": "01dd68c7-4e8e-43e5-ed7c-67416111a8fc"
      },
      "outputs": [
        {
          "data": {
            "text/html": [
              "\n",
              "     <input type=\"file\" id=\"files-beca201d-f846-49f9-8eda-06f13cc317ad\" name=\"files[]\" multiple disabled\n",
              "        style=\"border:none\" />\n",
              "     <output id=\"result-beca201d-f846-49f9-8eda-06f13cc317ad\">\n",
              "      Upload widget is only available when the cell has been executed in the\n",
              "      current browser session. Please rerun this cell to enable.\n",
              "      </output>\n",
              "      <script>// Copyright 2017 Google LLC\n",
              "//\n",
              "// Licensed under the Apache License, Version 2.0 (the \"License\");\n",
              "// you may not use this file except in compliance with the License.\n",
              "// You may obtain a copy of the License at\n",
              "//\n",
              "//      http://www.apache.org/licenses/LICENSE-2.0\n",
              "//\n",
              "// Unless required by applicable law or agreed to in writing, software\n",
              "// distributed under the License is distributed on an \"AS IS\" BASIS,\n",
              "// WITHOUT WARRANTIES OR CONDITIONS OF ANY KIND, either express or implied.\n",
              "// See the License for the specific language governing permissions and\n",
              "// limitations under the License.\n",
              "\n",
              "/**\n",
              " * @fileoverview Helpers for google.colab Python module.\n",
              " */\n",
              "(function(scope) {\n",
              "function span(text, styleAttributes = {}) {\n",
              "  const element = document.createElement('span');\n",
              "  element.textContent = text;\n",
              "  for (const key of Object.keys(styleAttributes)) {\n",
              "    element.style[key] = styleAttributes[key];\n",
              "  }\n",
              "  return element;\n",
              "}\n",
              "\n",
              "// Max number of bytes which will be uploaded at a time.\n",
              "const MAX_PAYLOAD_SIZE = 100 * 1024;\n",
              "\n",
              "function _uploadFiles(inputId, outputId) {\n",
              "  const steps = uploadFilesStep(inputId, outputId);\n",
              "  const outputElement = document.getElementById(outputId);\n",
              "  // Cache steps on the outputElement to make it available for the next call\n",
              "  // to uploadFilesContinue from Python.\n",
              "  outputElement.steps = steps;\n",
              "\n",
              "  return _uploadFilesContinue(outputId);\n",
              "}\n",
              "\n",
              "// This is roughly an async generator (not supported in the browser yet),\n",
              "// where there are multiple asynchronous steps and the Python side is going\n",
              "// to poll for completion of each step.\n",
              "// This uses a Promise to block the python side on completion of each step,\n",
              "// then passes the result of the previous step as the input to the next step.\n",
              "function _uploadFilesContinue(outputId) {\n",
              "  const outputElement = document.getElementById(outputId);\n",
              "  const steps = outputElement.steps;\n",
              "\n",
              "  const next = steps.next(outputElement.lastPromiseValue);\n",
              "  return Promise.resolve(next.value.promise).then((value) => {\n",
              "    // Cache the last promise value to make it available to the next\n",
              "    // step of the generator.\n",
              "    outputElement.lastPromiseValue = value;\n",
              "    return next.value.response;\n",
              "  });\n",
              "}\n",
              "\n",
              "/**\n",
              " * Generator function which is called between each async step of the upload\n",
              " * process.\n",
              " * @param {string} inputId Element ID of the input file picker element.\n",
              " * @param {string} outputId Element ID of the output display.\n",
              " * @return {!Iterable<!Object>} Iterable of next steps.\n",
              " */\n",
              "function* uploadFilesStep(inputId, outputId) {\n",
              "  const inputElement = document.getElementById(inputId);\n",
              "  inputElement.disabled = false;\n",
              "\n",
              "  const outputElement = document.getElementById(outputId);\n",
              "  outputElement.innerHTML = '';\n",
              "\n",
              "  const pickedPromise = new Promise((resolve) => {\n",
              "    inputElement.addEventListener('change', (e) => {\n",
              "      resolve(e.target.files);\n",
              "    });\n",
              "  });\n",
              "\n",
              "  const cancel = document.createElement('button');\n",
              "  inputElement.parentElement.appendChild(cancel);\n",
              "  cancel.textContent = 'Cancel upload';\n",
              "  const cancelPromise = new Promise((resolve) => {\n",
              "    cancel.onclick = () => {\n",
              "      resolve(null);\n",
              "    };\n",
              "  });\n",
              "\n",
              "  // Wait for the user to pick the files.\n",
              "  const files = yield {\n",
              "    promise: Promise.race([pickedPromise, cancelPromise]),\n",
              "    response: {\n",
              "      action: 'starting',\n",
              "    }\n",
              "  };\n",
              "\n",
              "  cancel.remove();\n",
              "\n",
              "  // Disable the input element since further picks are not allowed.\n",
              "  inputElement.disabled = true;\n",
              "\n",
              "  if (!files) {\n",
              "    return {\n",
              "      response: {\n",
              "        action: 'complete',\n",
              "      }\n",
              "    };\n",
              "  }\n",
              "\n",
              "  for (const file of files) {\n",
              "    const li = document.createElement('li');\n",
              "    li.append(span(file.name, {fontWeight: 'bold'}));\n",
              "    li.append(span(\n",
              "        `(${file.type || 'n/a'}) - ${file.size} bytes, ` +\n",
              "        `last modified: ${\n",
              "            file.lastModifiedDate ? file.lastModifiedDate.toLocaleDateString() :\n",
              "                                    'n/a'} - `));\n",
              "    const percent = span('0% done');\n",
              "    li.appendChild(percent);\n",
              "\n",
              "    outputElement.appendChild(li);\n",
              "\n",
              "    const fileDataPromise = new Promise((resolve) => {\n",
              "      const reader = new FileReader();\n",
              "      reader.onload = (e) => {\n",
              "        resolve(e.target.result);\n",
              "      };\n",
              "      reader.readAsArrayBuffer(file);\n",
              "    });\n",
              "    // Wait for the data to be ready.\n",
              "    let fileData = yield {\n",
              "      promise: fileDataPromise,\n",
              "      response: {\n",
              "        action: 'continue',\n",
              "      }\n",
              "    };\n",
              "\n",
              "    // Use a chunked sending to avoid message size limits. See b/62115660.\n",
              "    let position = 0;\n",
              "    do {\n",
              "      const length = Math.min(fileData.byteLength - position, MAX_PAYLOAD_SIZE);\n",
              "      const chunk = new Uint8Array(fileData, position, length);\n",
              "      position += length;\n",
              "\n",
              "      const base64 = btoa(String.fromCharCode.apply(null, chunk));\n",
              "      yield {\n",
              "        response: {\n",
              "          action: 'append',\n",
              "          file: file.name,\n",
              "          data: base64,\n",
              "        },\n",
              "      };\n",
              "\n",
              "      let percentDone = fileData.byteLength === 0 ?\n",
              "          100 :\n",
              "          Math.round((position / fileData.byteLength) * 100);\n",
              "      percent.textContent = `${percentDone}% done`;\n",
              "\n",
              "    } while (position < fileData.byteLength);\n",
              "  }\n",
              "\n",
              "  // All done.\n",
              "  yield {\n",
              "    response: {\n",
              "      action: 'complete',\n",
              "    }\n",
              "  };\n",
              "}\n",
              "\n",
              "scope.google = scope.google || {};\n",
              "scope.google.colab = scope.google.colab || {};\n",
              "scope.google.colab._files = {\n",
              "  _uploadFiles,\n",
              "  _uploadFilesContinue,\n",
              "};\n",
              "})(self);\n",
              "</script> "
            ],
            "text/plain": [
              "<IPython.core.display.HTML object>"
            ]
          },
          "metadata": {},
          "output_type": "display_data"
        },
        {
          "name": "stdout",
          "output_type": "stream",
          "text": [
            "Saving FCBF_module.py to FCBF_module.py\n"
          ]
        }
      ],
      "source": [
        "from google.colab import files\n",
        "uploaded = files.upload()\n"
      ]
    },
    {
      "cell_type": "code",
      "execution_count": 84,
      "metadata": {
        "colab": {
          "base_uri": "https://localhost:8080/"
        },
        "id": "chEsSsQc2feh",
        "outputId": "d57429bc-c821-4acb-f0c1-8c073dc22f21"
      },
      "outputs": [
        {
          "name": "stdout",
          "output_type": "stream",
          "text": [
            "Mounted at /content/drive\n"
          ]
        }
      ],
      "source": [
        "from google.colab import drive\n",
        "drive.mount('/content/drive')\n"
      ]
    },
    {
      "cell_type": "code",
      "execution_count": 65,
      "metadata": {
        "id": "VuPm7QMA3FTw"
      },
      "outputs": [
        {
          "ename": "ModuleNotFoundError",
          "evalue": "No module named 'FCBF_module'",
          "output_type": "error",
          "traceback": [
            "\u001b[1;31m---------------------------------------------------------------------------\u001b[0m",
            "\u001b[1;31mModuleNotFoundError\u001b[0m                       Traceback (most recent call last)",
            "Cell \u001b[1;32mIn[65], line 1\u001b[0m\n\u001b[1;32m----> 1\u001b[0m \u001b[38;5;28;01mimport\u001b[39;00m \u001b[38;5;21;01mFCBF_module\u001b[39;00m\n",
            "\u001b[1;31mModuleNotFoundError\u001b[0m: No module named 'FCBF_module'"
          ]
        }
      ],
      "source": [
        "import FCBF_module"
      ]
    },
    {
      "cell_type": "markdown",
      "metadata": {
        "id": "9fLJllKdj3Pn"
      },
      "source": [
        "### Feature selection by Fast Correlation Based Filter (FCBF)\n",
        "\n",
        "The module is imported from the GitHub repo: https://github.com/SantiagoEG/FCBF_module"
      ]
    },
    {
      "cell_type": "code",
      "execution_count": 86,
      "metadata": {
        "collapsed": true,
        "id": "av2O2LZVj3Pn"
      },
      "outputs": [],
      "source": [
        "from FCBF_module import FCBF, FCBFK, FCBFiP, get_i\n",
        "fcbf = FCBFK(k = 20)\n",
        "#fcbf.fit(X_fs, y)"
      ]
    },
    {
      "cell_type": "code",
      "execution_count": 67,
      "metadata": {
        "id": "moVMn64ij3Pn"
      },
      "outputs": [
        {
          "ename": "NameError",
          "evalue": "name 'fcbf' is not defined",
          "output_type": "error",
          "traceback": [
            "\u001b[1;31m---------------------------------------------------------------------------\u001b[0m",
            "\u001b[1;31mNameError\u001b[0m                                 Traceback (most recent call last)",
            "Cell \u001b[1;32mIn[67], line 1\u001b[0m\n\u001b[1;32m----> 1\u001b[0m X_fss \u001b[38;5;241m=\u001b[39m \u001b[43mfcbf\u001b[49m\u001b[38;5;241m.\u001b[39mfit_transform(X_fs,y)\n",
            "\u001b[1;31mNameError\u001b[0m: name 'fcbf' is not defined"
          ]
        }
      ],
      "source": [
        "X_fss = fcbf.fit_transform(X_fs,y)"
      ]
    },
    {
      "cell_type": "code",
      "execution_count": 88,
      "metadata": {
        "colab": {
          "base_uri": "https://localhost:8080/"
        },
        "id": "OXWvLoB-j3Pq",
        "outputId": "d0677739-9f75-44d3-ff43-f102ae1fce2c"
      },
      "outputs": [
        {
          "data": {
            "text/plain": [
              "(22205, 20)"
            ]
          },
          "execution_count": 88,
          "metadata": {},
          "output_type": "execute_result"
        }
      ],
      "source": [
        "X_fss.shape"
      ]
    },
    {
      "cell_type": "markdown",
      "metadata": {
        "id": "ghLWwh9_j3Pr"
      },
      "source": [
        "### Re-split train & test sets after feature selection"
      ]
    },
    {
      "cell_type": "code",
      "execution_count": 66,
      "metadata": {
        "collapsed": true,
        "id": "kmw2Vzxqj3Pr"
      },
      "outputs": [
        {
          "ename": "NameError",
          "evalue": "name 'X_fss' is not defined",
          "output_type": "error",
          "traceback": [
            "\u001b[1;31m---------------------------------------------------------------------------\u001b[0m",
            "\u001b[1;31mNameError\u001b[0m                                 Traceback (most recent call last)",
            "Cell \u001b[1;32mIn[66], line 1\u001b[0m\n\u001b[1;32m----> 1\u001b[0m X_train, X_test, y_train, y_test \u001b[38;5;241m=\u001b[39m train_test_split(\u001b[43mX_fss\u001b[49m,y, train_size \u001b[38;5;241m=\u001b[39m \u001b[38;5;241m0.8\u001b[39m, test_size \u001b[38;5;241m=\u001b[39m \u001b[38;5;241m0.2\u001b[39m, random_state \u001b[38;5;241m=\u001b[39m \u001b[38;5;241m0\u001b[39m)\n",
            "\u001b[1;31mNameError\u001b[0m: name 'X_fss' is not defined"
          ]
        }
      ],
      "source": [
        "X_train, X_test, y_train, y_test = train_test_split(X_fss,y, train_size = 0.8, test_size = 0.2, random_state = 0)"
      ]
    },
    {
      "cell_type": "code",
      "execution_count": 90,
      "metadata": {
        "colab": {
          "base_uri": "https://localhost:8080/"
        },
        "id": "GAGDBSIfj3Pr",
        "outputId": "ad3f6c18-17b1-443d-cbca-eebe88ff2cfe"
      },
      "outputs": [
        {
          "data": {
            "text/plain": [
              "(17764, 20)"
            ]
          },
          "execution_count": 90,
          "metadata": {},
          "output_type": "execute_result"
        }
      ],
      "source": [
        "X_train.shape"
      ]
    },
    {
      "cell_type": "code",
      "execution_count": 91,
      "metadata": {
        "colab": {
          "base_uri": "https://localhost:8080/"
        },
        "id": "I74uJc-Jj3Pr",
        "outputId": "c0c99f95-6b02-45a0-d414-c7a81e695dab"
      },
      "outputs": [
        {
          "data": {
            "text/plain": [
              "1    4934\n",
              "4    4628\n",
              "3    4388\n",
              "0    2327\n",
              "2    1479\n",
              "5       8\n",
              "Name: count, dtype: int64"
            ]
          },
          "execution_count": 91,
          "metadata": {},
          "output_type": "execute_result"
        }
      ],
      "source": [
        "pd.Series(y_train).value_counts()"
      ]
    },
    {
      "cell_type": "code",
      "execution_count": 68,
      "metadata": {
        "colab": {
          "base_uri": "https://localhost:8080/",
          "height": 211
        },
        "id": "lj0njZrH5CLe",
        "outputId": "fc5ae4d5-3bd0-498d-ef05-10b3127f4794"
      },
      "outputs": [
        {
          "ename": "ModuleNotFoundError",
          "evalue": "No module named 'imblearn'",
          "output_type": "error",
          "traceback": [
            "\u001b[1;31m---------------------------------------------------------------------------\u001b[0m",
            "\u001b[1;31mModuleNotFoundError\u001b[0m                       Traceback (most recent call last)",
            "Cell \u001b[1;32mIn[68], line 1\u001b[0m\n\u001b[1;32m----> 1\u001b[0m \u001b[38;5;28;01mfrom\u001b[39;00m \u001b[38;5;21;01mimblearn\u001b[39;00m\u001b[38;5;21;01m.\u001b[39;00m\u001b[38;5;21;01mover_sampling\u001b[39;00m \u001b[38;5;28;01mimport\u001b[39;00m SMOTE\n\u001b[0;32m      3\u001b[0m \u001b[38;5;66;03m# Assuming the original number of samples for the class is 1479\u001b[39;00m\n\u001b[0;32m      4\u001b[0m \u001b[38;5;66;03m# and you want to increase it to 1000\u001b[39;00m\n\u001b[0;32m      5\u001b[0m smote \u001b[38;5;241m=\u001b[39m SMOTE(sampling_strategy\u001b[38;5;241m=\u001b[39m{your_class_label: \u001b[38;5;241m1000\u001b[39m})\n",
            "\u001b[1;31mModuleNotFoundError\u001b[0m: No module named 'imblearn'"
          ]
        }
      ],
      "source": [
        "from imblearn.over_sampling import SMOTE\n",
        "\n",
        "# Assuming the original number of samples for the class is 1479\n",
        "# and you want to increase it to 1000\n",
        "smote = SMOTE(sampling_strategy={your_class_label: 1000})\n",
        "\n",
        "X_train_resampled, y_train_resampled = smote.fit_resample(X_train, y_train)"
      ]
    },
    {
      "cell_type": "markdown",
      "metadata": {
        "id": "wnC8p54rj3Pr"
      },
      "source": [
        "### SMOTE to solve class-imbalance"
      ]
    },
    {
      "cell_type": "code",
      "execution_count": 96,
      "metadata": {
        "id": "IItpTGIhj3Pr"
      },
      "outputs": [],
      "source": [
        "from imblearn.over_sampling import SMOTE\n",
        "smote=SMOTE(n_jobs=-1,sampling_strategy={2:1000,4:1000})"
      ]
    },
    {
      "cell_type": "code",
      "execution_count": 97,
      "metadata": {
        "colab": {
          "base_uri": "https://localhost:8080/",
          "height": 668
        },
        "collapsed": true,
        "id": "gVuNtO80j3Pr",
        "outputId": "d04fc777-7245-4bb6-8a14-a211f8585d6e"
      },
      "outputs": [
        {
          "ename": "ValueError",
          "evalue": "With over-sampling methods, the number of samples in a class should be greater or equal to the original number of samples. Originally, there is 1479 samples and 1000 samples are asked.",
          "output_type": "error",
          "traceback": [
            "\u001b[0;31m---------------------------------------------------------------------------\u001b[0m",
            "\u001b[0;31mValueError\u001b[0m                                Traceback (most recent call last)",
            "\u001b[0;32m<ipython-input-97-55852e24e267>\u001b[0m in \u001b[0;36m<cell line: 1>\u001b[0;34m()\u001b[0m\n\u001b[0;32m----> 1\u001b[0;31m \u001b[0mX_train\u001b[0m\u001b[0;34m,\u001b[0m \u001b[0my_train\u001b[0m \u001b[0;34m=\u001b[0m \u001b[0msmote\u001b[0m\u001b[0;34m.\u001b[0m\u001b[0mfit_resample\u001b[0m\u001b[0;34m(\u001b[0m\u001b[0mX_train\u001b[0m\u001b[0;34m,\u001b[0m \u001b[0my_train\u001b[0m\u001b[0;34m)\u001b[0m\u001b[0;34m\u001b[0m\u001b[0;34m\u001b[0m\u001b[0m\n\u001b[0m",
            "\u001b[0;32m/usr/local/lib/python3.10/dist-packages/imblearn/base.py\u001b[0m in \u001b[0;36mfit_resample\u001b[0;34m(self, X, y)\u001b[0m\n\u001b[1;32m    201\u001b[0m         \"\"\"\n\u001b[1;32m    202\u001b[0m         \u001b[0mself\u001b[0m\u001b[0;34m.\u001b[0m\u001b[0m_validate_params\u001b[0m\u001b[0;34m(\u001b[0m\u001b[0;34m)\u001b[0m\u001b[0;34m\u001b[0m\u001b[0;34m\u001b[0m\u001b[0m\n\u001b[0;32m--> 203\u001b[0;31m         \u001b[0;32mreturn\u001b[0m \u001b[0msuper\u001b[0m\u001b[0;34m(\u001b[0m\u001b[0;34m)\u001b[0m\u001b[0;34m.\u001b[0m\u001b[0mfit_resample\u001b[0m\u001b[0;34m(\u001b[0m\u001b[0mX\u001b[0m\u001b[0;34m,\u001b[0m \u001b[0my\u001b[0m\u001b[0;34m)\u001b[0m\u001b[0;34m\u001b[0m\u001b[0;34m\u001b[0m\u001b[0m\n\u001b[0m\u001b[1;32m    204\u001b[0m \u001b[0;34m\u001b[0m\u001b[0m\n\u001b[1;32m    205\u001b[0m     \u001b[0;32mdef\u001b[0m \u001b[0m_more_tags\u001b[0m\u001b[0;34m(\u001b[0m\u001b[0mself\u001b[0m\u001b[0;34m)\u001b[0m\u001b[0;34m:\u001b[0m\u001b[0;34m\u001b[0m\u001b[0;34m\u001b[0m\u001b[0m\n",
            "\u001b[0;32m/usr/local/lib/python3.10/dist-packages/imblearn/base.py\u001b[0m in \u001b[0;36mfit_resample\u001b[0;34m(self, X, y)\u001b[0m\n\u001b[1;32m     82\u001b[0m         \u001b[0mX\u001b[0m\u001b[0;34m,\u001b[0m \u001b[0my\u001b[0m\u001b[0;34m,\u001b[0m \u001b[0mbinarize_y\u001b[0m \u001b[0;34m=\u001b[0m \u001b[0mself\u001b[0m\u001b[0;34m.\u001b[0m\u001b[0m_check_X_y\u001b[0m\u001b[0;34m(\u001b[0m\u001b[0mX\u001b[0m\u001b[0;34m,\u001b[0m \u001b[0my\u001b[0m\u001b[0;34m)\u001b[0m\u001b[0;34m\u001b[0m\u001b[0;34m\u001b[0m\u001b[0m\n\u001b[1;32m     83\u001b[0m \u001b[0;34m\u001b[0m\u001b[0m\n\u001b[0;32m---> 84\u001b[0;31m         self.sampling_strategy_ = check_sampling_strategy(\n\u001b[0m\u001b[1;32m     85\u001b[0m             \u001b[0mself\u001b[0m\u001b[0;34m.\u001b[0m\u001b[0msampling_strategy\u001b[0m\u001b[0;34m,\u001b[0m \u001b[0my\u001b[0m\u001b[0;34m,\u001b[0m \u001b[0mself\u001b[0m\u001b[0;34m.\u001b[0m\u001b[0m_sampling_type\u001b[0m\u001b[0;34m\u001b[0m\u001b[0;34m\u001b[0m\u001b[0m\n\u001b[1;32m     86\u001b[0m         )\n",
            "\u001b[0;32m/usr/local/lib/python3.10/dist-packages/imblearn/utils/_validation.py\u001b[0m in \u001b[0;36mcheck_sampling_strategy\u001b[0;34m(sampling_strategy, y, sampling_type, **kwargs)\u001b[0m\n\u001b[1;32m    532\u001b[0m     \u001b[0;32melif\u001b[0m \u001b[0misinstance\u001b[0m\u001b[0;34m(\u001b[0m\u001b[0msampling_strategy\u001b[0m\u001b[0;34m,\u001b[0m \u001b[0mdict\u001b[0m\u001b[0;34m)\u001b[0m\u001b[0;34m:\u001b[0m\u001b[0;34m\u001b[0m\u001b[0;34m\u001b[0m\u001b[0m\n\u001b[1;32m    533\u001b[0m         return OrderedDict(\n\u001b[0;32m--> 534\u001b[0;31m             \u001b[0msorted\u001b[0m\u001b[0;34m(\u001b[0m\u001b[0m_sampling_strategy_dict\u001b[0m\u001b[0;34m(\u001b[0m\u001b[0msampling_strategy\u001b[0m\u001b[0;34m,\u001b[0m \u001b[0my\u001b[0m\u001b[0;34m,\u001b[0m \u001b[0msampling_type\u001b[0m\u001b[0;34m)\u001b[0m\u001b[0;34m.\u001b[0m\u001b[0mitems\u001b[0m\u001b[0;34m(\u001b[0m\u001b[0;34m)\u001b[0m\u001b[0;34m)\u001b[0m\u001b[0;34m\u001b[0m\u001b[0;34m\u001b[0m\u001b[0m\n\u001b[0m\u001b[1;32m    535\u001b[0m         )\n\u001b[1;32m    536\u001b[0m     \u001b[0;32melif\u001b[0m \u001b[0misinstance\u001b[0m\u001b[0;34m(\u001b[0m\u001b[0msampling_strategy\u001b[0m\u001b[0;34m,\u001b[0m \u001b[0mlist\u001b[0m\u001b[0;34m)\u001b[0m\u001b[0;34m:\u001b[0m\u001b[0;34m\u001b[0m\u001b[0;34m\u001b[0m\u001b[0m\n",
            "\u001b[0;32m/usr/local/lib/python3.10/dist-packages/imblearn/utils/_validation.py\u001b[0m in \u001b[0;36m_sampling_strategy_dict\u001b[0;34m(sampling_strategy, y, sampling_type)\u001b[0m\n\u001b[1;32m    303\u001b[0m         \u001b[0;32mfor\u001b[0m \u001b[0mclass_sample\u001b[0m\u001b[0;34m,\u001b[0m \u001b[0mn_samples\u001b[0m \u001b[0;32min\u001b[0m \u001b[0msampling_strategy\u001b[0m\u001b[0;34m.\u001b[0m\u001b[0mitems\u001b[0m\u001b[0;34m(\u001b[0m\u001b[0;34m)\u001b[0m\u001b[0;34m:\u001b[0m\u001b[0;34m\u001b[0m\u001b[0;34m\u001b[0m\u001b[0m\n\u001b[1;32m    304\u001b[0m             \u001b[0;32mif\u001b[0m \u001b[0mn_samples\u001b[0m \u001b[0;34m<\u001b[0m \u001b[0mtarget_stats\u001b[0m\u001b[0;34m[\u001b[0m\u001b[0mclass_sample\u001b[0m\u001b[0;34m]\u001b[0m\u001b[0;34m:\u001b[0m\u001b[0;34m\u001b[0m\u001b[0;34m\u001b[0m\u001b[0m\n\u001b[0;32m--> 305\u001b[0;31m                 raise ValueError(\n\u001b[0m\u001b[1;32m    306\u001b[0m                     \u001b[0;34mf\"With over-sampling methods, the number\"\u001b[0m\u001b[0;34m\u001b[0m\u001b[0;34m\u001b[0m\u001b[0m\n\u001b[1;32m    307\u001b[0m                     \u001b[0;34mf\" of samples in a class should be greater\"\u001b[0m\u001b[0;34m\u001b[0m\u001b[0;34m\u001b[0m\u001b[0m\n",
            "\u001b[0;31mValueError\u001b[0m: With over-sampling methods, the number of samples in a class should be greater or equal to the original number of samples. Originally, there is 1479 samples and 1000 samples are asked."
          ]
        }
      ],
      "source": [
        "X_train, y_train = smote.fit_resample(X_train, y_train)"
      ]
    },
    {
      "cell_type": "code",
      "execution_count": null,
      "metadata": {
        "id": "I-ckF5zZj3Pr",
        "outputId": "e1f0a5d5-53de-4609-fe4b-2fbc5da0c03a"
      },
      "outputs": [
        {
          "data": {
            "text/plain": [
              "0    14548\n",
              "3     2423\n",
              "6     1744\n",
              "1     1573\n",
              "5     1024\n",
              "4     1000\n",
              "2     1000\n",
              "dtype: int64"
            ]
          },
          "execution_count": 37,
          "metadata": {},
          "output_type": "execute_result"
        }
      ],
      "source": [
        "pd.Series(y_train).value_counts()"
      ]
    },
    {
      "cell_type": "markdown",
      "metadata": {
        "id": "i3jd8vSoj3Pr"
      },
      "source": [
        "## Machine learning model training"
      ]
    },
    {
      "cell_type": "markdown",
      "metadata": {
        "id": "RFDroGx3j3Pr"
      },
      "source": [
        "### Training four base learners: decision tree, random forest, extra trees, XGBoost"
      ]
    },
    {
      "cell_type": "markdown",
      "metadata": {
        "id": "QI9dVgepj3Ps"
      },
      "source": [
        "#### Apply XGBoost"
      ]
    },
    {
      "cell_type": "code",
      "execution_count": 69,
      "metadata": {
        "colab": {
          "base_uri": "https://localhost:8080/",
          "height": 780
        },
        "id": "B4LUGOpCj3Ps",
        "outputId": "4e264456-24c5-40e4-ba0f-0d7746fca6ad"
      },
      "outputs": [
        {
          "name": "stdout",
          "output_type": "stream",
          "text": [
            "Accuracy of XGBoost: 0.9944362017804155\n",
            "Precision of XGBoost: 0.9944435090748814\n",
            "Recall of XGBoost: 0.9944362017804155\n",
            "F1-score of XGBoost: 0.9944330354560527\n",
            "              precision    recall  f1-score   support\n",
            "\n",
            "           0       0.99      0.99      0.99       667\n",
            "           1       1.00      1.00      1.00      2079\n",
            "           2       1.00      0.99      1.00       380\n",
            "           3       0.99      0.99      0.99      1134\n",
            "           4       1.00      0.99      0.99      1131\n",
            "           5       1.00      1.00      1.00         1\n",
            "\n",
            "    accuracy                           0.99      5392\n",
            "   macro avg       1.00      0.99      0.99      5392\n",
            "weighted avg       0.99      0.99      0.99      5392\n",
            "\n"
          ]
        },
        {
          "data": {
            "image/png": "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",
            "text/plain": [
              "<Figure size 500x500 with 2 Axes>"
            ]
          },
          "metadata": {},
          "output_type": "display_data"
        }
      ],
      "source": [
        "xg = xgb.XGBClassifier(n_estimators = 10)\n",
        "xg.fit(X_train,y_train)\n",
        "xg_score=xg.score(X_test,y_test)\n",
        "y_predict=xg.predict(X_test)\n",
        "y_true=y_test\n",
        "print('Accuracy of XGBoost: '+ str(xg_score))\n",
        "precision,recall,fscore,none= precision_recall_fscore_support(y_true, y_predict, average='weighted')\n",
        "print('Precision of XGBoost: '+(str(precision)))\n",
        "print('Recall of XGBoost: '+(str(recall)))\n",
        "print('F1-score of XGBoost: '+(str(fscore)))\n",
        "print(classification_report(y_true,y_predict))\n",
        "cm=confusion_matrix(y_true,y_predict)\n",
        "f,ax=plt.subplots(figsize=(5,5))\n",
        "sns.heatmap(cm,annot=True,linewidth=0.5,linecolor=\"red\",fmt=\".0f\",ax=ax)\n",
        "plt.xlabel(\"y_pred\")\n",
        "plt.ylabel(\"y_true\")\n",
        "plt.show()"
      ]
    },
    {
      "cell_type": "markdown",
      "metadata": {
        "id": "8HYad9amj3Ps"
      },
      "source": [
        "#### Hyperparameter optimization (HPO) of XGBoost using Bayesian optimization with tree-based Parzen estimator (BO-TPE)\n",
        "Based on the GitHub repo for HPO: https://github.com/LiYangHart/Hyperparameter-Optimization-of-Machine-Learning-Algorithms"
      ]
    },
    {
      "cell_type": "code",
      "execution_count": 120,
      "metadata": {
        "colab": {
          "base_uri": "https://localhost:8080/"
        },
        "id": "ATD5G8Mxj3Ps",
        "outputId": "c3a4065d-5c70-49fc-e5ce-e61501611312"
      },
      "outputs": [
        {
          "name": "stdout",
          "output_type": "stream",
          "text": [
            "100%|██████████| 20/20 [00:31<00:00,  1.59s/trial, best loss: -0.9970727313668093]\n",
            "XGBoost: Hyperopt estimated optimum {'learning_rate': -0.1763900999508716, 'max_depth': 53.0, 'n_estimators': 100.0}\n"
          ]
        }
      ],
      "source": [
        "from hyperopt import hp, fmin, tpe, STATUS_OK, Trials\n",
        "from sklearn.model_selection import cross_val_score, StratifiedKFold\n",
        "def objective(params):\n",
        "    params = {\n",
        "        'n_estimators': int(params['n_estimators']),\n",
        "        'max_depth': int(params['max_depth']),\n",
        "        'learning_rate':  abs(float(params['learning_rate'])),\n",
        "\n",
        "    }\n",
        "    clf = xgb.XGBClassifier( **params)\n",
        "    clf.fit(X_train, y_train)\n",
        "    y_pred = clf.predict(X_test)\n",
        "    score = accuracy_score(y_test, y_pred)\n",
        "\n",
        "    return {'loss':-score, 'status': STATUS_OK }\n",
        "\n",
        "space = {\n",
        "    'n_estimators': hp.quniform('n_estimators', 10, 100, 5),\n",
        "    'max_depth': hp.quniform('max_depth', 4, 100, 1),\n",
        "    'learning_rate': hp.normal('learning_rate', 0.01, 0.9),\n",
        "}\n",
        "\n",
        "best = fmin(fn=objective,\n",
        "            space=space,\n",
        "            algo=tpe.suggest,\n",
        "            max_evals=20)\n",
        "print(\"XGBoost: Hyperopt estimated optimum {}\".format(best))"
      ]
    },
    {
      "cell_type": "code",
      "execution_count": 121,
      "metadata": {
        "colab": {
          "base_uri": "https://localhost:8080/",
          "height": 780
        },
        "id": "wSqbo2Dbj3Ps",
        "outputId": "ec95a438-52ff-405e-a675-aac4c2e3a15e"
      },
      "outputs": [
        {
          "name": "stdout",
          "output_type": "stream",
          "text": [
            "Accuracy of XGBoost: 0.9966223823463184\n",
            "Precision of XGBoost: 0.9964130708194209\n",
            "Recall of XGBoost: 0.9966223823463184\n",
            "F1-score of XGBoost: 0.9965120842486662\n",
            "              precision    recall  f1-score   support\n",
            "\n",
            "           0       0.99      1.00      0.99       586\n",
            "           1       1.00      1.00      1.00      1210\n",
            "           2       1.00      0.99      1.00       362\n",
            "           3       1.00      1.00      1.00      1111\n",
            "           4       1.00      0.99      0.99      1168\n",
            "           5       1.00      1.00      1.00         3\n",
            "           6       0.00      0.00      0.00         1\n",
            "\n",
            "    accuracy                           1.00      4441\n",
            "   macro avg       0.85      0.85      0.85      4441\n",
            "weighted avg       1.00      1.00      1.00      4441\n",
            "\n"
          ]
        },
        {
          "data": {
            "image/png": "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",
            "text/plain": [
              "<Figure size 500x500 with 2 Axes>"
            ]
          },
          "metadata": {},
          "output_type": "display_data"
        }
      ],
      "source": [
        "xg = xgb.XGBClassifier(learning_rate= 0.7340229699980686, n_estimators = 70, max_depth = 14)\n",
        "xg.fit(X_train,y_train)\n",
        "xg_score=xg.score(X_test,y_test)\n",
        "y_predict=xg.predict(X_test)\n",
        "y_true=y_test\n",
        "print('Accuracy of XGBoost: '+ str(xg_score))\n",
        "precision,recall,fscore,none= precision_recall_fscore_support(y_true, y_predict, average='weighted')\n",
        "print('Precision of XGBoost: '+(str(precision)))\n",
        "print('Recall of XGBoost: '+(str(recall)))\n",
        "print('F1-score of XGBoost: '+(str(fscore)))\n",
        "print(classification_report(y_true,y_predict))\n",
        "cm=confusion_matrix(y_true,y_predict)\n",
        "f,ax=plt.subplots(figsize=(5,5))\n",
        "sns.heatmap(cm,annot=True,linewidth=0.5,linecolor=\"red\",fmt=\".0f\",ax=ax)\n",
        "plt.xlabel(\"y_pred\")\n",
        "plt.ylabel(\"y_true\")\n",
        "plt.show()"
      ]
    },
    {
      "cell_type": "code",
      "execution_count": 125,
      "metadata": {
        "id": "kUQJAhvUj3Ps"
      },
      "outputs": [],
      "source": [
        "xg_train=xg.predict(X_train)\n",
        "xg_test=xg.predict(X_test)"
      ]
    },
    {
      "cell_type": "markdown",
      "metadata": {
        "id": "sUzY39ppj3Ps"
      },
      "source": [
        "#### Apply RF"
      ]
    },
    {
      "cell_type": "code",
      "execution_count": 124,
      "metadata": {
        "colab": {
          "base_uri": "https://localhost:8080/",
          "height": 780
        },
        "id": "Rvzx-68qj3Ps",
        "outputId": "536ea119-ed26-4743-8a07-7732404c3a5b"
      },
      "outputs": [
        {
          "name": "stdout",
          "output_type": "stream",
          "text": [
            "Accuracy of RF: 0.9957216843053366\n",
            "Precision of RF: 0.9955188588758213\n",
            "Recall of RF: 0.9957216843053366\n",
            "F1-score of RF: 0.9956130629033941\n",
            "              precision    recall  f1-score   support\n",
            "\n",
            "           0       0.98      1.00      0.99       586\n",
            "           1       1.00      1.00      1.00      1210\n",
            "           2       1.00      0.99      0.99       362\n",
            "           3       1.00      1.00      1.00      1111\n",
            "           4       1.00      0.99      1.00      1168\n",
            "           5       1.00      1.00      1.00         3\n",
            "           6       0.00      0.00      0.00         1\n",
            "\n",
            "    accuracy                           1.00      4441\n",
            "   macro avg       0.85      0.85      0.85      4441\n",
            "weighted avg       1.00      1.00      1.00      4441\n",
            "\n"
          ]
        },
        {
          "data": {
            "image/png": "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",
            "text/plain": [
              "<Figure size 500x500 with 2 Axes>"
            ]
          },
          "metadata": {},
          "output_type": "display_data"
        }
      ],
      "source": [
        "rf = RandomForestClassifier(random_state = 0)\n",
        "rf.fit(X_train,y_train)\n",
        "rf_score=rf.score(X_test,y_test)\n",
        "y_predict=rf.predict(X_test)\n",
        "y_true=y_test\n",
        "print('Accuracy of RF: '+ str(rf_score))\n",
        "precision,recall,fscore,none= precision_recall_fscore_support(y_true, y_predict, average='weighted')\n",
        "print('Precision of RF: '+(str(precision)))\n",
        "print('Recall of RF: '+(str(recall)))\n",
        "print('F1-score of RF: '+(str(fscore)))\n",
        "print(classification_report(y_true,y_predict))\n",
        "cm=confusion_matrix(y_true,y_predict)\n",
        "f,ax=plt.subplots(figsize=(5,5))\n",
        "sns.heatmap(cm,annot=True,linewidth=0.5,linecolor=\"red\",fmt=\".0f\",ax=ax)\n",
        "plt.xlabel(\"y_pred\")\n",
        "plt.ylabel(\"y_true\")\n",
        "plt.show()"
      ]
    },
    {
      "cell_type": "markdown",
      "metadata": {
        "id": "8cL_IQVBj3Ps"
      },
      "source": [
        "#### Hyperparameter optimization (HPO) of random forest using Bayesian optimization with tree-based Parzen estimator (BO-TPE)\n",
        "Based on the GitHub repo for HPO: https://github.com/LiYangHart/Hyperparameter-Optimization-of-Machine-Learning-Algorithms"
      ]
    },
    {
      "cell_type": "code",
      "execution_count": 126,
      "metadata": {
        "colab": {
          "base_uri": "https://localhost:8080/"
        },
        "id": "sZnta8MOj3Ps",
        "outputId": "1e81c4f4-00c1-45c4-8c72-0fffb6df5fe2"
      },
      "outputs": [
        {
          "name": "stdout",
          "output_type": "stream",
          "text": [
            "100%|██████████| 20/20 [01:25<00:00,  4.25s/trial, best loss: -0.9957216843053366]\n",
            "Random Forest: Hyperopt estimated optimum {'criterion': 1, 'max_depth': 30.0, 'max_features': 6.0, 'min_samples_leaf': 9.0, 'min_samples_split': 9.0, 'n_estimators': 80.0}\n"
          ]
        }
      ],
      "source": [
        "# Hyperparameter optimization of random forest\n",
        "from hyperopt import hp, fmin, tpe, STATUS_OK, Trials\n",
        "from sklearn.model_selection import cross_val_score, StratifiedKFold\n",
        "# Define the objective function\n",
        "def objective(params):\n",
        "    params = {\n",
        "        'n_estimators': int(params['n_estimators']),\n",
        "        'max_depth': int(params['max_depth']),\n",
        "        'max_features': int(params['max_features']),\n",
        "        \"min_samples_split\":int(params['min_samples_split']),\n",
        "        \"min_samples_leaf\":int(params['min_samples_leaf']),\n",
        "        \"criterion\":str(params['criterion'])\n",
        "    }\n",
        "    clf = RandomForestClassifier( **params)\n",
        "    clf.fit(X_train,y_train)\n",
        "    score=clf.score(X_test,y_test)\n",
        "\n",
        "    return {'loss':-score, 'status': STATUS_OK }\n",
        "# Define the hyperparameter configuration space\n",
        "space = {\n",
        "    'n_estimators': hp.quniform('n_estimators', 10, 200, 1),\n",
        "    'max_depth': hp.quniform('max_depth', 5, 50, 1),\n",
        "    \"max_features\":hp.quniform('max_features', 1, 20, 1),\n",
        "    \"min_samples_split\":hp.quniform('min_samples_split',2,11,1),\n",
        "    \"min_samples_leaf\":hp.quniform('min_samples_leaf',1,11,1),\n",
        "    \"criterion\":hp.choice('criterion',['gini','entropy'])\n",
        "}\n",
        "\n",
        "best = fmin(fn=objective,\n",
        "            space=space,\n",
        "            algo=tpe.suggest,\n",
        "            max_evals=20)\n",
        "print(\"Random Forest: Hyperopt estimated optimum {}\".format(best))"
      ]
    },
    {
      "cell_type": "code",
      "execution_count": 127,
      "metadata": {
        "colab": {
          "base_uri": "https://localhost:8080/",
          "height": 780
        },
        "id": "fr9Ks0nlj3Pt",
        "outputId": "258bc6cc-aac3-42cd-fd74-b6f72d5449a2"
      },
      "outputs": [
        {
          "name": "stdout",
          "output_type": "stream",
          "text": [
            "Accuracy of RF: 0.9959468588155821\n",
            "Precision of RF: 0.9957417104213453\n",
            "Recall of RF: 0.9959468588155821\n",
            "F1-score of RF: 0.9958370828786182\n",
            "              precision    recall  f1-score   support\n",
            "\n",
            "           0       0.98      1.00      0.99       586\n",
            "           1       1.00      1.00      1.00      1210\n",
            "           2       1.00      0.99      0.99       362\n",
            "           3       1.00      1.00      1.00      1111\n",
            "           4       1.00      1.00      1.00      1168\n",
            "           5       1.00      1.00      1.00         3\n",
            "           6       0.00      0.00      0.00         1\n",
            "\n",
            "    accuracy                           1.00      4441\n",
            "   macro avg       0.85      0.85      0.85      4441\n",
            "weighted avg       1.00      1.00      1.00      4441\n",
            "\n"
          ]
        },
        {
          "data": {
            "image/png": "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",
            "text/plain": [
              "<Figure size 500x500 with 2 Axes>"
            ]
          },
          "metadata": {},
          "output_type": "display_data"
        }
      ],
      "source": [
        "rf_hpo = RandomForestClassifier(n_estimators = 71, min_samples_leaf = 1, max_depth = 46, min_samples_split = 9, max_features = 20, criterion = 'entropy')\n",
        "rf_hpo.fit(X_train,y_train)\n",
        "rf_score=rf_hpo.score(X_test,y_test)\n",
        "y_predict=rf_hpo.predict(X_test)\n",
        "y_true=y_test\n",
        "print('Accuracy of RF: '+ str(rf_score))\n",
        "precision,recall,fscore,none= precision_recall_fscore_support(y_true, y_predict, average='weighted')\n",
        "print('Precision of RF: '+(str(precision)))\n",
        "print('Recall of RF: '+(str(recall)))\n",
        "print('F1-score of RF: '+(str(fscore)))\n",
        "print(classification_report(y_true,y_predict))\n",
        "cm=confusion_matrix(y_true,y_predict)\n",
        "f,ax=plt.subplots(figsize=(5,5))\n",
        "sns.heatmap(cm,annot=True,linewidth=0.5,linecolor=\"red\",fmt=\".0f\",ax=ax)\n",
        "plt.xlabel(\"y_pred\")\n",
        "plt.ylabel(\"y_true\")\n",
        "plt.show()"
      ]
    },
    {
      "cell_type": "code",
      "execution_count": 128,
      "metadata": {
        "collapsed": true,
        "id": "opP30_axj3Pt"
      },
      "outputs": [],
      "source": [
        "rf_train=rf_hpo.predict(X_train)\n",
        "rf_test=rf_hpo.predict(X_test)"
      ]
    },
    {
      "cell_type": "markdown",
      "metadata": {
        "id": "2YHFkzmMj3Pt"
      },
      "source": [
        "#### Apply DT"
      ]
    },
    {
      "cell_type": "code",
      "execution_count": 129,
      "metadata": {
        "colab": {
          "base_uri": "https://localhost:8080/",
          "height": 780
        },
        "id": "6QbgN1XPj3Pt",
        "outputId": "0b75fe98-05d5-4c17-b80a-dd87f1c5815d"
      },
      "outputs": [
        {
          "name": "stdout",
          "output_type": "stream",
          "text": [
            "Accuracy of DT: 0.9950461607746003\n",
            "Precision of DT: 0.9948262565673568\n",
            "Recall of DT: 0.9950461607746003\n",
            "F1-score of DT: 0.9949344389625965\n",
            "              precision    recall  f1-score   support\n",
            "\n",
            "           0       0.99      0.99      0.99       586\n",
            "           1       1.00      1.00      1.00      1210\n",
            "           2       0.99      0.99      0.99       362\n",
            "           3       0.99      1.00      1.00      1111\n",
            "           4       0.99      0.99      0.99      1168\n",
            "           5       1.00      1.00      1.00         3\n",
            "           6       0.00      0.00      0.00         1\n",
            "\n",
            "    accuracy                           1.00      4441\n",
            "   macro avg       0.85      0.85      0.85      4441\n",
            "weighted avg       0.99      1.00      0.99      4441\n",
            "\n"
          ]
        },
        {
          "data": {
            "image/png": "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",
            "text/plain": [
              "<Figure size 500x500 with 2 Axes>"
            ]
          },
          "metadata": {},
          "output_type": "display_data"
        }
      ],
      "source": [
        "dt = DecisionTreeClassifier(random_state = 0)\n",
        "dt.fit(X_train,y_train)\n",
        "dt_score=dt.score(X_test,y_test)\n",
        "y_predict=dt.predict(X_test)\n",
        "y_true=y_test\n",
        "print('Accuracy of DT: '+ str(dt_score))\n",
        "precision,recall,fscore,none= precision_recall_fscore_support(y_true, y_predict, average='weighted')\n",
        "print('Precision of DT: '+(str(precision)))\n",
        "print('Recall of DT: '+(str(recall)))\n",
        "print('F1-score of DT: '+(str(fscore)))\n",
        "print(classification_report(y_true,y_predict))\n",
        "cm=confusion_matrix(y_true,y_predict)\n",
        "f,ax=plt.subplots(figsize=(5,5))\n",
        "sns.heatmap(cm,annot=True,linewidth=0.5,linecolor=\"red\",fmt=\".0f\",ax=ax)\n",
        "plt.xlabel(\"y_pred\")\n",
        "plt.ylabel(\"y_true\")\n",
        "plt.show()"
      ]
    },
    {
      "cell_type": "markdown",
      "metadata": {
        "id": "GR6fMfW2j3Pt"
      },
      "source": [
        "#### Hyperparameter optimization (HPO) of decision tree using Bayesian optimization with tree-based Parzen estimator (BO-TPE)\n",
        "Based on the GitHub repo for HPO: https://github.com/LiYangHart/Hyperparameter-Optimization-of-Machine-Learning-Algorithms"
      ]
    },
    {
      "cell_type": "code",
      "execution_count": 130,
      "metadata": {
        "colab": {
          "base_uri": "https://localhost:8080/"
        },
        "id": "HdO2OQR7j3Pt",
        "outputId": "cfe61d23-aac6-4dd1-cb77-97737f3cdee1"
      },
      "outputs": [
        {
          "name": "stdout",
          "output_type": "stream",
          "text": [
            "100%|██████████| 50/50 [00:03<00:00, 14.90trial/s, best loss: -0.9957216843053366]\n",
            "Decision tree: Hyperopt estimated optimum {'criterion': 0, 'max_depth': 17.0, 'max_features': 14.0, 'min_samples_leaf': 1.0, 'min_samples_split': 4.0}\n"
          ]
        }
      ],
      "source": [
        "# Hyperparameter optimization of decision tree\n",
        "from hyperopt import hp, fmin, tpe, STATUS_OK, Trials\n",
        "from sklearn.model_selection import cross_val_score, StratifiedKFold\n",
        "# Define the objective function\n",
        "def objective(params):\n",
        "    params = {\n",
        "        'max_depth': int(params['max_depth']),\n",
        "        'max_features': int(params['max_features']),\n",
        "        \"min_samples_split\":int(params['min_samples_split']),\n",
        "        \"min_samples_leaf\":int(params['min_samples_leaf']),\n",
        "        \"criterion\":str(params['criterion'])\n",
        "    }\n",
        "    clf = DecisionTreeClassifier( **params)\n",
        "    clf.fit(X_train,y_train)\n",
        "    score=clf.score(X_test,y_test)\n",
        "\n",
        "    return {'loss':-score, 'status': STATUS_OK }\n",
        "# Define the hyperparameter configuration space\n",
        "space = {\n",
        "    'max_depth': hp.quniform('max_depth', 5, 50, 1),\n",
        "    \"max_features\":hp.quniform('max_features', 1, 20, 1),\n",
        "    \"min_samples_split\":hp.quniform('min_samples_split',2,11,1),\n",
        "    \"min_samples_leaf\":hp.quniform('min_samples_leaf',1,11,1),\n",
        "    \"criterion\":hp.choice('criterion',['gini','entropy'])\n",
        "}\n",
        "\n",
        "best = fmin(fn=objective,\n",
        "            space=space,\n",
        "            algo=tpe.suggest,\n",
        "            max_evals=50)\n",
        "print(\"Decision tree: Hyperopt estimated optimum {}\".format(best))"
      ]
    },
    {
      "cell_type": "code",
      "execution_count": 131,
      "metadata": {
        "colab": {
          "base_uri": "https://localhost:8080/",
          "height": 780
        },
        "id": "Huv-lcyDj3Pt",
        "outputId": "f5010f74-20eb-4062-bed7-662b49f268d5"
      },
      "outputs": [
        {
          "name": "stdout",
          "output_type": "stream",
          "text": [
            "Accuracy of DT: 0.9945958117541094\n",
            "Precision of DT: 0.994409932177002\n",
            "Recall of DT: 0.9945958117541094\n",
            "F1-score of DT: 0.9944648776587703\n",
            "              precision    recall  f1-score   support\n",
            "\n",
            "           0       0.98      1.00      0.99       586\n",
            "           1       1.00      1.00      1.00      1210\n",
            "           2       1.00      0.98      0.99       362\n",
            "           3       0.99      1.00      1.00      1111\n",
            "           4       0.99      0.99      0.99      1168\n",
            "           5       1.00      0.67      0.80         3\n",
            "           6       0.00      0.00      0.00         1\n",
            "\n",
            "    accuracy                           0.99      4441\n",
            "   macro avg       0.85      0.81      0.82      4441\n",
            "weighted avg       0.99      0.99      0.99      4441\n",
            "\n"
          ]
        },
        {
          "data": {
            "image/png": "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",
            "text/plain": [
              "<Figure size 500x500 with 2 Axes>"
            ]
          },
          "metadata": {},
          "output_type": "display_data"
        }
      ],
      "source": [
        "dt_hpo = DecisionTreeClassifier(min_samples_leaf = 2, max_depth = 47, min_samples_split = 3, max_features = 19, criterion = 'gini')\n",
        "dt_hpo.fit(X_train,y_train)\n",
        "dt_score=dt_hpo.score(X_test,y_test)\n",
        "y_predict=dt_hpo.predict(X_test)\n",
        "y_true=y_test\n",
        "print('Accuracy of DT: '+ str(dt_score))\n",
        "precision,recall,fscore,none= precision_recall_fscore_support(y_true, y_predict, average='weighted')\n",
        "print('Precision of DT: '+(str(precision)))\n",
        "print('Recall of DT: '+(str(recall)))\n",
        "print('F1-score of DT: '+(str(fscore)))\n",
        "print(classification_report(y_true,y_predict))\n",
        "cm=confusion_matrix(y_true,y_predict)\n",
        "f,ax=plt.subplots(figsize=(5,5))\n",
        "sns.heatmap(cm,annot=True,linewidth=0.5,linecolor=\"red\",fmt=\".0f\",ax=ax)\n",
        "plt.xlabel(\"y_pred\")\n",
        "plt.ylabel(\"y_true\")\n",
        "plt.show()"
      ]
    },
    {
      "cell_type": "code",
      "execution_count": 132,
      "metadata": {
        "collapsed": true,
        "id": "vGP4pBYHj3Pt"
      },
      "outputs": [],
      "source": [
        "dt_train=dt_hpo.predict(X_train)\n",
        "dt_test=dt_hpo.predict(X_test)"
      ]
    },
    {
      "cell_type": "markdown",
      "metadata": {
        "id": "vPlzxN2Nj3Pt"
      },
      "source": [
        "#### Apply ET"
      ]
    },
    {
      "cell_type": "code",
      "execution_count": 133,
      "metadata": {
        "colab": {
          "base_uri": "https://localhost:8080/",
          "height": 780
        },
        "id": "6Cy0G3w3j3Pt",
        "outputId": "828e6ca7-5e6d-41a7-8d03-100f17945f1c"
      },
      "outputs": [
        {
          "name": "stdout",
          "output_type": "stream",
          "text": [
            "Accuracy of ET: 0.9961720333258275\n",
            "Precision of ET: 0.9959598061353804\n",
            "Recall of ET: 0.9961720333258275\n",
            "F1-score of ET: 0.9960616471932306\n",
            "              precision    recall  f1-score   support\n",
            "\n",
            "           0       0.99      1.00      0.99       586\n",
            "           1       1.00      1.00      1.00      1210\n",
            "           2       1.00      0.99      0.99       362\n",
            "           3       1.00      1.00      1.00      1111\n",
            "           4       1.00      0.99      1.00      1168\n",
            "           5       1.00      1.00      1.00         3\n",
            "           6       0.00      0.00      0.00         1\n",
            "\n",
            "    accuracy                           1.00      4441\n",
            "   macro avg       0.85      0.85      0.85      4441\n",
            "weighted avg       1.00      1.00      1.00      4441\n",
            "\n"
          ]
        },
        {
          "data": {
            "image/png": "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",
            "text/plain": [
              "<Figure size 500x500 with 2 Axes>"
            ]
          },
          "metadata": {},
          "output_type": "display_data"
        }
      ],
      "source": [
        "et = ExtraTreesClassifier(random_state = 0)\n",
        "et.fit(X_train,y_train)\n",
        "et_score=et.score(X_test,y_test)\n",
        "y_predict=et.predict(X_test)\n",
        "y_true=y_test\n",
        "print('Accuracy of ET: '+ str(et_score))\n",
        "precision,recall,fscore,none= precision_recall_fscore_support(y_true, y_predict, average='weighted')\n",
        "print('Precision of ET: '+(str(precision)))\n",
        "print('Recall of ET: '+(str(recall)))\n",
        "print('F1-score of ET: '+(str(fscore)))\n",
        "print(classification_report(y_true,y_predict))\n",
        "cm=confusion_matrix(y_true,y_predict)\n",
        "f,ax=plt.subplots(figsize=(5,5))\n",
        "sns.heatmap(cm,annot=True,linewidth=0.5,linecolor=\"red\",fmt=\".0f\",ax=ax)\n",
        "plt.xlabel(\"y_pred\")\n",
        "plt.ylabel(\"y_true\")\n",
        "plt.show()"
      ]
    },
    {
      "cell_type": "markdown",
      "metadata": {
        "id": "MfpCAs_7j3Pu"
      },
      "source": [
        "#### Hyperparameter optimization (HPO) of extra trees using Bayesian optimization with tree-based Parzen estimator (BO-TPE)\n",
        "Based on the GitHub repo for HPO: https://github.com/LiYangHart/Hyperparameter-Optimization-of-Machine-Learning-Algorithms"
      ]
    },
    {
      "cell_type": "code",
      "execution_count": 134,
      "metadata": {
        "colab": {
          "base_uri": "https://localhost:8080/"
        },
        "id": "b1zs7qV_j3Pu",
        "outputId": "82889ae6-7f95-463f-eecd-703a2f61f34c"
      },
      "outputs": [
        {
          "name": "stdout",
          "output_type": "stream",
          "text": [
            "100%|██████████| 20/20 [00:25<00:00,  1.26s/trial, best loss: -0.9961720333258275]\n",
            "Random Forest: Hyperopt estimated optimum {'criterion': 0, 'max_depth': 48.0, 'max_features': 19.0, 'min_samples_leaf': 2.0, 'min_samples_split': 7.0, 'n_estimators': 187.0}\n"
          ]
        }
      ],
      "source": [
        "# Hyperparameter optimization of extra trees\n",
        "from hyperopt import hp, fmin, tpe, STATUS_OK, Trials\n",
        "from sklearn.model_selection import cross_val_score, StratifiedKFold\n",
        "# Define the objective function\n",
        "def objective(params):\n",
        "    params = {\n",
        "        'n_estimators': int(params['n_estimators']),\n",
        "        'max_depth': int(params['max_depth']),\n",
        "        'max_features': int(params['max_features']),\n",
        "        \"min_samples_split\":int(params['min_samples_split']),\n",
        "        \"min_samples_leaf\":int(params['min_samples_leaf']),\n",
        "        \"criterion\":str(params['criterion'])\n",
        "    }\n",
        "    clf = ExtraTreesClassifier( **params)\n",
        "    clf.fit(X_train,y_train)\n",
        "    score=clf.score(X_test,y_test)\n",
        "\n",
        "    return {'loss':-score, 'status': STATUS_OK }\n",
        "# Define the hyperparameter configuration space\n",
        "space = {\n",
        "    'n_estimators': hp.quniform('n_estimators', 10, 200, 1),\n",
        "    'max_depth': hp.quniform('max_depth', 5, 50, 1),\n",
        "    \"max_features\":hp.quniform('max_features', 1, 20, 1),\n",
        "    \"min_samples_split\":hp.quniform('min_samples_split',2,11,1),\n",
        "    \"min_samples_leaf\":hp.quniform('min_samples_leaf',1,11,1),\n",
        "    \"criterion\":hp.choice('criterion',['gini','entropy'])\n",
        "}\n",
        "\n",
        "best = fmin(fn=objective,\n",
        "            space=space,\n",
        "            algo=tpe.suggest,\n",
        "            max_evals=20)\n",
        "print(\"Random Forest: Hyperopt estimated optimum {}\".format(best))"
      ]
    },
    {
      "cell_type": "code",
      "execution_count": 135,
      "metadata": {
        "colab": {
          "base_uri": "https://localhost:8080/",
          "height": 780
        },
        "id": "32H9eoE5j3Pu",
        "outputId": "b4cac07e-5d32-482b-83a4-4738ab9cf437"
      },
      "outputs": [
        {
          "name": "stdout",
          "output_type": "stream",
          "text": [
            "Accuracy of ET: 0.9957216843053366\n",
            "Precision of ET: 0.9955162532701932\n",
            "Recall of ET: 0.9957216843053366\n",
            "F1-score of ET: 0.9956132551948538\n",
            "              precision    recall  f1-score   support\n",
            "\n",
            "           0       0.98      1.00      0.99       586\n",
            "           1       1.00      1.00      1.00      1210\n",
            "           2       1.00      0.99      0.99       362\n",
            "           3       1.00      1.00      1.00      1111\n",
            "           4       1.00      0.99      1.00      1168\n",
            "           5       1.00      1.00      1.00         3\n",
            "           6       0.00      0.00      0.00         1\n",
            "\n",
            "    accuracy                           1.00      4441\n",
            "   macro avg       0.85      0.85      0.85      4441\n",
            "weighted avg       1.00      1.00      1.00      4441\n",
            "\n"
          ]
        },
        {
          "data": {
            "image/png": "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",
            "text/plain": [
              "<Figure size 500x500 with 2 Axes>"
            ]
          },
          "metadata": {},
          "output_type": "display_data"
        }
      ],
      "source": [
        "et_hpo = ExtraTreesClassifier(n_estimators = 53, min_samples_leaf = 1, max_depth = 31, min_samples_split = 5, max_features = 20, criterion = 'entropy')\n",
        "et_hpo.fit(X_train,y_train)\n",
        "et_score=et_hpo.score(X_test,y_test)\n",
        "y_predict=et_hpo.predict(X_test)\n",
        "y_true=y_test\n",
        "print('Accuracy of ET: '+ str(et_score))\n",
        "precision,recall,fscore,none= precision_recall_fscore_support(y_true, y_predict, average='weighted')\n",
        "print('Precision of ET: '+(str(precision)))\n",
        "print('Recall of ET: '+(str(recall)))\n",
        "print('F1-score of ET: '+(str(fscore)))\n",
        "print(classification_report(y_true,y_predict))\n",
        "cm=confusion_matrix(y_true,y_predict)\n",
        "f,ax=plt.subplots(figsize=(5,5))\n",
        "sns.heatmap(cm,annot=True,linewidth=0.5,linecolor=\"red\",fmt=\".0f\",ax=ax)\n",
        "plt.xlabel(\"y_pred\")\n",
        "plt.ylabel(\"y_true\")\n",
        "plt.show()"
      ]
    },
    {
      "cell_type": "code",
      "execution_count": 136,
      "metadata": {
        "collapsed": true,
        "id": "BP7Fya3Rj3Pu"
      },
      "outputs": [],
      "source": [
        "et_train=et_hpo.predict(X_train)\n",
        "et_test=et_hpo.predict(X_test)"
      ]
    },
    {
      "cell_type": "markdown",
      "metadata": {
        "id": "R5tI_rfej3Pu"
      },
      "source": [
        "### Apply Stacking\n",
        "The ensemble model that combines the four ML models (DT, RF, ET, XGBoost)"
      ]
    },
    {
      "cell_type": "code",
      "execution_count": 137,
      "metadata": {
        "colab": {
          "base_uri": "https://localhost:8080/",
          "height": 206
        },
        "id": "YXrGigUaj3Pu",
        "outputId": "9858f9f9-b041-482f-c849-0ed9a61ea90d"
      },
      "outputs": [
        {
          "data": {
            "application/vnd.google.colaboratory.intrinsic+json": {
              "summary": "{\n  \"name\": \"base_predictions_train\",\n  \"rows\": 17764,\n  \"fields\": [\n    {\n      \"column\": \"DecisionTree\",\n      \"properties\": {\n        \"dtype\": \"number\",\n        \"std\": 1,\n        \"min\": 0,\n        \"max\": 5,\n        \"num_unique_values\": 6,\n        \"samples\": [\n          1,\n          3,\n          5\n        ],\n        \"semantic_type\": \"\",\n        \"description\": \"\"\n      }\n    },\n    {\n      \"column\": \"RandomForest\",\n      \"properties\": {\n        \"dtype\": \"number\",\n        \"std\": 1,\n        \"min\": 0,\n        \"max\": 5,\n        \"num_unique_values\": 6,\n        \"samples\": [\n          1,\n          3,\n          5\n        ],\n        \"semantic_type\": \"\",\n        \"description\": \"\"\n      }\n    },\n    {\n      \"column\": \"ExtraTrees\",\n      \"properties\": {\n        \"dtype\": \"number\",\n        \"std\": 1,\n        \"min\": 0,\n        \"max\": 5,\n        \"num_unique_values\": 6,\n        \"samples\": [\n          1,\n          3,\n          5\n        ],\n        \"semantic_type\": \"\",\n        \"description\": \"\"\n      }\n    },\n    {\n      \"column\": \"XgBoost\",\n      \"properties\": {\n        \"dtype\": \"number\",\n        \"std\": 1,\n        \"min\": 0,\n        \"max\": 5,\n        \"num_unique_values\": 6,\n        \"samples\": [\n          1,\n          3,\n          5\n        ],\n        \"semantic_type\": \"\",\n        \"description\": \"\"\n      }\n    }\n  ]\n}",
              "type": "dataframe",
              "variable_name": "base_predictions_train"
            },
            "text/html": [
              "\n",
              "  <div id=\"df-3c0a760a-9d2c-4c5e-b396-df157c1b1552\" class=\"colab-df-container\">\n",
              "    <div>\n",
              "<style scoped>\n",
              "    .dataframe tbody tr th:only-of-type {\n",
              "        vertical-align: middle;\n",
              "    }\n",
              "\n",
              "    .dataframe tbody tr th {\n",
              "        vertical-align: top;\n",
              "    }\n",
              "\n",
              "    .dataframe thead th {\n",
              "        text-align: right;\n",
              "    }\n",
              "</style>\n",
              "<table border=\"1\" class=\"dataframe\">\n",
              "  <thead>\n",
              "    <tr style=\"text-align: right;\">\n",
              "      <th></th>\n",
              "      <th>DecisionTree</th>\n",
              "      <th>RandomForest</th>\n",
              "      <th>ExtraTrees</th>\n",
              "      <th>XgBoost</th>\n",
              "    </tr>\n",
              "  </thead>\n",
              "  <tbody>\n",
              "    <tr>\n",
              "      <th>0</th>\n",
              "      <td>1</td>\n",
              "      <td>1</td>\n",
              "      <td>1</td>\n",
              "      <td>1</td>\n",
              "    </tr>\n",
              "    <tr>\n",
              "      <th>1</th>\n",
              "      <td>3</td>\n",
              "      <td>3</td>\n",
              "      <td>3</td>\n",
              "      <td>3</td>\n",
              "    </tr>\n",
              "    <tr>\n",
              "      <th>2</th>\n",
              "      <td>3</td>\n",
              "      <td>3</td>\n",
              "      <td>3</td>\n",
              "      <td>3</td>\n",
              "    </tr>\n",
              "    <tr>\n",
              "      <th>3</th>\n",
              "      <td>3</td>\n",
              "      <td>3</td>\n",
              "      <td>3</td>\n",
              "      <td>3</td>\n",
              "    </tr>\n",
              "    <tr>\n",
              "      <th>4</th>\n",
              "      <td>3</td>\n",
              "      <td>3</td>\n",
              "      <td>3</td>\n",
              "      <td>3</td>\n",
              "    </tr>\n",
              "  </tbody>\n",
              "</table>\n",
              "</div>\n",
              "    <div class=\"colab-df-buttons\">\n",
              "\n",
              "  <div class=\"colab-df-container\">\n",
              "    <button class=\"colab-df-convert\" onclick=\"convertToInteractive('df-3c0a760a-9d2c-4c5e-b396-df157c1b1552')\"\n",
              "            title=\"Convert this dataframe to an interactive table.\"\n",
              "            style=\"display:none;\">\n",
              "\n",
              "  <svg xmlns=\"http://www.w3.org/2000/svg\" height=\"24px\" viewBox=\"0 -960 960 960\">\n",
              "    <path d=\"M120-120v-720h720v720H120Zm60-500h600v-160H180v160Zm220 220h160v-160H400v160Zm0 220h160v-160H400v160ZM180-400h160v-160H180v160Zm440 0h160v-160H620v160ZM180-180h160v-160H180v160Zm440 0h160v-160H620v160Z\"/>\n",
              "  </svg>\n",
              "    </button>\n",
              "\n",
              "  <style>\n",
              "    .colab-df-container {\n",
              "      display:flex;\n",
              "      gap: 12px;\n",
              "    }\n",
              "\n",
              "    .colab-df-convert {\n",
              "      background-color: #E8F0FE;\n",
              "      border: none;\n",
              "      border-radius: 50%;\n",
              "      cursor: pointer;\n",
              "      display: none;\n",
              "      fill: #1967D2;\n",
              "      height: 32px;\n",
              "      padding: 0 0 0 0;\n",
              "      width: 32px;\n",
              "    }\n",
              "\n",
              "    .colab-df-convert:hover {\n",
              "      background-color: #E2EBFA;\n",
              "      box-shadow: 0px 1px 2px rgba(60, 64, 67, 0.3), 0px 1px 3px 1px rgba(60, 64, 67, 0.15);\n",
              "      fill: #174EA6;\n",
              "    }\n",
              "\n",
              "    .colab-df-buttons div {\n",
              "      margin-bottom: 4px;\n",
              "    }\n",
              "\n",
              "    [theme=dark] .colab-df-convert {\n",
              "      background-color: #3B4455;\n",
              "      fill: #D2E3FC;\n",
              "    }\n",
              "\n",
              "    [theme=dark] .colab-df-convert:hover {\n",
              "      background-color: #434B5C;\n",
              "      box-shadow: 0px 1px 3px 1px rgba(0, 0, 0, 0.15);\n",
              "      filter: drop-shadow(0px 1px 2px rgba(0, 0, 0, 0.3));\n",
              "      fill: #FFFFFF;\n",
              "    }\n",
              "  </style>\n",
              "\n",
              "    <script>\n",
              "      const buttonEl =\n",
              "        document.querySelector('#df-3c0a760a-9d2c-4c5e-b396-df157c1b1552 button.colab-df-convert');\n",
              "      buttonEl.style.display =\n",
              "        google.colab.kernel.accessAllowed ? 'block' : 'none';\n",
              "\n",
              "      async function convertToInteractive(key) {\n",
              "        const element = document.querySelector('#df-3c0a760a-9d2c-4c5e-b396-df157c1b1552');\n",
              "        const dataTable =\n",
              "          await google.colab.kernel.invokeFunction('convertToInteractive',\n",
              "                                                    [key], {});\n",
              "        if (!dataTable) return;\n",
              "\n",
              "        const docLinkHtml = 'Like what you see? Visit the ' +\n",
              "          '<a target=\"_blank\" href=https://colab.research.google.com/notebooks/data_table.ipynb>data table notebook</a>'\n",
              "          + ' to learn more about interactive tables.';\n",
              "        element.innerHTML = '';\n",
              "        dataTable['output_type'] = 'display_data';\n",
              "        await google.colab.output.renderOutput(dataTable, element);\n",
              "        const docLink = document.createElement('div');\n",
              "        docLink.innerHTML = docLinkHtml;\n",
              "        element.appendChild(docLink);\n",
              "      }\n",
              "    </script>\n",
              "  </div>\n",
              "\n",
              "\n",
              "<div id=\"df-3c5647c3-19b7-4a89-b8ed-1582130a823b\">\n",
              "  <button class=\"colab-df-quickchart\" onclick=\"quickchart('df-3c5647c3-19b7-4a89-b8ed-1582130a823b')\"\n",
              "            title=\"Suggest charts\"\n",
              "            style=\"display:none;\">\n",
              "\n",
              "<svg xmlns=\"http://www.w3.org/2000/svg\" height=\"24px\"viewBox=\"0 0 24 24\"\n",
              "     width=\"24px\">\n",
              "    <g>\n",
              "        <path d=\"M19 3H5c-1.1 0-2 .9-2 2v14c0 1.1.9 2 2 2h14c1.1 0 2-.9 2-2V5c0-1.1-.9-2-2-2zM9 17H7v-7h2v7zm4 0h-2V7h2v10zm4 0h-2v-4h2v4z\"/>\n",
              "    </g>\n",
              "</svg>\n",
              "  </button>\n",
              "\n",
              "<style>\n",
              "  .colab-df-quickchart {\n",
              "      --bg-color: #E8F0FE;\n",
              "      --fill-color: #1967D2;\n",
              "      --hover-bg-color: #E2EBFA;\n",
              "      --hover-fill-color: #174EA6;\n",
              "      --disabled-fill-color: #AAA;\n",
              "      --disabled-bg-color: #DDD;\n",
              "  }\n",
              "\n",
              "  [theme=dark] .colab-df-quickchart {\n",
              "      --bg-color: #3B4455;\n",
              "      --fill-color: #D2E3FC;\n",
              "      --hover-bg-color: #434B5C;\n",
              "      --hover-fill-color: #FFFFFF;\n",
              "      --disabled-bg-color: #3B4455;\n",
              "      --disabled-fill-color: #666;\n",
              "  }\n",
              "\n",
              "  .colab-df-quickchart {\n",
              "    background-color: var(--bg-color);\n",
              "    border: none;\n",
              "    border-radius: 50%;\n",
              "    cursor: pointer;\n",
              "    display: none;\n",
              "    fill: var(--fill-color);\n",
              "    height: 32px;\n",
              "    padding: 0;\n",
              "    width: 32px;\n",
              "  }\n",
              "\n",
              "  .colab-df-quickchart:hover {\n",
              "    background-color: var(--hover-bg-color);\n",
              "    box-shadow: 0 1px 2px rgba(60, 64, 67, 0.3), 0 1px 3px 1px rgba(60, 64, 67, 0.15);\n",
              "    fill: var(--button-hover-fill-color);\n",
              "  }\n",
              "\n",
              "  .colab-df-quickchart-complete:disabled,\n",
              "  .colab-df-quickchart-complete:disabled:hover {\n",
              "    background-color: var(--disabled-bg-color);\n",
              "    fill: var(--disabled-fill-color);\n",
              "    box-shadow: none;\n",
              "  }\n",
              "\n",
              "  .colab-df-spinner {\n",
              "    border: 2px solid var(--fill-color);\n",
              "    border-color: transparent;\n",
              "    border-bottom-color: var(--fill-color);\n",
              "    animation:\n",
              "      spin 1s steps(1) infinite;\n",
              "  }\n",
              "\n",
              "  @keyframes spin {\n",
              "    0% {\n",
              "      border-color: transparent;\n",
              "      border-bottom-color: var(--fill-color);\n",
              "      border-left-color: var(--fill-color);\n",
              "    }\n",
              "    20% {\n",
              "      border-color: transparent;\n",
              "      border-left-color: var(--fill-color);\n",
              "      border-top-color: var(--fill-color);\n",
              "    }\n",
              "    30% {\n",
              "      border-color: transparent;\n",
              "      border-left-color: var(--fill-color);\n",
              "      border-top-color: var(--fill-color);\n",
              "      border-right-color: var(--fill-color);\n",
              "    }\n",
              "    40% {\n",
              "      border-color: transparent;\n",
              "      border-right-color: var(--fill-color);\n",
              "      border-top-color: var(--fill-color);\n",
              "    }\n",
              "    60% {\n",
              "      border-color: transparent;\n",
              "      border-right-color: var(--fill-color);\n",
              "    }\n",
              "    80% {\n",
              "      border-color: transparent;\n",
              "      border-right-color: var(--fill-color);\n",
              "      border-bottom-color: var(--fill-color);\n",
              "    }\n",
              "    90% {\n",
              "      border-color: transparent;\n",
              "      border-bottom-color: var(--fill-color);\n",
              "    }\n",
              "  }\n",
              "</style>\n",
              "\n",
              "  <script>\n",
              "    async function quickchart(key) {\n",
              "      const quickchartButtonEl =\n",
              "        document.querySelector('#' + key + ' button');\n",
              "      quickchartButtonEl.disabled = true;  // To prevent multiple clicks.\n",
              "      quickchartButtonEl.classList.add('colab-df-spinner');\n",
              "      try {\n",
              "        const charts = await google.colab.kernel.invokeFunction(\n",
              "            'suggestCharts', [key], {});\n",
              "      } catch (error) {\n",
              "        console.error('Error during call to suggestCharts:', error);\n",
              "      }\n",
              "      quickchartButtonEl.classList.remove('colab-df-spinner');\n",
              "      quickchartButtonEl.classList.add('colab-df-quickchart-complete');\n",
              "    }\n",
              "    (() => {\n",
              "      let quickchartButtonEl =\n",
              "        document.querySelector('#df-3c5647c3-19b7-4a89-b8ed-1582130a823b button');\n",
              "      quickchartButtonEl.style.display =\n",
              "        google.colab.kernel.accessAllowed ? 'block' : 'none';\n",
              "    })();\n",
              "  </script>\n",
              "</div>\n",
              "    </div>\n",
              "  </div>\n"
            ],
            "text/plain": [
              "   DecisionTree  RandomForest  ExtraTrees  XgBoost\n",
              "0             1             1           1        1\n",
              "1             3             3           3        3\n",
              "2             3             3           3        3\n",
              "3             3             3           3        3\n",
              "4             3             3           3        3"
            ]
          },
          "execution_count": 137,
          "metadata": {},
          "output_type": "execute_result"
        }
      ],
      "source": [
        "base_predictions_train = pd.DataFrame( {\n",
        "    'DecisionTree': dt_train.ravel(),\n",
        "        'RandomForest': rf_train.ravel(),\n",
        "     'ExtraTrees': et_train.ravel(),\n",
        "     'XgBoost': xg_train.ravel(),\n",
        "    })\n",
        "base_predictions_train.head(5)"
      ]
    },
    {
      "cell_type": "code",
      "execution_count": 138,
      "metadata": {
        "id": "IYk3OGfCj3Pu"
      },
      "outputs": [],
      "source": [
        "dt_train=dt_train.reshape(-1, 1)\n",
        "et_train=et_train.reshape(-1, 1)\n",
        "rf_train=rf_train.reshape(-1, 1)\n",
        "xg_train=xg_train.reshape(-1, 1)\n",
        "dt_test=dt_test.reshape(-1, 1)\n",
        "et_test=et_test.reshape(-1, 1)\n",
        "rf_test=rf_test.reshape(-1, 1)\n",
        "xg_test=xg_test.reshape(-1, 1)"
      ]
    },
    {
      "cell_type": "code",
      "execution_count": 139,
      "metadata": {
        "colab": {
          "base_uri": "https://localhost:8080/"
        },
        "id": "pw7J65ytj3Pu",
        "outputId": "ed346bd7-d44e-4e7f-e765-b9572fc8335c"
      },
      "outputs": [
        {
          "data": {
            "text/plain": [
              "(17764, 1)"
            ]
          },
          "execution_count": 139,
          "metadata": {},
          "output_type": "execute_result"
        }
      ],
      "source": [
        "dt_train.shape"
      ]
    },
    {
      "cell_type": "code",
      "execution_count": 140,
      "metadata": {
        "id": "bXLtjuIuj3Pu"
      },
      "outputs": [],
      "source": [
        "x_train = np.concatenate(( dt_train, et_train, rf_train, xg_train), axis=1)\n",
        "x_test = np.concatenate(( dt_test, et_test, rf_test, xg_test), axis=1)"
      ]
    },
    {
      "cell_type": "code",
      "execution_count": 142,
      "metadata": {
        "colab": {
          "base_uri": "https://localhost:8080/",
          "height": 780
        },
        "id": "yqFEx0Voj3Pu",
        "outputId": "e639fd2c-00e3-4700-bcb3-750584f8c229"
      },
      "outputs": [
        {
          "name": "stdout",
          "output_type": "stream",
          "text": [
            "Accuracy of Stacking: 0.9968475568565638\n",
            "Precision of Stacking: 0.996630502447406\n",
            "Recall of Stacking: 0.9968475568565638\n",
            "F1-score of Stacking: 0.9967357377963063\n",
            "              precision    recall  f1-score   support\n",
            "\n",
            "           0       0.99      1.00      1.00       586\n",
            "           1       1.00      1.00      1.00      1210\n",
            "           2       1.00      0.99      1.00       362\n",
            "           3       1.00      1.00      1.00      1111\n",
            "           4       1.00      0.99      1.00      1168\n",
            "           5       1.00      1.00      1.00         3\n",
            "           6       0.00      0.00      0.00         1\n",
            "\n",
            "    accuracy                           1.00      4441\n",
            "   macro avg       0.85      0.85      0.85      4441\n",
            "weighted avg       1.00      1.00      1.00      4441\n",
            "\n"
          ]
        },
        {
          "data": {
            "image/png": "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",
            "text/plain": [
              "<Figure size 500x500 with 2 Axes>"
            ]
          },
          "metadata": {},
          "output_type": "display_data"
        }
      ],
      "source": [
        "stk = xgb.XGBClassifier().fit(x_train, y_train)\n",
        "y_predict=stk.predict(x_test)\n",
        "y_true=y_test\n",
        "stk_score=accuracy_score(y_true,y_predict)\n",
        "print('Accuracy of Stacking: '+ str(stk_score))\n",
        "precision,recall,fscore,none= precision_recall_fscore_support(y_true, y_predict, average='weighted')\n",
        "print('Precision of Stacking: '+(str(precision)))\n",
        "print('Recall of Stacking: '+(str(recall)))\n",
        "print('F1-score of Stacking: '+(str(fscore)))\n",
        "print(classification_report(y_true,y_predict))\n",
        "cm=confusion_matrix(y_true,y_predict)\n",
        "f,ax=plt.subplots(figsize=(5,5))\n",
        "sns.heatmap(cm,annot=True,linewidth=0.5,linecolor=\"red\",fmt=\".0f\",ax=ax)\n",
        "plt.xlabel(\"y_pred\")\n",
        "plt.ylabel(\"y_true\")\n",
        "plt.show()"
      ]
    },
    {
      "cell_type": "markdown",
      "metadata": {
        "id": "PjvusAzmj3Pu"
      },
      "source": [
        "#### Hyperparameter optimization (HPO) of the stacking ensemble model (XGBoost) using Bayesian optimization with tree-based Parzen estimator (BO-TPE)\n",
        "Based on the GitHub repo for HPO: https://github.com/LiYangHart/Hyperparameter-Optimization-of-Machine-Learning-Algorithms"
      ]
    },
    {
      "cell_type": "code",
      "execution_count": 143,
      "metadata": {
        "colab": {
          "base_uri": "https://localhost:8080/"
        },
        "id": "2Y-Rc9o5j3Pu",
        "outputId": "ece67ad8-59b3-4fbd-9b1a-0dc7abd87b42"
      },
      "outputs": [
        {
          "name": "stdout",
          "output_type": "stream",
          "text": [
            "100%|██████████| 20/20 [00:07<00:00,  2.65trial/s, best loss: -0.9968475568565638]\n",
            "XGBoost: Hyperopt estimated optimum {'learning_rate': -0.6812579279483222, 'max_depth': 5.0, 'n_estimators': 45.0}\n"
          ]
        }
      ],
      "source": [
        "from hyperopt import hp, fmin, tpe, STATUS_OK, Trials\n",
        "from sklearn.model_selection import cross_val_score, StratifiedKFold\n",
        "def objective(params):\n",
        "    params = {\n",
        "        'n_estimators': int(params['n_estimators']),\n",
        "        'max_depth': int(params['max_depth']),\n",
        "        'learning_rate':  abs(float(params['learning_rate'])),\n",
        "\n",
        "    }\n",
        "    clf = xgb.XGBClassifier( **params)\n",
        "    clf.fit(x_train, y_train)\n",
        "    y_pred = clf.predict(x_test)\n",
        "    score = accuracy_score(y_test, y_pred)\n",
        "\n",
        "    return {'loss':-score, 'status': STATUS_OK }\n",
        "\n",
        "space = {\n",
        "    'n_estimators': hp.quniform('n_estimators', 10, 100, 5),\n",
        "    'max_depth': hp.quniform('max_depth', 4, 100, 1),\n",
        "    'learning_rate': hp.normal('learning_rate', 0.01, 0.9),\n",
        "}\n",
        "\n",
        "best = fmin(fn=objective,\n",
        "            space=space,\n",
        "            algo=tpe.suggest,\n",
        "            max_evals=20)\n",
        "print(\"XGBoost: Hyperopt estimated optimum {}\".format(best))"
      ]
    },
    {
      "cell_type": "code",
      "execution_count": 144,
      "metadata": {
        "colab": {
          "base_uri": "https://localhost:8080/",
          "height": 780
        },
        "id": "_z502K4sj3Pv",
        "outputId": "3e25e144-76cd-4323-c30d-f40e184c8f1a"
      },
      "outputs": [
        {
          "name": "stdout",
          "output_type": "stream",
          "text": [
            "Accuracy of XGBoost: 0.9968475568565638\n",
            "Precision of XGBoost: 0.996630502447406\n",
            "Recall of XGBoost: 0.9968475568565638\n",
            "F1-score of XGBoost: 0.9967357377963063\n",
            "              precision    recall  f1-score   support\n",
            "\n",
            "           0       0.99      1.00      1.00       586\n",
            "           1       1.00      1.00      1.00      1210\n",
            "           2       1.00      0.99      1.00       362\n",
            "           3       1.00      1.00      1.00      1111\n",
            "           4       1.00      0.99      1.00      1168\n",
            "           5       1.00      1.00      1.00         3\n",
            "           6       0.00      0.00      0.00         1\n",
            "\n",
            "    accuracy                           1.00      4441\n",
            "   macro avg       0.85      0.85      0.85      4441\n",
            "weighted avg       1.00      1.00      1.00      4441\n",
            "\n"
          ]
        },
        {
          "data": {
            "image/png": "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",
            "text/plain": [
              "<Figure size 500x500 with 2 Axes>"
            ]
          },
          "metadata": {},
          "output_type": "display_data"
        }
      ],
      "source": [
        "xg = xgb.XGBClassifier(learning_rate= 0.19229249758051492, n_estimators = 30, max_depth = 36)\n",
        "xg.fit(x_train,y_train)\n",
        "xg_score=xg.score(x_test,y_test)\n",
        "y_predict=xg.predict(x_test)\n",
        "y_true=y_test\n",
        "print('Accuracy of XGBoost: '+ str(xg_score))\n",
        "precision,recall,fscore,none= precision_recall_fscore_support(y_true, y_predict, average='weighted')\n",
        "print('Precision of XGBoost: '+(str(precision)))\n",
        "print('Recall of XGBoost: '+(str(recall)))\n",
        "print('F1-score of XGBoost: '+(str(fscore)))\n",
        "print(classification_report(y_true,y_predict))\n",
        "cm=confusion_matrix(y_true,y_predict)\n",
        "f,ax=plt.subplots(figsize=(5,5))\n",
        "sns.heatmap(cm,annot=True,linewidth=0.5,linecolor=\"red\",fmt=\".0f\",ax=ax)\n",
        "plt.xlabel(\"y_pred\")\n",
        "plt.ylabel(\"y_true\")\n",
        "plt.show()"
      ]
    },
    {
      "cell_type": "markdown",
      "metadata": {
        "collapsed": true,
        "id": "lGv5X840j3Pv"
      },
      "source": [
        "## Anomaly-based IDS"
      ]
    },
    {
      "cell_type": "markdown",
      "metadata": {
        "id": "KSaGFnUHj3Pv"
      },
      "source": [
        "### Generate the port-scan datasets for unknown attack detection"
      ]
    },
    {
      "cell_type": "code",
      "execution_count": 147,
      "metadata": {
        "collapsed": true,
        "id": "dMnrzs41j3Pv"
      },
      "outputs": [],
      "source": [
        "df=pd.read_csv('/CICIDS2017_sample_km.csv')"
      ]
    },
    {
      "cell_type": "code",
      "execution_count": 151,
      "metadata": {
        "colab": {
          "base_uri": "https://localhost:8080/"
        },
        "id": "xyY3iIw-8jxb",
        "outputId": "26735c33-0753-493b-859e-df1c04a80b46"
      },
      "outputs": [
        {
          "data": {
            "text/plain": [
              "Index([' Destination Port', ' Flow Duration', ' Total Fwd Packets',\n",
              "       ' Total Backward Packets', 'Total Length of Fwd Packets',\n",
              "       ' Total Length of Bwd Packets', ' Fwd Packet Length Max',\n",
              "       ' Fwd Packet Length Min', ' Fwd Packet Length Mean',\n",
              "       ' Fwd Packet Length Std', 'Bwd Packet Length Max',\n",
              "       ' Bwd Packet Length Min', ' Bwd Packet Length Mean',\n",
              "       ' Bwd Packet Length Std', 'Flow Bytes/s', ' Flow Packets/s',\n",
              "       ' Flow IAT Mean', ' Flow IAT Std', ' Flow IAT Max', ' Flow IAT Min',\n",
              "       'Fwd IAT Total', ' Fwd IAT Mean', ' Fwd IAT Std', ' Fwd IAT Max',\n",
              "       ' Fwd IAT Min', 'Bwd IAT Total', ' Bwd IAT Mean', ' Bwd IAT Std',\n",
              "       ' Bwd IAT Max', ' Bwd IAT Min', 'Fwd PSH Flags', ' Bwd PSH Flags',\n",
              "       ' Fwd URG Flags', ' Bwd URG Flags', ' Fwd Header Length',\n",
              "       ' Bwd Header Length', 'Fwd Packets/s', ' Bwd Packets/s',\n",
              "       ' Min Packet Length', ' Max Packet Length', ' Packet Length Mean',\n",
              "       ' Packet Length Std', ' Packet Length Variance', 'FIN Flag Count',\n",
              "       ' SYN Flag Count', ' RST Flag Count', ' PSH Flag Count',\n",
              "       ' ACK Flag Count', ' URG Flag Count', ' CWE Flag Count',\n",
              "       ' ECE Flag Count', ' Down/Up Ratio', ' Average Packet Size',\n",
              "       ' Avg Fwd Segment Size', ' Avg Bwd Segment Size',\n",
              "       ' Fwd Header Length.1', 'Fwd Avg Bytes/Bulk', ' Fwd Avg Packets/Bulk',\n",
              "       ' Fwd Avg Bulk Rate', ' Bwd Avg Bytes/Bulk', ' Bwd Avg Packets/Bulk',\n",
              "       'Bwd Avg Bulk Rate', 'Subflow Fwd Packets', ' Subflow Fwd Bytes',\n",
              "       ' Subflow Bwd Packets', ' Subflow Bwd Bytes', 'Init_Win_bytes_forward',\n",
              "       ' Init_Win_bytes_backward', ' act_data_pkt_fwd',\n",
              "       ' min_seg_size_forward', 'Active Mean', ' Active Std', ' Active Max',\n",
              "       ' Active Min', 'Idle Mean', ' Idle Std', ' Idle Max', ' Idle Min',\n",
              "       ' Label'],\n",
              "      dtype='object')"
            ]
          },
          "execution_count": 151,
          "metadata": {},
          "output_type": "execute_result"
        }
      ],
      "source": [
        "df.columns"
      ]
    },
    {
      "cell_type": "code",
      "execution_count": 152,
      "metadata": {
        "colab": {
          "base_uri": "https://localhost:8080/"
        },
        "id": "QnnpG5lD8j6R",
        "outputId": "272c936a-46fd-447b-ccf3-b8f4d13cac91"
      },
      "outputs": [
        {
          "data": {
            "text/plain": [
              " Label\n",
              "1    6144\n",
              "4    5796\n",
              "3    5499\n",
              "0    2913\n",
              "2    1841\n",
              "5      11\n",
              "6       1\n",
              "Name: count, dtype: int64"
            ]
          },
          "execution_count": 152,
          "metadata": {},
          "output_type": "execute_result"
        }
      ],
      "source": [
        "df[' Label'].value_counts()"
      ]
    },
    {
      "cell_type": "code",
      "execution_count": 154,
      "metadata": {
        "collapsed": true,
        "id": "j4oFe7Nmj3Pv"
      },
      "outputs": [],
      "source": [
        "df1 = df[df[' Label'] != 5]\n",
        "df1[' Label'][df1[' Label'] > 0] = 1\n",
        "df1.to_csv('/CICIDS2017_sample_km_without_portscan.csv',index=0)"
      ]
    },
    {
      "cell_type": "code",
      "execution_count": 156,
      "metadata": {
        "collapsed": true,
        "id": "eLweMGynj3Pv"
      },
      "outputs": [],
      "source": [
        "df2 = df[df[' Label'] == 5]\n",
        "df2[' Label'][df2[' Label'] == 5] = 1\n",
        "df2.to_csv('/CICIDS2017_sample_km_portscan.csv',index=0)"
      ]
    },
    {
      "cell_type": "markdown",
      "metadata": {
        "id": "wZpEwVUHj3Pv"
      },
      "source": [
        "### Read the generated datasets for unknown attack detection"
      ]
    },
    {
      "cell_type": "code",
      "execution_count": 157,
      "metadata": {
        "collapsed": true,
        "id": "X_diYWAVj3Pv"
      },
      "outputs": [],
      "source": [
        "df1 = pd.read_csv('/CICIDS2017_sample_km_without_portscan.csv')\n",
        "df2 = pd.read_csv('/CICIDS2017_sample_km_portscan.csv')"
      ]
    },
    {
      "cell_type": "code",
      "execution_count": 158,
      "metadata": {
        "id": "RFkBp_tvj3Pv"
      },
      "outputs": [],
      "source": [
        "features = df1.drop([' Label'],axis=1).dtypes[df1.dtypes != 'object'].index\n",
        "df1[features] = df1[features].apply(\n",
        "    lambda x: (x - x.mean()) / (x.std()))\n",
        "df2[features] = df2[features].apply(\n",
        "    lambda x: (x - x.mean()) / (x.std()))\n",
        "df1 = df1.fillna(0)\n",
        "df2 = df2.fillna(0)"
      ]
    },
    {
      "cell_type": "code",
      "execution_count": 161,
      "metadata": {
        "colab": {
          "base_uri": "https://localhost:8080/"
        },
        "id": "eOlBvUbkj3Pv",
        "outputId": "604011d9-8fa9-416a-ef9b-aa55a94a76bb"
      },
      "outputs": [
        {
          "data": {
            "text/plain": [
              " Label\n",
              "1    19281\n",
              "0     2913\n",
              "Name: count, dtype: int64"
            ]
          },
          "execution_count": 161,
          "metadata": {},
          "output_type": "execute_result"
        }
      ],
      "source": [
        "df1[' Label'].value_counts()"
      ]
    },
    {
      "cell_type": "code",
      "execution_count": 162,
      "metadata": {
        "colab": {
          "base_uri": "https://localhost:8080/"
        },
        "id": "qG07CCLRj3Pw",
        "outputId": "4ba11c2d-1b38-40ea-9459-6e875eb3cf04",
        "scrolled": true
      },
      "outputs": [
        {
          "data": {
            "text/plain": [
              " Label\n",
              "1    11\n",
              "Name: count, dtype: int64"
            ]
          },
          "execution_count": 162,
          "metadata": {},
          "output_type": "execute_result"
        }
      ],
      "source": [
        "df2[' Label'].value_counts()"
      ]
    },
    {
      "cell_type": "code",
      "execution_count": 163,
      "metadata": {
        "id": "FD-1UpwEj3Pw"
      },
      "outputs": [],
      "source": [
        "df2p=df1[df1[' Label']==0]\n",
        "df2pp=df2p.sample(n=None, frac=1255/18225, replace=False, weights=None, random_state=None, axis=0)\n",
        "df2=pd.concat([df2, df2pp])"
      ]
    },
    {
      "cell_type": "code",
      "execution_count": 164,
      "metadata": {
        "colab": {
          "base_uri": "https://localhost:8080/"
        },
        "id": "b1U_8hT-j3Pw",
        "outputId": "943660dd-a0ed-4df9-9bda-9f17d71ecb7b"
      },
      "outputs": [
        {
          "data": {
            "text/plain": [
              " Label\n",
              "0    201\n",
              "1     11\n",
              "Name: count, dtype: int64"
            ]
          },
          "execution_count": 164,
          "metadata": {},
          "output_type": "execute_result"
        }
      ],
      "source": [
        "df2[' Label'].value_counts()"
      ]
    },
    {
      "cell_type": "code",
      "execution_count": 166,
      "metadata": {
        "collapsed": true,
        "id": "0l2lvJWLj3Pw"
      },
      "outputs": [],
      "source": [
        "# df = df1.append(df2)\n",
        "df = pd.concat([df1, df2], ignore_index=True)"
      ]
    },
    {
      "cell_type": "code",
      "execution_count": 168,
      "metadata": {
        "colab": {
          "base_uri": "https://localhost:8080/"
        },
        "id": "NDJtmF4Vj3Pw",
        "outputId": "a6f461db-4343-4b31-c5dc-0c7ac6a699f1"
      },
      "outputs": [
        {
          "data": {
            "text/plain": [
              "1    19292\n",
              "0     3114\n",
              "Name: count, dtype: int64"
            ]
          },
          "execution_count": 168,
          "metadata": {},
          "output_type": "execute_result"
        }
      ],
      "source": [
        "X = df.drop([' Label'],axis=1) .values\n",
        "y = df.iloc[:, -1].values.reshape(-1,1)\n",
        "y=np.ravel(y)\n",
        "pd.Series(y).value_counts()"
      ]
    },
    {
      "cell_type": "markdown",
      "metadata": {
        "id": "kKg8E1k-j3Pw"
      },
      "source": [
        "### Feature engineering (IG, FCBF, and KPCA)"
      ]
    },
    {
      "cell_type": "markdown",
      "metadata": {
        "id": "xF7Y22K6j3Pw"
      },
      "source": [
        "#### Feature selection by information gain (IG)"
      ]
    },
    {
      "cell_type": "code",
      "execution_count": 169,
      "metadata": {
        "id": "QARRPIDHj3Pw"
      },
      "outputs": [],
      "source": [
        "from sklearn.feature_selection import mutual_info_classif\n",
        "importances = mutual_info_classif(X, y)"
      ]
    },
    {
      "cell_type": "code",
      "execution_count": 170,
      "metadata": {
        "colab": {
          "base_uri": "https://localhost:8080/"
        },
        "id": "zAxLf-1z9-SG",
        "outputId": "70d2c011-64e3-4ec3-dbf7-489167ffb75f"
      },
      "outputs": [
        {
          "data": {
            "text/plain": [
              "array([0.31719036, 0.24382345, 0.06697751, 0.10695211, 0.25145395,\n",
              "       0.24801844, 0.2728976 , 0.18025873, 0.19641146, 0.10166078,\n",
              "       0.23976589, 0.14974534, 0.25674648, 0.12984929, 0.00221248,\n",
              "       0.0015943 , 0.22256823, 0.16953446, 0.2477047 , 0.13540072,\n",
              "       0.20175804, 0.20714658, 0.12557673, 0.22718102, 0.12817211,\n",
              "       0.14433651, 0.13046018, 0.07252387, 0.15795014, 0.11973765,\n",
              "       0.00636324, 0.        , 0.00144873, 0.00395726, 0.20817158,\n",
              "       0.16665522, 0.21175712, 0.18650348, 0.17760861, 0.30654334,\n",
              "       0.25819775, 0.24824666, 0.2484048 , 0.        , 0.00386767,\n",
              "       0.        , 0.03635852, 0.        , 0.        , 0.00185187,\n",
              "       0.        , 0.06008353, 0.25814444, 0.19634811, 0.25821762,\n",
              "       0.21203885, 0.00196166, 0.00091068, 0.00118334, 0.        ,\n",
              "       0.        , 0.        , 0.06637511, 0.25219255, 0.10526692,\n",
              "       0.24901773, 0.30057917, 0.17804401, 0.05012579, 0.11329724,\n",
              "       0.13193794, 0.03847805, 0.1298396 , 0.13178241, 0.12255155,\n",
              "       0.06493439, 0.13375185, 0.12600438])"
            ]
          },
          "execution_count": 170,
          "metadata": {},
          "output_type": "execute_result"
        }
      ],
      "source": [
        "importances"
      ]
    },
    {
      "cell_type": "code",
      "execution_count": 171,
      "metadata": {
        "id": "MsOiI8jxj3Pw"
      },
      "outputs": [],
      "source": [
        "# calculate the sum of importance scores\n",
        "f_list = sorted(zip(map(lambda x: round(x, 4), importances), features), reverse=True)\n",
        "Sum = 0\n",
        "fs = []\n",
        "for i in range(0, len(f_list)):\n",
        "    Sum = Sum + f_list[i][0]\n",
        "    fs.append(f_list[i][1])"
      ]
    },
    {
      "cell_type": "code",
      "execution_count": 172,
      "metadata": {
        "id": "RRibLHdcj3Pw"
      },
      "outputs": [],
      "source": [
        "# select the important features from top to bottom until the accumulated importance reaches 90%\n",
        "f_list2 = sorted(zip(map(lambda x: round(x, 4), importances/Sum), features), reverse=True)\n",
        "Sum2 = 0\n",
        "fs = []\n",
        "for i in range(0, len(f_list2)):\n",
        "    Sum2 = Sum2 + f_list2[i][0]\n",
        "    fs.append(f_list2[i][1])\n",
        "    if Sum2>=0.9:\n",
        "        break"
      ]
    },
    {
      "cell_type": "code",
      "execution_count": 173,
      "metadata": {
        "id": "7sz0kmigj3Pw"
      },
      "outputs": [],
      "source": [
        "X_fs = df[fs].values"
      ]
    },
    {
      "cell_type": "code",
      "execution_count": 174,
      "metadata": {
        "colab": {
          "base_uri": "https://localhost:8080/"
        },
        "id": "r1xO9HINj3Pw",
        "outputId": "b9e47bf6-f6b7-41d2-c0b8-2b1b73e1573b"
      },
      "outputs": [
        {
          "data": {
            "text/plain": [
              "(22406, 46)"
            ]
          },
          "execution_count": 174,
          "metadata": {},
          "output_type": "execute_result"
        }
      ],
      "source": [
        "X_fs.shape"
      ]
    },
    {
      "cell_type": "code",
      "execution_count": 175,
      "metadata": {
        "colab": {
          "base_uri": "https://localhost:8080/"
        },
        "id": "gHGec44Mj3Px",
        "outputId": "cca8c88f-2d86-4d55-8f61-c7cbebe6098d"
      },
      "outputs": [
        {
          "data": {
            "text/plain": [
              "array([[ 6.76496996, -0.60170088, -1.19971631, ..., -0.6122242 ,\n",
              "        -0.57505781, -0.69700947],\n",
              "       [ 6.78164561, -0.60170088, -1.21476169, ..., -0.6122242 ,\n",
              "        -0.57505781, -0.69700947],\n",
              "       [ 5.97005094, -0.60170088, -1.21817476, ..., -0.6122242 ,\n",
              "        -0.57505781, -0.69700947],\n",
              "       ...,\n",
              "       [-0.09947549, -0.05894739,  0.81086133, ..., -0.6122242 ,\n",
              "        -0.5646166 , -0.69700947],\n",
              "       [ 7.7610994 ,  2.56935279, -1.20668176, ...,  1.63641138,\n",
              "         2.00302538,  1.59710142],\n",
              "       [-0.15322348, -0.57211606, -1.22312023, ..., -0.6122242 ,\n",
              "        -0.57505781, -0.69700947]])"
            ]
          },
          "execution_count": 175,
          "metadata": {},
          "output_type": "execute_result"
        }
      ],
      "source": [
        "X_fs"
      ]
    },
    {
      "cell_type": "markdown",
      "metadata": {
        "id": "EQLlfsbzj3Px"
      },
      "source": [
        "#### Feature selection by Fast Correlation Based Filter (FCBF)\n",
        "\n",
        "The module is imported from the GitHub repo: https://github.com/SantiagoEG/FCBF_module"
      ]
    },
    {
      "cell_type": "code",
      "execution_count": 176,
      "metadata": {
        "collapsed": true,
        "id": "gbFOvtp9j3Px"
      },
      "outputs": [],
      "source": [
        "from FCBF_module import FCBF, FCBFK, FCBFiP, get_i\n",
        "fcbf = FCBFK(k = 20)\n",
        "#fcbf.fit(X_fs, y)"
      ]
    },
    {
      "cell_type": "code",
      "execution_count": 177,
      "metadata": {
        "id": "TZyaHPr4j3Px"
      },
      "outputs": [],
      "source": [
        "X_fss = fcbf.fit_transform(X_fs,y)"
      ]
    },
    {
      "cell_type": "code",
      "execution_count": 178,
      "metadata": {
        "colab": {
          "base_uri": "https://localhost:8080/"
        },
        "id": "bCI1bYhwj3Px",
        "outputId": "b2f9d3f3-0383-4e55-a5ab-18df98ce0c5d"
      },
      "outputs": [
        {
          "data": {
            "text/plain": [
              "(22406, 20)"
            ]
          },
          "execution_count": 178,
          "metadata": {},
          "output_type": "execute_result"
        }
      ],
      "source": [
        "X_fss.shape"
      ]
    },
    {
      "cell_type": "code",
      "execution_count": 179,
      "metadata": {
        "colab": {
          "base_uri": "https://localhost:8080/"
        },
        "id": "UiNgjWD9j3Px",
        "outputId": "bd7bc45c-9fbc-47b2-ca01-66aee70dbedf"
      },
      "outputs": [
        {
          "data": {
            "text/plain": [
              "array([[ 6.76496996, -0.03675438, -0.01696715, ..., -0.68653942,\n",
              "        -0.70395532, -0.28433971],\n",
              "       [ 6.78164561, -0.03675438, -0.01696715, ..., -0.68653942,\n",
              "        -0.70395532, -0.28433971],\n",
              "       [ 5.97005094, -0.03675438, -0.01696715, ..., -0.68653942,\n",
              "        -0.70395532, -0.28433971],\n",
              "       ...,\n",
              "       [-0.09947549, -0.18075619, -0.19591644, ..., -0.19053571,\n",
              "        -0.15901954,  0.55796835],\n",
              "       [ 7.7610994 , -0.18075619, -0.19591644, ...,  1.84619024,\n",
              "         1.9694125 ,  0.28779407],\n",
              "       [-0.15322348,  0.75525559,  2.39884825, ..., -0.52248031,\n",
              "        -0.55073341, -0.10952106]])"
            ]
          },
          "execution_count": 179,
          "metadata": {},
          "output_type": "execute_result"
        }
      ],
      "source": [
        "X_fss"
      ]
    },
    {
      "cell_type": "markdown",
      "metadata": {
        "id": "BhukbavZj3Px"
      },
      "source": [
        "####  kernel principal component analysis (KPCA)"
      ]
    },
    {
      "cell_type": "code",
      "execution_count": 1,
      "metadata": {
        "colab": {
          "base_uri": "https://localhost:8080/",
          "height": 211
        },
        "id": "CNAvqPnnj3Px",
        "outputId": "542712df-47f5-4cec-eb67-0b50b6abc4c2"
      },
      "outputs": [
        {
          "ename": "NameError",
          "evalue": "name 'X_fss' is not defined",
          "output_type": "error",
          "traceback": [
            "\u001b[0;31m---------------------------------------------------------------------------\u001b[0m",
            "\u001b[0;31mNameError\u001b[0m                                 Traceback (most recent call last)",
            "\u001b[0;32m<ipython-input-1-7dae5c296448>\u001b[0m in \u001b[0;36m<cell line: 3>\u001b[0;34m()\u001b[0m\n\u001b[1;32m      1\u001b[0m \u001b[0;32mfrom\u001b[0m \u001b[0msklearn\u001b[0m\u001b[0;34m.\u001b[0m\u001b[0mdecomposition\u001b[0m \u001b[0;32mimport\u001b[0m \u001b[0mKernelPCA\u001b[0m\u001b[0;34m\u001b[0m\u001b[0;34m\u001b[0m\u001b[0m\n\u001b[1;32m      2\u001b[0m \u001b[0mkpca\u001b[0m \u001b[0;34m=\u001b[0m \u001b[0mKernelPCA\u001b[0m\u001b[0;34m(\u001b[0m\u001b[0mn_components\u001b[0m \u001b[0;34m=\u001b[0m \u001b[0;36m10\u001b[0m\u001b[0;34m,\u001b[0m \u001b[0mkernel\u001b[0m \u001b[0;34m=\u001b[0m \u001b[0;34m'rbf'\u001b[0m\u001b[0;34m)\u001b[0m\u001b[0;34m\u001b[0m\u001b[0;34m\u001b[0m\u001b[0m\n\u001b[0;32m----> 3\u001b[0;31m \u001b[0mkpca\u001b[0m\u001b[0;34m.\u001b[0m\u001b[0mfit\u001b[0m\u001b[0;34m(\u001b[0m\u001b[0mX_fss\u001b[0m\u001b[0;34m,\u001b[0m \u001b[0my\u001b[0m\u001b[0;34m)\u001b[0m\u001b[0;34m\u001b[0m\u001b[0;34m\u001b[0m\u001b[0m\n\u001b[0m\u001b[1;32m      4\u001b[0m \u001b[0mX_kpca\u001b[0m \u001b[0;34m=\u001b[0m \u001b[0mkpca\u001b[0m\u001b[0;34m.\u001b[0m\u001b[0mtransform\u001b[0m\u001b[0;34m(\u001b[0m\u001b[0mX_fss\u001b[0m\u001b[0;34m)\u001b[0m\u001b[0;34m\u001b[0m\u001b[0;34m\u001b[0m\u001b[0m\n\u001b[1;32m      5\u001b[0m \u001b[0;34m\u001b[0m\u001b[0m\n",
            "\u001b[0;31mNameError\u001b[0m: name 'X_fss' is not defined"
          ]
        }
      ],
      "source": [
        "from sklearn.decomposition import KernelPCA\n",
        "kpca = KernelPCA(n_components = 10, kernel = 'rbf')\n",
        "kpca.fit(X_fss, y)\n",
        "X_kpca = kpca.transform(X_fss)\n",
        "\n",
        "# from sklearn.decomposition import PCA\n",
        "# kpca = PCA(n_components = 10)\n",
        "# kpca.fit(X_fss, y)\n",
        "# X_kpca = kpca.transform(X_fss)"
      ]
    },
    {
      "cell_type": "markdown",
      "metadata": {
        "id": "Gg8OtQxjj3Px"
      },
      "source": [
        "### Train-test split after feature selection"
      ]
    },
    {
      "cell_type": "code",
      "execution_count": null,
      "metadata": {
        "collapsed": true,
        "id": "HDbt_Cckj3Px"
      },
      "outputs": [],
      "source": [
        "X_train = X_kpca[:len(df1)]\n",
        "y_train = y[:len(df1)]\n",
        "X_test = X_kpca[len(df1):]\n",
        "y_test = y[len(df1):]"
      ]
    },
    {
      "cell_type": "markdown",
      "metadata": {
        "id": "huHorUKgj3Px"
      },
      "source": [
        "### Solve class-imbalance by SMOTE"
      ]
    },
    {
      "cell_type": "code",
      "execution_count": null,
      "metadata": {
        "id": "l9hqo-CLj3Py",
        "outputId": "e72ae8db-08fa-4427-b774-a48e636587e9"
      },
      "outputs": [
        {
          "data": {
            "text/plain": [
              "0    18225\n",
              "1     7320\n",
              "dtype: int64"
            ]
          },
          "execution_count": 87,
          "metadata": {},
          "output_type": "execute_result"
        }
      ],
      "source": [
        "pd.Series(y_train).value_counts()"
      ]
    },
    {
      "cell_type": "code",
      "execution_count": null,
      "metadata": {
        "id": "da48sD-rj3Py"
      },
      "outputs": [],
      "source": [
        "from imblearn.over_sampling import SMOTE\n",
        "smote=SMOTE(n_jobs=-1,sampling_strategy={1:18225})\n",
        "X_train, y_train = smote.fit_resample(X_train, y_train)"
      ]
    },
    {
      "cell_type": "code",
      "execution_count": null,
      "metadata": {
        "id": "KF8ghUCTj3Py",
        "outputId": "4d3525bc-6358-490f-d089-f1b2e49e4073"
      },
      "outputs": [
        {
          "data": {
            "text/plain": [
              "1    18225\n",
              "0    18225\n",
              "dtype: int64"
            ]
          },
          "execution_count": 89,
          "metadata": {},
          "output_type": "execute_result"
        }
      ],
      "source": [
        "pd.Series(y_train).value_counts()"
      ]
    },
    {
      "cell_type": "code",
      "execution_count": null,
      "metadata": {
        "id": "xm4dx1THj3Py",
        "outputId": "040ea494-9d79-4783-a898-d2a0764a249e"
      },
      "outputs": [
        {
          "data": {
            "text/plain": [
              "1    1255\n",
              "0    1255\n",
              "dtype: int64"
            ]
          },
          "execution_count": 90,
          "metadata": {},
          "output_type": "execute_result"
        }
      ],
      "source": [
        "pd.Series(y_test).value_counts()"
      ]
    },
    {
      "cell_type": "markdown",
      "metadata": {
        "id": "DF0b8TQqj3Py"
      },
      "source": [
        "### Apply the cluster labeling (CL) k-means method"
      ]
    },
    {
      "cell_type": "code",
      "execution_count": null,
      "metadata": {
        "collapsed": true,
        "id": "u5c5pOGij3Py"
      },
      "outputs": [],
      "source": [
        "from sklearn.cluster import KMeans\n",
        "from sklearn.cluster import DBSCAN,MeanShift\n",
        "from sklearn.cluster import SpectralClustering,AgglomerativeClustering,AffinityPropagation,Birch,MiniBatchKMeans,MeanShift\n",
        "from sklearn.mixture import GaussianMixture, BayesianGaussianMixture\n",
        "from sklearn.metrics import classification_report\n",
        "from sklearn import metrics"
      ]
    },
    {
      "cell_type": "code",
      "execution_count": null,
      "metadata": {
        "collapsed": true,
        "id": "Bez4rR1dj3Py"
      },
      "outputs": [],
      "source": [
        "def CL_kmeans(X_train, X_test, y_train, y_test,n,b=100):\n",
        "    km_cluster = MiniBatchKMeans(n_clusters=n,batch_size=b)\n",
        "    result = km_cluster.fit_predict(X_train)\n",
        "    result2 = km_cluster.predict(X_test)\n",
        "\n",
        "    count=0\n",
        "    a=np.zeros(n)\n",
        "    b=np.zeros(n)\n",
        "    for v in range(0,n):\n",
        "        for i in range(0,len(y_train)):\n",
        "            if result[i]==v:\n",
        "                if y_train[i]==1:\n",
        "                    a[v]=a[v]+1\n",
        "                else:\n",
        "                    b[v]=b[v]+1\n",
        "    list1=[]\n",
        "    list2=[]\n",
        "    for v in range(0,n):\n",
        "        if a[v]<=b[v]:\n",
        "            list1.append(v)\n",
        "        else:\n",
        "            list2.append(v)\n",
        "    for v in range(0,len(y_test)):\n",
        "        if result2[v] in list1:\n",
        "            result2[v]=0\n",
        "        elif result2[v] in list2:\n",
        "            result2[v]=1\n",
        "        else:\n",
        "            print(\"-1\")\n",
        "    print(classification_report(y_test, result2))\n",
        "    cm=confusion_matrix(y_test,result2)\n",
        "    acc=metrics.accuracy_score(y_test,result2)\n",
        "    print(str(acc))\n",
        "    print(cm)"
      ]
    },
    {
      "cell_type": "code",
      "execution_count": null,
      "metadata": {
        "id": "2vAaNk1lj3Py",
        "outputId": "f7ea9977-2652-41fa-eb5d-07afada68c9a"
      },
      "outputs": [
        {
          "name": "stdout",
          "output_type": "stream",
          "text": [
            "              precision    recall  f1-score   support\n",
            "\n",
            "           0       0.58      0.69      0.63      1255\n",
            "           1       0.62      0.51      0.56      1255\n",
            "\n",
            "    accuracy                           0.60      2510\n",
            "   macro avg       0.60      0.60      0.60      2510\n",
            "weighted avg       0.60      0.60      0.60      2510\n",
            "\n",
            "0.5984063745019921\n",
            "[[864 391]\n",
            " [617 638]]\n"
          ]
        }
      ],
      "source": [
        "CL_kmeans(X_train, X_test, y_train, y_test, 8)"
      ]
    },
    {
      "cell_type": "markdown",
      "metadata": {
        "id": "Ooxs6E_Ij3Py"
      },
      "source": [
        "### Hyperparameter optimization of CL-k-means\n",
        "Tune \"k\""
      ]
    },
    {
      "cell_type": "code",
      "execution_count": null,
      "metadata": {
        "id": "74GohQEpj3Py",
        "outputId": "cee0db55-349b-490c-eafd-2c122d31f216",
        "scrolled": true
      },
      "outputs": [
        {
          "name": "stdout",
          "output_type": "stream",
          "text": [
            "30 0.6972111553784861\n",
            "43 0.7127490039840637\n",
            "43 0.399203187250996\n",
            "43 0.47051792828685257\n",
            "32 0.653784860557769\n",
            "20 0.34860557768924305\n",
            "16 0.9195219123505977\n",
            "5 0.4370517928286853\n",
            "15 0.6729083665338645\n",
            "25 0.7063745019920319\n",
            "2 0.47808764940239046\n",
            "50 0.4199203187250996\n"
          ]
        },
        {
          "name": "stderr",
          "output_type": "stream",
          "text": [
            "C:\\Program Files\\Anaconda3\\lib\\site-packages\\skopt\\optimizer\\optimizer.py:409: UserWarning: The objective has been evaluated at this point before.\n",
            "  warnings.warn(\"The objective has been evaluated \"\n"
          ]
        },
        {
          "name": "stdout",
          "output_type": "stream",
          "text": [
            "2 0.47768924302788845\n"
          ]
        },
        {
          "name": "stderr",
          "output_type": "stream",
          "text": [
            "C:\\Program Files\\Anaconda3\\lib\\site-packages\\skopt\\optimizer\\optimizer.py:409: UserWarning: The objective has been evaluated at this point before.\n",
            "  warnings.warn(\"The objective has been evaluated \"\n"
          ]
        },
        {
          "name": "stdout",
          "output_type": "stream",
          "text": [
            "50 0.39282868525896414\n",
            "17 0.42828685258964144\n"
          ]
        },
        {
          "name": "stderr",
          "output_type": "stream",
          "text": [
            "C:\\Program Files\\Anaconda3\\lib\\site-packages\\skopt\\optimizer\\optimizer.py:409: UserWarning: The objective has been evaluated at this point before.\n",
            "  warnings.warn(\"The objective has been evaluated \"\n"
          ]
        },
        {
          "name": "stdout",
          "output_type": "stream",
          "text": [
            "2 0.47768924302788845\n"
          ]
        },
        {
          "name": "stderr",
          "output_type": "stream",
          "text": [
            "C:\\Program Files\\Anaconda3\\lib\\site-packages\\skopt\\optimizer\\optimizer.py:409: UserWarning: The objective has been evaluated at this point before.\n",
            "  warnings.warn(\"The objective has been evaluated \"\n"
          ]
        },
        {
          "name": "stdout",
          "output_type": "stream",
          "text": [
            "2 0.47768924302788845\n"
          ]
        },
        {
          "name": "stderr",
          "output_type": "stream",
          "text": [
            "C:\\Program Files\\Anaconda3\\lib\\site-packages\\skopt\\optimizer\\optimizer.py:409: UserWarning: The objective has been evaluated at this point before.\n",
            "  warnings.warn(\"The objective has been evaluated \"\n"
          ]
        },
        {
          "name": "stdout",
          "output_type": "stream",
          "text": [
            "16 0.6992031872509961\n"
          ]
        },
        {
          "name": "stderr",
          "output_type": "stream",
          "text": [
            "C:\\Program Files\\Anaconda3\\lib\\site-packages\\skopt\\optimizer\\optimizer.py:409: UserWarning: The objective has been evaluated at this point before.\n",
            "  warnings.warn(\"The objective has been evaluated \"\n"
          ]
        },
        {
          "name": "stdout",
          "output_type": "stream",
          "text": [
            "16 0.3737051792828685\n"
          ]
        },
        {
          "name": "stderr",
          "output_type": "stream",
          "text": [
            "C:\\Program Files\\Anaconda3\\lib\\site-packages\\skopt\\optimizer\\optimizer.py:409: UserWarning: The objective has been evaluated at this point before.\n",
            "  warnings.warn(\"The objective has been evaluated \"\n"
          ]
        },
        {
          "name": "stdout",
          "output_type": "stream",
          "text": [
            "50 0.6250996015936255\n",
            "9.127083539962769\n",
            "Best score=0.9195\n",
            "Best parameters: n_clusters=16\n"
          ]
        }
      ],
      "source": [
        "#Hyperparameter optimization by BO-GP\n",
        "from skopt.space import Real, Integer\n",
        "from skopt.utils import use_named_args\n",
        "from sklearn import metrics\n",
        "\n",
        "space  = [Integer(2, 50, name='n_clusters')]\n",
        "@use_named_args(space)\n",
        "def objective(**params):\n",
        "    km_cluster = MiniBatchKMeans(batch_size=100, **params)\n",
        "    n=params['n_clusters']\n",
        "\n",
        "    result = km_cluster.fit_predict(X_train)\n",
        "    result2 = km_cluster.predict(X_test)\n",
        "\n",
        "    count=0\n",
        "    a=np.zeros(n)\n",
        "    b=np.zeros(n)\n",
        "    for v in range(0,n):\n",
        "        for i in range(0,len(y_train)):\n",
        "            if result[i]==v:\n",
        "                if y_train[i]==1:\n",
        "                    a[v]=a[v]+1\n",
        "                else:\n",
        "                    b[v]=b[v]+1\n",
        "    list1=[]\n",
        "    list2=[]\n",
        "    for v in range(0,n):\n",
        "        if a[v]<=b[v]:\n",
        "            list1.append(v)\n",
        "        else:\n",
        "            list2.append(v)\n",
        "    for v in range(0,len(y_test)):\n",
        "        if result2[v] in list1:\n",
        "            result2[v]=0\n",
        "        elif result2[v] in list2:\n",
        "            result2[v]=1\n",
        "        else:\n",
        "            print(\"-1\")\n",
        "    cm=metrics.accuracy_score(y_test,result2)\n",
        "    print(str(n)+\" \"+str(cm))\n",
        "    return (1-cm)\n",
        "from skopt import gp_minimize\n",
        "import time\n",
        "t1=time.time()\n",
        "res_gp = gp_minimize(objective, space, n_calls=20, random_state=0)\n",
        "t2=time.time()\n",
        "print(t2-t1)\n",
        "print(\"Best score=%.4f\" % (1-res_gp.fun))\n",
        "print(\"\"\"Best parameters: n_clusters=%d\"\"\" % (res_gp.x[0]))"
      ]
    },
    {
      "cell_type": "code",
      "execution_count": null,
      "metadata": {
        "id": "xcqR2S6Pj3Pz",
        "outputId": "a10b9a73-e08f-406d-af89-59512dca2eb9"
      },
      "outputs": [
        {
          "name": "stdout",
          "output_type": "stream",
          "text": [
            "23 0.34422310756972113\n",
            "15 0.6685258964143427\n",
            "46 0.450199203187251\n",
            "15 0.4896414342629482\n",
            "29 0.6824701195219124\n",
            "36 0.3888446215139442\n",
            "22 0.35776892430278884\n",
            "25 0.34860557768924305\n",
            "42 0.41832669322709165\n",
            "27 0.47051792828685257\n",
            "26 0.39402390438247015\n",
            "25 0.6824701195219124\n",
            "33 0.3848605577689243\n",
            "19 0.7191235059760956\n",
            "6 0.5824701195219123\n",
            "21 0.6697211155378486\n",
            "24 0.451394422310757\n",
            "37 0.4681274900398406\n",
            "14 0.47250996015936253\n",
            "21 0.8434262948207172\n",
            "100%|███████████████████████████████████████████████| 20/20 [00:06<00:00,  2.87trial/s, best loss: 0.15657370517928282]\n",
            "Random Forest: Hyperopt estimated optimum {'n_clusters': 21.0}\n"
          ]
        }
      ],
      "source": [
        "#Hyperparameter optimization by BO-TPE\n",
        "from hyperopt import hp, fmin, tpe, STATUS_OK, Trials\n",
        "from sklearn.model_selection import cross_val_score, StratifiedKFold\n",
        "from sklearn.cluster import MiniBatchKMeans\n",
        "from sklearn import metrics\n",
        "\n",
        "def objective(params):\n",
        "    params = {\n",
        "        'n_clusters': int(params['n_clusters']),\n",
        "    }\n",
        "    km_cluster = MiniBatchKMeans(batch_size=100, **params)\n",
        "    n=params['n_clusters']\n",
        "\n",
        "    result = km_cluster.fit_predict(X_train)\n",
        "    result2 = km_cluster.predict(X_test)\n",
        "\n",
        "    count=0\n",
        "    a=np.zeros(n)\n",
        "    b=np.zeros(n)\n",
        "    for v in range(0,n):\n",
        "        for i in range(0,len(y_train)):\n",
        "            if result[i]==v:\n",
        "                if y_train[i]==1:\n",
        "                    a[v]=a[v]+1\n",
        "                else:\n",
        "                    b[v]=b[v]+1\n",
        "    list1=[]\n",
        "    list2=[]\n",
        "    for v in range(0,n):\n",
        "        if a[v]<=b[v]:\n",
        "            list1.append(v)\n",
        "        else:\n",
        "            list2.append(v)\n",
        "    for v in range(0,len(y_test)):\n",
        "        if result2[v] in list1:\n",
        "            result2[v]=0\n",
        "        elif result2[v] in list2:\n",
        "            result2[v]=1\n",
        "        else:\n",
        "            print(\"-1\")\n",
        "    score=metrics.accuracy_score(y_test,result2)\n",
        "    print(str(params['n_clusters'])+\" \"+str(score))\n",
        "    return {'loss':1-score, 'status': STATUS_OK }\n",
        "space = {\n",
        "    'n_clusters': hp.quniform('n_clusters', 2, 50, 1),\n",
        "}\n",
        "\n",
        "best = fmin(fn=objective,\n",
        "            space=space,\n",
        "            algo=tpe.suggest,\n",
        "            max_evals=20)\n",
        "print(\"Random Forest: Hyperopt estimated optimum {}\".format(best))"
      ]
    },
    {
      "cell_type": "code",
      "execution_count": null,
      "metadata": {
        "id": "QNeJGxBtj3Pz",
        "outputId": "071e5c1b-5b28-4c3b-b3f2-3baf4292796d"
      },
      "outputs": [
        {
          "name": "stdout",
          "output_type": "stream",
          "text": [
            "              precision    recall  f1-score   support\n",
            "\n",
            "           0       0.99      0.90      0.94      1255\n",
            "           1       0.91      0.99      0.95      1255\n",
            "\n",
            "    accuracy                           0.95      2510\n",
            "   macro avg       0.95      0.95      0.94      2510\n",
            "weighted avg       0.95      0.95      0.94      2510\n",
            "\n",
            "0.9450199203187251\n",
            "[[1127  128]\n",
            " [  10 1245]]\n"
          ]
        }
      ],
      "source": [
        "CL_kmeans(X_train, X_test, y_train, y_test, 16)"
      ]
    },
    {
      "cell_type": "markdown",
      "metadata": {
        "id": "qRvsFENHj3Pz"
      },
      "source": [
        "### Apply the CL-k-means model with biased classifiers"
      ]
    },
    {
      "cell_type": "code",
      "execution_count": null,
      "metadata": {
        "collapsed": true,
        "id": "DRrjJsQlj3Pz"
      },
      "outputs": [],
      "source": [
        "# Only a sample code to show the logic. It needs to work on the entire dataset to generate sufficient training samples for biased classifiers\n",
        "def Anomaly_IDS(X_train, X_test, y_train, y_test,n,b=100):\n",
        "    # CL-kmeans\n",
        "    km_cluster = MiniBatchKMeans(n_clusters=n,batch_size=b)\n",
        "    result = km_cluster.fit_predict(X_train)\n",
        "    result2 = km_cluster.predict(X_test)\n",
        "\n",
        "    count=0\n",
        "    a=np.zeros(n)\n",
        "    b=np.zeros(n)\n",
        "    for v in range(0,n):\n",
        "        for i in range(0,len(y_train)):\n",
        "            if result[i]==v:\n",
        "                if y_train[i]==1:\n",
        "                    a[v]=a[v]+1\n",
        "                else:\n",
        "                    b[v]=b[v]+1\n",
        "    list1=[]\n",
        "    list2=[]\n",
        "    for v in range(0,n):\n",
        "        if a[v]<=b[v]:\n",
        "            list1.append(v)\n",
        "        else:\n",
        "            list2.append(v)\n",
        "    for v in range(0,len(y_test)):\n",
        "        if result2[v] in list1:\n",
        "            result2[v]=0\n",
        "        elif result2[v] in list2:\n",
        "            result2[v]=1\n",
        "        else:\n",
        "            print(\"-1\")\n",
        "    print(classification_report(y_test, result2))\n",
        "    cm=confusion_matrix(y_test,result2)\n",
        "    acc=metrics.accuracy_score(y2,result2)\n",
        "    print(str(acc))\n",
        "    print(cm)\n",
        "\n",
        "    #Biased classifier construction\n",
        "    count=0\n",
        "    print(len(y))\n",
        "    a=np.zeros(n)\n",
        "    b=np.zeros(n)\n",
        "    FNL=[]\n",
        "    FPL=[]\n",
        "    for v in range(0,n):\n",
        "        al=[]\n",
        "        bl=[]\n",
        "        for i in range(0,len(y)):\n",
        "            if result[i]==v:\n",
        "                if y[i]==1:        #label 1\n",
        "                    a[v]=a[v]+1\n",
        "                    al.append(i)\n",
        "                else:             #label 0\n",
        "                    b[v]=b[v]+1\n",
        "                    bl.append(i)\n",
        "        if a[v]<=b[v]:\n",
        "            FNL.extend(al)\n",
        "        else:\n",
        "            FPL.extend(bl)\n",
        "        #print(str(v)+\"=\"+str(a[v]/(a[v]+b[v])))\n",
        "\n",
        "    dffp=df.iloc[FPL, :]\n",
        "    dffn=df.iloc[FNL, :]\n",
        "    dfva0=df[df['Label']==0]\n",
        "    dfva1=df[df['Label']==1]\n",
        "\n",
        "    dffpp=dfva1.sample(n=None, frac=len(FPL)/dfva1.shape[0], replace=False, weights=None, random_state=None, axis=0)\n",
        "    dffnp=dfva0.sample(n=None, frac=len(FNL)/dfva0.shape[0], replace=False, weights=None, random_state=None, axis=0)\n",
        "\n",
        "    dffp_f=pd.concat([dffp, dffpp])\n",
        "    dffn_f=pd.concat([dffn, dffnp])\n",
        "\n",
        "    Xp = dffp_f.drop(['Label'],axis=1)\n",
        "    yp = dffp_f.iloc[:, -1].values.reshape(-1,1)\n",
        "    yp=np.ravel(yp)\n",
        "\n",
        "    Xn = dffn_f.drop(['Label'],axis=1)\n",
        "    yn = dffn_f.iloc[:, -1].values.reshape(-1,1)\n",
        "    yn=np.ravel(yn)\n",
        "\n",
        "    rfp = RandomForestClassifier(random_state = 0)\n",
        "    rfp.fit(Xp,yp)\n",
        "    rfn = RandomForestClassifier(random_state = 0)\n",
        "    rfn.fit(Xn,yn)\n",
        "\n",
        "    dffnn_f=pd.concat([dffn, dffnp])\n",
        "\n",
        "    Xnn = dffn_f.drop(['Label'],axis=1)\n",
        "    ynn = dffn_f.iloc[:, -1].values.reshape(-1,1)\n",
        "    ynn=np.ravel(ynn)\n",
        "\n",
        "    rfnn = RandomForestClassifier(random_state = 0)\n",
        "    rfnn.fit(Xnn,ynn)\n",
        "\n",
        "    X2p = df2.drop(['Label'],axis=1)\n",
        "    y2p = df2.iloc[:, -1].values.reshape(-1,1)\n",
        "    y2p=np.ravel(y2p)\n",
        "\n",
        "    result2 = km_cluster.predict(X2p)\n",
        "\n",
        "    count=0\n",
        "    a=np.zeros(n)\n",
        "    b=np.zeros(n)\n",
        "    for v in range(0,n):\n",
        "        for i in range(0,len(y)):\n",
        "            if result[i]==v:\n",
        "                if y[i]==1:\n",
        "                    a[v]=a[v]+1\n",
        "                else:\n",
        "                    b[v]=b[v]+1\n",
        "    list1=[]\n",
        "    list2=[]\n",
        "    l1=[]\n",
        "    l0=[]\n",
        "    for v in range(0,n):\n",
        "        if a[v]<=b[v]:\n",
        "            list1.append(v)\n",
        "        else:\n",
        "            list2.append(v)\n",
        "    for v in range(0,len(y2p)):\n",
        "        if result2[v] in list1:\n",
        "            result2[v]=0\n",
        "            l0.append(v)\n",
        "        elif result2[v] in list2:\n",
        "            result2[v]=1\n",
        "            l1.append(v)\n",
        "        else:\n",
        "            print(\"-1\")\n",
        "    print(classification_report(y2p, result2))\n",
        "    cm=confusion_matrix(y2p,result2)\n",
        "    print(cm)"
      ]
    },
    {
      "cell_type": "markdown",
      "metadata": {
        "id": "BepMCHm5j3Pz"
      },
      "source": [
        "95% of the code has been shared, and the remaining 5% is retained for future extension.  \n",
        "Thank you for your interest and more details are in the paper."
      ]
    }
  ],
  "metadata": {
    "accelerator": "GPU",
    "anaconda-cloud": {},
    "colab": {
      "gpuType": "T4",
      "provenance": []
    },
    "kernelspec": {
      "display_name": "Python 3",
      "name": "python3"
    },
    "language_info": {
      "codemirror_mode": {
        "name": "ipython",
        "version": 3
      },
      "file_extension": ".py",
      "mimetype": "text/x-python",
      "name": "python",
      "nbconvert_exporter": "python",
      "pygments_lexer": "ipython3",
      "version": "3.9.13"
    }
  },
  "nbformat": 4,
  "nbformat_minor": 0
}
