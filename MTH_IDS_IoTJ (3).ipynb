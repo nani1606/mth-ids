{
  "cells": [
    {
      "cell_type": "markdown",
      "metadata": {
        "id": "_euawqLTj3Pi"
      },
      "source": [
        "## Import libraries"
      ]
    },
    {
      "cell_type": "code",
      "execution_count": 1,
      "metadata": {
        "id": "UQlcMHZ_j3Pi"
      },
      "outputs": [],
      "source": [
        "import warnings\n",
        "warnings.filterwarnings(\"ignore\")"
      ]
    },
    {
      "cell_type": "code",
      "execution_count": 2,
      "metadata": {
        "id": "w-c1IV6nj3Pj"
      },
      "outputs": [],
      "source": [
        "import numpy as np\n",
        "import pandas as pd\n",
        "import seaborn as sns\n",
        "import matplotlib.pyplot as plt\n",
        "from sklearn.preprocessing import LabelEncoder\n",
        "from sklearn.model_selection import train_test_split\n",
        "from sklearn.metrics import classification_report,confusion_matrix,accuracy_score,precision_recall_fscore_support\n",
        "from sklearn.metrics import f1_score,roc_auc_score\n",
        "from sklearn.ensemble import RandomForestClassifier,ExtraTreesClassifier\n",
        "from sklearn.tree import DecisionTreeClassifier\n",
        "import xgboost as xgb\n",
        "from xgboost import plot_importance"
      ]
    },
    {
      "cell_type": "markdown",
      "metadata": {
        "id": "I9feRSl2j3Pj"
      },
      "source": [
        "## Read the sampled dataset\n",
        "The dataset is publicly available at: https://www.unb.ca/cic/datasets/ids-2017.html  \n",
        "Due to the large size of this dataset, the sampled subsets of the dataset is used."
      ]
    },
    {
      "cell_type": "code",
      "execution_count": 3,
      "metadata": {
        "id": "IN8-eKkAj3Pj"
      },
      "outputs": [],
      "source": [
        "#Read dataset\n",
        "df = pd.read_csv('Wednesday-workingHours.pcap_ISCX.csv')\n",
        "# The results in this code is based on the original dataset."
      ]
    },
    {
      "cell_type": "code",
      "execution_count": 4,
      "metadata": {},
      "outputs": [
        {
          "data": {
            "text/html": [
              "<div>\n",
              "<style scoped>\n",
              "    .dataframe tbody tr th:only-of-type {\n",
              "        vertical-align: middle;\n",
              "    }\n",
              "\n",
              "    .dataframe tbody tr th {\n",
              "        vertical-align: top;\n",
              "    }\n",
              "\n",
              "    .dataframe thead th {\n",
              "        text-align: right;\n",
              "    }\n",
              "</style>\n",
              "<table border=\"1\" class=\"dataframe\">\n",
              "  <thead>\n",
              "    <tr style=\"text-align: right;\">\n",
              "      <th></th>\n",
              "      <th>Destination Port</th>\n",
              "      <th>Flow Duration</th>\n",
              "      <th>Total Fwd Packets</th>\n",
              "      <th>Total Backward Packets</th>\n",
              "      <th>Total Length of Fwd Packets</th>\n",
              "      <th>Total Length of Bwd Packets</th>\n",
              "      <th>Fwd Packet Length Max</th>\n",
              "      <th>Fwd Packet Length Min</th>\n",
              "      <th>Fwd Packet Length Mean</th>\n",
              "      <th>Fwd Packet Length Std</th>\n",
              "      <th>...</th>\n",
              "      <th>min_seg_size_forward</th>\n",
              "      <th>Active Mean</th>\n",
              "      <th>Active Std</th>\n",
              "      <th>Active Max</th>\n",
              "      <th>Active Min</th>\n",
              "      <th>Idle Mean</th>\n",
              "      <th>Idle Std</th>\n",
              "      <th>Idle Max</th>\n",
              "      <th>Idle Min</th>\n",
              "      <th>Label</th>\n",
              "    </tr>\n",
              "  </thead>\n",
              "  <tbody>\n",
              "    <tr>\n",
              "      <th>0</th>\n",
              "      <td>80</td>\n",
              "      <td>38308</td>\n",
              "      <td>1</td>\n",
              "      <td>1</td>\n",
              "      <td>6</td>\n",
              "      <td>6</td>\n",
              "      <td>6</td>\n",
              "      <td>6</td>\n",
              "      <td>6.000000</td>\n",
              "      <td>0.000000</td>\n",
              "      <td>...</td>\n",
              "      <td>20</td>\n",
              "      <td>0.0</td>\n",
              "      <td>0.0</td>\n",
              "      <td>0</td>\n",
              "      <td>0</td>\n",
              "      <td>0.0</td>\n",
              "      <td>0.0</td>\n",
              "      <td>0</td>\n",
              "      <td>0</td>\n",
              "      <td>BENIGN</td>\n",
              "    </tr>\n",
              "    <tr>\n",
              "      <th>1</th>\n",
              "      <td>389</td>\n",
              "      <td>479</td>\n",
              "      <td>11</td>\n",
              "      <td>5</td>\n",
              "      <td>172</td>\n",
              "      <td>326</td>\n",
              "      <td>79</td>\n",
              "      <td>0</td>\n",
              "      <td>15.636364</td>\n",
              "      <td>31.449238</td>\n",
              "      <td>...</td>\n",
              "      <td>32</td>\n",
              "      <td>0.0</td>\n",
              "      <td>0.0</td>\n",
              "      <td>0</td>\n",
              "      <td>0</td>\n",
              "      <td>0.0</td>\n",
              "      <td>0.0</td>\n",
              "      <td>0</td>\n",
              "      <td>0</td>\n",
              "      <td>BENIGN</td>\n",
              "    </tr>\n",
              "    <tr>\n",
              "      <th>2</th>\n",
              "      <td>88</td>\n",
              "      <td>1095</td>\n",
              "      <td>10</td>\n",
              "      <td>6</td>\n",
              "      <td>3150</td>\n",
              "      <td>3150</td>\n",
              "      <td>1575</td>\n",
              "      <td>0</td>\n",
              "      <td>315.000000</td>\n",
              "      <td>632.561635</td>\n",
              "      <td>...</td>\n",
              "      <td>32</td>\n",
              "      <td>0.0</td>\n",
              "      <td>0.0</td>\n",
              "      <td>0</td>\n",
              "      <td>0</td>\n",
              "      <td>0.0</td>\n",
              "      <td>0.0</td>\n",
              "      <td>0</td>\n",
              "      <td>0</td>\n",
              "      <td>BENIGN</td>\n",
              "    </tr>\n",
              "    <tr>\n",
              "      <th>3</th>\n",
              "      <td>389</td>\n",
              "      <td>15206</td>\n",
              "      <td>17</td>\n",
              "      <td>12</td>\n",
              "      <td>3452</td>\n",
              "      <td>6660</td>\n",
              "      <td>1313</td>\n",
              "      <td>0</td>\n",
              "      <td>203.058823</td>\n",
              "      <td>425.778474</td>\n",
              "      <td>...</td>\n",
              "      <td>32</td>\n",
              "      <td>0.0</td>\n",
              "      <td>0.0</td>\n",
              "      <td>0</td>\n",
              "      <td>0</td>\n",
              "      <td>0.0</td>\n",
              "      <td>0.0</td>\n",
              "      <td>0</td>\n",
              "      <td>0</td>\n",
              "      <td>BENIGN</td>\n",
              "    </tr>\n",
              "    <tr>\n",
              "      <th>4</th>\n",
              "      <td>88</td>\n",
              "      <td>1092</td>\n",
              "      <td>9</td>\n",
              "      <td>6</td>\n",
              "      <td>3150</td>\n",
              "      <td>3152</td>\n",
              "      <td>1575</td>\n",
              "      <td>0</td>\n",
              "      <td>350.000000</td>\n",
              "      <td>694.509719</td>\n",
              "      <td>...</td>\n",
              "      <td>32</td>\n",
              "      <td>0.0</td>\n",
              "      <td>0.0</td>\n",
              "      <td>0</td>\n",
              "      <td>0</td>\n",
              "      <td>0.0</td>\n",
              "      <td>0.0</td>\n",
              "      <td>0</td>\n",
              "      <td>0</td>\n",
              "      <td>BENIGN</td>\n",
              "    </tr>\n",
              "  </tbody>\n",
              "</table>\n",
              "<p>5 rows × 79 columns</p>\n",
              "</div>"
            ],
            "text/plain": [
              "    Destination Port   Flow Duration   Total Fwd Packets  \\\n",
              "0                 80           38308                   1   \n",
              "1                389             479                  11   \n",
              "2                 88            1095                  10   \n",
              "3                389           15206                  17   \n",
              "4                 88            1092                   9   \n",
              "\n",
              "    Total Backward Packets  Total Length of Fwd Packets  \\\n",
              "0                        1                            6   \n",
              "1                        5                          172   \n",
              "2                        6                         3150   \n",
              "3                       12                         3452   \n",
              "4                        6                         3150   \n",
              "\n",
              "    Total Length of Bwd Packets   Fwd Packet Length Max  \\\n",
              "0                             6                       6   \n",
              "1                           326                      79   \n",
              "2                          3150                    1575   \n",
              "3                          6660                    1313   \n",
              "4                          3152                    1575   \n",
              "\n",
              "    Fwd Packet Length Min   Fwd Packet Length Mean   Fwd Packet Length Std  \\\n",
              "0                       6                 6.000000                0.000000   \n",
              "1                       0                15.636364               31.449238   \n",
              "2                       0               315.000000              632.561635   \n",
              "3                       0               203.058823              425.778474   \n",
              "4                       0               350.000000              694.509719   \n",
              "\n",
              "   ...   min_seg_size_forward  Active Mean   Active Std   Active Max  \\\n",
              "0  ...                     20          0.0          0.0            0   \n",
              "1  ...                     32          0.0          0.0            0   \n",
              "2  ...                     32          0.0          0.0            0   \n",
              "3  ...                     32          0.0          0.0            0   \n",
              "4  ...                     32          0.0          0.0            0   \n",
              "\n",
              "    Active Min  Idle Mean   Idle Std   Idle Max   Idle Min   Label  \n",
              "0            0        0.0        0.0          0          0  BENIGN  \n",
              "1            0        0.0        0.0          0          0  BENIGN  \n",
              "2            0        0.0        0.0          0          0  BENIGN  \n",
              "3            0        0.0        0.0          0          0  BENIGN  \n",
              "4            0        0.0        0.0          0          0  BENIGN  \n",
              "\n",
              "[5 rows x 79 columns]"
            ]
          },
          "execution_count": 4,
          "metadata": {},
          "output_type": "execute_result"
        }
      ],
      "source": [
        "df.head()"
      ]
    },
    {
      "cell_type": "code",
      "execution_count": 22,
      "metadata": {},
      "outputs": [
        {
          "data": {
            "text/html": [
              "<div>\n",
              "<style scoped>\n",
              "    .dataframe tbody tr th:only-of-type {\n",
              "        vertical-align: middle;\n",
              "    }\n",
              "\n",
              "    .dataframe tbody tr th {\n",
              "        vertical-align: top;\n",
              "    }\n",
              "\n",
              "    .dataframe thead th {\n",
              "        text-align: right;\n",
              "    }\n",
              "</style>\n",
              "<table border=\"1\" class=\"dataframe\">\n",
              "  <thead>\n",
              "    <tr style=\"text-align: right;\">\n",
              "      <th></th>\n",
              "      <th>Destination Port</th>\n",
              "      <th>Flow Duration</th>\n",
              "      <th>Total Fwd Packets</th>\n",
              "      <th>Total Backward Packets</th>\n",
              "      <th>Total Length of Fwd Packets</th>\n",
              "      <th>Total Length of Bwd Packets</th>\n",
              "      <th>Fwd Packet Length Max</th>\n",
              "      <th>Fwd Packet Length Min</th>\n",
              "      <th>Fwd Packet Length Mean</th>\n",
              "      <th>Fwd Packet Length Std</th>\n",
              "      <th>...</th>\n",
              "      <th>min_seg_size_forward</th>\n",
              "      <th>Active Mean</th>\n",
              "      <th>Active Std</th>\n",
              "      <th>Active Max</th>\n",
              "      <th>Active Min</th>\n",
              "      <th>Idle Mean</th>\n",
              "      <th>Idle Std</th>\n",
              "      <th>Idle Max</th>\n",
              "      <th>Idle Min</th>\n",
              "      <th>Label</th>\n",
              "    </tr>\n",
              "  </thead>\n",
              "  <tbody>\n",
              "    <tr>\n",
              "      <th>0</th>\n",
              "      <td>-0.356503</td>\n",
              "      <td>-0.653857</td>\n",
              "      <td>-0.011451</td>\n",
              "      <td>-0.009362</td>\n",
              "      <td>-0.089086</td>\n",
              "      <td>-0.007581</td>\n",
              "      <td>-0.376966</td>\n",
              "      <td>-0.176667</td>\n",
              "      <td>-0.346068</td>\n",
              "      <td>-0.366591</td>\n",
              "      <td>...</td>\n",
              "      <td>-1.069400</td>\n",
              "      <td>-0.131646</td>\n",
              "      <td>-0.100396</td>\n",
              "      <td>-0.14867</td>\n",
              "      <td>-0.104366</td>\n",
              "      <td>-0.579979</td>\n",
              "      <td>-0.105686</td>\n",
              "      <td>-0.58524</td>\n",
              "      <td>-0.57078</td>\n",
              "      <td>BENIGN</td>\n",
              "    </tr>\n",
              "    <tr>\n",
              "      <th>1</th>\n",
              "      <td>-0.336856</td>\n",
              "      <td>-0.654742</td>\n",
              "      <td>0.001932</td>\n",
              "      <td>-0.005298</td>\n",
              "      <td>-0.062153</td>\n",
              "      <td>-0.007438</td>\n",
              "      <td>-0.256055</td>\n",
              "      <td>-0.294156</td>\n",
              "      <td>-0.284940</td>\n",
              "      <td>-0.227513</td>\n",
              "      <td>...</td>\n",
              "      <td>0.828623</td>\n",
              "      <td>-0.131646</td>\n",
              "      <td>-0.100396</td>\n",
              "      <td>-0.14867</td>\n",
              "      <td>-0.104366</td>\n",
              "      <td>-0.579979</td>\n",
              "      <td>-0.105686</td>\n",
              "      <td>-0.58524</td>\n",
              "      <td>-0.57078</td>\n",
              "      <td>BENIGN</td>\n",
              "    </tr>\n",
              "    <tr>\n",
              "      <th>2</th>\n",
              "      <td>-0.355994</td>\n",
              "      <td>-0.654727</td>\n",
              "      <td>0.000594</td>\n",
              "      <td>-0.004282</td>\n",
              "      <td>0.421001</td>\n",
              "      <td>-0.006178</td>\n",
              "      <td>2.221784</td>\n",
              "      <td>-0.294156</td>\n",
              "      <td>1.614047</td>\n",
              "      <td>2.430793</td>\n",
              "      <td>...</td>\n",
              "      <td>0.828623</td>\n",
              "      <td>-0.131646</td>\n",
              "      <td>-0.100396</td>\n",
              "      <td>-0.14867</td>\n",
              "      <td>-0.104366</td>\n",
              "      <td>-0.579979</td>\n",
              "      <td>-0.105686</td>\n",
              "      <td>-0.58524</td>\n",
              "      <td>-0.57078</td>\n",
              "      <td>BENIGN</td>\n",
              "    </tr>\n",
              "    <tr>\n",
              "      <th>3</th>\n",
              "      <td>-0.336856</td>\n",
              "      <td>-0.654397</td>\n",
              "      <td>0.009962</td>\n",
              "      <td>0.001815</td>\n",
              "      <td>0.469998</td>\n",
              "      <td>-0.004612</td>\n",
              "      <td>1.787831</td>\n",
              "      <td>-0.294156</td>\n",
              "      <td>0.903958</td>\n",
              "      <td>1.516334</td>\n",
              "      <td>...</td>\n",
              "      <td>0.828623</td>\n",
              "      <td>-0.131646</td>\n",
              "      <td>-0.100396</td>\n",
              "      <td>-0.14867</td>\n",
              "      <td>-0.104366</td>\n",
              "      <td>-0.579979</td>\n",
              "      <td>-0.105686</td>\n",
              "      <td>-0.58524</td>\n",
              "      <td>-0.57078</td>\n",
              "      <td>BENIGN</td>\n",
              "    </tr>\n",
              "    <tr>\n",
              "      <th>4</th>\n",
              "      <td>-0.355994</td>\n",
              "      <td>-0.654727</td>\n",
              "      <td>-0.000744</td>\n",
              "      <td>-0.004282</td>\n",
              "      <td>0.421001</td>\n",
              "      <td>-0.006177</td>\n",
              "      <td>2.221784</td>\n",
              "      <td>-0.294156</td>\n",
              "      <td>1.836067</td>\n",
              "      <td>2.704747</td>\n",
              "      <td>...</td>\n",
              "      <td>0.828623</td>\n",
              "      <td>-0.131646</td>\n",
              "      <td>-0.100396</td>\n",
              "      <td>-0.14867</td>\n",
              "      <td>-0.104366</td>\n",
              "      <td>-0.579979</td>\n",
              "      <td>-0.105686</td>\n",
              "      <td>-0.58524</td>\n",
              "      <td>-0.57078</td>\n",
              "      <td>BENIGN</td>\n",
              "    </tr>\n",
              "  </tbody>\n",
              "</table>\n",
              "<p>5 rows × 79 columns</p>\n",
              "</div>"
            ],
            "text/plain": [
              "    Destination Port   Flow Duration   Total Fwd Packets  \\\n",
              "0          -0.356503       -0.653857           -0.011451   \n",
              "1          -0.336856       -0.654742            0.001932   \n",
              "2          -0.355994       -0.654727            0.000594   \n",
              "3          -0.336856       -0.654397            0.009962   \n",
              "4          -0.355994       -0.654727           -0.000744   \n",
              "\n",
              "    Total Backward Packets  Total Length of Fwd Packets  \\\n",
              "0                -0.009362                    -0.089086   \n",
              "1                -0.005298                    -0.062153   \n",
              "2                -0.004282                     0.421001   \n",
              "3                 0.001815                     0.469998   \n",
              "4                -0.004282                     0.421001   \n",
              "\n",
              "    Total Length of Bwd Packets   Fwd Packet Length Max  \\\n",
              "0                     -0.007581               -0.376966   \n",
              "1                     -0.007438               -0.256055   \n",
              "2                     -0.006178                2.221784   \n",
              "3                     -0.004612                1.787831   \n",
              "4                     -0.006177                2.221784   \n",
              "\n",
              "    Fwd Packet Length Min   Fwd Packet Length Mean   Fwd Packet Length Std  \\\n",
              "0               -0.176667                -0.346068               -0.366591   \n",
              "1               -0.294156                -0.284940               -0.227513   \n",
              "2               -0.294156                 1.614047                2.430793   \n",
              "3               -0.294156                 0.903958                1.516334   \n",
              "4               -0.294156                 1.836067                2.704747   \n",
              "\n",
              "   ...   min_seg_size_forward  Active Mean   Active Std   Active Max  \\\n",
              "0  ...              -1.069400    -0.131646    -0.100396     -0.14867   \n",
              "1  ...               0.828623    -0.131646    -0.100396     -0.14867   \n",
              "2  ...               0.828623    -0.131646    -0.100396     -0.14867   \n",
              "3  ...               0.828623    -0.131646    -0.100396     -0.14867   \n",
              "4  ...               0.828623    -0.131646    -0.100396     -0.14867   \n",
              "\n",
              "    Active Min  Idle Mean   Idle Std   Idle Max   Idle Min   Label  \n",
              "0    -0.104366  -0.579979  -0.105686   -0.58524   -0.57078  BENIGN  \n",
              "1    -0.104366  -0.579979  -0.105686   -0.58524   -0.57078  BENIGN  \n",
              "2    -0.104366  -0.579979  -0.105686   -0.58524   -0.57078  BENIGN  \n",
              "3    -0.104366  -0.579979  -0.105686   -0.58524   -0.57078  BENIGN  \n",
              "4    -0.104366  -0.579979  -0.105686   -0.58524   -0.57078  BENIGN  \n",
              "\n",
              "[5 rows x 79 columns]"
            ]
          },
          "execution_count": 22,
          "metadata": {},
          "output_type": "execute_result"
        }
      ],
      "source": [
        "df.head()"
      ]
    },
    {
      "cell_type": "code",
      "execution_count": 6,
      "metadata": {
        "colab": {
          "base_uri": "https://localhost:8080/"
        },
        "id": "VOFO127IoqHe",
        "outputId": "e65714d2-3afa-489e-abee-950b0b499b1f"
      },
      "outputs": [
        {
          "data": {
            "text/plain": [
              "Index([' Destination Port', ' Flow Duration', ' Total Fwd Packets',\n",
              "       ' Total Backward Packets', 'Total Length of Fwd Packets',\n",
              "       ' Total Length of Bwd Packets', ' Fwd Packet Length Max',\n",
              "       ' Fwd Packet Length Min', ' Fwd Packet Length Mean',\n",
              "       ' Fwd Packet Length Std', 'Bwd Packet Length Max',\n",
              "       ' Bwd Packet Length Min', ' Bwd Packet Length Mean',\n",
              "       ' Bwd Packet Length Std', 'Flow Bytes/s', ' Flow Packets/s',\n",
              "       ' Flow IAT Mean', ' Flow IAT Std', ' Flow IAT Max', ' Flow IAT Min',\n",
              "       'Fwd IAT Total', ' Fwd IAT Mean', ' Fwd IAT Std', ' Fwd IAT Max',\n",
              "       ' Fwd IAT Min', 'Bwd IAT Total', ' Bwd IAT Mean', ' Bwd IAT Std',\n",
              "       ' Bwd IAT Max', ' Bwd IAT Min', 'Fwd PSH Flags', ' Bwd PSH Flags',\n",
              "       ' Fwd URG Flags', ' Bwd URG Flags', ' Fwd Header Length',\n",
              "       ' Bwd Header Length', 'Fwd Packets/s', ' Bwd Packets/s',\n",
              "       ' Min Packet Length', ' Max Packet Length', ' Packet Length Mean',\n",
              "       ' Packet Length Std', ' Packet Length Variance', 'FIN Flag Count',\n",
              "       ' SYN Flag Count', ' RST Flag Count', ' PSH Flag Count',\n",
              "       ' ACK Flag Count', ' URG Flag Count', ' CWE Flag Count',\n",
              "       ' ECE Flag Count', ' Down/Up Ratio', ' Average Packet Size',\n",
              "       ' Avg Fwd Segment Size', ' Avg Bwd Segment Size',\n",
              "       ' Fwd Header Length.1', 'Fwd Avg Bytes/Bulk', ' Fwd Avg Packets/Bulk',\n",
              "       ' Fwd Avg Bulk Rate', ' Bwd Avg Bytes/Bulk', ' Bwd Avg Packets/Bulk',\n",
              "       'Bwd Avg Bulk Rate', 'Subflow Fwd Packets', ' Subflow Fwd Bytes',\n",
              "       ' Subflow Bwd Packets', ' Subflow Bwd Bytes', 'Init_Win_bytes_forward',\n",
              "       ' Init_Win_bytes_backward', ' act_data_pkt_fwd',\n",
              "       ' min_seg_size_forward', 'Active Mean', ' Active Std', ' Active Max',\n",
              "       ' Active Min', 'Idle Mean', ' Idle Std', ' Idle Max', ' Idle Min',\n",
              "       ' Label'],\n",
              "      dtype='object')"
            ]
          },
          "execution_count": 6,
          "metadata": {},
          "output_type": "execute_result"
        }
      ],
      "source": [
        "df.columns"
      ]
    },
    {
      "cell_type": "code",
      "execution_count": 5,
      "metadata": {
        "colab": {
          "base_uri": "https://localhost:8080/"
        },
        "id": "dxt6JEwEj3Pj",
        "outputId": "074d6532-c6e1-48e2-a3e0-de25cc01a1bc"
      },
      "outputs": [
        {
          "data": {
            "text/plain": [
              " Label\n",
              "BENIGN              440031\n",
              "DoS Hulk            231073\n",
              "DoS GoldenEye        10293\n",
              "DoS slowloris         5796\n",
              "DoS Slowhttptest      5499\n",
              "Heartbleed              11\n",
              "Name: count, dtype: int64"
            ]
          },
          "execution_count": 5,
          "metadata": {},
          "output_type": "execute_result"
        }
      ],
      "source": [
        "df[' Label'].value_counts()"
      ]
    },
    {
      "cell_type": "code",
      "execution_count": 6,
      "metadata": {},
      "outputs": [
        {
          "data": {
            "image/png": "[encoded data removed]",
            "text/plain": [
              "<Figure size 1000x600 with 1 Axes>"
            ]
          },
          "metadata": {},
          "output_type": "display_data"
        }
      ],
      "source": [
        "#bar chart\n",
        "import matplotlib.pyplot as plt\n",
        "plt.figure(figsize=(10, 6))\n",
        "x = df[' Label']\n",
        "plt.plot(x)\n",
        "plt.show()"
      ]
    },
    {
      "cell_type": "code",
      "execution_count": 12,
      "metadata": {},
      "outputs": [
        {
          "data": {
            "image/png": "[encoded data removed]",
            "text/plain": [
              "<Figure size 800x800 with 1 Axes>"
            ]
          },
          "metadata": {},
          "output_type": "display_data"
        }
      ],
      "source": [
        "#pie chart\n",
        "\n",
        "import matplotlib.pyplot as plt\n",
        "\n",
        "# Count the occurrences of each unique value in the 'Label' column\n",
        "label_counts = df[' Label'].value_counts()\n",
        "\n",
        "# Get labels and sizes for the pie chart\n",
        "labels = label_counts.index\n",
        "sizes = label_counts.values\n",
        "\n",
        "# Create the pie chart\n",
        "plt.figure(figsize=(8, 8))\n",
        "plt.pie(sizes, labels=labels, autopct='%1.1f%%', startangle=140)\n",
        "\n",
        "# Equal aspect ratio ensures that pie is drawn as a circle\n",
        "plt.axis('equal')\n",
        "plt.title('Distribution of Labels')\n",
        "plt.show()"
      ]
    },
    {
      "cell_type": "markdown",
      "metadata": {
        "id": "Ht75MJy8j3Pk"
      },
      "source": [
        "### Preprocessing (normalization and padding values)"
      ]
    },
    {
      "cell_type": "code",
      "execution_count": 7,
      "metadata": {
        "id": "bVKMQLbBj3Pk",
        "outputId": "5227ed2b-f053-4d26-b404-6be820f3d749"
      },
      "outputs": [],
      "source": [
        "# Z-score normalization\n",
        "features = df.dtypes[df.dtypes != 'object'].index\n",
        "df[features] = df[features].apply(\n",
        "    lambda x: (x - x.mean()) / (x.std()))\n",
        "# Fill empty values by 0\n",
        "df = df.fillna(0)"
      ]
    },
    {
      "cell_type": "code",
      "execution_count": 20,
      "metadata": {},
      "outputs": [
        {
          "data": {
            "text/plain": [
              "Index([' Destination Port', ' Flow Duration', ' Total Fwd Packets',\n",
              "       ' Total Backward Packets', 'Total Length of Fwd Packets',\n",
              "       ' Total Length of Bwd Packets', ' Fwd Packet Length Max',\n",
              "       ' Fwd Packet Length Min', ' Fwd Packet Length Mean',\n",
              "       ' Fwd Packet Length Std', 'Bwd Packet Length Max',\n",
              "       ' Bwd Packet Length Min', ' Bwd Packet Length Mean',\n",
              "       ' Bwd Packet Length Std', 'Flow Bytes/s', ' Flow Packets/s',\n",
              "       ' Flow IAT Mean', ' Flow IAT Std', ' Flow IAT Max', ' Flow IAT Min',\n",
              "       'Fwd IAT Total', ' Fwd IAT Mean', ' Fwd IAT Std', ' Fwd IAT Max',\n",
              "       ' Fwd IAT Min', 'Bwd IAT Total', ' Bwd IAT Mean', ' Bwd IAT Std',\n",
              "       ' Bwd IAT Max', ' Bwd IAT Min', 'Fwd PSH Flags', ' Bwd PSH Flags',\n",
              "       ' Fwd URG Flags', ' Bwd URG Flags', ' Fwd Header Length',\n",
              "       ' Bwd Header Length', 'Fwd Packets/s', ' Bwd Packets/s',\n",
              "       ' Min Packet Length', ' Max Packet Length', ' Packet Length Mean',\n",
              "       ' Packet Length Std', ' Packet Length Variance', 'FIN Flag Count',\n",
              "       ' SYN Flag Count', ' RST Flag Count', ' PSH Flag Count',\n",
              "       ' ACK Flag Count', ' URG Flag Count', ' CWE Flag Count',\n",
              "       ' ECE Flag Count', ' Down/Up Ratio', ' Average Packet Size',\n",
              "       ' Avg Fwd Segment Size', ' Avg Bwd Segment Size',\n",
              "       ' Fwd Header Length.1', 'Fwd Avg Bytes/Bulk', ' Fwd Avg Packets/Bulk',\n",
              "       ' Fwd Avg Bulk Rate', ' Bwd Avg Bytes/Bulk', ' Bwd Avg Packets/Bulk',\n",
              "       'Bwd Avg Bulk Rate', 'Subflow Fwd Packets', ' Subflow Fwd Bytes',\n",
              "       ' Subflow Bwd Packets', ' Subflow Bwd Bytes', 'Init_Win_bytes_forward',\n",
              "       ' Init_Win_bytes_backward', ' act_data_pkt_fwd',\n",
              "       ' min_seg_size_forward', 'Active Mean', ' Active Std', ' Active Max',\n",
              "       ' Active Min', 'Idle Mean', ' Idle Std', ' Idle Max', ' Idle Min'],\n",
              "      dtype='object')"
            ]
          },
          "execution_count": 20,
          "metadata": {},
          "output_type": "execute_result"
        }
      ],
      "source": [
        "#features list\n",
        "features\n",
        "# df.describe"
      ]
    },
    {
      "cell_type": "code",
      "execution_count": 8,
      "metadata": {},
      "outputs": [
        {
          "name": "stdout",
          "output_type": "stream",
          "text": [
            " Max Packet Length         0.064173\n",
            " Avg Bwd Segment Size      0.061846\n",
            " Bwd Packet Length Std     0.053105\n",
            " Destination Port          0.051475\n",
            " Packet Length Variance    0.049508\n",
            " Packet Length Mean        0.048837\n",
            " Bwd Packet Length Mean    0.043760\n",
            " Average Packet Size       0.038812\n",
            "Bwd Packet Length Max      0.037247\n",
            " Subflow Bwd Bytes         0.029714\n",
            "dtype: float64\n"
          ]
        }
      ],
      "source": [
        "#checking for the top 10 best features of the avaialble 79 features.\n",
        "\n",
        "from sklearn.ensemble import RandomForestClassifier\n",
        "import pandas as pd\n",
        "\n",
        "# Assuming df is your DataFrame containing all the columns\n",
        "X = df.drop(' Label', axis=1)  # Features\n",
        "y = df[' Label']  # Target variable\n",
        "\n",
        "# Train Random Forest classifier\n",
        "model = RandomForestClassifier()\n",
        "model.fit(X, y)\n",
        "\n",
        "# Get feature importances\n",
        "feature_importances = pd.Series(model.feature_importances_, index=X.columns)\n",
        "\n",
        "# Sort feature importances in descending order\n",
        "feature_importances_sorted = feature_importances.sort_values(ascending=False)\n",
        "\n",
        "# Display top N important features\n",
        "top_n = 10  # Adjust this number as needed\n",
        "print(feature_importances_sorted.head(top_n))\n"
      ]
    },
    {
      "cell_type": "code",
      "execution_count": 9,
      "metadata": {},
      "outputs": [
        {
          "data": {
            "text/plain": [
              " Max Packet Length         0.064173\n",
              " Avg Bwd Segment Size      0.061846\n",
              " Bwd Packet Length Std     0.053105\n",
              " Destination Port          0.051475\n",
              " Packet Length Variance    0.049508\n",
              " Packet Length Mean        0.048837\n",
              " Bwd Packet Length Mean    0.043760\n",
              " Average Packet Size       0.038812\n",
              "Bwd Packet Length Max      0.037247\n",
              " Subflow Bwd Bytes         0.029714\n",
              "dtype: float64"
            ]
          },
          "execution_count": 9,
          "metadata": {},
          "output_type": "execute_result"
        }
      ],
      "source": [
        "feature_importances_sorted[:10]"
      ]
    },
    {
      "cell_type": "code",
      "execution_count": 28,
      "metadata": {},
      "outputs": [
        {
          "data": {
            "text/plain": [
              "Index([' Destination Port', ' Flow Duration', ' Total Fwd Packets',\n",
              "       ' Total Backward Packets', 'Total Length of Fwd Packets',\n",
              "       ' Total Length of Bwd Packets', ' Fwd Packet Length Max',\n",
              "       ' Fwd Packet Length Min', ' Fwd Packet Length Mean',\n",
              "       ' Fwd Packet Length Std', 'Bwd Packet Length Max',\n",
              "       ' Bwd Packet Length Min', ' Bwd Packet Length Mean',\n",
              "       ' Bwd Packet Length Std', 'Flow Bytes/s', ' Flow Packets/s',\n",
              "       ' Flow IAT Mean', ' Flow IAT Std', ' Flow IAT Max', ' Flow IAT Min',\n",
              "       'Fwd IAT Total', ' Fwd IAT Mean', ' Fwd IAT Std', ' Fwd IAT Max',\n",
              "       ' Fwd IAT Min', 'Bwd IAT Total', ' Bwd IAT Mean', ' Bwd IAT Std',\n",
              "       ' Bwd IAT Max', ' Bwd IAT Min', 'Fwd PSH Flags', ' Bwd PSH Flags',\n",
              "       ' Fwd URG Flags', ' Bwd URG Flags', ' Fwd Header Length',\n",
              "       ' Bwd Header Length', 'Fwd Packets/s', ' Bwd Packets/s',\n",
              "       ' Min Packet Length', ' Max Packet Length', ' Packet Length Mean',\n",
              "       ' Packet Length Std', ' Packet Length Variance', 'FIN Flag Count',\n",
              "       ' SYN Flag Count', ' RST Flag Count', ' PSH Flag Count',\n",
              "       ' ACK Flag Count', ' URG Flag Count', ' CWE Flag Count',\n",
              "       ' ECE Flag Count', ' Down/Up Ratio', ' Average Packet Size',\n",
              "       ' Avg Fwd Segment Size', ' Avg Bwd Segment Size',\n",
              "       ' Fwd Header Length.1', 'Fwd Avg Bytes/Bulk', ' Fwd Avg Packets/Bulk',\n",
              "       ' Fwd Avg Bulk Rate', ' Bwd Avg Bytes/Bulk', ' Bwd Avg Packets/Bulk',\n",
              "       'Bwd Avg Bulk Rate', 'Subflow Fwd Packets', ' Subflow Fwd Bytes',\n",
              "       ' Subflow Bwd Packets', ' Subflow Bwd Bytes', 'Init_Win_bytes_forward',\n",
              "       ' Init_Win_bytes_backward', ' act_data_pkt_fwd',\n",
              "       ' min_seg_size_forward', 'Active Mean', ' Active Std', ' Active Max',\n",
              "       ' Active Min', 'Idle Mean', ' Idle Std', ' Idle Max', ' Idle Min',\n",
              "       ' Label'],\n",
              "      dtype='object')"
            ]
          },
          "execution_count": 28,
          "metadata": {},
          "output_type": "execute_result"
        }
      ],
      "source": [
        "df.columns"
      ]
    },
    {
      "cell_type": "code",
      "execution_count": 31,
      "metadata": {},
      "outputs": [
        {
          "data": {
            "text/plain": [
              "0   -0.599827\n",
              "1   -0.518520\n",
              "2    0.140878\n",
              "3    0.290375\n",
              "4    0.141348\n",
              "Name:  Bwd Packet Length Std, dtype: float64"
            ]
          },
          "execution_count": 31,
          "metadata": {},
          "output_type": "execute_result"
        }
      ],
      "source": [
        "df[' Bwd Packet Length Std'].head()"
      ]
    },
    {
      "cell_type": "code",
      "execution_count": 10,
      "metadata": {},
      "outputs": [
        {
          "data": {
            "text/plain": [
              "array(['BENIGN', 'BENIGN', 'BENIGN', ..., 'BENIGN', 'BENIGN', 'BENIGN'],\n",
              "      dtype=object)"
            ]
          },
          "execution_count": 10,
          "metadata": {},
          "output_type": "execute_result"
        }
      ],
      "source": [
        "from sklearn.tree import DecisionTreeClassifier\n",
        "col_names = [' Bwd Packet Length Std',' Avg Bwd Segment Size', ' Bwd Packet Length Mean',\n",
        "    ' Packet Length Mean', ' Packet Length Std', ' Packet Length Variance',\n",
        "    ' Max Packet Length', ' Destination Port', ' Average Packet Size', 'Init_Win_bytes_forward']\n",
        "X = df[col_names]\n",
        "y = df[' Label']\n",
        "model = DecisionTreeClassifier()\n",
        "model.fit(X, y)\n",
        "pred = model.predict(X)\n",
        "pred"
      ]
    },
    {
      "cell_type": "code",
      "execution_count": 11,
      "metadata": {},
      "outputs": [
        {
          "name": "stdout",
          "output_type": "stream",
          "text": [
            "Accuracy: 0.9922030076381941\n",
            "        Actual Predicted\n",
            "0       BENIGN    BENIGN\n",
            "1       BENIGN    BENIGN\n",
            "2       BENIGN    BENIGN\n",
            "3       BENIGN    BENIGN\n",
            "4       BENIGN    BENIGN\n",
            "...        ...       ...\n",
            "692698  BENIGN    BENIGN\n",
            "692699  BENIGN    BENIGN\n",
            "692700  BENIGN    BENIGN\n",
            "692701  BENIGN    BENIGN\n",
            "692702  BENIGN    BENIGN\n",
            "\n",
            "[692703 rows x 2 columns]\n"
          ]
        }
      ],
      "source": [
        "#checking the difference between predicted values from  model and actual values\n",
        "from sklearn.metrics import accuracy_score\n",
        "\n",
        "# Calculate the accuracy score\n",
        "accuracy = accuracy_score(y, pred)\n",
        "print(\"Accuracy:\", accuracy)\n",
        "\n",
        "# Create a DataFrame to display actual and predicted values\n",
        "result_df = pd.DataFrame({'Actual': y, 'Predicted': pred})\n",
        "print(result_df)"
      ]
    },
    {
      "cell_type": "markdown",
      "metadata": {
        "id": "WC6BlEzBj3Pk"
      },
      "source": [
        "### Data sampling\n",
        "Due to the space limit of GitHub files and the large size of network traffic data, we sample a small-sized subset for model learning using **k-means cluster sampling**"
      ]
    },
    {
      "cell_type": "code",
      "execution_count": 12,
      "metadata": {
        "id": "qrECbr6Ij3Pk"
      },
      "outputs": [],
      "source": [
        "labelencoder = LabelEncoder()\n",
        "df.iloc[:, -1] = labelencoder.fit_transform(df.iloc[:, -1])"
      ]
    },
    {
      "cell_type": "code",
      "execution_count": 13,
      "metadata": {
        "colab": {
          "base_uri": "https://localhost:8080/"
        },
        "id": "OvrCCgeCj3Pl",
        "outputId": "82b3df1b-98a6-4207-d5e7-0a319fc2c8c2"
      },
      "outputs": [
        {
          "data": {
            "text/plain": [
              " Label\n",
              "0    440031\n",
              "2    231073\n",
              "1     10293\n",
              "4      5796\n",
              "3      5499\n",
              "5        11\n",
              "Name: count, dtype: int64"
            ]
          },
          "execution_count": 13,
          "metadata": {},
          "output_type": "execute_result"
        }
      ],
      "source": [
        "df[' Label'].value_counts()"
      ]
    },
    {
      "cell_type": "code",
      "execution_count": 14,
      "metadata": {
        "id": "pnFVjwI_uHVH"
      },
      "outputs": [],
      "source": [
        "# Z-score normalization\n",
        "features = df.dtypes[df.dtypes != 'object'].index\n",
        "df[features] = df[features].apply(\n",
        "    lambda x: (x - x.mean()) / (x.std()))\n",
        "# Fill empty values by 0\n",
        "df = df.fillna(0)"
      ]
    },
    {
      "cell_type": "code",
      "execution_count": 44,
      "metadata": {
        "colab": {
          "base_uri": "https://localhost:8080/",
          "height": 495
        },
        "id": "367-w0DauLuS",
        "outputId": "5be86bbb-94dd-4bd9-8a48-16ec38615c12"
      },
      "outputs": [
        {
          "data": {
            "text/html": [
              "<div>\n",
              "<style scoped>\n",
              "    .dataframe tbody tr th:only-of-type {\n",
              "        vertical-align: middle;\n",
              "    }\n",
              "\n",
              "    .dataframe tbody tr th {\n",
              "        vertical-align: top;\n",
              "    }\n",
              "\n",
              "    .dataframe thead th {\n",
              "        text-align: right;\n",
              "    }\n",
              "</style>\n",
              "<table border=\"1\" class=\"dataframe\">\n",
              "  <thead>\n",
              "    <tr style=\"text-align: right;\">\n",
              "      <th></th>\n",
              "      <th>Destination Port</th>\n",
              "      <th>Flow Duration</th>\n",
              "      <th>Total Fwd Packets</th>\n",
              "      <th>Total Backward Packets</th>\n",
              "      <th>Total Length of Fwd Packets</th>\n",
              "      <th>Total Length of Bwd Packets</th>\n",
              "      <th>Fwd Packet Length Max</th>\n",
              "      <th>Fwd Packet Length Min</th>\n",
              "      <th>Fwd Packet Length Mean</th>\n",
              "      <th>Fwd Packet Length Std</th>\n",
              "      <th>...</th>\n",
              "      <th>min_seg_size_forward</th>\n",
              "      <th>Active Mean</th>\n",
              "      <th>Active Std</th>\n",
              "      <th>Active Max</th>\n",
              "      <th>Active Min</th>\n",
              "      <th>Idle Mean</th>\n",
              "      <th>Idle Std</th>\n",
              "      <th>Idle Max</th>\n",
              "      <th>Idle Min</th>\n",
              "      <th>Label</th>\n",
              "    </tr>\n",
              "  </thead>\n",
              "  <tbody>\n",
              "    <tr>\n",
              "      <th>0</th>\n",
              "      <td>-0.356503</td>\n",
              "      <td>-0.653857</td>\n",
              "      <td>-0.011451</td>\n",
              "      <td>-0.009362</td>\n",
              "      <td>-0.089086</td>\n",
              "      <td>-0.007581</td>\n",
              "      <td>-0.376966</td>\n",
              "      <td>-0.176667</td>\n",
              "      <td>-0.346068</td>\n",
              "      <td>-0.366591</td>\n",
              "      <td>...</td>\n",
              "      <td>-1.069400</td>\n",
              "      <td>-0.131646</td>\n",
              "      <td>-0.100396</td>\n",
              "      <td>-0.14867</td>\n",
              "      <td>-0.104366</td>\n",
              "      <td>-0.579979</td>\n",
              "      <td>-0.105686</td>\n",
              "      <td>-0.58524</td>\n",
              "      <td>-0.57078</td>\n",
              "      <td>0</td>\n",
              "    </tr>\n",
              "    <tr>\n",
              "      <th>1</th>\n",
              "      <td>-0.336856</td>\n",
              "      <td>-0.654742</td>\n",
              "      <td>0.001932</td>\n",
              "      <td>-0.005298</td>\n",
              "      <td>-0.062153</td>\n",
              "      <td>-0.007438</td>\n",
              "      <td>-0.256055</td>\n",
              "      <td>-0.294156</td>\n",
              "      <td>-0.284940</td>\n",
              "      <td>-0.227513</td>\n",
              "      <td>...</td>\n",
              "      <td>0.828623</td>\n",
              "      <td>-0.131646</td>\n",
              "      <td>-0.100396</td>\n",
              "      <td>-0.14867</td>\n",
              "      <td>-0.104366</td>\n",
              "      <td>-0.579979</td>\n",
              "      <td>-0.105686</td>\n",
              "      <td>-0.58524</td>\n",
              "      <td>-0.57078</td>\n",
              "      <td>0</td>\n",
              "    </tr>\n",
              "    <tr>\n",
              "      <th>2</th>\n",
              "      <td>-0.355994</td>\n",
              "      <td>-0.654727</td>\n",
              "      <td>0.000594</td>\n",
              "      <td>-0.004282</td>\n",
              "      <td>0.421001</td>\n",
              "      <td>-0.006178</td>\n",
              "      <td>2.221784</td>\n",
              "      <td>-0.294156</td>\n",
              "      <td>1.614047</td>\n",
              "      <td>2.430793</td>\n",
              "      <td>...</td>\n",
              "      <td>0.828623</td>\n",
              "      <td>-0.131646</td>\n",
              "      <td>-0.100396</td>\n",
              "      <td>-0.14867</td>\n",
              "      <td>-0.104366</td>\n",
              "      <td>-0.579979</td>\n",
              "      <td>-0.105686</td>\n",
              "      <td>-0.58524</td>\n",
              "      <td>-0.57078</td>\n",
              "      <td>0</td>\n",
              "    </tr>\n",
              "    <tr>\n",
              "      <th>3</th>\n",
              "      <td>-0.336856</td>\n",
              "      <td>-0.654397</td>\n",
              "      <td>0.009962</td>\n",
              "      <td>0.001815</td>\n",
              "      <td>0.469998</td>\n",
              "      <td>-0.004612</td>\n",
              "      <td>1.787831</td>\n",
              "      <td>-0.294156</td>\n",
              "      <td>0.903958</td>\n",
              "      <td>1.516334</td>\n",
              "      <td>...</td>\n",
              "      <td>0.828623</td>\n",
              "      <td>-0.131646</td>\n",
              "      <td>-0.100396</td>\n",
              "      <td>-0.14867</td>\n",
              "      <td>-0.104366</td>\n",
              "      <td>-0.579979</td>\n",
              "      <td>-0.105686</td>\n",
              "      <td>-0.58524</td>\n",
              "      <td>-0.57078</td>\n",
              "      <td>0</td>\n",
              "    </tr>\n",
              "    <tr>\n",
              "      <th>4</th>\n",
              "      <td>-0.355994</td>\n",
              "      <td>-0.654727</td>\n",
              "      <td>-0.000744</td>\n",
              "      <td>-0.004282</td>\n",
              "      <td>0.421001</td>\n",
              "      <td>-0.006177</td>\n",
              "      <td>2.221784</td>\n",
              "      <td>-0.294156</td>\n",
              "      <td>1.836067</td>\n",
              "      <td>2.704747</td>\n",
              "      <td>...</td>\n",
              "      <td>0.828623</td>\n",
              "      <td>-0.131646</td>\n",
              "      <td>-0.100396</td>\n",
              "      <td>-0.14867</td>\n",
              "      <td>-0.104366</td>\n",
              "      <td>-0.579979</td>\n",
              "      <td>-0.105686</td>\n",
              "      <td>-0.58524</td>\n",
              "      <td>-0.57078</td>\n",
              "      <td>0</td>\n",
              "    </tr>\n",
              "    <tr>\n",
              "      <th>...</th>\n",
              "      <td>...</td>\n",
              "      <td>...</td>\n",
              "      <td>...</td>\n",
              "      <td>...</td>\n",
              "      <td>...</td>\n",
              "      <td>...</td>\n",
              "      <td>...</td>\n",
              "      <td>...</td>\n",
              "      <td>...</td>\n",
              "      <td>...</td>\n",
              "      <td>...</td>\n",
              "      <td>...</td>\n",
              "      <td>...</td>\n",
              "      <td>...</td>\n",
              "      <td>...</td>\n",
              "      <td>...</td>\n",
              "      <td>...</td>\n",
              "      <td>...</td>\n",
              "      <td>...</td>\n",
              "      <td>...</td>\n",
              "      <td>...</td>\n",
              "    </tr>\n",
              "    <tr>\n",
              "      <th>692698</th>\n",
              "      <td>-0.358219</td>\n",
              "      <td>-0.653999</td>\n",
              "      <td>-0.007436</td>\n",
              "      <td>-0.008346</td>\n",
              "      <td>-0.071888</td>\n",
              "      <td>-0.007516</td>\n",
              "      <td>-0.340527</td>\n",
              "      <td>0.254124</td>\n",
              "      <td>-0.206513</td>\n",
              "      <td>-0.366591</td>\n",
              "      <td>...</td>\n",
              "      <td>-1.069400</td>\n",
              "      <td>-0.131646</td>\n",
              "      <td>-0.100396</td>\n",
              "      <td>-0.14867</td>\n",
              "      <td>-0.104366</td>\n",
              "      <td>-0.579979</td>\n",
              "      <td>-0.105686</td>\n",
              "      <td>-0.58524</td>\n",
              "      <td>-0.57078</td>\n",
              "      <td>0</td>\n",
              "    </tr>\n",
              "    <tr>\n",
              "      <th>692699</th>\n",
              "      <td>-0.358219</td>\n",
              "      <td>-0.654745</td>\n",
              "      <td>-0.010113</td>\n",
              "      <td>-0.008346</td>\n",
              "      <td>-0.076431</td>\n",
              "      <td>-0.007422</td>\n",
              "      <td>-0.317339</td>\n",
              "      <td>0.528264</td>\n",
              "      <td>-0.117705</td>\n",
              "      <td>-0.366591</td>\n",
              "      <td>...</td>\n",
              "      <td>-1.069400</td>\n",
              "      <td>-0.131646</td>\n",
              "      <td>-0.100396</td>\n",
              "      <td>-0.14867</td>\n",
              "      <td>-0.104366</td>\n",
              "      <td>-0.579979</td>\n",
              "      <td>-0.105686</td>\n",
              "      <td>-0.58524</td>\n",
              "      <td>-0.57078</td>\n",
              "      <td>0</td>\n",
              "    </tr>\n",
              "    <tr>\n",
              "      <th>692700</th>\n",
              "      <td>3.328144</td>\n",
              "      <td>-0.654751</td>\n",
              "      <td>-0.010113</td>\n",
              "      <td>-0.009362</td>\n",
              "      <td>-0.085029</td>\n",
              "      <td>-0.007581</td>\n",
              "      <td>-0.335558</td>\n",
              "      <td>-0.294156</td>\n",
              "      <td>-0.285805</td>\n",
              "      <td>-0.269653</td>\n",
              "      <td>...</td>\n",
              "      <td>0.828623</td>\n",
              "      <td>-0.131646</td>\n",
              "      <td>-0.100396</td>\n",
              "      <td>-0.14867</td>\n",
              "      <td>-0.104366</td>\n",
              "      <td>-0.579979</td>\n",
              "      <td>-0.105686</td>\n",
              "      <td>-0.58524</td>\n",
              "      <td>-0.57078</td>\n",
              "      <td>0</td>\n",
              "    </tr>\n",
              "    <tr>\n",
              "      <th>692701</th>\n",
              "      <td>-0.358219</td>\n",
              "      <td>-0.630233</td>\n",
              "      <td>-0.004759</td>\n",
              "      <td>-0.008346</td>\n",
              "      <td>-0.058909</td>\n",
              "      <td>-0.007469</td>\n",
              "      <td>-0.333902</td>\n",
              "      <td>0.332450</td>\n",
              "      <td>-0.181139</td>\n",
              "      <td>-0.366591</td>\n",
              "      <td>...</td>\n",
              "      <td>-1.069400</td>\n",
              "      <td>-0.131646</td>\n",
              "      <td>-0.100396</td>\n",
              "      <td>-0.14867</td>\n",
              "      <td>-0.104366</td>\n",
              "      <td>-0.579979</td>\n",
              "      <td>-0.105686</td>\n",
              "      <td>-0.58524</td>\n",
              "      <td>-0.57078</td>\n",
              "      <td>0</td>\n",
              "    </tr>\n",
              "    <tr>\n",
              "      <th>692702</th>\n",
              "      <td>-0.358219</td>\n",
              "      <td>-0.652533</td>\n",
              "      <td>-0.007436</td>\n",
              "      <td>-0.008346</td>\n",
              "      <td>-0.059558</td>\n",
              "      <td>-0.007483</td>\n",
              "      <td>-0.309057</td>\n",
              "      <td>0.626171</td>\n",
              "      <td>-0.085988</td>\n",
              "      <td>-0.366591</td>\n",
              "      <td>...</td>\n",
              "      <td>-1.069400</td>\n",
              "      <td>-0.131646</td>\n",
              "      <td>-0.100396</td>\n",
              "      <td>-0.14867</td>\n",
              "      <td>-0.104366</td>\n",
              "      <td>-0.579979</td>\n",
              "      <td>-0.105686</td>\n",
              "      <td>-0.58524</td>\n",
              "      <td>-0.57078</td>\n",
              "      <td>0</td>\n",
              "    </tr>\n",
              "  </tbody>\n",
              "</table>\n",
              "<p>692703 rows × 79 columns</p>\n",
              "</div>"
            ],
            "text/plain": [
              "         Destination Port   Flow Duration   Total Fwd Packets  \\\n",
              "0               -0.356503       -0.653857           -0.011451   \n",
              "1               -0.336856       -0.654742            0.001932   \n",
              "2               -0.355994       -0.654727            0.000594   \n",
              "3               -0.336856       -0.654397            0.009962   \n",
              "4               -0.355994       -0.654727           -0.000744   \n",
              "...                   ...             ...                 ...   \n",
              "692698          -0.358219       -0.653999           -0.007436   \n",
              "692699          -0.358219       -0.654745           -0.010113   \n",
              "692700           3.328144       -0.654751           -0.010113   \n",
              "692701          -0.358219       -0.630233           -0.004759   \n",
              "692702          -0.358219       -0.652533           -0.007436   \n",
              "\n",
              "         Total Backward Packets  Total Length of Fwd Packets  \\\n",
              "0                     -0.009362                    -0.089086   \n",
              "1                     -0.005298                    -0.062153   \n",
              "2                     -0.004282                     0.421001   \n",
              "3                      0.001815                     0.469998   \n",
              "4                     -0.004282                     0.421001   \n",
              "...                         ...                          ...   \n",
              "692698                -0.008346                    -0.071888   \n",
              "692699                -0.008346                    -0.076431   \n",
              "692700                -0.009362                    -0.085029   \n",
              "692701                -0.008346                    -0.058909   \n",
              "692702                -0.008346                    -0.059558   \n",
              "\n",
              "         Total Length of Bwd Packets   Fwd Packet Length Max  \\\n",
              "0                          -0.007581               -0.376966   \n",
              "1                          -0.007438               -0.256055   \n",
              "2                          -0.006178                2.221784   \n",
              "3                          -0.004612                1.787831   \n",
              "4                          -0.006177                2.221784   \n",
              "...                              ...                     ...   \n",
              "692698                     -0.007516               -0.340527   \n",
              "692699                     -0.007422               -0.317339   \n",
              "692700                     -0.007581               -0.335558   \n",
              "692701                     -0.007469               -0.333902   \n",
              "692702                     -0.007483               -0.309057   \n",
              "\n",
              "         Fwd Packet Length Min   Fwd Packet Length Mean  \\\n",
              "0                    -0.176667                -0.346068   \n",
              "1                    -0.294156                -0.284940   \n",
              "2                    -0.294156                 1.614047   \n",
              "3                    -0.294156                 0.903958   \n",
              "4                    -0.294156                 1.836067   \n",
              "...                        ...                      ...   \n",
              "692698                0.254124                -0.206513   \n",
              "692699                0.528264                -0.117705   \n",
              "692700               -0.294156                -0.285805   \n",
              "692701                0.332450                -0.181139   \n",
              "692702                0.626171                -0.085988   \n",
              "\n",
              "         Fwd Packet Length Std  ...   min_seg_size_forward  Active Mean  \\\n",
              "0                    -0.366591  ...              -1.069400    -0.131646   \n",
              "1                    -0.227513  ...               0.828623    -0.131646   \n",
              "2                     2.430793  ...               0.828623    -0.131646   \n",
              "3                     1.516334  ...               0.828623    -0.131646   \n",
              "4                     2.704747  ...               0.828623    -0.131646   \n",
              "...                        ...  ...                    ...          ...   \n",
              "692698               -0.366591  ...              -1.069400    -0.131646   \n",
              "692699               -0.366591  ...              -1.069400    -0.131646   \n",
              "692700               -0.269653  ...               0.828623    -0.131646   \n",
              "692701               -0.366591  ...              -1.069400    -0.131646   \n",
              "692702               -0.366591  ...              -1.069400    -0.131646   \n",
              "\n",
              "         Active Std   Active Max   Active Min  Idle Mean   Idle Std  \\\n",
              "0         -0.100396     -0.14867    -0.104366  -0.579979  -0.105686   \n",
              "1         -0.100396     -0.14867    -0.104366  -0.579979  -0.105686   \n",
              "2         -0.100396     -0.14867    -0.104366  -0.579979  -0.105686   \n",
              "3         -0.100396     -0.14867    -0.104366  -0.579979  -0.105686   \n",
              "4         -0.100396     -0.14867    -0.104366  -0.579979  -0.105686   \n",
              "...             ...          ...          ...        ...        ...   \n",
              "692698    -0.100396     -0.14867    -0.104366  -0.579979  -0.105686   \n",
              "692699    -0.100396     -0.14867    -0.104366  -0.579979  -0.105686   \n",
              "692700    -0.100396     -0.14867    -0.104366  -0.579979  -0.105686   \n",
              "692701    -0.100396     -0.14867    -0.104366  -0.579979  -0.105686   \n",
              "692702    -0.100396     -0.14867    -0.104366  -0.579979  -0.105686   \n",
              "\n",
              "         Idle Max   Idle Min   Label  \n",
              "0        -0.58524   -0.57078       0  \n",
              "1        -0.58524   -0.57078       0  \n",
              "2        -0.58524   -0.57078       0  \n",
              "3        -0.58524   -0.57078       0  \n",
              "4        -0.58524   -0.57078       0  \n",
              "...           ...        ...     ...  \n",
              "692698   -0.58524   -0.57078       0  \n",
              "692699   -0.58524   -0.57078       0  \n",
              "692700   -0.58524   -0.57078       0  \n",
              "692701   -0.58524   -0.57078       0  \n",
              "692702   -0.58524   -0.57078       0  \n",
              "\n",
              "[692703 rows x 79 columns]"
            ]
          },
          "execution_count": 44,
          "metadata": {},
          "output_type": "execute_result"
        }
      ],
      "source": [
        "df"
      ]
    },
    {
      "cell_type": "code",
      "execution_count": 15,
      "metadata": {
        "id": "A6gQ5bRJj3Pl"
      },
      "outputs": [],
      "source": [
        "# retain the minority class instances and sample the majority class instances\n",
        "df_minor = df[(df[' Label']==6)|(df[' Label']==1)|(df[' Label']==4)|(df[' Label']==3)|(df[' Label']==5)]\n",
        "df_major = df.drop(df_minor.index)"
      ]
    },
    {
      "cell_type": "code",
      "execution_count": 16,
      "metadata": {
        "id": "dmpLkbhGj3Pl"
      },
      "outputs": [],
      "source": [
        "X = df_major.drop([' Label'],axis=1)\n",
        "y = df_major.iloc[:, -1].values.reshape(-1,1)\n",
        "y=np.ravel(y)"
      ]
    },
    {
      "cell_type": "code",
      "execution_count": 17,
      "metadata": {
        "id": "7HIzxNdFj3Pl",
        "scrolled": true
      },
      "outputs": [],
      "source": [
        "# use k-means to cluster the data samples and select a proportion of data from each cluster\n",
        "from sklearn.cluster import MiniBatchKMeans\n",
        "kmeans = MiniBatchKMeans(n_clusters=1000, random_state=0).fit(X)"
      ]
    },
    {
      "cell_type": "code",
      "execution_count": 18,
      "metadata": {
        "id": "WllyWDVRj3Pl"
      },
      "outputs": [],
      "source": [
        "klabel=kmeans.labels_\n",
        "df_major['klabel']=klabel"
      ]
    },
    {
      "cell_type": "code",
      "execution_count": 19,
      "metadata": {
        "colab": {
          "base_uri": "https://localhost:8080/"
        },
        "id": "N6tmeVk6j3Pl",
        "outputId": "dbdfdc0a-98d8-45d3-bf40-78bc96b31d7f",
        "scrolled": true
      },
      "outputs": [
        {
          "data": {
            "text/plain": [
              "klabel\n",
              "860    9330\n",
              "721    6814\n",
              "155    6613\n",
              "567    5848\n",
              "707    4675\n",
              "       ... \n",
              "154       9\n",
              "451       8\n",
              "25        8\n",
              "177       7\n",
              "27        2\n",
              "Name: count, Length: 985, dtype: int64"
            ]
          },
          "execution_count": 19,
          "metadata": {},
          "output_type": "execute_result"
        }
      ],
      "source": [
        "df_major['klabel'].value_counts()"
      ]
    },
    {
      "cell_type": "code",
      "execution_count": 20,
      "metadata": {
        "id": "DuUAuWOPj3Pl"
      },
      "outputs": [],
      "source": [
        "cols = list(df_major)\n",
        "cols.insert(78, cols.pop(cols.index(' Label')))\n",
        "df_major = df_major.loc[:, cols]"
      ]
    },
    {
      "cell_type": "code",
      "execution_count": 44,
      "metadata": {
        "colab": {
          "base_uri": "https://localhost:8080/",
          "height": 495
        },
        "id": "WYCwK4nNj3Pl",
        "outputId": "8439aecb-fc2e-42d6-e1c6-d4057c1a1251",
        "scrolled": true
      },
      "outputs": [
        {
          "data": {
            "application/vnd.google.colaboratory.intrinsic+json": {
              "type": "dataframe",
              "variable_name": "df_major"
            },
            "text/html": [
              "\n",
              "  <div id=\"df-b58ee048-ac8a-41f0-b1d5-0f60f3bde755\" class=\"colab-df-container\">\n",
              "    <div>\n",
              "<style scoped>\n",
              "    .dataframe tbody tr th:only-of-type {\n",
              "        vertical-align: middle;\n",
              "    }\n",
              "\n",
              "    .dataframe tbody tr th {\n",
              "        vertical-align: top;\n",
              "    }\n",
              "\n",
              "    .dataframe thead th {\n",
              "        text-align: right;\n",
              "    }\n",
              "</style>\n",
              "<table border=\"1\" class=\"dataframe\">\n",
              "  <thead>\n",
              "    <tr style=\"text-align: right;\">\n",
              "      <th></th>\n",
              "      <th>Destination Port</th>\n",
              "      <th>Flow Duration</th>\n",
              "      <th>Total Fwd Packets</th>\n",
              "      <th>Total Backward Packets</th>\n",
              "      <th>Total Length of Fwd Packets</th>\n",
              "      <th>Total Length of Bwd Packets</th>\n",
              "      <th>Fwd Packet Length Max</th>\n",
              "      <th>Fwd Packet Length Min</th>\n",
              "      <th>Fwd Packet Length Mean</th>\n",
              "      <th>Fwd Packet Length Std</th>\n",
              "      <th>...</th>\n",
              "      <th>Active Mean</th>\n",
              "      <th>Active Std</th>\n",
              "      <th>Active Max</th>\n",
              "      <th>Active Min</th>\n",
              "      <th>Idle Mean</th>\n",
              "      <th>Idle Std</th>\n",
              "      <th>Idle Max</th>\n",
              "      <th>Idle Min</th>\n",
              "      <th>Label</th>\n",
              "      <th>klabel</th>\n",
              "    </tr>\n",
              "  </thead>\n",
              "  <tbody>\n",
              "    <tr>\n",
              "      <th>0</th>\n",
              "      <td>-0.331204</td>\n",
              "      <td>-0.709187</td>\n",
              "      <td>-0.011895</td>\n",
              "      <td>-0.009769</td>\n",
              "      <td>-0.092009</td>\n",
              "      <td>-0.007977</td>\n",
              "      <td>-0.393905</td>\n",
              "      <td>-0.145825</td>\n",
              "      <td>-0.351241</td>\n",
              "      <td>-0.386792</td>\n",
              "      <td>...</td>\n",
              "      <td>-0.137734</td>\n",
              "      <td>-0.105308</td>\n",
              "      <td>-0.155682</td>\n",
              "      <td>-0.108882</td>\n",
              "      <td>-0.626637</td>\n",
              "      <td>-0.111586</td>\n",
              "      <td>-0.632531</td>\n",
              "      <td>-0.616339</td>\n",
              "      <td>0</td>\n",
              "      <td>167</td>\n",
              "    </tr>\n",
              "    <tr>\n",
              "      <th>1</th>\n",
              "      <td>-0.310375</td>\n",
              "      <td>-0.710042</td>\n",
              "      <td>0.000688</td>\n",
              "      <td>-0.005948</td>\n",
              "      <td>-0.066428</td>\n",
              "      <td>-0.007842</td>\n",
              "      <td>-0.278524</td>\n",
              "      <td>-0.262472</td>\n",
              "      <td>-0.292761</td>\n",
              "      <td>-0.254258</td>\n",
              "      <td>...</td>\n",
              "      <td>-0.137734</td>\n",
              "      <td>-0.105308</td>\n",
              "      <td>-0.155682</td>\n",
              "      <td>-0.108882</td>\n",
              "      <td>-0.626637</td>\n",
              "      <td>-0.111586</td>\n",
              "      <td>-0.632531</td>\n",
              "      <td>-0.616339</td>\n",
              "      <td>0</td>\n",
              "      <td>924</td>\n",
              "    </tr>\n",
              "    <tr>\n",
              "      <th>2</th>\n",
              "      <td>-0.330665</td>\n",
              "      <td>-0.710029</td>\n",
              "      <td>-0.000571</td>\n",
              "      <td>-0.004993</td>\n",
              "      <td>0.392491</td>\n",
              "      <td>-0.006658</td>\n",
              "      <td>2.085994</td>\n",
              "      <td>-0.262472</td>\n",
              "      <td>1.523994</td>\n",
              "      <td>2.278957</td>\n",
              "      <td>...</td>\n",
              "      <td>-0.137734</td>\n",
              "      <td>-0.105308</td>\n",
              "      <td>-0.155682</td>\n",
              "      <td>-0.108882</td>\n",
              "      <td>-0.626637</td>\n",
              "      <td>-0.111586</td>\n",
              "      <td>-0.632531</td>\n",
              "      <td>-0.616339</td>\n",
              "      <td>0</td>\n",
              "      <td>86</td>\n",
              "    </tr>\n",
              "    <tr>\n",
              "      <th>3</th>\n",
              "      <td>-0.310375</td>\n",
              "      <td>-0.709709</td>\n",
              "      <td>0.008237</td>\n",
              "      <td>0.000739</td>\n",
              "      <td>0.439030</td>\n",
              "      <td>-0.005185</td>\n",
              "      <td>1.671888</td>\n",
              "      <td>-0.262472</td>\n",
              "      <td>0.844654</td>\n",
              "      <td>1.407529</td>\n",
              "      <td>...</td>\n",
              "      <td>-0.137734</td>\n",
              "      <td>-0.105308</td>\n",
              "      <td>-0.155682</td>\n",
              "      <td>-0.108882</td>\n",
              "      <td>-0.626637</td>\n",
              "      <td>-0.111586</td>\n",
              "      <td>-0.632531</td>\n",
              "      <td>-0.616339</td>\n",
              "      <td>0</td>\n",
              "      <td>981</td>\n",
              "    </tr>\n",
              "    <tr>\n",
              "      <th>4</th>\n",
              "      <td>-0.330665</td>\n",
              "      <td>-0.710029</td>\n",
              "      <td>-0.001829</td>\n",
              "      <td>-0.004993</td>\n",
              "      <td>0.392491</td>\n",
              "      <td>-0.006657</td>\n",
              "      <td>2.085994</td>\n",
              "      <td>-0.262472</td>\n",
              "      <td>1.736399</td>\n",
              "      <td>2.540019</td>\n",
              "      <td>...</td>\n",
              "      <td>-0.137734</td>\n",
              "      <td>-0.105308</td>\n",
              "      <td>-0.155682</td>\n",
              "      <td>-0.108882</td>\n",
              "      <td>-0.626637</td>\n",
              "      <td>-0.111586</td>\n",
              "      <td>-0.632531</td>\n",
              "      <td>-0.616339</td>\n",
              "      <td>0</td>\n",
              "      <td>86</td>\n",
              "    </tr>\n",
              "    <tr>\n",
              "      <th>...</th>\n",
              "      <td>...</td>\n",
              "      <td>...</td>\n",
              "      <td>...</td>\n",
              "      <td>...</td>\n",
              "      <td>...</td>\n",
              "      <td>...</td>\n",
              "      <td>...</td>\n",
              "      <td>...</td>\n",
              "      <td>...</td>\n",
              "      <td>...</td>\n",
              "      <td>...</td>\n",
              "      <td>...</td>\n",
              "      <td>...</td>\n",
              "      <td>...</td>\n",
              "      <td>...</td>\n",
              "      <td>...</td>\n",
              "      <td>...</td>\n",
              "      <td>...</td>\n",
              "      <td>...</td>\n",
              "      <td>...</td>\n",
              "      <td>...</td>\n",
              "    </tr>\n",
              "    <tr>\n",
              "      <th>612055</th>\n",
              "      <td>0.639196</td>\n",
              "      <td>-0.710050</td>\n",
              "      <td>-0.011895</td>\n",
              "      <td>-0.009769</td>\n",
              "      <td>-0.092009</td>\n",
              "      <td>-0.007977</td>\n",
              "      <td>-0.393905</td>\n",
              "      <td>-0.145825</td>\n",
              "      <td>-0.351241</td>\n",
              "      <td>-0.386792</td>\n",
              "      <td>...</td>\n",
              "      <td>-0.137734</td>\n",
              "      <td>-0.105308</td>\n",
              "      <td>-0.155682</td>\n",
              "      <td>-0.108882</td>\n",
              "      <td>-0.626637</td>\n",
              "      <td>-0.111586</td>\n",
              "      <td>-0.632531</td>\n",
              "      <td>-0.616339</td>\n",
              "      <td>0</td>\n",
              "      <td>764</td>\n",
              "    </tr>\n",
              "    <tr>\n",
              "      <th>612056</th>\n",
              "      <td>-0.333024</td>\n",
              "      <td>-0.701827</td>\n",
              "      <td>-0.010637</td>\n",
              "      <td>-0.008814</td>\n",
              "      <td>-0.081530</td>\n",
              "      <td>-0.007785</td>\n",
              "      <td>-0.344908</td>\n",
              "      <td>0.456852</td>\n",
              "      <td>-0.163111</td>\n",
              "      <td>-0.386792</td>\n",
              "      <td>...</td>\n",
              "      <td>-0.137734</td>\n",
              "      <td>-0.105308</td>\n",
              "      <td>-0.155682</td>\n",
              "      <td>-0.108882</td>\n",
              "      <td>-0.626637</td>\n",
              "      <td>-0.111586</td>\n",
              "      <td>-0.632531</td>\n",
              "      <td>-0.616339</td>\n",
              "      <td>0</td>\n",
              "      <td>200</td>\n",
              "    </tr>\n",
              "    <tr>\n",
              "      <th>612057</th>\n",
              "      <td>-0.333024</td>\n",
              "      <td>0.695653</td>\n",
              "      <td>-0.008120</td>\n",
              "      <td>-0.006903</td>\n",
              "      <td>-0.071668</td>\n",
              "      <td>-0.007581</td>\n",
              "      <td>-0.341746</td>\n",
              "      <td>0.320764</td>\n",
              "      <td>-0.178283</td>\n",
              "      <td>-0.364894</td>\n",
              "      <td>...</td>\n",
              "      <td>-0.137381</td>\n",
              "      <td>-0.105308</td>\n",
              "      <td>-0.155457</td>\n",
              "      <td>-0.108472</td>\n",
              "      <td>0.940746</td>\n",
              "      <td>-0.111586</td>\n",
              "      <td>0.920831</td>\n",
              "      <td>0.951953</td>\n",
              "      <td>0</td>\n",
              "      <td>858</td>\n",
              "    </tr>\n",
              "    <tr>\n",
              "      <th>612059</th>\n",
              "      <td>1.901335</td>\n",
              "      <td>-0.710051</td>\n",
              "      <td>-0.011895</td>\n",
              "      <td>-0.009769</td>\n",
              "      <td>-0.092934</td>\n",
              "      <td>-0.007979</td>\n",
              "      <td>-0.403388</td>\n",
              "      <td>-0.262472</td>\n",
              "      <td>-0.387654</td>\n",
              "      <td>-0.386792</td>\n",
              "      <td>...</td>\n",
              "      <td>-0.137734</td>\n",
              "      <td>-0.105308</td>\n",
              "      <td>-0.155682</td>\n",
              "      <td>-0.108882</td>\n",
              "      <td>-0.626637</td>\n",
              "      <td>-0.111586</td>\n",
              "      <td>-0.632531</td>\n",
              "      <td>-0.616339</td>\n",
              "      <td>0</td>\n",
              "      <td>257</td>\n",
              "    </tr>\n",
              "    <tr>\n",
              "      <th>612060</th>\n",
              "      <td>-0.333024</td>\n",
              "      <td>-0.708891</td>\n",
              "      <td>-0.010637</td>\n",
              "      <td>-0.008814</td>\n",
              "      <td>-0.079989</td>\n",
              "      <td>-0.007884</td>\n",
              "      <td>-0.337005</td>\n",
              "      <td>0.554058</td>\n",
              "      <td>-0.132767</td>\n",
              "      <td>-0.386792</td>\n",
              "      <td>...</td>\n",
              "      <td>-0.137734</td>\n",
              "      <td>-0.105308</td>\n",
              "      <td>-0.155682</td>\n",
              "      <td>-0.108882</td>\n",
              "      <td>-0.626637</td>\n",
              "      <td>-0.111586</td>\n",
              "      <td>-0.632531</td>\n",
              "      <td>-0.616339</td>\n",
              "      <td>0</td>\n",
              "      <td>320</td>\n",
              "    </tr>\n",
              "  </tbody>\n",
              "</table>\n",
              "<p>594611 rows × 80 columns</p>\n",
              "</div>\n",
              "    <div class=\"colab-df-buttons\">\n",
              "\n",
              "  <div class=\"colab-df-container\">\n",
              "    <button class=\"colab-df-convert\" onclick=\"convertToInteractive('df-b58ee048-ac8a-41f0-b1d5-0f60f3bde755')\"\n",
              "            title=\"Convert this dataframe to an interactive table.\"\n",
              "            style=\"display:none;\">\n",
              "\n",
              "  <svg xmlns=\"http://www.w3.org/2000/svg\" height=\"24px\" viewBox=\"0 -960 960 960\">\n",
              "    <path d=\"M120-120v-720h720v720H120Zm60-500h600v-160H180v160Zm220 220h160v-160H400v160Zm0 220h160v-160H400v160ZM180-400h160v-160H180v160Zm440 0h160v-160H620v160ZM180-180h160v-160H180v160Zm440 0h160v-160H620v160Z\"/>\n",
              "  </svg>\n",
              "    </button>\n",
              "\n",
              "  <style>\n",
              "    .colab-df-container {\n",
              "      display:flex;\n",
              "      gap: 12px;\n",
              "    }\n",
              "\n",
              "    .colab-df-convert {\n",
              "      background-color: #E8F0FE;\n",
              "      border: none;\n",
              "      border-radius: 50%;\n",
              "      cursor: pointer;\n",
              "      display: none;\n",
              "      fill: #1967D2;\n",
              "      height: 32px;\n",
              "      padding: 0 0 0 0;\n",
              "      width: 32px;\n",
              "    }\n",
              "\n",
              "    .colab-df-convert:hover {\n",
              "      background-color: #E2EBFA;\n",
              "      box-shadow: 0px 1px 2px rgba(60, 64, 67, 0.3), 0px 1px 3px 1px rgba(60, 64, 67, 0.15);\n",
              "      fill: #174EA6;\n",
              "    }\n",
              "\n",
              "    .colab-df-buttons div {\n",
              "      margin-bottom: 4px;\n",
              "    }\n",
              "\n",
              "    [theme=dark] .colab-df-convert {\n",
              "      background-color: #3B4455;\n",
              "      fill: #D2E3FC;\n",
              "    }\n",
              "\n",
              "    [theme=dark] .colab-df-convert:hover {\n",
              "      background-color: #434B5C;\n",
              "      box-shadow: 0px 1px 3px 1px rgba(0, 0, 0, 0.15);\n",
              "      filter: drop-shadow(0px 1px 2px rgba(0, 0, 0, 0.3));\n",
              "      fill: #FFFFFF;\n",
              "    }\n",
              "  </style>\n",
              "\n",
              "    <script>\n",
              "      const buttonEl =\n",
              "        document.querySelector('#df-b58ee048-ac8a-41f0-b1d5-0f60f3bde755 button.colab-df-convert');\n",
              "      buttonEl.style.display =\n",
              "        google.colab.kernel.accessAllowed ? 'block' : 'none';\n",
              "\n",
              "      async function convertToInteractive(key) {\n",
              "        const element = document.querySelector('#df-b58ee048-ac8a-41f0-b1d5-0f60f3bde755');\n",
              "        const dataTable =\n",
              "          await google.colab.kernel.invokeFunction('convertToInteractive',\n",
              "                                                    [key], {});\n",
              "        if (!dataTable) return;\n",
              "\n",
              "        const docLinkHtml = 'Like what you see? Visit the ' +\n",
              "          '<a target=\"_blank\" href=https://colab.research.google.com/notebooks/data_table.ipynb>data table notebook</a>'\n",
              "          + ' to learn more about interactive tables.';\n",
              "        element.innerHTML = '';\n",
              "        dataTable['output_type'] = 'display_data';\n",
              "        await google.colab.output.renderOutput(dataTable, element);\n",
              "        const docLink = document.createElement('div');\n",
              "        docLink.innerHTML = docLinkHtml;\n",
              "        element.appendChild(docLink);\n",
              "      }\n",
              "    </script>\n",
              "  </div>\n",
              "\n",
              "\n",
              "<div id=\"df-b15537ad-20d0-4547-bc68-cad078357b96\">\n",
              "  <button class=\"colab-df-quickchart\" onclick=\"quickchart('df-b15537ad-20d0-4547-bc68-cad078357b96')\"\n",
              "            title=\"Suggest charts\"\n",
              "            style=\"display:none;\">\n",
              "\n",
              "<svg xmlns=\"http://www.w3.org/2000/svg\" height=\"24px\"viewBox=\"0 0 24 24\"\n",
              "     width=\"24px\">\n",
              "    <g>\n",
              "        <path d=\"M19 3H5c-1.1 0-2 .9-2 2v14c0 1.1.9 2 2 2h14c1.1 0 2-.9 2-2V5c0-1.1-.9-2-2-2zM9 17H7v-7h2v7zm4 0h-2V7h2v10zm4 0h-2v-4h2v4z\"/>\n",
              "    </g>\n",
              "</svg>\n",
              "  </button>\n",
              "\n",
              "<style>\n",
              "  .colab-df-quickchart {\n",
              "      --bg-color: #E8F0FE;\n",
              "      --fill-color: #1967D2;\n",
              "      --hover-bg-color: #E2EBFA;\n",
              "      --hover-fill-color: #174EA6;\n",
              "      --disabled-fill-color: #AAA;\n",
              "      --disabled-bg-color: #DDD;\n",
              "  }\n",
              "\n",
              "  [theme=dark] .colab-df-quickchart {\n",
              "      --bg-color: #3B4455;\n",
              "      --fill-color: #D2E3FC;\n",
              "      --hover-bg-color: #434B5C;\n",
              "      --hover-fill-color: #FFFFFF;\n",
              "      --disabled-bg-color: #3B4455;\n",
              "      --disabled-fill-color: #666;\n",
              "  }\n",
              "\n",
              "  .colab-df-quickchart {\n",
              "    background-color: var(--bg-color);\n",
              "    border: none;\n",
              "    border-radius: 50%;\n",
              "    cursor: pointer;\n",
              "    display: none;\n",
              "    fill: var(--fill-color);\n",
              "    height: 32px;\n",
              "    padding: 0;\n",
              "    width: 32px;\n",
              "  }\n",
              "\n",
              "  .colab-df-quickchart:hover {\n",
              "    background-color: var(--hover-bg-color);\n",
              "    box-shadow: 0 1px 2px rgba(60, 64, 67, 0.3), 0 1px 3px 1px rgba(60, 64, 67, 0.15);\n",
              "    fill: var(--button-hover-fill-color);\n",
              "  }\n",
              "\n",
              "  .colab-df-quickchart-complete:disabled,\n",
              "  .colab-df-quickchart-complete:disabled:hover {\n",
              "    background-color: var(--disabled-bg-color);\n",
              "    fill: var(--disabled-fill-color);\n",
              "    box-shadow: none;\n",
              "  }\n",
              "\n",
              "  .colab-df-spinner {\n",
              "    border: 2px solid var(--fill-color);\n",
              "    border-color: transparent;\n",
              "    border-bottom-color: var(--fill-color);\n",
              "    animation:\n",
              "      spin 1s steps(1) infinite;\n",
              "  }\n",
              "\n",
              "  @keyframes spin {\n",
              "    0% {\n",
              "      border-color: transparent;\n",
              "      border-bottom-color: var(--fill-color);\n",
              "      border-left-color: var(--fill-color);\n",
              "    }\n",
              "    20% {\n",
              "      border-color: transparent;\n",
              "      border-left-color: var(--fill-color);\n",
              "      border-top-color: var(--fill-color);\n",
              "    }\n",
              "    30% {\n",
              "      border-color: transparent;\n",
              "      border-left-color: var(--fill-color);\n",
              "      border-top-color: var(--fill-color);\n",
              "      border-right-color: var(--fill-color);\n",
              "    }\n",
              "    40% {\n",
              "      border-color: transparent;\n",
              "      border-right-color: var(--fill-color);\n",
              "      border-top-color: var(--fill-color);\n",
              "    }\n",
              "    60% {\n",
              "      border-color: transparent;\n",
              "      border-right-color: var(--fill-color);\n",
              "    }\n",
              "    80% {\n",
              "      border-color: transparent;\n",
              "      border-right-color: var(--fill-color);\n",
              "      border-bottom-color: var(--fill-color);\n",
              "    }\n",
              "    90% {\n",
              "      border-color: transparent;\n",
              "      border-bottom-color: var(--fill-color);\n",
              "    }\n",
              "  }\n",
              "</style>\n",
              "\n",
              "  <script>\n",
              "    async function quickchart(key) {\n",
              "      const quickchartButtonEl =\n",
              "        document.querySelector('#' + key + ' button');\n",
              "      quickchartButtonEl.disabled = true;  // To prevent multiple clicks.\n",
              "      quickchartButtonEl.classList.add('colab-df-spinner');\n",
              "      try {\n",
              "        const charts = await google.colab.kernel.invokeFunction(\n",
              "            'suggestCharts', [key], {});\n",
              "      } catch (error) {\n",
              "        console.error('Error during call to suggestCharts:', error);\n",
              "      }\n",
              "      quickchartButtonEl.classList.remove('colab-df-spinner');\n",
              "      quickchartButtonEl.classList.add('colab-df-quickchart-complete');\n",
              "    }\n",
              "    (() => {\n",
              "      let quickchartButtonEl =\n",
              "        document.querySelector('#df-b15537ad-20d0-4547-bc68-cad078357b96 button');\n",
              "      quickchartButtonEl.style.display =\n",
              "        google.colab.kernel.accessAllowed ? 'block' : 'none';\n",
              "    })();\n",
              "  </script>\n",
              "</div>\n",
              "    </div>\n",
              "  </div>\n"
            ],
            "text/plain": [
              "         Destination Port   Flow Duration   Total Fwd Packets  \\\n",
              "0               -0.331204       -0.709187           -0.011895   \n",
              "1               -0.310375       -0.710042            0.000688   \n",
              "2               -0.330665       -0.710029           -0.000571   \n",
              "3               -0.310375       -0.709709            0.008237   \n",
              "4               -0.330665       -0.710029           -0.001829   \n",
              "...                   ...             ...                 ...   \n",
              "612055           0.639196       -0.710050           -0.011895   \n",
              "612056          -0.333024       -0.701827           -0.010637   \n",
              "612057          -0.333024        0.695653           -0.008120   \n",
              "612059           1.901335       -0.710051           -0.011895   \n",
              "612060          -0.333024       -0.708891           -0.010637   \n",
              "\n",
              "         Total Backward Packets  Total Length of Fwd Packets  \\\n",
              "0                     -0.009769                    -0.092009   \n",
              "1                     -0.005948                    -0.066428   \n",
              "2                     -0.004993                     0.392491   \n",
              "3                      0.000739                     0.439030   \n",
              "4                     -0.004993                     0.392491   \n",
              "...                         ...                          ...   \n",
              "612055                -0.009769                    -0.092009   \n",
              "612056                -0.008814                    -0.081530   \n",
              "612057                -0.006903                    -0.071668   \n",
              "612059                -0.009769                    -0.092934   \n",
              "612060                -0.008814                    -0.079989   \n",
              "\n",
              "         Total Length of Bwd Packets   Fwd Packet Length Max  \\\n",
              "0                          -0.007977               -0.393905   \n",
              "1                          -0.007842               -0.278524   \n",
              "2                          -0.006658                2.085994   \n",
              "3                          -0.005185                1.671888   \n",
              "4                          -0.006657                2.085994   \n",
              "...                              ...                     ...   \n",
              "612055                     -0.007977               -0.393905   \n",
              "612056                     -0.007785               -0.344908   \n",
              "612057                     -0.007581               -0.341746   \n",
              "612059                     -0.007979               -0.403388   \n",
              "612060                     -0.007884               -0.337005   \n",
              "\n",
              "         Fwd Packet Length Min   Fwd Packet Length Mean  \\\n",
              "0                    -0.145825                -0.351241   \n",
              "1                    -0.262472                -0.292761   \n",
              "2                    -0.262472                 1.523994   \n",
              "3                    -0.262472                 0.844654   \n",
              "4                    -0.262472                 1.736399   \n",
              "...                        ...                      ...   \n",
              "612055               -0.145825                -0.351241   \n",
              "612056                0.456852                -0.163111   \n",
              "612057                0.320764                -0.178283   \n",
              "612059               -0.262472                -0.387654   \n",
              "612060                0.554058                -0.132767   \n",
              "\n",
              "         Fwd Packet Length Std  ...  Active Mean   Active Std   Active Max  \\\n",
              "0                    -0.386792  ...    -0.137734    -0.105308    -0.155682   \n",
              "1                    -0.254258  ...    -0.137734    -0.105308    -0.155682   \n",
              "2                     2.278957  ...    -0.137734    -0.105308    -0.155682   \n",
              "3                     1.407529  ...    -0.137734    -0.105308    -0.155682   \n",
              "4                     2.540019  ...    -0.137734    -0.105308    -0.155682   \n",
              "...                        ...  ...          ...          ...          ...   \n",
              "612055               -0.386792  ...    -0.137734    -0.105308    -0.155682   \n",
              "612056               -0.386792  ...    -0.137734    -0.105308    -0.155682   \n",
              "612057               -0.364894  ...    -0.137381    -0.105308    -0.155457   \n",
              "612059               -0.386792  ...    -0.137734    -0.105308    -0.155682   \n",
              "612060               -0.386792  ...    -0.137734    -0.105308    -0.155682   \n",
              "\n",
              "         Active Min  Idle Mean   Idle Std   Idle Max   Idle Min   Label  \\\n",
              "0         -0.108882  -0.626637  -0.111586  -0.632531  -0.616339       0   \n",
              "1         -0.108882  -0.626637  -0.111586  -0.632531  -0.616339       0   \n",
              "2         -0.108882  -0.626637  -0.111586  -0.632531  -0.616339       0   \n",
              "3         -0.108882  -0.626637  -0.111586  -0.632531  -0.616339       0   \n",
              "4         -0.108882  -0.626637  -0.111586  -0.632531  -0.616339       0   \n",
              "...             ...        ...        ...        ...        ...     ...   \n",
              "612055    -0.108882  -0.626637  -0.111586  -0.632531  -0.616339       0   \n",
              "612056    -0.108882  -0.626637  -0.111586  -0.632531  -0.616339       0   \n",
              "612057    -0.108472   0.940746  -0.111586   0.920831   0.951953       0   \n",
              "612059    -0.108882  -0.626637  -0.111586  -0.632531  -0.616339       0   \n",
              "612060    -0.108882  -0.626637  -0.111586  -0.632531  -0.616339       0   \n",
              "\n",
              "        klabel  \n",
              "0          167  \n",
              "1          924  \n",
              "2           86  \n",
              "3          981  \n",
              "4           86  \n",
              "...        ...  \n",
              "612055     764  \n",
              "612056     200  \n",
              "612057     858  \n",
              "612059     257  \n",
              "612060     320  \n",
              "\n",
              "[594611 rows x 80 columns]"
            ]
          },
          "execution_count": 44,
          "metadata": {},
          "output_type": "execute_result"
        }
      ],
      "source": [
        "df_major"
      ]
    },
    {
      "cell_type": "code",
      "execution_count": 21,
      "metadata": {
        "id": "2e93pyfej3Pl"
      },
      "outputs": [],
      "source": [
        "def typicalSampling(group):\n",
        "    name = group.name\n",
        "    frac = 0.008\n",
        "    return group.sample(frac=frac)\n",
        "\n",
        "result = df_major.groupby(\n",
        "    'klabel', group_keys=False\n",
        ").apply(typicalSampling)"
      ]
    },
    {
      "cell_type": "code",
      "execution_count": 52,
      "metadata": {
        "colab": {
          "base_uri": "https://localhost:8080/"
        },
        "id": "XI_5LCMTj3Pl",
        "outputId": "8c73ac9f-dc52-4eeb-f115-118387aa0f4e"
      },
      "outputs": [
        {
          "data": {
            "text/plain": [
              " Label\n",
              "0    3504\n",
              "2    1853\n",
              "Name: count, dtype: int64"
            ]
          },
          "execution_count": 52,
          "metadata": {},
          "output_type": "execute_result"
        }
      ],
      "source": [
        "result[' Label'].value_counts()"
      ]
    },
    {
      "cell_type": "code",
      "execution_count": 53,
      "metadata": {
        "colab": {
          "base_uri": "https://localhost:8080/",
          "height": 495
        },
        "id": "Xwg9mA4kj3Pm",
        "outputId": "916d4691-6a05-4a11-add2-a02fe322fdc4",
        "scrolled": true
      },
      "outputs": [
        {
          "data": {
            "application/vnd.google.colaboratory.intrinsic+json": {
              "type": "dataframe",
              "variable_name": "result"
            },
            "text/html": [
              "\n",
              "  <div id=\"df-ccd755ca-fe99-4842-997c-d3b0cc46f17d\" class=\"colab-df-container\">\n",
              "    <div>\n",
              "<style scoped>\n",
              "    .dataframe tbody tr th:only-of-type {\n",
              "        vertical-align: middle;\n",
              "    }\n",
              "\n",
              "    .dataframe tbody tr th {\n",
              "        vertical-align: top;\n",
              "    }\n",
              "\n",
              "    .dataframe thead th {\n",
              "        text-align: right;\n",
              "    }\n",
              "</style>\n",
              "<table border=\"1\" class=\"dataframe\">\n",
              "  <thead>\n",
              "    <tr style=\"text-align: right;\">\n",
              "      <th></th>\n",
              "      <th>Destination Port</th>\n",
              "      <th>Flow Duration</th>\n",
              "      <th>Total Fwd Packets</th>\n",
              "      <th>Total Backward Packets</th>\n",
              "      <th>Total Length of Fwd Packets</th>\n",
              "      <th>Total Length of Bwd Packets</th>\n",
              "      <th>Fwd Packet Length Max</th>\n",
              "      <th>Fwd Packet Length Min</th>\n",
              "      <th>Fwd Packet Length Mean</th>\n",
              "      <th>Fwd Packet Length Std</th>\n",
              "      <th>...</th>\n",
              "      <th>min_seg_size_forward</th>\n",
              "      <th>Active Mean</th>\n",
              "      <th>Active Std</th>\n",
              "      <th>Active Max</th>\n",
              "      <th>Active Min</th>\n",
              "      <th>Idle Mean</th>\n",
              "      <th>Idle Std</th>\n",
              "      <th>Idle Max</th>\n",
              "      <th>Idle Min</th>\n",
              "      <th>Label</th>\n",
              "    </tr>\n",
              "  </thead>\n",
              "  <tbody>\n",
              "    <tr>\n",
              "      <th>0</th>\n",
              "      <td>3.050770</td>\n",
              "      <td>-0.710051</td>\n",
              "      <td>-0.011895</td>\n",
              "      <td>-0.009769</td>\n",
              "      <td>-0.092009</td>\n",
              "      <td>-0.007977</td>\n",
              "      <td>-0.393905</td>\n",
              "      <td>-0.145825</td>\n",
              "      <td>-0.351241</td>\n",
              "      <td>-0.386792</td>\n",
              "      <td>...</td>\n",
              "      <td>-1.067509</td>\n",
              "      <td>-0.137734</td>\n",
              "      <td>-0.105308</td>\n",
              "      <td>-0.155682</td>\n",
              "      <td>-0.108882</td>\n",
              "      <td>-0.626637</td>\n",
              "      <td>-0.111586</td>\n",
              "      <td>-0.632531</td>\n",
              "      <td>-0.616339</td>\n",
              "      <td>0</td>\n",
              "    </tr>\n",
              "    <tr>\n",
              "      <th>1</th>\n",
              "      <td>3.058926</td>\n",
              "      <td>-0.710052</td>\n",
              "      <td>-0.011895</td>\n",
              "      <td>-0.009769</td>\n",
              "      <td>-0.092009</td>\n",
              "      <td>-0.007977</td>\n",
              "      <td>-0.393905</td>\n",
              "      <td>-0.145825</td>\n",
              "      <td>-0.351241</td>\n",
              "      <td>-0.386792</td>\n",
              "      <td>...</td>\n",
              "      <td>-1.067509</td>\n",
              "      <td>-0.137734</td>\n",
              "      <td>-0.105308</td>\n",
              "      <td>-0.155682</td>\n",
              "      <td>-0.108882</td>\n",
              "      <td>-0.626637</td>\n",
              "      <td>-0.111586</td>\n",
              "      <td>-0.632531</td>\n",
              "      <td>-0.616339</td>\n",
              "      <td>0</td>\n",
              "    </tr>\n",
              "    <tr>\n",
              "      <th>2</th>\n",
              "      <td>2.661963</td>\n",
              "      <td>-0.710052</td>\n",
              "      <td>-0.011895</td>\n",
              "      <td>-0.009769</td>\n",
              "      <td>-0.092009</td>\n",
              "      <td>-0.007977</td>\n",
              "      <td>-0.393905</td>\n",
              "      <td>-0.145825</td>\n",
              "      <td>-0.351241</td>\n",
              "      <td>-0.386792</td>\n",
              "      <td>...</td>\n",
              "      <td>-1.067509</td>\n",
              "      <td>-0.137734</td>\n",
              "      <td>-0.105308</td>\n",
              "      <td>-0.155682</td>\n",
              "      <td>-0.108882</td>\n",
              "      <td>-0.626637</td>\n",
              "      <td>-0.111586</td>\n",
              "      <td>-0.632531</td>\n",
              "      <td>-0.616339</td>\n",
              "      <td>0</td>\n",
              "    </tr>\n",
              "    <tr>\n",
              "      <th>3</th>\n",
              "      <td>3.082991</td>\n",
              "      <td>-0.710052</td>\n",
              "      <td>-0.011895</td>\n",
              "      <td>-0.009769</td>\n",
              "      <td>-0.092009</td>\n",
              "      <td>-0.007977</td>\n",
              "      <td>-0.393905</td>\n",
              "      <td>-0.145825</td>\n",
              "      <td>-0.351241</td>\n",
              "      <td>-0.386792</td>\n",
              "      <td>...</td>\n",
              "      <td>-1.067509</td>\n",
              "      <td>-0.137734</td>\n",
              "      <td>-0.105308</td>\n",
              "      <td>-0.155682</td>\n",
              "      <td>-0.108882</td>\n",
              "      <td>-0.626637</td>\n",
              "      <td>-0.111586</td>\n",
              "      <td>-0.632531</td>\n",
              "      <td>-0.616339</td>\n",
              "      <td>0</td>\n",
              "    </tr>\n",
              "    <tr>\n",
              "      <th>4</th>\n",
              "      <td>-0.331204</td>\n",
              "      <td>1.229663</td>\n",
              "      <td>-0.004346</td>\n",
              "      <td>-0.005948</td>\n",
              "      <td>-0.036070</td>\n",
              "      <td>-0.003115</td>\n",
              "      <td>0.179839</td>\n",
              "      <td>-0.262472</td>\n",
              "      <td>-0.067745</td>\n",
              "      <td>0.200960</td>\n",
              "      <td>...</td>\n",
              "      <td>0.838847</td>\n",
              "      <td>-0.136343</td>\n",
              "      <td>-0.105308</td>\n",
              "      <td>-0.154797</td>\n",
              "      <td>-0.107266</td>\n",
              "      <td>1.533878</td>\n",
              "      <td>-0.111586</td>\n",
              "      <td>1.508657</td>\n",
              "      <td>1.545428</td>\n",
              "      <td>2</td>\n",
              "    </tr>\n",
              "    <tr>\n",
              "      <th>...</th>\n",
              "      <td>...</td>\n",
              "      <td>...</td>\n",
              "      <td>...</td>\n",
              "      <td>...</td>\n",
              "      <td>...</td>\n",
              "      <td>...</td>\n",
              "      <td>...</td>\n",
              "      <td>...</td>\n",
              "      <td>...</td>\n",
              "      <td>...</td>\n",
              "      <td>...</td>\n",
              "      <td>...</td>\n",
              "      <td>...</td>\n",
              "      <td>...</td>\n",
              "      <td>...</td>\n",
              "      <td>...</td>\n",
              "      <td>...</td>\n",
              "      <td>...</td>\n",
              "      <td>...</td>\n",
              "      <td>...</td>\n",
              "      <td>...</td>\n",
              "    </tr>\n",
              "    <tr>\n",
              "      <th>22200</th>\n",
              "      <td>-0.331204</td>\n",
              "      <td>-0.439302</td>\n",
              "      <td>-0.006862</td>\n",
              "      <td>-0.006903</td>\n",
              "      <td>-0.004016</td>\n",
              "      <td>-0.006500</td>\n",
              "      <td>0.508595</td>\n",
              "      <td>-0.262472</td>\n",
              "      <td>0.312677</td>\n",
              "      <td>0.700653</td>\n",
              "      <td>...</td>\n",
              "      <td>0.838847</td>\n",
              "      <td>-0.136647</td>\n",
              "      <td>-0.105308</td>\n",
              "      <td>-0.154990</td>\n",
              "      <td>-0.107618</td>\n",
              "      <td>-0.450916</td>\n",
              "      <td>-0.111586</td>\n",
              "      <td>-0.458382</td>\n",
              "      <td>-0.440516</td>\n",
              "      <td>1</td>\n",
              "    </tr>\n",
              "    <tr>\n",
              "      <th>22201</th>\n",
              "      <td>-0.331204</td>\n",
              "      <td>-0.439328</td>\n",
              "      <td>-0.006862</td>\n",
              "      <td>-0.006903</td>\n",
              "      <td>-0.032834</td>\n",
              "      <td>-0.006500</td>\n",
              "      <td>0.213030</td>\n",
              "      <td>-0.262472</td>\n",
              "      <td>0.085707</td>\n",
              "      <td>0.348223</td>\n",
              "      <td>...</td>\n",
              "      <td>0.838847</td>\n",
              "      <td>-0.135234</td>\n",
              "      <td>-0.105308</td>\n",
              "      <td>-0.154092</td>\n",
              "      <td>-0.105977</td>\n",
              "      <td>-0.450928</td>\n",
              "      <td>-0.111586</td>\n",
              "      <td>-0.458394</td>\n",
              "      <td>-0.440528</td>\n",
              "      <td>1</td>\n",
              "    </tr>\n",
              "    <tr>\n",
              "      <th>22202</th>\n",
              "      <td>-0.331204</td>\n",
              "      <td>-0.439326</td>\n",
              "      <td>-0.001829</td>\n",
              "      <td>-0.004993</td>\n",
              "      <td>-0.031293</td>\n",
              "      <td>-0.003099</td>\n",
              "      <td>0.228836</td>\n",
              "      <td>-0.262472</td>\n",
              "      <td>-0.117933</td>\n",
              "      <td>0.175103</td>\n",
              "      <td>...</td>\n",
              "      <td>0.838847</td>\n",
              "      <td>-0.136446</td>\n",
              "      <td>-0.105308</td>\n",
              "      <td>-0.154862</td>\n",
              "      <td>-0.107385</td>\n",
              "      <td>-0.450950</td>\n",
              "      <td>-0.111586</td>\n",
              "      <td>-0.458416</td>\n",
              "      <td>-0.440550</td>\n",
              "      <td>1</td>\n",
              "    </tr>\n",
              "    <tr>\n",
              "      <th>22203</th>\n",
              "      <td>-0.331204</td>\n",
              "      <td>-0.439353</td>\n",
              "      <td>-0.006862</td>\n",
              "      <td>-0.006903</td>\n",
              "      <td>-0.023896</td>\n",
              "      <td>-0.006500</td>\n",
              "      <td>0.304703</td>\n",
              "      <td>-0.262472</td>\n",
              "      <td>0.156104</td>\n",
              "      <td>0.457533</td>\n",
              "      <td>...</td>\n",
              "      <td>0.838847</td>\n",
              "      <td>-0.136500</td>\n",
              "      <td>-0.105308</td>\n",
              "      <td>-0.154897</td>\n",
              "      <td>-0.107448</td>\n",
              "      <td>-0.450964</td>\n",
              "      <td>-0.111586</td>\n",
              "      <td>-0.458429</td>\n",
              "      <td>-0.440564</td>\n",
              "      <td>1</td>\n",
              "    </tr>\n",
              "    <tr>\n",
              "      <th>22204</th>\n",
              "      <td>2.020377</td>\n",
              "      <td>-0.710052</td>\n",
              "      <td>-0.011895</td>\n",
              "      <td>-0.009769</td>\n",
              "      <td>-0.092934</td>\n",
              "      <td>-0.007979</td>\n",
              "      <td>-0.403388</td>\n",
              "      <td>-0.262472</td>\n",
              "      <td>-0.387654</td>\n",
              "      <td>-0.386792</td>\n",
              "      <td>...</td>\n",
              "      <td>0.000000</td>\n",
              "      <td>0.000000</td>\n",
              "      <td>0.000000</td>\n",
              "      <td>0.000000</td>\n",
              "      <td>0.000000</td>\n",
              "      <td>0.000000</td>\n",
              "      <td>0.000000</td>\n",
              "      <td>0.000000</td>\n",
              "      <td>0.000000</td>\n",
              "      <td>6</td>\n",
              "    </tr>\n",
              "  </tbody>\n",
              "</table>\n",
              "<p>22205 rows × 79 columns</p>\n",
              "</div>\n",
              "    <div class=\"colab-df-buttons\">\n",
              "\n",
              "  <div class=\"colab-df-container\">\n",
              "    <button class=\"colab-df-convert\" onclick=\"convertToInteractive('df-ccd755ca-fe99-4842-997c-d3b0cc46f17d')\"\n",
              "            title=\"Convert this dataframe to an interactive table.\"\n",
              "            style=\"display:none;\">\n",
              "\n",
              "  <svg xmlns=\"http://www.w3.org/2000/svg\" height=\"24px\" viewBox=\"0 -960 960 960\">\n",
              "    <path d=\"M120-120v-720h720v720H120Zm60-500h600v-160H180v160Zm220 220h160v-160H400v160Zm0 220h160v-160H400v160ZM180-400h160v-160H180v160Zm440 0h160v-160H620v160ZM180-180h160v-160H180v160Zm440 0h160v-160H620v160Z\"/>\n",
              "  </svg>\n",
              "    </button>\n",
              "\n",
              "  <style>\n",
              "    .colab-df-container {\n",
              "      display:flex;\n",
              "      gap: 12px;\n",
              "    }\n",
              "\n",
              "    .colab-df-convert {\n",
              "      background-color: #E8F0FE;\n",
              "      border: none;\n",
              "      border-radius: 50%;\n",
              "      cursor: pointer;\n",
              "      display: none;\n",
              "      fill: #1967D2;\n",
              "      height: 32px;\n",
              "      padding: 0 0 0 0;\n",
              "      width: 32px;\n",
              "    }\n",
              "\n",
              "    .colab-df-convert:hover {\n",
              "      background-color: #E2EBFA;\n",
              "      box-shadow: 0px 1px 2px rgba(60, 64, 67, 0.3), 0px 1px 3px 1px rgba(60, 64, 67, 0.15);\n",
              "      fill: #174EA6;\n",
              "    }\n",
              "\n",
              "    .colab-df-buttons div {\n",
              "      margin-bottom: 4px;\n",
              "    }\n",
              "\n",
              "    [theme=dark] .colab-df-convert {\n",
              "      background-color: #3B4455;\n",
              "      fill: #D2E3FC;\n",
              "    }\n",
              "\n",
              "    [theme=dark] .colab-df-convert:hover {\n",
              "      background-color: #434B5C;\n",
              "      box-shadow: 0px 1px 3px 1px rgba(0, 0, 0, 0.15);\n",
              "      filter: drop-shadow(0px 1px 2px rgba(0, 0, 0, 0.3));\n",
              "      fill: #FFFFFF;\n",
              "    }\n",
              "  </style>\n",
              "\n",
              "    <script>\n",
              "      const buttonEl =\n",
              "        document.querySelector('#df-ccd755ca-fe99-4842-997c-d3b0cc46f17d button.colab-df-convert');\n",
              "      buttonEl.style.display =\n",
              "        google.colab.kernel.accessAllowed ? 'block' : 'none';\n",
              "\n",
              "      async function convertToInteractive(key) {\n",
              "        const element = document.querySelector('#df-ccd755ca-fe99-4842-997c-d3b0cc46f17d');\n",
              "        const dataTable =\n",
              "          await google.colab.kernel.invokeFunction('convertToInteractive',\n",
              "                                                    [key], {});\n",
              "        if (!dataTable) return;\n",
              "\n",
              "        const docLinkHtml = 'Like what you see? Visit the ' +\n",
              "          '<a target=\"_blank\" href=https://colab.research.google.com/notebooks/data_table.ipynb>data table notebook</a>'\n",
              "          + ' to learn more about interactive tables.';\n",
              "        element.innerHTML = '';\n",
              "        dataTable['output_type'] = 'display_data';\n",
              "        await google.colab.output.renderOutput(dataTable, element);\n",
              "        const docLink = document.createElement('div');\n",
              "        docLink.innerHTML = docLinkHtml;\n",
              "        element.appendChild(docLink);\n",
              "      }\n",
              "    </script>\n",
              "  </div>\n",
              "\n",
              "\n",
              "<div id=\"df-7d0334ea-911d-43b9-9d37-63d2326fa3db\">\n",
              "  <button class=\"colab-df-quickchart\" onclick=\"quickchart('df-7d0334ea-911d-43b9-9d37-63d2326fa3db')\"\n",
              "            title=\"Suggest charts\"\n",
              "            style=\"display:none;\">\n",
              "\n",
              "<svg xmlns=\"http://www.w3.org/2000/svg\" height=\"24px\"viewBox=\"0 0 24 24\"\n",
              "     width=\"24px\">\n",
              "    <g>\n",
              "        <path d=\"M19 3H5c-1.1 0-2 .9-2 2v14c0 1.1.9 2 2 2h14c1.1 0 2-.9 2-2V5c0-1.1-.9-2-2-2zM9 17H7v-7h2v7zm4 0h-2V7h2v10zm4 0h-2v-4h2v4z\"/>\n",
              "    </g>\n",
              "</svg>\n",
              "  </button>\n",
              "\n",
              "<style>\n",
              "  .colab-df-quickchart {\n",
              "      --bg-color: #E8F0FE;\n",
              "      --fill-color: #1967D2;\n",
              "      --hover-bg-color: #E2EBFA;\n",
              "      --hover-fill-color: #174EA6;\n",
              "      --disabled-fill-color: #AAA;\n",
              "      --disabled-bg-color: #DDD;\n",
              "  }\n",
              "\n",
              "  [theme=dark] .colab-df-quickchart {\n",
              "      --bg-color: #3B4455;\n",
              "      --fill-color: #D2E3FC;\n",
              "      --hover-bg-color: #434B5C;\n",
              "      --hover-fill-color: #FFFFFF;\n",
              "      --disabled-bg-color: #3B4455;\n",
              "      --disabled-fill-color: #666;\n",
              "  }\n",
              "\n",
              "  .colab-df-quickchart {\n",
              "    background-color: var(--bg-color);\n",
              "    border: none;\n",
              "    border-radius: 50%;\n",
              "    cursor: pointer;\n",
              "    display: none;\n",
              "    fill: var(--fill-color);\n",
              "    height: 32px;\n",
              "    padding: 0;\n",
              "    width: 32px;\n",
              "  }\n",
              "\n",
              "  .colab-df-quickchart:hover {\n",
              "    background-color: var(--hover-bg-color);\n",
              "    box-shadow: 0 1px 2px rgba(60, 64, 67, 0.3), 0 1px 3px 1px rgba(60, 64, 67, 0.15);\n",
              "    fill: var(--button-hover-fill-color);\n",
              "  }\n",
              "\n",
              "  .colab-df-quickchart-complete:disabled,\n",
              "  .colab-df-quickchart-complete:disabled:hover {\n",
              "    background-color: var(--disabled-bg-color);\n",
              "    fill: var(--disabled-fill-color);\n",
              "    box-shadow: none;\n",
              "  }\n",
              "\n",
              "  .colab-df-spinner {\n",
              "    border: 2px solid var(--fill-color);\n",
              "    border-color: transparent;\n",
              "    border-bottom-color: var(--fill-color);\n",
              "    animation:\n",
              "      spin 1s steps(1) infinite;\n",
              "  }\n",
              "\n",
              "  @keyframes spin {\n",
              "    0% {\n",
              "      border-color: transparent;\n",
              "      border-bottom-color: var(--fill-color);\n",
              "      border-left-color: var(--fill-color);\n",
              "    }\n",
              "    20% {\n",
              "      border-color: transparent;\n",
              "      border-left-color: var(--fill-color);\n",
              "      border-top-color: var(--fill-color);\n",
              "    }\n",
              "    30% {\n",
              "      border-color: transparent;\n",
              "      border-left-color: var(--fill-color);\n",
              "      border-top-color: var(--fill-color);\n",
              "      border-right-color: var(--fill-color);\n",
              "    }\n",
              "    40% {\n",
              "      border-color: transparent;\n",
              "      border-right-color: var(--fill-color);\n",
              "      border-top-color: var(--fill-color);\n",
              "    }\n",
              "    60% {\n",
              "      border-color: transparent;\n",
              "      border-right-color: var(--fill-color);\n",
              "    }\n",
              "    80% {\n",
              "      border-color: transparent;\n",
              "      border-right-color: var(--fill-color);\n",
              "      border-bottom-color: var(--fill-color);\n",
              "    }\n",
              "    90% {\n",
              "      border-color: transparent;\n",
              "      border-bottom-color: var(--fill-color);\n",
              "    }\n",
              "  }\n",
              "</style>\n",
              "\n",
              "  <script>\n",
              "    async function quickchart(key) {\n",
              "      const quickchartButtonEl =\n",
              "        document.querySelector('#' + key + ' button');\n",
              "      quickchartButtonEl.disabled = true;  // To prevent multiple clicks.\n",
              "      quickchartButtonEl.classList.add('colab-df-spinner');\n",
              "      try {\n",
              "        const charts = await google.colab.kernel.invokeFunction(\n",
              "            'suggestCharts', [key], {});\n",
              "      } catch (error) {\n",
              "        console.error('Error during call to suggestCharts:', error);\n",
              "      }\n",
              "      quickchartButtonEl.classList.remove('colab-df-spinner');\n",
              "      quickchartButtonEl.classList.add('colab-df-quickchart-complete');\n",
              "    }\n",
              "    (() => {\n",
              "      let quickchartButtonEl =\n",
              "        document.querySelector('#df-7d0334ea-911d-43b9-9d37-63d2326fa3db button');\n",
              "      quickchartButtonEl.style.display =\n",
              "        google.colab.kernel.accessAllowed ? 'block' : 'none';\n",
              "    })();\n",
              "  </script>\n",
              "</div>\n",
              "    </div>\n",
              "  </div>\n"
            ],
            "text/plain": [
              "        Destination Port   Flow Duration   Total Fwd Packets  \\\n",
              "0               3.050770       -0.710051           -0.011895   \n",
              "1               3.058926       -0.710052           -0.011895   \n",
              "2               2.661963       -0.710052           -0.011895   \n",
              "3               3.082991       -0.710052           -0.011895   \n",
              "4              -0.331204        1.229663           -0.004346   \n",
              "...                  ...             ...                 ...   \n",
              "22200          -0.331204       -0.439302           -0.006862   \n",
              "22201          -0.331204       -0.439328           -0.006862   \n",
              "22202          -0.331204       -0.439326           -0.001829   \n",
              "22203          -0.331204       -0.439353           -0.006862   \n",
              "22204           2.020377       -0.710052           -0.011895   \n",
              "\n",
              "        Total Backward Packets  Total Length of Fwd Packets  \\\n",
              "0                    -0.009769                    -0.092009   \n",
              "1                    -0.009769                    -0.092009   \n",
              "2                    -0.009769                    -0.092009   \n",
              "3                    -0.009769                    -0.092009   \n",
              "4                    -0.005948                    -0.036070   \n",
              "...                        ...                          ...   \n",
              "22200                -0.006903                    -0.004016   \n",
              "22201                -0.006903                    -0.032834   \n",
              "22202                -0.004993                    -0.031293   \n",
              "22203                -0.006903                    -0.023896   \n",
              "22204                -0.009769                    -0.092934   \n",
              "\n",
              "        Total Length of Bwd Packets   Fwd Packet Length Max  \\\n",
              "0                         -0.007977               -0.393905   \n",
              "1                         -0.007977               -0.393905   \n",
              "2                         -0.007977               -0.393905   \n",
              "3                         -0.007977               -0.393905   \n",
              "4                         -0.003115                0.179839   \n",
              "...                             ...                     ...   \n",
              "22200                     -0.006500                0.508595   \n",
              "22201                     -0.006500                0.213030   \n",
              "22202                     -0.003099                0.228836   \n",
              "22203                     -0.006500                0.304703   \n",
              "22204                     -0.007979               -0.403388   \n",
              "\n",
              "        Fwd Packet Length Min   Fwd Packet Length Mean  \\\n",
              "0                   -0.145825                -0.351241   \n",
              "1                   -0.145825                -0.351241   \n",
              "2                   -0.145825                -0.351241   \n",
              "3                   -0.145825                -0.351241   \n",
              "4                   -0.262472                -0.067745   \n",
              "...                       ...                      ...   \n",
              "22200               -0.262472                 0.312677   \n",
              "22201               -0.262472                 0.085707   \n",
              "22202               -0.262472                -0.117933   \n",
              "22203               -0.262472                 0.156104   \n",
              "22204               -0.262472                -0.387654   \n",
              "\n",
              "        Fwd Packet Length Std  ...   min_seg_size_forward  Active Mean  \\\n",
              "0                   -0.386792  ...              -1.067509    -0.137734   \n",
              "1                   -0.386792  ...              -1.067509    -0.137734   \n",
              "2                   -0.386792  ...              -1.067509    -0.137734   \n",
              "3                   -0.386792  ...              -1.067509    -0.137734   \n",
              "4                    0.200960  ...               0.838847    -0.136343   \n",
              "...                       ...  ...                    ...          ...   \n",
              "22200                0.700653  ...               0.838847    -0.136647   \n",
              "22201                0.348223  ...               0.838847    -0.135234   \n",
              "22202                0.175103  ...               0.838847    -0.136446   \n",
              "22203                0.457533  ...               0.838847    -0.136500   \n",
              "22204               -0.386792  ...               0.000000     0.000000   \n",
              "\n",
              "        Active Std   Active Max   Active Min  Idle Mean   Idle Std   Idle Max  \\\n",
              "0        -0.105308    -0.155682    -0.108882  -0.626637  -0.111586  -0.632531   \n",
              "1        -0.105308    -0.155682    -0.108882  -0.626637  -0.111586  -0.632531   \n",
              "2        -0.105308    -0.155682    -0.108882  -0.626637  -0.111586  -0.632531   \n",
              "3        -0.105308    -0.155682    -0.108882  -0.626637  -0.111586  -0.632531   \n",
              "4        -0.105308    -0.154797    -0.107266   1.533878  -0.111586   1.508657   \n",
              "...            ...          ...          ...        ...        ...        ...   \n",
              "22200    -0.105308    -0.154990    -0.107618  -0.450916  -0.111586  -0.458382   \n",
              "22201    -0.105308    -0.154092    -0.105977  -0.450928  -0.111586  -0.458394   \n",
              "22202    -0.105308    -0.154862    -0.107385  -0.450950  -0.111586  -0.458416   \n",
              "22203    -0.105308    -0.154897    -0.107448  -0.450964  -0.111586  -0.458429   \n",
              "22204     0.000000     0.000000     0.000000   0.000000   0.000000   0.000000   \n",
              "\n",
              "        Idle Min   Label  \n",
              "0      -0.616339       0  \n",
              "1      -0.616339       0  \n",
              "2      -0.616339       0  \n",
              "3      -0.616339       0  \n",
              "4       1.545428       2  \n",
              "...          ...     ...  \n",
              "22200  -0.440516       1  \n",
              "22201  -0.440528       1  \n",
              "22202  -0.440550       1  \n",
              "22203  -0.440564       1  \n",
              "22204   0.000000       6  \n",
              "\n",
              "[22205 rows x 79 columns]"
            ]
          },
          "execution_count": 53,
          "metadata": {},
          "output_type": "execute_result"
        }
      ],
      "source": [
        "result"
      ]
    },
    {
      "cell_type": "code",
      "execution_count": 22,
      "metadata": {
        "colab": {
          "base_uri": "https://localhost:8080/",
          "height": 304
        },
        "id": "tRgSWlCPj3Pm",
        "outputId": "19b4f601-9ff1-4601-fd2f-895811488b5d"
      },
      "outputs": [],
      "source": [
        "result = result.drop(['klabel'],axis=1)"
      ]
    },
    {
      "cell_type": "code",
      "execution_count": 23,
      "metadata": {
        "id": "1fZ5E60MwUYb"
      },
      "outputs": [],
      "source": [
        "result = pd.concat([result, df_minor], ignore_index=True)"
      ]
    },
    {
      "cell_type": "code",
      "execution_count": 24,
      "metadata": {
        "id": "kl61ra1qj3Pm"
      },
      "outputs": [],
      "source": [
        "result.to_csv('extracted_sample.csv',index=0)"
      ]
    },
    {
      "cell_type": "markdown",
      "metadata": {
        "id": "wqXGxGYwj3Pm"
      },
      "source": [
        "### split train set and test set"
      ]
    },
    {
      "cell_type": "code",
      "execution_count": 25,
      "metadata": {
        "id": "WpAs_6_jj3Pm"
      },
      "outputs": [],
      "source": [
        "# Read the sampled dataset\n",
        "df=pd.read_csv('extracted_sample.csv')"
      ]
    },
    {
      "cell_type": "code",
      "execution_count": 57,
      "metadata": {},
      "outputs": [
        {
          "data": {
            "text/html": [
              "<div>\n",
              "<style scoped>\n",
              "    .dataframe tbody tr th:only-of-type {\n",
              "        vertical-align: middle;\n",
              "    }\n",
              "\n",
              "    .dataframe tbody tr th {\n",
              "        vertical-align: top;\n",
              "    }\n",
              "\n",
              "    .dataframe thead th {\n",
              "        text-align: right;\n",
              "    }\n",
              "</style>\n",
              "<table border=\"1\" class=\"dataframe\">\n",
              "  <thead>\n",
              "    <tr style=\"text-align: right;\">\n",
              "      <th></th>\n",
              "      <th>Destination Port</th>\n",
              "      <th>Flow Duration</th>\n",
              "      <th>Total Fwd Packets</th>\n",
              "      <th>Total Backward Packets</th>\n",
              "      <th>Total Length of Fwd Packets</th>\n",
              "      <th>Total Length of Bwd Packets</th>\n",
              "      <th>Fwd Packet Length Max</th>\n",
              "      <th>Fwd Packet Length Min</th>\n",
              "      <th>Fwd Packet Length Mean</th>\n",
              "      <th>Fwd Packet Length Std</th>\n",
              "      <th>...</th>\n",
              "      <th>min_seg_size_forward</th>\n",
              "      <th>Active Mean</th>\n",
              "      <th>Active Std</th>\n",
              "      <th>Active Max</th>\n",
              "      <th>Active Min</th>\n",
              "      <th>Idle Mean</th>\n",
              "      <th>Idle Std</th>\n",
              "      <th>Idle Max</th>\n",
              "      <th>Idle Min</th>\n",
              "      <th>Label</th>\n",
              "    </tr>\n",
              "  </thead>\n",
              "  <tbody>\n",
              "    <tr>\n",
              "      <th>0</th>\n",
              "      <td>-0.358219</td>\n",
              "      <td>-0.654748</td>\n",
              "      <td>-0.010113</td>\n",
              "      <td>-0.008346</td>\n",
              "      <td>-0.077080</td>\n",
              "      <td>-0.007503</td>\n",
              "      <td>-0.320651</td>\n",
              "      <td>0.489101</td>\n",
              "      <td>-0.130392</td>\n",
              "      <td>-0.366591</td>\n",
              "      <td>...</td>\n",
              "      <td>0.828623</td>\n",
              "      <td>-0.131646</td>\n",
              "      <td>-0.100396</td>\n",
              "      <td>-0.148670</td>\n",
              "      <td>-0.104366</td>\n",
              "      <td>-0.579979</td>\n",
              "      <td>-0.105686</td>\n",
              "      <td>-0.585240</td>\n",
              "      <td>-0.570780</td>\n",
              "      <td>0</td>\n",
              "    </tr>\n",
              "    <tr>\n",
              "      <th>1</th>\n",
              "      <td>-0.358219</td>\n",
              "      <td>-0.654747</td>\n",
              "      <td>-0.010113</td>\n",
              "      <td>-0.008346</td>\n",
              "      <td>-0.076431</td>\n",
              "      <td>-0.007498</td>\n",
              "      <td>-0.317339</td>\n",
              "      <td>0.528264</td>\n",
              "      <td>-0.117705</td>\n",
              "      <td>-0.366591</td>\n",
              "      <td>...</td>\n",
              "      <td>0.828623</td>\n",
              "      <td>-0.131646</td>\n",
              "      <td>-0.100396</td>\n",
              "      <td>-0.148670</td>\n",
              "      <td>-0.104366</td>\n",
              "      <td>-0.579979</td>\n",
              "      <td>-0.105686</td>\n",
              "      <td>-0.585240</td>\n",
              "      <td>-0.570780</td>\n",
              "      <td>0</td>\n",
              "    </tr>\n",
              "    <tr>\n",
              "      <th>2</th>\n",
              "      <td>-0.358219</td>\n",
              "      <td>-0.654748</td>\n",
              "      <td>-0.010113</td>\n",
              "      <td>-0.008346</td>\n",
              "      <td>-0.077080</td>\n",
              "      <td>-0.007497</td>\n",
              "      <td>-0.320651</td>\n",
              "      <td>0.489101</td>\n",
              "      <td>-0.130392</td>\n",
              "      <td>-0.366591</td>\n",
              "      <td>...</td>\n",
              "      <td>0.828623</td>\n",
              "      <td>-0.131646</td>\n",
              "      <td>-0.100396</td>\n",
              "      <td>-0.148670</td>\n",
              "      <td>-0.104366</td>\n",
              "      <td>-0.579979</td>\n",
              "      <td>-0.105686</td>\n",
              "      <td>-0.585240</td>\n",
              "      <td>-0.570780</td>\n",
              "      <td>0</td>\n",
              "    </tr>\n",
              "    <tr>\n",
              "      <th>3</th>\n",
              "      <td>-0.356503</td>\n",
              "      <td>1.640064</td>\n",
              "      <td>-0.002083</td>\n",
              "      <td>-0.004282</td>\n",
              "      <td>-0.028570</td>\n",
              "      <td>-0.002410</td>\n",
              "      <td>0.230900</td>\n",
              "      <td>-0.294156</td>\n",
              "      <td>-0.083609</td>\n",
              "      <td>0.215337</td>\n",
              "      <td>...</td>\n",
              "      <td>-1.069400</td>\n",
              "      <td>-0.128791</td>\n",
              "      <td>-0.100396</td>\n",
              "      <td>-0.146843</td>\n",
              "      <td>-0.101060</td>\n",
              "      <td>1.993193</td>\n",
              "      <td>-0.105686</td>\n",
              "      <td>1.963943</td>\n",
              "      <td>2.005562</td>\n",
              "      <td>2</td>\n",
              "    </tr>\n",
              "    <tr>\n",
              "      <th>4</th>\n",
              "      <td>-0.356503</td>\n",
              "      <td>1.661887</td>\n",
              "      <td>-0.000744</td>\n",
              "      <td>-0.004282</td>\n",
              "      <td>-0.026298</td>\n",
              "      <td>-0.002410</td>\n",
              "      <td>0.254088</td>\n",
              "      <td>-0.294156</td>\n",
              "      <td>-0.107132</td>\n",
              "      <td>0.202849</td>\n",
              "      <td>...</td>\n",
              "      <td>-1.069400</td>\n",
              "      <td>-0.128786</td>\n",
              "      <td>-0.100396</td>\n",
              "      <td>-0.146839</td>\n",
              "      <td>-0.101054</td>\n",
              "      <td>2.019423</td>\n",
              "      <td>-0.105686</td>\n",
              "      <td>1.989928</td>\n",
              "      <td>2.031824</td>\n",
              "      <td>2</td>\n",
              "    </tr>\n",
              "    <tr>\n",
              "      <th>...</th>\n",
              "      <td>...</td>\n",
              "      <td>...</td>\n",
              "      <td>...</td>\n",
              "      <td>...</td>\n",
              "      <td>...</td>\n",
              "      <td>...</td>\n",
              "      <td>...</td>\n",
              "      <td>...</td>\n",
              "      <td>...</td>\n",
              "      <td>...</td>\n",
              "      <td>...</td>\n",
              "      <td>...</td>\n",
              "      <td>...</td>\n",
              "      <td>...</td>\n",
              "      <td>...</td>\n",
              "      <td>...</td>\n",
              "      <td>...</td>\n",
              "      <td>...</td>\n",
              "      <td>...</td>\n",
              "      <td>...</td>\n",
              "      <td>...</td>\n",
              "    </tr>\n",
              "    <tr>\n",
              "      <th>26951</th>\n",
              "      <td>-0.356503</td>\n",
              "      <td>-0.385567</td>\n",
              "      <td>-0.002083</td>\n",
              "      <td>-0.005298</td>\n",
              "      <td>-0.037168</td>\n",
              "      <td>-0.002394</td>\n",
              "      <td>0.153053</td>\n",
              "      <td>-0.294156</td>\n",
              "      <td>-0.125634</td>\n",
              "      <td>0.143117</td>\n",
              "      <td>...</td>\n",
              "      <td>0.828623</td>\n",
              "      <td>-0.130373</td>\n",
              "      <td>-0.100396</td>\n",
              "      <td>-0.147855</td>\n",
              "      <td>-0.102891</td>\n",
              "      <td>-0.409295</td>\n",
              "      <td>-0.105686</td>\n",
              "      <td>-0.416147</td>\n",
              "      <td>-0.399885</td>\n",
              "      <td>1</td>\n",
              "    </tr>\n",
              "    <tr>\n",
              "      <th>26952</th>\n",
              "      <td>-0.356503</td>\n",
              "      <td>-0.385541</td>\n",
              "      <td>-0.006098</td>\n",
              "      <td>-0.005298</td>\n",
              "      <td>-0.013643</td>\n",
              "      <td>-0.006011</td>\n",
              "      <td>0.393218</td>\n",
              "      <td>-0.294156</td>\n",
              "      <td>0.213421</td>\n",
              "      <td>0.564914</td>\n",
              "      <td>...</td>\n",
              "      <td>0.828623</td>\n",
              "      <td>-0.130336</td>\n",
              "      <td>-0.100396</td>\n",
              "      <td>-0.147831</td>\n",
              "      <td>-0.102848</td>\n",
              "      <td>-0.409259</td>\n",
              "      <td>-0.105686</td>\n",
              "      <td>-0.416111</td>\n",
              "      <td>-0.399849</td>\n",
              "      <td>1</td>\n",
              "    </tr>\n",
              "    <tr>\n",
              "      <th>26953</th>\n",
              "      <td>-0.356503</td>\n",
              "      <td>-0.385637</td>\n",
              "      <td>-0.003421</td>\n",
              "      <td>-0.004282</td>\n",
              "      <td>-0.039115</td>\n",
              "      <td>-0.002394</td>\n",
              "      <td>0.133177</td>\n",
              "      <td>-0.294156</td>\n",
              "      <td>-0.099581</td>\n",
              "      <td>0.158252</td>\n",
              "      <td>...</td>\n",
              "      <td>0.828623</td>\n",
              "      <td>-0.130363</td>\n",
              "      <td>-0.100396</td>\n",
              "      <td>-0.147848</td>\n",
              "      <td>-0.102880</td>\n",
              "      <td>-0.409398</td>\n",
              "      <td>-0.105686</td>\n",
              "      <td>-0.416249</td>\n",
              "      <td>-0.399989</td>\n",
              "      <td>1</td>\n",
              "    </tr>\n",
              "    <tr>\n",
              "      <th>26954</th>\n",
              "      <td>-0.356503</td>\n",
              "      <td>-0.385640</td>\n",
              "      <td>-0.002083</td>\n",
              "      <td>-0.005298</td>\n",
              "      <td>-0.030192</td>\n",
              "      <td>-0.002394</td>\n",
              "      <td>0.224274</td>\n",
              "      <td>-0.294156</td>\n",
              "      <td>-0.091538</td>\n",
              "      <td>0.210349</td>\n",
              "      <td>...</td>\n",
              "      <td>0.828623</td>\n",
              "      <td>-0.130341</td>\n",
              "      <td>-0.100396</td>\n",
              "      <td>-0.147835</td>\n",
              "      <td>-0.102855</td>\n",
              "      <td>-0.409354</td>\n",
              "      <td>-0.105686</td>\n",
              "      <td>-0.416205</td>\n",
              "      <td>-0.399944</td>\n",
              "      <td>1</td>\n",
              "    </tr>\n",
              "    <tr>\n",
              "      <th>26955</th>\n",
              "      <td>-0.356503</td>\n",
              "      <td>-0.385567</td>\n",
              "      <td>-0.006098</td>\n",
              "      <td>-0.005298</td>\n",
              "      <td>0.018967</td>\n",
              "      <td>-0.006011</td>\n",
              "      <td>0.726136</td>\n",
              "      <td>-0.294156</td>\n",
              "      <td>0.468427</td>\n",
              "      <td>0.962435</td>\n",
              "      <td>...</td>\n",
              "      <td>0.828623</td>\n",
              "      <td>-0.130474</td>\n",
              "      <td>-0.100396</td>\n",
              "      <td>-0.147920</td>\n",
              "      <td>-0.103009</td>\n",
              "      <td>-0.409321</td>\n",
              "      <td>-0.105686</td>\n",
              "      <td>-0.416172</td>\n",
              "      <td>-0.399911</td>\n",
              "      <td>1</td>\n",
              "    </tr>\n",
              "  </tbody>\n",
              "</table>\n",
              "<p>26956 rows × 79 columns</p>\n",
              "</div>"
            ],
            "text/plain": [
              "        Destination Port   Flow Duration   Total Fwd Packets  \\\n",
              "0              -0.358219       -0.654748           -0.010113   \n",
              "1              -0.358219       -0.654747           -0.010113   \n",
              "2              -0.358219       -0.654748           -0.010113   \n",
              "3              -0.356503        1.640064           -0.002083   \n",
              "4              -0.356503        1.661887           -0.000744   \n",
              "...                  ...             ...                 ...   \n",
              "26951          -0.356503       -0.385567           -0.002083   \n",
              "26952          -0.356503       -0.385541           -0.006098   \n",
              "26953          -0.356503       -0.385637           -0.003421   \n",
              "26954          -0.356503       -0.385640           -0.002083   \n",
              "26955          -0.356503       -0.385567           -0.006098   \n",
              "\n",
              "        Total Backward Packets  Total Length of Fwd Packets  \\\n",
              "0                    -0.008346                    -0.077080   \n",
              "1                    -0.008346                    -0.076431   \n",
              "2                    -0.008346                    -0.077080   \n",
              "3                    -0.004282                    -0.028570   \n",
              "4                    -0.004282                    -0.026298   \n",
              "...                        ...                          ...   \n",
              "26951                -0.005298                    -0.037168   \n",
              "26952                -0.005298                    -0.013643   \n",
              "26953                -0.004282                    -0.039115   \n",
              "26954                -0.005298                    -0.030192   \n",
              "26955                -0.005298                     0.018967   \n",
              "\n",
              "        Total Length of Bwd Packets   Fwd Packet Length Max  \\\n",
              "0                         -0.007503               -0.320651   \n",
              "1                         -0.007498               -0.317339   \n",
              "2                         -0.007497               -0.320651   \n",
              "3                         -0.002410                0.230900   \n",
              "4                         -0.002410                0.254088   \n",
              "...                             ...                     ...   \n",
              "26951                     -0.002394                0.153053   \n",
              "26952                     -0.006011                0.393218   \n",
              "26953                     -0.002394                0.133177   \n",
              "26954                     -0.002394                0.224274   \n",
              "26955                     -0.006011                0.726136   \n",
              "\n",
              "        Fwd Packet Length Min   Fwd Packet Length Mean  \\\n",
              "0                    0.489101                -0.130392   \n",
              "1                    0.528264                -0.117705   \n",
              "2                    0.489101                -0.130392   \n",
              "3                   -0.294156                -0.083609   \n",
              "4                   -0.294156                -0.107132   \n",
              "...                       ...                      ...   \n",
              "26951               -0.294156                -0.125634   \n",
              "26952               -0.294156                 0.213421   \n",
              "26953               -0.294156                -0.099581   \n",
              "26954               -0.294156                -0.091538   \n",
              "26955               -0.294156                 0.468427   \n",
              "\n",
              "        Fwd Packet Length Std  ...   min_seg_size_forward  Active Mean  \\\n",
              "0                   -0.366591  ...               0.828623    -0.131646   \n",
              "1                   -0.366591  ...               0.828623    -0.131646   \n",
              "2                   -0.366591  ...               0.828623    -0.131646   \n",
              "3                    0.215337  ...              -1.069400    -0.128791   \n",
              "4                    0.202849  ...              -1.069400    -0.128786   \n",
              "...                       ...  ...                    ...          ...   \n",
              "26951                0.143117  ...               0.828623    -0.130373   \n",
              "26952                0.564914  ...               0.828623    -0.130336   \n",
              "26953                0.158252  ...               0.828623    -0.130363   \n",
              "26954                0.210349  ...               0.828623    -0.130341   \n",
              "26955                0.962435  ...               0.828623    -0.130474   \n",
              "\n",
              "        Active Std   Active Max   Active Min  Idle Mean   Idle Std   Idle Max  \\\n",
              "0        -0.100396    -0.148670    -0.104366  -0.579979  -0.105686  -0.585240   \n",
              "1        -0.100396    -0.148670    -0.104366  -0.579979  -0.105686  -0.585240   \n",
              "2        -0.100396    -0.148670    -0.104366  -0.579979  -0.105686  -0.585240   \n",
              "3        -0.100396    -0.146843    -0.101060   1.993193  -0.105686   1.963943   \n",
              "4        -0.100396    -0.146839    -0.101054   2.019423  -0.105686   1.989928   \n",
              "...            ...          ...          ...        ...        ...        ...   \n",
              "26951    -0.100396    -0.147855    -0.102891  -0.409295  -0.105686  -0.416147   \n",
              "26952    -0.100396    -0.147831    -0.102848  -0.409259  -0.105686  -0.416111   \n",
              "26953    -0.100396    -0.147848    -0.102880  -0.409398  -0.105686  -0.416249   \n",
              "26954    -0.100396    -0.147835    -0.102855  -0.409354  -0.105686  -0.416205   \n",
              "26955    -0.100396    -0.147920    -0.103009  -0.409321  -0.105686  -0.416172   \n",
              "\n",
              "        Idle Min   Label  \n",
              "0      -0.570780       0  \n",
              "1      -0.570780       0  \n",
              "2      -0.570780       0  \n",
              "3       2.005562       2  \n",
              "4       2.031824       2  \n",
              "...          ...     ...  \n",
              "26951  -0.399885       1  \n",
              "26952  -0.399849       1  \n",
              "26953  -0.399989       1  \n",
              "26954  -0.399944       1  \n",
              "26955  -0.399911       1  \n",
              "\n",
              "[26956 rows x 79 columns]"
            ]
          },
          "execution_count": 57,
          "metadata": {},
          "output_type": "execute_result"
        }
      ],
      "source": [
        "df"
      ]
    },
    {
      "cell_type": "code",
      "execution_count": 26,
      "metadata": {
        "id": "I7J3Cr3kj3Pm"
      },
      "outputs": [],
      "source": [
        "X = df.drop([' Label'],axis=1).values\n",
        "y = df.iloc[:, -1].values.reshape(-1,1)\n",
        "y=np.ravel(y)"
      ]
    },
    {
      "cell_type": "code",
      "execution_count": 27,
      "metadata": {
        "collapsed": true,
        "id": "t0Febi3Jj3Pm"
      },
      "outputs": [],
      "source": [
        "X_train, X_test, y_train, y_test = train_test_split(X,y, train_size = 0.8, test_size = 0.2, random_state = 0)"
      ]
    },
    {
      "cell_type": "markdown",
      "metadata": {
        "id": "a9yl9ff1j3Pm"
      },
      "source": [
        "## Feature engineering"
      ]
    },
    {
      "cell_type": "markdown",
      "metadata": {
        "id": "rNH9iLB0j3Pm"
      },
      "source": [
        "### Feature selection by information gain"
      ]
    },
    {
      "cell_type": "code",
      "execution_count": 28,
      "metadata": {
        "collapsed": true,
        "id": "TO7GEQepj3Pm"
      },
      "outputs": [],
      "source": [
        "from sklearn.feature_selection import mutual_info_classif\n",
        "importances = mutual_info_classif(X_train, y_train)"
      ]
    },
    {
      "cell_type": "code",
      "execution_count": 29,
      "metadata": {
        "id": "P7QGLqADj3Pm"
      },
      "outputs": [],
      "source": [
        "# calculate the sum of importance scores\n",
        "f_list = sorted(zip(map(lambda x: round(x, 4), importances), features), reverse=True)\n",
        "Sum = 0\n",
        "fs = []\n",
        "for i in range(0, len(f_list)):\n",
        "    Sum = Sum + f_list[i][0]\n",
        "    fs.append(f_list[i][1])"
      ]
    },
    {
      "cell_type": "code",
      "execution_count": 30,
      "metadata": {
        "id": "E3XTdMUDj3Pm"
      },
      "outputs": [],
      "source": [
        "# select the important features from top to bottom until the accumulated importance reaches 90%\n",
        "f_list2 = sorted(zip(map(lambda x: round(x, 4), importances/Sum), features), reverse=True)\n",
        "Sum2 = 0\n",
        "fs = []\n",
        "for i in range(0, len(f_list2)):\n",
        "    Sum2 = Sum2 + f_list2[i][0]\n",
        "    fs.append(f_list2[i][1])\n",
        "    if Sum2>=0.9:\n",
        "        break"
      ]
    },
    {
      "cell_type": "code",
      "execution_count": 31,
      "metadata": {
        "collapsed": true,
        "id": "3f1U5fCpj3Pm"
      },
      "outputs": [],
      "source": [
        "X_fs = df[fs].values"
      ]
    },
    {
      "cell_type": "code",
      "execution_count": 32,
      "metadata": {
        "colab": {
          "base_uri": "https://localhost:8080/"
        },
        "id": "8D0fFiFFj3Pm",
        "outputId": "0044a201-40f2-40a6-ef62-c8c3c70323ee"
      },
      "outputs": [
        {
          "data": {
            "text/plain": [
              "(26956, 46)"
            ]
          },
          "execution_count": 32,
          "metadata": {},
          "output_type": "execute_result"
        }
      ],
      "source": [
        "X_fs.shape"
      ]
    },
    {
      "cell_type": "code",
      "execution_count": 82,
      "metadata": {
        "colab": {
          "base_uri": "https://localhost:8080/",
          "height": 73
        },
        "id": "NajwicMU2YP7",
        "outputId": "01dd68c7-4e8e-43e5-ed7c-67416111a8fc"
      },
      "outputs": [
        {
          "data": {
            "text/html": [
              "\n",
              "     <input type=\"file\" id=\"files-beca201d-f846-49f9-8eda-06f13cc317ad\" name=\"files[]\" multiple disabled\n",
              "        style=\"border:none\" />\n",
              "     <output id=\"result-beca201d-f846-49f9-8eda-06f13cc317ad\">\n",
              "      Upload widget is only available when the cell has been executed in the\n",
              "      current browser session. Please rerun this cell to enable.\n",
              "      </output>\n",
              "      <script>// Copyright 2017 Google LLC\n",
              "//\n",
              "// Licensed under the Apache License, Version 2.0 (the \"License\");\n",
              "// you may not use this file except in compliance with the License.\n",
              "// You may obtain a copy of the License at\n",
              "//\n",
              "//      http://www.apache.org/licenses/LICENSE-2.0\n",
              "//\n",
              "// Unless required by applicable law or agreed to in writing, software\n",
              "// distributed under the License is distributed on an \"AS IS\" BASIS,\n",
              "// WITHOUT WARRANTIES OR CONDITIONS OF ANY KIND, either express or implied.\n",
              "// See the License for the specific language governing permissions and\n",
              "// limitations under the License.\n",
              "\n",
              "/**\n",
              " * @fileoverview Helpers for google.colab Python module.\n",
              " */\n",
              "(function(scope) {\n",
              "function span(text, styleAttributes = {}) {\n",
              "  const element = document.createElement('span');\n",
              "  element.textContent = text;\n",
              "  for (const key of Object.keys(styleAttributes)) {\n",
              "    element.style[key] = styleAttributes[key];\n",
              "  }\n",
              "  return element;\n",
              "}\n",
              "\n",
              "// Max number of bytes which will be uploaded at a time.\n",
              "const MAX_PAYLOAD_SIZE = 100 * 1024;\n",
              "\n",
              "function _uploadFiles(inputId, outputId) {\n",
              "  const steps = uploadFilesStep(inputId, outputId);\n",
              "  const outputElement = document.getElementById(outputId);\n",
              "  // Cache steps on the outputElement to make it available for the next call\n",
              "  // to uploadFilesContinue from Python.\n",
              "  outputElement.steps = steps;\n",
              "\n",
              "  return _uploadFilesContinue(outputId);\n",
              "}\n",
              "\n",
              "// This is roughly an async generator (not supported in the browser yet),\n",
              "// where there are multiple asynchronous steps and the Python side is going\n",
              "// to poll for completion of each step.\n",
              "// This uses a Promise to block the python side on completion of each step,\n",
              "// then passes the result of the previous step as the input to the next step.\n",
              "function _uploadFilesContinue(outputId) {\n",
              "  const outputElement = document.getElementById(outputId);\n",
              "  const steps = outputElement.steps;\n",
              "\n",
              "  const next = steps.next(outputElement.lastPromiseValue);\n",
              "  return Promise.resolve(next.value.promise).then((value) => {\n",
              "    // Cache the last promise value to make it available to the next\n",
              "    // step of the generator.\n",
              "    outputElement.lastPromiseValue = value;\n",
              "    return next.value.response;\n",
              "  });\n",
              "}\n",
              "\n",
              "/**\n",
              " * Generator function which is called between each async step of the upload\n",
              " * process.\n",
              " * @param {string} inputId Element ID of the input file picker element.\n",
              " * @param {string} outputId Element ID of the output display.\n",
              " * @return {!Iterable<!Object>} Iterable of next steps.\n",
              " */\n",
              "function* uploadFilesStep(inputId, outputId) {\n",
              "  const inputElement = document.getElementById(inputId);\n",
              "  inputElement.disabled = false;\n",
              "\n",
              "  const outputElement = document.getElementById(outputId);\n",
              "  outputElement.innerHTML = '';\n",
              "\n",
              "  const pickedPromise = new Promise((resolve) => {\n",
              "    inputElement.addEventListener('change', (e) => {\n",
              "      resolve(e.target.files);\n",
              "    });\n",
              "  });\n",
              "\n",
              "  const cancel = document.createElement('button');\n",
              "  inputElement.parentElement.appendChild(cancel);\n",
              "  cancel.textContent = 'Cancel upload';\n",
              "  const cancelPromise = new Promise((resolve) => {\n",
              "    cancel.onclick = () => {\n",
              "      resolve(null);\n",
              "    };\n",
              "  });\n",
              "\n",
              "  // Wait for the user to pick the files.\n",
              "  const files = yield {\n",
              "    promise: Promise.race([pickedPromise, cancelPromise]),\n",
              "    response: {\n",
              "      action: 'starting',\n",
              "    }\n",
              "  };\n",
              "\n",
              "  cancel.remove();\n",
              "\n",
              "  // Disable the input element since further picks are not allowed.\n",
              "  inputElement.disabled = true;\n",
              "\n",
              "  if (!files) {\n",
              "    return {\n",
              "      response: {\n",
              "        action: 'complete',\n",
              "      }\n",
              "    };\n",
              "  }\n",
              "\n",
              "  for (const file of files) {\n",
              "    const li = document.createElement('li');\n",
              "    li.append(span(file.name, {fontWeight: 'bold'}));\n",
              "    li.append(span(\n",
              "        `(${file.type || 'n/a'}) - ${file.size} bytes, ` +\n",
              "        `last modified: ${\n",
              "            file.lastModifiedDate ? file.lastModifiedDate.toLocaleDateString() :\n",
              "                                    'n/a'} - `));\n",
              "    const percent = span('0% done');\n",
              "    li.appendChild(percent);\n",
              "\n",
              "    outputElement.appendChild(li);\n",
              "\n",
              "    const fileDataPromise = new Promise((resolve) => {\n",
              "      const reader = new FileReader();\n",
              "      reader.onload = (e) => {\n",
              "        resolve(e.target.result);\n",
              "      };\n",
              "      reader.readAsArrayBuffer(file);\n",
              "    });\n",
              "    // Wait for the data to be ready.\n",
              "    let fileData = yield {\n",
              "      promise: fileDataPromise,\n",
              "      response: {\n",
              "        action: 'continue',\n",
              "      }\n",
              "    };\n",
              "\n",
              "    // Use a chunked sending to avoid message size limits. See b/62115660.\n",
              "    let position = 0;\n",
              "    do {\n",
              "      const length = Math.min(fileData.byteLength - position, MAX_PAYLOAD_SIZE);\n",
              "      const chunk = new Uint8Array(fileData, position, length);\n",
              "      position += length;\n",
              "\n",
              "      const base64 = btoa(String.fromCharCode.apply(null, chunk));\n",
              "      yield {\n",
              "        response: {\n",
              "          action: 'append',\n",
              "          file: file.name,\n",
              "          data: base64,\n",
              "        },\n",
              "      };\n",
              "\n",
              "      let percentDone = fileData.byteLength === 0 ?\n",
              "          100 :\n",
              "          Math.round((position / fileData.byteLength) * 100);\n",
              "      percent.textContent = `${percentDone}% done`;\n",
              "\n",
              "    } while (position < fileData.byteLength);\n",
              "  }\n",
              "\n",
              "  // All done.\n",
              "  yield {\n",
              "    response: {\n",
              "      action: 'complete',\n",
              "    }\n",
              "  };\n",
              "}\n",
              "\n",
              "scope.google = scope.google || {};\n",
              "scope.google.colab = scope.google.colab || {};\n",
              "scope.google.colab._files = {\n",
              "  _uploadFiles,\n",
              "  _uploadFilesContinue,\n",
              "};\n",
              "})(self);\n",
              "</script> "
            ],
            "text/plain": [
              "<IPython.core.display.HTML object>"
            ]
          },
          "metadata": {},
          "output_type": "display_data"
        },
        {
          "name": "stdout",
          "output_type": "stream",
          "text": [
            "Saving FCBF_module.py to FCBF_module.py\n"
          ]
        }
      ],
      "source": [
        "from google.colab import files\n",
        "uploaded = files.upload()\n"
      ]
    },
    {
      "cell_type": "code",
      "execution_count": 84,
      "metadata": {
        "colab": {
          "base_uri": "https://localhost:8080/"
        },
        "id": "chEsSsQc2feh",
        "outputId": "d57429bc-c821-4acb-f0c1-8c073dc22f21"
      },
      "outputs": [
        {
          "name": "stdout",
          "output_type": "stream",
          "text": [
            "Mounted at /content/drive\n"
          ]
        }
      ],
      "source": [
        "from google.colab import drive\n",
        "drive.mount('/content/drive')\n"
      ]
    },
    {
      "cell_type": "code",
      "execution_count": 34,
      "metadata": {
        "id": "VuPm7QMA3FTw"
      },
      "outputs": [],
      "source": [
        "import FCBF_module"
      ]
    },
    {
      "cell_type": "markdown",
      "metadata": {
        "id": "9fLJllKdj3Pn"
      },
      "source": [
        "### Feature selection by Fast Correlation Based Filter (FCBF)\n",
        "\n",
        "The module is imported from the GitHub repo: https://github.com/SantiagoEG/FCBF_module"
      ]
    },
    {
      "cell_type": "code",
      "execution_count": 35,
      "metadata": {
        "collapsed": true,
        "id": "av2O2LZVj3Pn"
      },
      "outputs": [],
      "source": [
        "from FCBF_module import FCBF, FCBFK, FCBFiP, get_i\n",
        "fcbf = FCBFK(k = 20)\n",
        "#fcbf.fit(X_fs, y)"
      ]
    },
    {
      "cell_type": "code",
      "execution_count": 36,
      "metadata": {
        "id": "moVMn64ij3Pn"
      },
      "outputs": [],
      "source": [
        "X_fss = fcbf.fit_transform(X_fs,y)"
      ]
    },
    {
      "cell_type": "code",
      "execution_count": 37,
      "metadata": {
        "colab": {
          "base_uri": "https://localhost:8080/"
        },
        "id": "OXWvLoB-j3Pq",
        "outputId": "d0677739-9f75-44d3-ff43-f102ae1fce2c"
      },
      "outputs": [
        {
          "data": {
            "text/plain": [
              "(26956, 20)"
            ]
          },
          "execution_count": 37,
          "metadata": {},
          "output_type": "execute_result"
        }
      ],
      "source": [
        "X_fss.shape"
      ]
    },
    {
      "cell_type": "markdown",
      "metadata": {
        "id": "ghLWwh9_j3Pr"
      },
      "source": [
        "### Re-split train & test sets after feature selection"
      ]
    },
    {
      "cell_type": "code",
      "execution_count": 38,
      "metadata": {
        "collapsed": true,
        "id": "kmw2Vzxqj3Pr"
      },
      "outputs": [],
      "source": [
        "X_train, X_test, y_train, y_test = train_test_split(X_fss,y, train_size = 0.8, test_size = 0.2, random_state = 0)"
      ]
    },
    {
      "cell_type": "code",
      "execution_count": 39,
      "metadata": {
        "colab": {
          "base_uri": "https://localhost:8080/"
        },
        "id": "GAGDBSIfj3Pr",
        "outputId": "ad3f6c18-17b1-443d-cbca-eebe88ff2cfe"
      },
      "outputs": [
        {
          "data": {
            "text/plain": [
              "(21564, 20)"
            ]
          },
          "execution_count": 39,
          "metadata": {},
          "output_type": "execute_result"
        }
      ],
      "source": [
        "X_train.shape"
      ]
    },
    {
      "cell_type": "code",
      "execution_count": 40,
      "metadata": {
        "colab": {
          "base_uri": "https://localhost:8080/"
        },
        "id": "I74uJc-Jj3Pr",
        "outputId": "c0c99f95-6b02-45a0-d414-c7a81e695dab"
      },
      "outputs": [
        {
          "data": {
            "text/plain": [
              "1    8214\n",
              "4    4665\n",
              "3    4365\n",
              "0    2828\n",
              "2    1482\n",
              "5      10\n",
              "Name: count, dtype: int64"
            ]
          },
          "execution_count": 40,
          "metadata": {},
          "output_type": "execute_result"
        }
      ],
      "source": [
        "pd.Series(y_train).value_counts()"
      ]
    },
    {
      "cell_type": "code",
      "execution_count": 42,
      "metadata": {},
      "outputs": [
        {
          "name": "stdout",
          "output_type": "stream",
          "text": [
            "Collecting imblearn\n",
            "  Downloading imblearn-0.0-py2.py3-none-any.whl.metadata (355 bytes)\n",
            "Collecting imbalanced-learn (from imblearn)\n",
            "  Downloading imbalanced_learn-0.12.2-py3-none-any.whl.metadata (8.2 kB)\n",
            "Requirement already satisfied: numpy>=1.17.3 in c:\\users\\nani\\appdata\\local\\packages\\pythonsoftwarefoundation.python.3.9_qbz5n2kfra8p0\\localcache\\local-packages\\python39\\site-packages (from imbalanced-learn->imblearn) (1.26.4)\n",
            "Requirement already satisfied: scipy>=1.5.0 in c:\\users\\nani\\appdata\\local\\packages\\pythonsoftwarefoundation.python.3.9_qbz5n2kfra8p0\\localcache\\local-packages\\python39\\site-packages (from imbalanced-learn->imblearn) (1.12.0)\n",
            "Requirement already satisfied: scikit-learn>=1.0.2 in c:\\users\\nani\\appdata\\local\\packages\\pythonsoftwarefoundation.python.3.9_qbz5n2kfra8p0\\localcache\\local-packages\\python39\\site-packages (from imbalanced-learn->imblearn) (1.4.1.post1)\n",
            "Requirement already satisfied: joblib>=1.1.1 in c:\\users\\nani\\appdata\\local\\packages\\pythonsoftwarefoundation.python.3.9_qbz5n2kfra8p0\\localcache\\local-packages\\python39\\site-packages (from imbalanced-learn->imblearn) (1.3.2)\n",
            "Requirement already satisfied: threadpoolctl>=2.0.0 in c:\\users\\nani\\appdata\\local\\packages\\pythonsoftwarefoundation.python.3.9_qbz5n2kfra8p0\\localcache\\local-packages\\python39\\site-packages (from imbalanced-learn->imblearn) (3.3.0)\n",
            "Downloading imblearn-0.0-py2.py3-none-any.whl (1.9 kB)\n",
            "Downloading imbalanced_learn-0.12.2-py3-none-any.whl (257 kB)\n",
            "   ---------------------------------------- 0.0/258.0 kB ? eta -:--:--\n",
            "   ------------------- -------------------- 122.9/258.0 kB 2.4 MB/s eta 0:00:01\n",
            "   ---------------------------------------- 258.0/258.0 kB 3.2 MB/s eta 0:00:00\n",
            "Installing collected packages: imbalanced-learn, imblearn\n",
            "Successfully installed imbalanced-learn-0.12.2 imblearn-0.0\n",
            "Note: you may need to restart the kernel to use updated packages.\n"
          ]
        }
      ],
      "source": [
        "%pip install imblearn"
      ]
    },
    {
      "cell_type": "markdown",
      "metadata": {
        "id": "i3jd8vSoj3Pr"
      },
      "source": [
        "## Machine learning model training"
      ]
    },
    {
      "cell_type": "markdown",
      "metadata": {
        "id": "RFDroGx3j3Pr"
      },
      "source": [
        "### Training four base learners: decision tree, random forest, extra trees, XGBoost"
      ]
    },
    {
      "cell_type": "markdown",
      "metadata": {
        "id": "QI9dVgepj3Ps"
      },
      "source": [
        "#### Apply XGBoost"
      ]
    },
    {
      "cell_type": "code",
      "execution_count": 48,
      "metadata": {
        "colab": {
          "base_uri": "https://localhost:8080/",
          "height": 780
        },
        "id": "B4LUGOpCj3Ps",
        "outputId": "4e264456-24c5-40e4-ba0f-0d7746fca6ad"
      },
      "outputs": [
        {
          "name": "stdout",
          "output_type": "stream",
          "text": [
            "Accuracy of XGBoost: 0.9949925816023739\n",
            "Precision of XGBoost: 0.99499536270691\n",
            "Recall of XGBoost: 0.9949925816023739\n",
            "F1-score of XGBoost: 0.9949922870712924\n",
            "              precision    recall  f1-score   support\n",
            "\n",
            "           0       0.99      0.99      0.99       669\n",
            "           1       1.00      1.00      1.00      2079\n",
            "           2       0.99      0.99      0.99       378\n",
            "           3       1.00      0.99      0.99      1134\n",
            "           4       1.00      0.99      1.00      1131\n",
            "           5       1.00      1.00      1.00         1\n",
            "\n",
            "    accuracy                           0.99      5392\n",
            "   macro avg       0.99      0.99      0.99      5392\n",
            "weighted avg       0.99      0.99      0.99      5392\n",
            "\n"
          ]
        },
        {
          "data": {
            "image/png": "[encoded data removed]",
            "text/plain": [
              "<Figure size 500x500 with 2 Axes>"
            ]
          },
          "metadata": {},
          "output_type": "display_data"
        }
      ],
      "source": [
        "xg = xgb.XGBClassifier(n_estimators = 10)\n",
        "xg.fit(X_train,y_train)\n",
        "xg_score=xg.score(X_test,y_test)\n",
        "y_predict=xg.predict(X_test)\n",
        "y_true=y_test\n",
        "print('Accuracy of XGBoost: '+ str(xg_score))\n",
        "precision,recall,fscore,none= precision_recall_fscore_support(y_true, y_predict, average='weighted')\n",
        "print('Precision of XGBoost: '+(str(precision)))\n",
        "print('Recall of XGBoost: '+(str(recall)))\n",
        "print('F1-score of XGBoost: '+(str(fscore)))\n",
        "print(classification_report(y_true,y_predict))\n",
        "cm=confusion_matrix(y_true,y_predict)\n",
        "f,ax=plt.subplots(figsize=(5,5))\n",
        "sns.heatmap(cm,annot=True,linewidth=0.5,linecolor=\"red\",fmt=\".0f\",ax=ax)\n",
        "plt.xlabel(\"y_pred\")\n",
        "plt.ylabel(\"y_true\")\n",
        "plt.show()"
      ]
    },
    {
      "cell_type": "markdown",
      "metadata": {
        "id": "8HYad9amj3Ps"
      },
      "source": [
        "#### Hyperparameter optimization (HPO) of XGBoost using Bayesian optimization with tree-based Parzen estimator (BO-TPE)\n",
        "Based on the GitHub repo for HPO: https://github.com/LiYangHart/Hyperparameter-Optimization-of-Machine-Learning-Algorithms"
      ]
    },
    {
      "cell_type": "code",
      "execution_count": 49,
      "metadata": {},
      "outputs": [
        {
          "name": "stdout",
          "output_type": "stream",
          "text": [
            "Collecting hyperopt\n",
            "  Downloading hyperopt-0.2.7-py2.py3-none-any.whl.metadata (1.7 kB)\n",
            "Requirement already satisfied: numpy in c:\\users\\nani\\appdata\\local\\packages\\pythonsoftwarefoundation.python.3.9_qbz5n2kfra8p0\\localcache\\local-packages\\python39\\site-packages (from hyperopt) (1.26.4)\n",
            "Requirement already satisfied: scipy in c:\\users\\nani\\appdata\\local\\packages\\pythonsoftwarefoundation.python.3.9_qbz5n2kfra8p0\\localcache\\local-packages\\python39\\site-packages (from hyperopt) (1.12.0)\n",
            "Requirement already satisfied: six in c:\\users\\nani\\appdata\\local\\packages\\pythonsoftwarefoundation.python.3.9_qbz5n2kfra8p0\\localcache\\local-packages\\python39\\site-packages (from hyperopt) (1.16.0)\n",
            "Requirement already satisfied: networkx>=2.2 in c:\\users\\nani\\appdata\\local\\packages\\pythonsoftwarefoundation.python.3.9_qbz5n2kfra8p0\\localcache\\local-packages\\python39\\site-packages (from hyperopt) (3.2.1)\n",
            "Collecting future (from hyperopt)\n",
            "  Downloading future-1.0.0-py3-none-any.whl.metadata (4.0 kB)\n",
            "Requirement already satisfied: tqdm in c:\\users\\nani\\appdata\\local\\packages\\pythonsoftwarefoundation.python.3.9_qbz5n2kfra8p0\\localcache\\local-packages\\python39\\site-packages (from hyperopt) (4.66.2)\n",
            "Collecting cloudpickle (from hyperopt)\n",
            "  Downloading cloudpickle-3.0.0-py3-none-any.whl.metadata (7.0 kB)\n",
            "Collecting py4j (from hyperopt)\n",
            "  Downloading py4j-0.10.9.7-py2.py3-none-any.whl.metadata (1.5 kB)\n",
            "Requirement already satisfied: colorama in c:\\users\\nani\\appdata\\local\\packages\\pythonsoftwarefoundation.python.3.9_qbz5n2kfra8p0\\localcache\\local-packages\\python39\\site-packages (from tqdm->hyperopt) (0.4.6)\n",
            "Downloading hyperopt-0.2.7-py2.py3-none-any.whl (1.6 MB)\n",
            "   ---------------------------------------- 0.0/1.6 MB ? eta -:--:--\n",
            "   -- ------------------------------------- 0.1/1.6 MB 3.3 MB/s eta 0:00:01\n",
            "   -------------- ------------------------- 0.6/1.6 MB 7.1 MB/s eta 0:00:01\n",
            "   --------------------------------- ------ 1.3/1.6 MB 10.4 MB/s eta 0:00:01\n",
            "   ---------------------------------------- 1.6/1.6 MB 10.1 MB/s eta 0:00:00\n",
            "Downloading cloudpickle-3.0.0-py3-none-any.whl (20 kB)\n",
            "Downloading future-1.0.0-py3-none-any.whl (491 kB)\n",
            "   ---------------------------------------- 0.0/491.3 kB ? eta -:--:--\n",
            "   --------------------------------------- 491.3/491.3 kB 32.1 MB/s eta 0:00:00\n",
            "Downloading py4j-0.10.9.7-py2.py3-none-any.whl (200 kB)\n",
            "   ---------------------------------------- 0.0/200.5 kB ? eta -:--:--\n",
            "   --------------------------------------- 200.5/200.5 kB 11.9 MB/s eta 0:00:00\n",
            "Installing collected packages: py4j, future, cloudpickle, hyperopt\n",
            "Successfully installed cloudpickle-3.0.0 future-1.0.0 hyperopt-0.2.7 py4j-0.10.9.7\n",
            "Note: you may need to restart the kernel to use updated packages.\n"
          ]
        }
      ],
      "source": [
        "%pip install hyperopt"
      ]
    },
    {
      "cell_type": "code",
      "execution_count": 50,
      "metadata": {
        "colab": {
          "base_uri": "https://localhost:8080/"
        },
        "id": "ATD5G8Mxj3Ps",
        "outputId": "c3a4065d-5c70-49fc-e5ce-e61501611312"
      },
      "outputs": [
        {
          "name": "stdout",
          "output_type": "stream",
          "text": [
            "100%|██████████| 20/20 [00:11<00:00,  1.70trial/s, best loss: -0.9964762611275965]\n",
            "XGBoost: Hyperopt estimated optimum {'learning_rate': 0.5150225916335468, 'max_depth': 83.0, 'n_estimators': 25.0}\n"
          ]
        }
      ],
      "source": [
        "from hyperopt import hp, fmin, tpe, STATUS_OK, Trials\n",
        "from sklearn.model_selection import cross_val_score, StratifiedKFold\n",
        "def objective(params):\n",
        "    params = {\n",
        "        'n_estimators': int(params['n_estimators']),\n",
        "        'max_depth': int(params['max_depth']),\n",
        "        'learning_rate':  abs(float(params['learning_rate'])),\n",
        "\n",
        "    }\n",
        "    clf = xgb.XGBClassifier( **params)\n",
        "    clf.fit(X_train, y_train)\n",
        "    y_pred = clf.predict(X_test)\n",
        "    score = accuracy_score(y_test, y_pred)\n",
        "\n",
        "    return {'loss':-score, 'status': STATUS_OK }\n",
        "\n",
        "space = {\n",
        "    'n_estimators': hp.quniform('n_estimators', 10, 100, 5),\n",
        "    'max_depth': hp.quniform('max_depth', 4, 100, 1),\n",
        "    'learning_rate': hp.normal('learning_rate', 0.01, 0.9),\n",
        "}\n",
        "\n",
        "best = fmin(fn=objective,\n",
        "            space=space,\n",
        "            algo=tpe.suggest,\n",
        "            max_evals=20)\n",
        "print(\"XGBoost: Hyperopt estimated optimum {}\".format(best))"
      ]
    },
    {
      "cell_type": "code",
      "execution_count": 51,
      "metadata": {
        "colab": {
          "base_uri": "https://localhost:8080/",
          "height": 780
        },
        "id": "wSqbo2Dbj3Ps",
        "outputId": "ec95a438-52ff-405e-a675-aac4c2e3a15e"
      },
      "outputs": [
        {
          "name": "stdout",
          "output_type": "stream",
          "text": [
            "Accuracy of XGBoost: 0.9955489614243324\n",
            "Precision of XGBoost: 0.9955493764732677\n",
            "Recall of XGBoost: 0.9955489614243324\n",
            "F1-score of XGBoost: 0.9955469080950465\n",
            "              precision    recall  f1-score   support\n",
            "\n",
            "           0       0.99      0.99      0.99       669\n",
            "           1       1.00      1.00      1.00      2079\n",
            "           2       0.99      0.99      0.99       378\n",
            "           3       0.99      0.99      0.99      1134\n",
            "           4       1.00      0.99      0.99      1131\n",
            "           5       1.00      1.00      1.00         1\n",
            "\n",
            "    accuracy                           1.00      5392\n",
            "   macro avg       1.00      1.00      1.00      5392\n",
            "weighted avg       1.00      1.00      1.00      5392\n",
            "\n"
          ]
        },
        {
          "data": {
            "image/png": "[encoded data removed]",
            "text/plain": [
              "<Figure size 500x500 with 2 Axes>"
            ]
          },
          "metadata": {},
          "output_type": "display_data"
        }
      ],
      "source": [
        "xg = xgb.XGBClassifier(learning_rate= 0.7340229699980686, n_estimators = 70, max_depth = 14)\n",
        "xg.fit(X_train,y_train)\n",
        "xg_score=xg.score(X_test,y_test)\n",
        "y_predict=xg.predict(X_test)\n",
        "y_true=y_test\n",
        "print('Accuracy of XGBoost: '+ str(xg_score))\n",
        "precision,recall,fscore,none= precision_recall_fscore_support(y_true, y_predict, average='weighted')\n",
        "print('Precision of XGBoost: '+(str(precision)))\n",
        "print('Recall of XGBoost: '+(str(recall)))\n",
        "print('F1-score of XGBoost: '+(str(fscore)))\n",
        "print(classification_report(y_true,y_predict))\n",
        "cm=confusion_matrix(y_true,y_predict)\n",
        "f,ax=plt.subplots(figsize=(5,5))\n",
        "sns.heatmap(cm,annot=True,linewidth=0.5,linecolor=\"red\",fmt=\".0f\",ax=ax)\n",
        "plt.xlabel(\"y_pred\")\n",
        "plt.ylabel(\"y_true\")\n",
        "plt.show()"
      ]
    },
    {
      "cell_type": "code",
      "execution_count": 52,
      "metadata": {
        "id": "kUQJAhvUj3Ps"
      },
      "outputs": [],
      "source": [
        "xg_train=xg.predict(X_train)\n",
        "xg_test=xg.predict(X_test)"
      ]
    },
    {
      "cell_type": "code",
      "execution_count": 71,
      "metadata": {},
      "outputs": [
        {
          "data": {
            "text/plain": [
              "['xgboost_model.pkl']"
            ]
          },
          "execution_count": 71,
          "metadata": {},
          "output_type": "execute_result"
        }
      ],
      "source": [
        "import xgboost as xgb\n",
        "import joblib\n",
        "from hyperopt import hp, fmin, tpe, STATUS_OK\n",
        "from sklearn.metrics import accuracy_score\n",
        "from sklearn.model_selection import cross_val_score, StratifiedKFold\n",
        "\n",
        "# Train XGBoost classifier with the best hyperparameters\n",
        "xg = xgb.XGBClassifier(learning_rate=0.7340229699980686, n_estimators=70, max_depth=14)\n",
        "xg.fit(X_train, y_train)\n",
        "\n",
        "# Save the trained model to a file\n",
        "joblib.dump(xg, 'xgboost_model.pkl')"
      ]
    },
    {
      "cell_type": "markdown",
      "metadata": {
        "id": "sUzY39ppj3Ps"
      },
      "source": [
        "#### Apply RF"
      ]
    },
    {
      "cell_type": "code",
      "execution_count": 53,
      "metadata": {
        "colab": {
          "base_uri": "https://localhost:8080/",
          "height": 780
        },
        "id": "Rvzx-68qj3Ps",
        "outputId": "536ea119-ed26-4743-8a07-7732404c3a5b"
      },
      "outputs": [
        {
          "name": "stdout",
          "output_type": "stream",
          "text": [
            "Accuracy of RF: 0.995919881305638\n",
            "Precision of RF: 0.9959290003085397\n",
            "Recall of RF: 0.995919881305638\n",
            "F1-score of RF: 0.9959197042477577\n",
            "              precision    recall  f1-score   support\n",
            "\n",
            "           0       0.99      0.99      0.99       669\n",
            "           1       1.00      1.00      1.00      2079\n",
            "           2       0.99      0.99      0.99       378\n",
            "           3       0.99      1.00      1.00      1134\n",
            "           4       1.00      0.99      0.99      1131\n",
            "           5       1.00      1.00      1.00         1\n",
            "\n",
            "    accuracy                           1.00      5392\n",
            "   macro avg       1.00      1.00      1.00      5392\n",
            "weighted avg       1.00      1.00      1.00      5392\n",
            "\n"
          ]
        },
        {
          "data": {
            "image/png": "[encoded data removed]",
            "text/plain": [
              "<Figure size 500x500 with 2 Axes>"
            ]
          },
          "metadata": {},
          "output_type": "display_data"
        }
      ],
      "source": [
        "rf = RandomForestClassifier(random_state = 0)\n",
        "rf.fit(X_train,y_train)\n",
        "rf_score=rf.score(X_test,y_test)\n",
        "y_predict=rf.predict(X_test)\n",
        "y_true=y_test\n",
        "print('Accuracy of RF: '+ str(rf_score))\n",
        "precision,recall,fscore,none= precision_recall_fscore_support(y_true, y_predict, average='weighted')\n",
        "print('Precision of RF: '+(str(precision)))\n",
        "print('Recall of RF: '+(str(recall)))\n",
        "print('F1-score of RF: '+(str(fscore)))\n",
        "print(classification_report(y_true,y_predict))\n",
        "cm=confusion_matrix(y_true,y_predict)\n",
        "f,ax=plt.subplots(figsize=(5,5))\n",
        "sns.heatmap(cm,annot=True,linewidth=0.5,linecolor=\"red\",fmt=\".0f\",ax=ax)\n",
        "plt.xlabel(\"y_pred\")\n",
        "plt.ylabel(\"y_true\")\n",
        "plt.show()"
      ]
    },
    {
      "cell_type": "markdown",
      "metadata": {
        "id": "8cL_IQVBj3Ps"
      },
      "source": [
        "#### Hyperparameter optimization (HPO) of random forest using Bayesian optimization with tree-based Parzen estimator (BO-TPE)\n",
        "Based on the GitHub repo for HPO: https://github.com/LiYangHart/Hyperparameter-Optimization-of-Machine-Learning-Algorithms"
      ]
    },
    {
      "cell_type": "code",
      "execution_count": 54,
      "metadata": {
        "colab": {
          "base_uri": "https://localhost:8080/"
        },
        "id": "sZnta8MOj3Ps",
        "outputId": "1e81c4f4-00c1-45c4-8c72-0fffb6df5fe2"
      },
      "outputs": [
        {
          "name": "stdout",
          "output_type": "stream",
          "text": [
            "  0%|          | 0/20 [00:00<?, ?trial/s, best loss=?]"
          ]
        },
        {
          "name": "stdout",
          "output_type": "stream",
          "text": [
            "100%|██████████| 20/20 [02:26<00:00,  7.30s/trial, best loss: -0.9951780415430267]\n",
            "Random Forest: Hyperopt estimated optimum {'criterion': 0, 'max_depth': 32.0, 'max_features': 8.0, 'min_samples_leaf': 3.0, 'min_samples_split': 8.0, 'n_estimators': 187.0}\n"
          ]
        }
      ],
      "source": [
        "# Hyperparameter optimization of random forest\n",
        "from hyperopt import hp, fmin, tpe, STATUS_OK, Trials\n",
        "from sklearn.model_selection import cross_val_score, StratifiedKFold\n",
        "# Define the objective function\n",
        "def objective(params):\n",
        "    params = {\n",
        "        'n_estimators': int(params['n_estimators']),\n",
        "        'max_depth': int(params['max_depth']),\n",
        "        'max_features': int(params['max_features']),\n",
        "        \"min_samples_split\":int(params['min_samples_split']),\n",
        "        \"min_samples_leaf\":int(params['min_samples_leaf']),\n",
        "        \"criterion\":str(params['criterion'])\n",
        "    }\n",
        "    clf = RandomForestClassifier( **params)\n",
        "    clf.fit(X_train,y_train)\n",
        "    score=clf.score(X_test,y_test)\n",
        "\n",
        "    return {'loss':-score, 'status': STATUS_OK }\n",
        "# Define the hyperparameter configuration space\n",
        "space = {\n",
        "    'n_estimators': hp.quniform('n_estimators', 10, 200, 1),\n",
        "    'max_depth': hp.quniform('max_depth', 5, 50, 1),\n",
        "    \"max_features\":hp.quniform('max_features', 1, 20, 1),\n",
        "    \"min_samples_split\":hp.quniform('min_samples_split',2,11,1),\n",
        "    \"min_samples_leaf\":hp.quniform('min_samples_leaf',1,11,1),\n",
        "    \"criterion\":hp.choice('criterion',['gini','entropy'])\n",
        "}\n",
        "\n",
        "best = fmin(fn=objective,\n",
        "            space=space,\n",
        "            algo=tpe.suggest,\n",
        "            max_evals=20)\n",
        "print(\"Random Forest: Hyperopt estimated optimum {}\".format(best))"
      ]
    },
    {
      "cell_type": "code",
      "execution_count": 55,
      "metadata": {
        "colab": {
          "base_uri": "https://localhost:8080/",
          "height": 780
        },
        "id": "fr9Ks0nlj3Pt",
        "outputId": "258bc6cc-aac3-42cd-fd74-b6f72d5449a2"
      },
      "outputs": [
        {
          "name": "stdout",
          "output_type": "stream",
          "text": [
            "Accuracy of RF: 0.9946216617210683\n",
            "Precision of RF: 0.9944451343470269\n",
            "Recall of RF: 0.9946216617210683\n",
            "F1-score of RF: 0.994529200767574\n",
            "              precision    recall  f1-score   support\n",
            "\n",
            "           0       0.99      0.99      0.99       669\n",
            "           1       1.00      1.00      1.00      2079\n",
            "           2       0.99      0.99      0.99       378\n",
            "           3       0.99      1.00      0.99      1134\n",
            "           4       1.00      0.99      0.99      1131\n",
            "           5       0.00      0.00      0.00         1\n",
            "\n",
            "    accuracy                           0.99      5392\n",
            "   macro avg       0.83      0.83      0.83      5392\n",
            "weighted avg       0.99      0.99      0.99      5392\n",
            "\n"
          ]
        },
        {
          "data": {
            "image/png": "[encoded data removed]",
            "text/plain": [
              "<Figure size 500x500 with 2 Axes>"
            ]
          },
          "metadata": {},
          "output_type": "display_data"
        }
      ],
      "source": [
        "rf_hpo = RandomForestClassifier(n_estimators = 71, min_samples_leaf = 1, max_depth = 46, min_samples_split = 9, max_features = 20, criterion = 'entropy')\n",
        "rf_hpo.fit(X_train,y_train)\n",
        "rf_score=rf_hpo.score(X_test,y_test)\n",
        "y_predict=rf_hpo.predict(X_test)\n",
        "y_true=y_test\n",
        "print('Accuracy of RF: '+ str(rf_score))\n",
        "precision,recall,fscore,none= precision_recall_fscore_support(y_true, y_predict, average='weighted')\n",
        "print('Precision of RF: '+(str(precision)))\n",
        "print('Recall of RF: '+(str(recall)))\n",
        "print('F1-score of RF: '+(str(fscore)))\n",
        "print(classification_report(y_true,y_predict))\n",
        "cm=confusion_matrix(y_true,y_predict)\n",
        "f,ax=plt.subplots(figsize=(5,5))\n",
        "sns.heatmap(cm,annot=True,linewidth=0.5,linecolor=\"red\",fmt=\".0f\",ax=ax)\n",
        "plt.xlabel(\"y_pred\")\n",
        "plt.ylabel(\"y_true\")\n",
        "plt.show()"
      ]
    },
    {
      "cell_type": "code",
      "execution_count": 56,
      "metadata": {
        "collapsed": true,
        "id": "opP30_axj3Pt"
      },
      "outputs": [],
      "source": [
        "rf_train=rf_hpo.predict(X_train)\n",
        "rf_test=rf_hpo.predict(X_test)"
      ]
    },
    {
      "cell_type": "code",
      "execution_count": 70,
      "metadata": {},
      "outputs": [
        {
          "name": "stdout",
          "output_type": "stream",
          "text": [
            "Accuracy of RF: 0.995919881305638\n",
            "Precision of RF: 0.9959290003085397\n",
            "Recall of RF: 0.995919881305638\n",
            "F1-score of RF: 0.9959197042477577\n",
            "              precision    recall  f1-score   support\n",
            "\n",
            "           0       0.99      0.99      0.99       669\n",
            "           1       1.00      1.00      1.00      2079\n",
            "           2       0.99      0.99      0.99       378\n",
            "           3       0.99      1.00      1.00      1134\n",
            "           4       1.00      0.99      0.99      1131\n",
            "           5       1.00      1.00      1.00         1\n",
            "\n",
            "    accuracy                           1.00      5392\n",
            "   macro avg       1.00      1.00      1.00      5392\n",
            "weighted avg       1.00      1.00      1.00      5392\n",
            "\n"
          ]
        },
        {
          "data": {
            "image/png": "[encoded data removed]",
            "text/plain": [
              "<Figure size 500x500 with 2 Axes>"
            ]
          },
          "metadata": {},
          "output_type": "display_data"
        }
      ],
      "source": [
        "from sklearn.ensemble import RandomForestClassifier\n",
        "import joblib\n",
        "\n",
        "# Train the Random Forest Classifier\n",
        "rf = RandomForestClassifier(random_state=0)\n",
        "rf.fit(X_train, y_train)\n",
        "\n",
        "# Save the trained model to a file\n",
        "joblib.dump(rf, 'random_forest_model.pkl')\n",
        "\n",
        "# Load the saved model\n",
        "loaded_model = joblib.load('random_forest_model.pkl')\n",
        "\n",
        "# Use the loaded model for predictions\n",
        "y_predict = loaded_model.predict(X_test)\n",
        "\n",
        "# Evaluate the loaded model\n",
        "rf_score = loaded_model.score(X_test, y_test)\n",
        "y_true = y_test\n",
        "print('Accuracy of RF: ' + str(rf_score))\n",
        "precision, recall, fscore, none = precision_recall_fscore_support(y_true, y_predict, average='weighted')\n",
        "print('Precision of RF: ' + str(precision))\n",
        "print('Recall of RF: ' + str(recall))\n",
        "print('F1-score of RF: ' + str(fscore))\n",
        "print(classification_report(y_true, y_predict))\n",
        "cm = confusion_matrix(y_true, y_predict)\n",
        "# Visualize confusion matrix using seaborn heatmap\n",
        "f, ax = plt.subplots(figsize=(5, 5))\n",
        "sns.heatmap(cm, annot=True, linewidth=0.5, linecolor=\"red\", fmt=\".0f\", ax=ax)\n",
        "plt.xlabel(\"y_pred\")\n",
        "plt.ylabel(\"y_true\")\n",
        "plt.show()"
      ]
    },
    {
      "cell_type": "markdown",
      "metadata": {
        "id": "2YHFkzmMj3Pt"
      },
      "source": [
        "#### Apply DT"
      ]
    },
    {
      "cell_type": "code",
      "execution_count": 57,
      "metadata": {
        "colab": {
          "base_uri": "https://localhost:8080/",
          "height": 780
        },
        "id": "6QbgN1XPj3Pt",
        "outputId": "0b75fe98-05d5-4c17-b80a-dd87f1c5815d"
      },
      "outputs": [
        {
          "name": "stdout",
          "output_type": "stream",
          "text": [
            "Accuracy of DT: 0.9920252225519288\n",
            "Precision of DT: 0.9918793835038067\n",
            "Recall of DT: 0.9920252225519288\n",
            "F1-score of DT: 0.991933005096721\n",
            "              precision    recall  f1-score   support\n",
            "\n",
            "           0       0.99      0.97      0.98       669\n",
            "           1       1.00      1.00      1.00      2079\n",
            "           2       0.97      0.99      0.98       378\n",
            "           3       0.99      0.99      0.99      1134\n",
            "           4       1.00      0.99      0.99      1131\n",
            "           5       0.00      0.00      0.00         1\n",
            "\n",
            "    accuracy                           0.99      5392\n",
            "   macro avg       0.82      0.82      0.82      5392\n",
            "weighted avg       0.99      0.99      0.99      5392\n",
            "\n"
          ]
        },
        {
          "data": {
            "image/png": "[encoded data removed]",
            "text/plain": [
              "<Figure size 500x500 with 2 Axes>"
            ]
          },
          "metadata": {},
          "output_type": "display_data"
        }
      ],
      "source": [
        "dt = DecisionTreeClassifier(random_state = 0)\n",
        "dt.fit(X_train,y_train)\n",
        "dt_score=dt.score(X_test,y_test)\n",
        "y_predict=dt.predict(X_test)\n",
        "y_true=y_test\n",
        "print('Accuracy of DT: '+ str(dt_score))\n",
        "precision,recall,fscore,none= precision_recall_fscore_support(y_true, y_predict, average='weighted')\n",
        "print('Precision of DT: '+(str(precision)))\n",
        "print('Recall of DT: '+(str(recall)))\n",
        "print('F1-score of DT: '+(str(fscore)))\n",
        "print(classification_report(y_true,y_predict))\n",
        "cm=confusion_matrix(y_true,y_predict)\n",
        "f,ax=plt.subplots(figsize=(5,5))\n",
        "sns.heatmap(cm,annot=True,linewidth=0.5,linecolor=\"red\",fmt=\".0f\",ax=ax)\n",
        "plt.xlabel(\"y_pred\")\n",
        "plt.ylabel(\"y_true\")\n",
        "plt.show()"
      ]
    },
    {
      "cell_type": "markdown",
      "metadata": {
        "id": "GR6fMfW2j3Pt"
      },
      "source": [
        "#### Hyperparameter optimization (HPO) of decision tree using Bayesian optimization with tree-based Parzen estimator (BO-TPE)\n",
        "Based on the GitHub repo for HPO: https://github.com/LiYangHart/Hyperparameter-Optimization-of-Machine-Learning-Algorithms"
      ]
    },
    {
      "cell_type": "code",
      "execution_count": 58,
      "metadata": {
        "colab": {
          "base_uri": "https://localhost:8080/"
        },
        "id": "HdO2OQR7j3Pt",
        "outputId": "cfe61d23-aac6-4dd1-cb77-97737f3cdee1"
      },
      "outputs": [
        {
          "name": "stdout",
          "output_type": "stream",
          "text": [
            "  0%|          | 0/50 [00:00<?, ?trial/s, best loss=?]"
          ]
        },
        {
          "name": "stdout",
          "output_type": "stream",
          "text": [
            "100%|██████████| 50/50 [00:06<00:00,  8.11trial/s, best loss: -0.9949925816023739]\n",
            "Decision tree: Hyperopt estimated optimum {'criterion': 0, 'max_depth': 49.0, 'max_features': 16.0, 'min_samples_leaf': 1.0, 'min_samples_split': 10.0}\n"
          ]
        }
      ],
      "source": [
        "# Hyperparameter optimization of decision tree\n",
        "from hyperopt import hp, fmin, tpe, STATUS_OK, Trials\n",
        "from sklearn.model_selection import cross_val_score, StratifiedKFold\n",
        "# Define the objective function\n",
        "def objective(params):\n",
        "    params = {\n",
        "        'max_depth': int(params['max_depth']),\n",
        "        'max_features': int(params['max_features']),\n",
        "        \"min_samples_split\":int(params['min_samples_split']),\n",
        "        \"min_samples_leaf\":int(params['min_samples_leaf']),\n",
        "        \"criterion\":str(params['criterion'])\n",
        "    }\n",
        "    clf = DecisionTreeClassifier( **params)\n",
        "    clf.fit(X_train,y_train)\n",
        "    score=clf.score(X_test,y_test)\n",
        "\n",
        "    return {'loss':-score, 'status': STATUS_OK }\n",
        "# Define the hyperparameter configuration space\n",
        "space = {\n",
        "    'max_depth': hp.quniform('max_depth', 5, 50, 1),\n",
        "    \"max_features\":hp.quniform('max_features', 1, 20, 1),\n",
        "    \"min_samples_split\":hp.quniform('min_samples_split',2,11,1),\n",
        "    \"min_samples_leaf\":hp.quniform('min_samples_leaf',1,11,1),\n",
        "    \"criterion\":hp.choice('criterion',['gini','entropy'])\n",
        "}\n",
        "\n",
        "best = fmin(fn=objective,\n",
        "            space=space,\n",
        "            algo=tpe.suggest,\n",
        "            max_evals=50)\n",
        "print(\"Decision tree: Hyperopt estimated optimum {}\".format(best))"
      ]
    },
    {
      "cell_type": "code",
      "execution_count": 61,
      "metadata": {
        "colab": {
          "base_uri": "https://localhost:8080/",
          "height": 780
        },
        "id": "Huv-lcyDj3Pt",
        "outputId": "f5010f74-20eb-4062-bed7-662b49f268d5"
      },
      "outputs": [
        {
          "name": "stdout",
          "output_type": "stream",
          "text": [
            "Accuracy of DT: 0.9918397626112759\n",
            "Precision of DT: 0.9916620357783845\n",
            "Recall of DT: 0.9918397626112759\n",
            "F1-score of DT: 0.9917480972127082\n",
            "              precision    recall  f1-score   support\n",
            "\n",
            "           0       0.98      0.98      0.98       669\n",
            "           1       1.00      1.00      1.00      2079\n",
            "           2       0.98      0.99      0.99       378\n",
            "           3       0.99      0.99      0.99      1134\n",
            "           4       0.99      0.99      0.99      1131\n",
            "           5       0.00      0.00      0.00         1\n",
            "\n",
            "    accuracy                           0.99      5392\n",
            "   macro avg       0.82      0.83      0.82      5392\n",
            "weighted avg       0.99      0.99      0.99      5392\n",
            "\n"
          ]
        },
        {
          "data": {
            "image/png": "[encoded data removed]",
            "text/plain": [
              "<Figure size 500x500 with 2 Axes>"
            ]
          },
          "metadata": {},
          "output_type": "display_data"
        }
      ],
      "source": [
        "dt_hpo = DecisionTreeClassifier(min_samples_leaf = 2, max_depth = 47, min_samples_split = 3, max_features = 19, criterion = 'gini')\n",
        "dt_hpo.fit(X_train,y_train)\n",
        "dt_score=dt_hpo.score(X_test,y_test)\n",
        "y_predict=dt_hpo.predict(X_test)\n",
        "y_true=y_test\n",
        "print('Accuracy of DT: '+ str(dt_score))\n",
        "precision,recall,fscore,none= precision_recall_fscore_support(y_true, y_predict, average='weighted')\n",
        "print('Precision of DT: '+(str(precision)))\n",
        "print('Recall of DT: '+(str(recall)))\n",
        "print('F1-score of DT: '+(str(fscore)))\n",
        "print(classification_report(y_true,y_predict))\n",
        "cm=confusion_matrix(y_true,y_predict)\n",
        "f,ax=plt.subplots(figsize=(5,5))\n",
        "sns.heatmap(cm,annot=True,linewidth=0.5,linecolor=\"red\",fmt=\".0f\",ax=ax)\n",
        "plt.xlabel(\"y_pred\")\n",
        "plt.ylabel(\"y_true\")\n",
        "plt.show()"
      ]
    },
    {
      "cell_type": "code",
      "execution_count": 62,
      "metadata": {},
      "outputs": [
        {
          "name": "stdout",
          "output_type": "stream",
          "text": [
            "Accuracy of DT: 0.9920252225519288\n",
            "Precision of DT: 0.9918793835038067\n",
            "Recall of DT: 0.9920252225519288\n",
            "F1-score of DT: 0.991933005096721\n",
            "              precision    recall  f1-score   support\n",
            "\n",
            "           0       0.99      0.97      0.98       669\n",
            "           1       1.00      1.00      1.00      2079\n",
            "           2       0.97      0.99      0.98       378\n",
            "           3       0.99      0.99      0.99      1134\n",
            "           4       1.00      0.99      0.99      1131\n",
            "           5       0.00      0.00      0.00         1\n",
            "\n",
            "    accuracy                           0.99      5392\n",
            "   macro avg       0.82      0.82      0.82      5392\n",
            "weighted avg       0.99      0.99      0.99      5392\n",
            "\n"
          ]
        },
        {
          "data": {
            "image/png": "[encoded data removed]",
            "text/plain": [
              "<Figure size 500x500 with 2 Axes>"
            ]
          },
          "metadata": {},
          "output_type": "display_data"
        }
      ],
      "source": [
        "from sklearn.tree import DecisionTreeClassifier\n",
        "import joblib\n",
        "\n",
        "# Train the decision tree classifier\n",
        "dt = DecisionTreeClassifier(random_state=0)\n",
        "dt.fit(X_train, y_train)\n",
        "\n",
        "# Save the trained model to a file\n",
        "joblib.dump(dt, 'decision_tree_model.pkl')\n",
        "\n",
        "# Load the saved model\n",
        "loaded_model = joblib.load('decision_tree_model.pkl')\n",
        "\n",
        "# Use the loaded model for predictions\n",
        "y_predict = loaded_model.predict(X_test)\n",
        "\n",
        "# Evaluate the loaded model\n",
        "dt_score = loaded_model.score(X_test, y_test)\n",
        "y_true = y_test\n",
        "print('Accuracy of DT: ' + str(dt_score))\n",
        "precision, recall, fscore, none = precision_recall_fscore_support(y_true, y_predict, average='weighted')\n",
        "print('Precision of DT: ' + str(precision))\n",
        "print('Recall of DT: ' + str(recall))\n",
        "print('F1-score of DT: ' + str(fscore))\n",
        "print(classification_report(y_true, y_predict))\n",
        "cm = confusion_matrix(y_true, y_predict)\n",
        "# Visualize confusion matrix using seaborn heatmap\n",
        "f, ax = plt.subplots(figsize=(5, 5))\n",
        "sns.heatmap(cm, annot=True, linewidth=0.5, linecolor=\"red\", fmt=\".0f\", ax=ax)\n",
        "plt.xlabel(\"y_pred\")\n",
        "plt.ylabel(\"y_true\")\n",
        "plt.show()"
      ]
    },
    {
      "cell_type": "code",
      "execution_count": 63,
      "metadata": {
        "collapsed": true,
        "id": "vGP4pBYHj3Pt"
      },
      "outputs": [],
      "source": [
        "dt_train=dt_hpo.predict(X_train)\n",
        "dt_test=dt_hpo.predict(X_test)"
      ]
    },
    {
      "cell_type": "markdown",
      "metadata": {
        "id": "vPlzxN2Nj3Pt"
      },
      "source": [
        "#### Apply ET"
      ]
    },
    {
      "cell_type": "code",
      "execution_count": 64,
      "metadata": {
        "colab": {
          "base_uri": "https://localhost:8080/",
          "height": 780
        },
        "id": "6Cy0G3w3j3Pt",
        "outputId": "828e6ca7-5e6d-41a7-8d03-100f17945f1c"
      },
      "outputs": [
        {
          "name": "stdout",
          "output_type": "stream",
          "text": [
            "Accuracy of ET: 0.994807121661721\n",
            "Precision of ET: 0.9948164249085266\n",
            "Recall of ET: 0.994807121661721\n",
            "F1-score of ET: 0.9948067609948615\n",
            "              precision    recall  f1-score   support\n",
            "\n",
            "           0       0.99      0.99      0.99       669\n",
            "           1       1.00      1.00      1.00      2079\n",
            "           2       0.98      0.99      0.99       378\n",
            "           3       0.99      0.99      0.99      1134\n",
            "           4       1.00      0.99      0.99      1131\n",
            "           5       1.00      1.00      1.00         1\n",
            "\n",
            "    accuracy                           0.99      5392\n",
            "   macro avg       0.99      0.99      0.99      5392\n",
            "weighted avg       0.99      0.99      0.99      5392\n",
            "\n"
          ]
        },
        {
          "data": {
            "image/png": "[encoded data removed]",
            "text/plain": [
              "<Figure size 500x500 with 2 Axes>"
            ]
          },
          "metadata": {},
          "output_type": "display_data"
        }
      ],
      "source": [
        "et = ExtraTreesClassifier(random_state = 0)\n",
        "et.fit(X_train,y_train)\n",
        "et_score=et.score(X_test,y_test)\n",
        "y_predict=et.predict(X_test)\n",
        "y_true=y_test\n",
        "print('Accuracy of ET: '+ str(et_score))\n",
        "precision,recall,fscore,none= precision_recall_fscore_support(y_true, y_predict, average='weighted')\n",
        "print('Precision of ET: '+(str(precision)))\n",
        "print('Recall of ET: '+(str(recall)))\n",
        "print('F1-score of ET: '+(str(fscore)))\n",
        "print(classification_report(y_true,y_predict))\n",
        "cm=confusion_matrix(y_true,y_predict)\n",
        "f,ax=plt.subplots(figsize=(5,5))\n",
        "sns.heatmap(cm,annot=True,linewidth=0.5,linecolor=\"red\",fmt=\".0f\",ax=ax)\n",
        "plt.xlabel(\"y_pred\")\n",
        "plt.ylabel(\"y_true\")\n",
        "plt.show()"
      ]
    },
    {
      "cell_type": "markdown",
      "metadata": {
        "id": "MfpCAs_7j3Pu"
      },
      "source": [
        "#### Hyperparameter optimization (HPO) of extra trees using Bayesian optimization with tree-based Parzen estimator (BO-TPE)\n",
        "Based on the GitHub repo for HPO: https://github.com/LiYangHart/Hyperparameter-Optimization-of-Machine-Learning-Algorithms"
      ]
    },
    {
      "cell_type": "code",
      "execution_count": 66,
      "metadata": {
        "colab": {
          "base_uri": "https://localhost:8080/"
        },
        "id": "b1zs7qV_j3Pu",
        "outputId": "82889ae6-7f95-463f-eecd-703a2f61f34c"
      },
      "outputs": [
        {
          "name": "stdout",
          "output_type": "stream",
          "text": [
            "  0%|          | 0/20 [00:00<?, ?trial/s, best loss=?]"
          ]
        },
        {
          "name": "stdout",
          "output_type": "stream",
          "text": [
            "100%|██████████| 20/20 [00:35<00:00,  1.76s/trial, best loss: -0.9938798219584569]\n",
            "Random Forest: Hyperopt estimated optimum {'criterion': 1, 'max_depth': 28.0, 'max_features': 9.0, 'min_samples_leaf': 1.0, 'min_samples_split': 5.0, 'n_estimators': 46.0}\n"
          ]
        }
      ],
      "source": [
        "# Hyperparameter optimization of extra trees\n",
        "from hyperopt import hp, fmin, tpe, STATUS_OK, Trials\n",
        "from sklearn.model_selection import cross_val_score, StratifiedKFold\n",
        "# Define the objective function\n",
        "def objective(params):\n",
        "    params = {\n",
        "        'n_estimators': int(params['n_estimators']),\n",
        "        'max_depth': int(params['max_depth']),\n",
        "        'max_features': int(params['max_features']),\n",
        "        \"min_samples_split\":int(params['min_samples_split']),\n",
        "        \"min_samples_leaf\":int(params['min_samples_leaf']),\n",
        "        \"criterion\":str(params['criterion'])\n",
        "    }\n",
        "    clf = ExtraTreesClassifier( **params)\n",
        "    clf.fit(X_train,y_train)\n",
        "    score=clf.score(X_test,y_test)\n",
        "\n",
        "    return {'loss':-score, 'status': STATUS_OK }\n",
        "# Define the hyperparameter configuration space\n",
        "space = {\n",
        "    'n_estimators': hp.quniform('n_estimators', 10, 200, 1),\n",
        "    'max_depth': hp.quniform('max_depth', 5, 50, 1),\n",
        "    \"max_features\":hp.quniform('max_features', 1, 20, 1),\n",
        "    \"min_samples_split\":hp.quniform('min_samples_split',2,11,1),\n",
        "    \"min_samples_leaf\":hp.quniform('min_samples_leaf',1,11,1),\n",
        "    \"criterion\":hp.choice('criterion',['gini','entropy'])\n",
        "}\n",
        "\n",
        "best = fmin(fn=objective,\n",
        "            space=space,\n",
        "            algo=tpe.suggest,\n",
        "            max_evals=20)\n",
        "print(\"Random Forest: Hyperopt estimated optimum {}\".format(best))"
      ]
    },
    {
      "cell_type": "code",
      "execution_count": 67,
      "metadata": {
        "colab": {
          "base_uri": "https://localhost:8080/",
          "height": 780
        },
        "id": "32H9eoE5j3Pu",
        "outputId": "b4cac07e-5d32-482b-83a4-4738ab9cf437"
      },
      "outputs": [
        {
          "name": "stdout",
          "output_type": "stream",
          "text": [
            "Accuracy of ET: 0.9953635014836796\n",
            "Precision of ET: 0.9951860946326668\n",
            "Recall of ET: 0.9953635014836796\n",
            "F1-score of ET: 0.9952708313250245\n",
            "              precision    recall  f1-score   support\n",
            "\n",
            "           0       0.99      0.99      0.99       669\n",
            "           1       1.00      1.00      1.00      2079\n",
            "           2       0.99      0.99      0.99       378\n",
            "           3       0.99      1.00      1.00      1134\n",
            "           4       1.00      0.99      0.99      1131\n",
            "           5       0.00      0.00      0.00         1\n",
            "\n",
            "    accuracy                           1.00      5392\n",
            "   macro avg       0.83      0.83      0.83      5392\n",
            "weighted avg       1.00      1.00      1.00      5392\n",
            "\n"
          ]
        },
        {
          "data": {
            "image/png": "[encoded data removed]",
            "text/plain": [
              "<Figure size 500x500 with 2 Axes>"
            ]
          },
          "metadata": {},
          "output_type": "display_data"
        }
      ],
      "source": [
        "et_hpo = ExtraTreesClassifier(n_estimators = 53, min_samples_leaf = 1, max_depth = 31, min_samples_split = 5, max_features = 20, criterion = 'entropy')\n",
        "et_hpo.fit(X_train,y_train)\n",
        "et_score=et_hpo.score(X_test,y_test)\n",
        "y_predict=et_hpo.predict(X_test)\n",
        "y_true=y_test\n",
        "print('Accuracy of ET: '+ str(et_score))\n",
        "precision,recall,fscore,none= precision_recall_fscore_support(y_true, y_predict, average='weighted')\n",
        "print('Precision of ET: '+(str(precision)))\n",
        "print('Recall of ET: '+(str(recall)))\n",
        "print('F1-score of ET: '+(str(fscore)))\n",
        "print(classification_report(y_true,y_predict))\n",
        "cm=confusion_matrix(y_true,y_predict)\n",
        "f,ax=plt.subplots(figsize=(5,5))\n",
        "sns.heatmap(cm,annot=True,linewidth=0.5,linecolor=\"red\",fmt=\".0f\",ax=ax)\n",
        "plt.xlabel(\"y_pred\")\n",
        "plt.ylabel(\"y_true\")\n",
        "plt.show()"
      ]
    },
    {
      "cell_type": "code",
      "execution_count": 68,
      "metadata": {},
      "outputs": [
        {
          "name": "stdout",
          "output_type": "stream",
          "text": [
            "Accuracy of ET: 0.994807121661721\n",
            "Precision of ET: 0.9948164249085266\n",
            "Recall of ET: 0.994807121661721\n",
            "F1-score of ET: 0.9948067609948615\n",
            "              precision    recall  f1-score   support\n",
            "\n",
            "           0       0.99      0.99      0.99       669\n",
            "           1       1.00      1.00      1.00      2079\n",
            "           2       0.98      0.99      0.99       378\n",
            "           3       0.99      0.99      0.99      1134\n",
            "           4       1.00      0.99      0.99      1131\n",
            "           5       1.00      1.00      1.00         1\n",
            "\n",
            "    accuracy                           0.99      5392\n",
            "   macro avg       0.99      0.99      0.99      5392\n",
            "weighted avg       0.99      0.99      0.99      5392\n",
            "\n"
          ]
        },
        {
          "data": {
            "image/png": "[encoded data removed]",
            "text/plain": [
              "<Figure size 500x500 with 2 Axes>"
            ]
          },
          "metadata": {},
          "output_type": "display_data"
        }
      ],
      "source": [
        "from sklearn.ensemble import ExtraTreesClassifier\n",
        "import joblib\n",
        "\n",
        "# Train the Extra Trees Classifier\n",
        "et = ExtraTreesClassifier(random_state=0)\n",
        "et.fit(X_train, y_train)\n",
        "\n",
        "# Save the trained model to a file\n",
        "joblib.dump(et, 'extra_trees_model.pkl')\n",
        "\n",
        "# Load the saved model\n",
        "loaded_model = joblib.load('extra_trees_model.pkl')\n",
        "\n",
        "# Use the loaded model for predictions\n",
        "y_predict = loaded_model.predict(X_test)\n",
        "\n",
        "# Evaluate the loaded model\n",
        "et_score = loaded_model.score(X_test, y_test)\n",
        "y_true = y_test\n",
        "print('Accuracy of ET: ' + str(et_score))\n",
        "precision, recall, fscore, none = precision_recall_fscore_support(y_true, y_predict, average='weighted')\n",
        "print('Precision of ET: ' + str(precision))\n",
        "print('Recall of ET: ' + str(recall))\n",
        "print('F1-score of ET: ' + str(fscore))\n",
        "print(classification_report(y_true, y_predict))\n",
        "cm = confusion_matrix(y_true, y_predict)\n",
        "# Visualize confusion matrix using seaborn heatmap\n",
        "f, ax = plt.subplots(figsize=(5, 5))\n",
        "sns.heatmap(cm, annot=True, linewidth=0.5, linecolor=\"red\", fmt=\".0f\", ax=ax)\n",
        "plt.xlabel(\"y_pred\")\n",
        "plt.ylabel(\"y_true\")\n",
        "plt.show()"
      ]
    },
    {
      "cell_type": "code",
      "execution_count": 69,
      "metadata": {
        "collapsed": true,
        "id": "BP7Fya3Rj3Pu"
      },
      "outputs": [],
      "source": [
        "et_train=et_hpo.predict(X_train)\n",
        "et_test=et_hpo.predict(X_test)"
      ]
    },
    {
      "cell_type": "markdown",
      "metadata": {
        "id": "R5tI_rfej3Pu"
      },
      "source": [
        "### Apply Stacking\n",
        "The ensemble model that combines the four ML models (DT, RF, ET, XGBoost)"
      ]
    },
    {
      "cell_type": "code",
      "execution_count": 72,
      "metadata": {
        "colab": {
          "base_uri": "https://localhost:8080/",
          "height": 206
        },
        "id": "YXrGigUaj3Pu",
        "outputId": "9858f9f9-b041-482f-c849-0ed9a61ea90d"
      },
      "outputs": [
        {
          "data": {
            "text/html": [
              "<div>\n",
              "<style scoped>\n",
              "    .dataframe tbody tr th:only-of-type {\n",
              "        vertical-align: middle;\n",
              "    }\n",
              "\n",
              "    .dataframe tbody tr th {\n",
              "        vertical-align: top;\n",
              "    }\n",
              "\n",
              "    .dataframe thead th {\n",
              "        text-align: right;\n",
              "    }\n",
              "</style>\n",
              "<table border=\"1\" class=\"dataframe\">\n",
              "  <thead>\n",
              "    <tr style=\"text-align: right;\">\n",
              "      <th></th>\n",
              "      <th>DecisionTree</th>\n",
              "      <th>RandomForest</th>\n",
              "      <th>ExtraTrees</th>\n",
              "      <th>XgBoost</th>\n",
              "    </tr>\n",
              "  </thead>\n",
              "  <tbody>\n",
              "    <tr>\n",
              "      <th>0</th>\n",
              "      <td>1</td>\n",
              "      <td>1</td>\n",
              "      <td>1</td>\n",
              "      <td>1</td>\n",
              "    </tr>\n",
              "    <tr>\n",
              "      <th>1</th>\n",
              "      <td>1</td>\n",
              "      <td>1</td>\n",
              "      <td>1</td>\n",
              "      <td>1</td>\n",
              "    </tr>\n",
              "    <tr>\n",
              "      <th>2</th>\n",
              "      <td>1</td>\n",
              "      <td>1</td>\n",
              "      <td>1</td>\n",
              "      <td>1</td>\n",
              "    </tr>\n",
              "    <tr>\n",
              "      <th>3</th>\n",
              "      <td>3</td>\n",
              "      <td>3</td>\n",
              "      <td>3</td>\n",
              "      <td>3</td>\n",
              "    </tr>\n",
              "    <tr>\n",
              "      <th>4</th>\n",
              "      <td>1</td>\n",
              "      <td>1</td>\n",
              "      <td>1</td>\n",
              "      <td>1</td>\n",
              "    </tr>\n",
              "  </tbody>\n",
              "</table>\n",
              "</div>"
            ],
            "text/plain": [
              "   DecisionTree  RandomForest  ExtraTrees  XgBoost\n",
              "0             1             1           1        1\n",
              "1             1             1           1        1\n",
              "2             1             1           1        1\n",
              "3             3             3           3        3\n",
              "4             1             1           1        1"
            ]
          },
          "execution_count": 72,
          "metadata": {},
          "output_type": "execute_result"
        }
      ],
      "source": [
        "base_predictions_train = pd.DataFrame( {\n",
        "    'DecisionTree': dt_train.ravel(),\n",
        "        'RandomForest': rf_train.ravel(),\n",
        "     'ExtraTrees': et_train.ravel(),\n",
        "     'XgBoost': xg_train.ravel(),\n",
        "    })\n",
        "base_predictions_train.head(5)"
      ]
    },
    {
      "cell_type": "code",
      "execution_count": 73,
      "metadata": {
        "id": "IYk3OGfCj3Pu"
      },
      "outputs": [],
      "source": [
        "dt_train=dt_train.reshape(-1, 1)\n",
        "et_train=et_train.reshape(-1, 1)\n",
        "rf_train=rf_train.reshape(-1, 1)\n",
        "xg_train=xg_train.reshape(-1, 1)\n",
        "dt_test=dt_test.reshape(-1, 1)\n",
        "et_test=et_test.reshape(-1, 1)\n",
        "rf_test=rf_test.reshape(-1, 1)\n",
        "xg_test=xg_test.reshape(-1, 1)"
      ]
    },
    {
      "cell_type": "code",
      "execution_count": 74,
      "metadata": {
        "colab": {
          "base_uri": "https://localhost:8080/"
        },
        "id": "pw7J65ytj3Pu",
        "outputId": "ed346bd7-d44e-4e7f-e765-b9572fc8335c"
      },
      "outputs": [
        {
          "data": {
            "text/plain": [
              "(21564, 1)"
            ]
          },
          "execution_count": 74,
          "metadata": {},
          "output_type": "execute_result"
        }
      ],
      "source": [
        "dt_train.shape"
      ]
    },
    {
      "cell_type": "code",
      "execution_count": 75,
      "metadata": {
        "id": "bXLtjuIuj3Pu"
      },
      "outputs": [],
      "source": [
        "x_train = np.concatenate(( dt_train, et_train, rf_train, xg_train), axis=1)\n",
        "x_test = np.concatenate(( dt_test, et_test, rf_test, xg_test), axis=1)"
      ]
    },
    {
      "cell_type": "code",
      "execution_count": 76,
      "metadata": {
        "colab": {
          "base_uri": "https://localhost:8080/",
          "height": 780
        },
        "id": "yqFEx0Voj3Pu",
        "outputId": "e639fd2c-00e3-4700-bcb3-750584f8c229"
      },
      "outputs": [
        {
          "name": "stdout",
          "output_type": "stream",
          "text": [
            "Accuracy of Stacking: 0.9955489614243324\n",
            "Precision of Stacking: 0.9953665374801698\n",
            "Recall of Stacking: 0.9955489614243324\n",
            "F1-score of Stacking: 0.9954536833719883\n",
            "              precision    recall  f1-score   support\n",
            "\n",
            "           0       0.99      0.99      0.99       669\n",
            "           1       1.00      1.00      1.00      2079\n",
            "           2       0.99      0.99      0.99       378\n",
            "           3       0.99      1.00      0.99      1134\n",
            "           4       1.00      0.99      0.99      1131\n",
            "           5       0.00      0.00      0.00         1\n",
            "\n",
            "    accuracy                           1.00      5392\n",
            "   macro avg       0.83      0.83      0.83      5392\n",
            "weighted avg       1.00      1.00      1.00      5392\n",
            "\n"
          ]
        },
        {
          "data": {
            "image/png": "[encoded data removed]",
            "text/plain": [
              "<Figure size 500x500 with 2 Axes>"
            ]
          },
          "metadata": {},
          "output_type": "display_data"
        }
      ],
      "source": [
        "stk = xgb.XGBClassifier().fit(x_train, y_train)\n",
        "y_predict=stk.predict(x_test)\n",
        "y_true=y_test\n",
        "stk_score=accuracy_score(y_true,y_predict)\n",
        "print('Accuracy of Stacking: '+ str(stk_score))\n",
        "precision,recall,fscore,none= precision_recall_fscore_support(y_true, y_predict, average='weighted')\n",
        "print('Precision of Stacking: '+(str(precision)))\n",
        "print('Recall of Stacking: '+(str(recall)))\n",
        "print('F1-score of Stacking: '+(str(fscore)))\n",
        "print(classification_report(y_true,y_predict))\n",
        "cm=confusion_matrix(y_true,y_predict)\n",
        "f,ax=plt.subplots(figsize=(5,5))\n",
        "sns.heatmap(cm,annot=True,linewidth=0.5,linecolor=\"red\",fmt=\".0f\",ax=ax)\n",
        "plt.xlabel(\"y_pred\")\n",
        "plt.ylabel(\"y_true\")\n",
        "plt.show()"
      ]
    },
    {
      "cell_type": "markdown",
      "metadata": {
        "id": "PjvusAzmj3Pu"
      },
      "source": [
        "#### Hyperparameter optimization (HPO) of the stacking ensemble model (XGBoost) using Bayesian optimization with tree-based Parzen estimator (BO-TPE)\n",
        "Based on the GitHub repo for HPO: https://github.com/LiYangHart/Hyperparameter-Optimization-of-Machine-Learning-Algorithms"
      ]
    },
    {
      "cell_type": "code",
      "execution_count": 77,
      "metadata": {
        "colab": {
          "base_uri": "https://localhost:8080/"
        },
        "id": "2Y-Rc9o5j3Pu",
        "outputId": "ece67ad8-59b3-4fbd-9b1a-0dc7abd87b42"
      },
      "outputs": [
        {
          "name": "stdout",
          "output_type": "stream",
          "text": [
            "  0%|          | 0/20 [00:00<?, ?trial/s, best loss=?]"
          ]
        },
        {
          "name": "stdout",
          "output_type": "stream",
          "text": [
            "100%|██████████| 20/20 [00:04<00:00,  4.41trial/s, best loss: -0.9955489614243324]\n",
            "XGBoost: Hyperopt estimated optimum {'learning_rate': 0.12946520948819776, 'max_depth': 55.0, 'n_estimators': 30.0}\n"
          ]
        }
      ],
      "source": [
        "from hyperopt import hp, fmin, tpe, STATUS_OK, Trials\n",
        "from sklearn.model_selection import cross_val_score, StratifiedKFold\n",
        "def objective(params):\n",
        "    params = {\n",
        "        'n_estimators': int(params['n_estimators']),\n",
        "        'max_depth': int(params['max_depth']),\n",
        "        'learning_rate':  abs(float(params['learning_rate'])),\n",
        "\n",
        "    }\n",
        "    clf = xgb.XGBClassifier( **params)\n",
        "    clf.fit(x_train, y_train)\n",
        "    y_pred = clf.predict(x_test)\n",
        "    score = accuracy_score(y_test, y_pred)\n",
        "\n",
        "    return {'loss':-score, 'status': STATUS_OK }\n",
        "\n",
        "space = {\n",
        "    'n_estimators': hp.quniform('n_estimators', 10, 100, 5),\n",
        "    'max_depth': hp.quniform('max_depth', 4, 100, 1),\n",
        "    'learning_rate': hp.normal('learning_rate', 0.01, 0.9),\n",
        "}\n",
        "\n",
        "best = fmin(fn=objective,\n",
        "            space=space,\n",
        "            algo=tpe.suggest,\n",
        "            max_evals=20)\n",
        "print(\"XGBoost: Hyperopt estimated optimum {}\".format(best))"
      ]
    },
    {
      "cell_type": "code",
      "execution_count": 78,
      "metadata": {
        "colab": {
          "base_uri": "https://localhost:8080/",
          "height": 780
        },
        "id": "_z502K4sj3Pv",
        "outputId": "3e25e144-76cd-4323-c30d-f40e184c8f1a"
      },
      "outputs": [
        {
          "name": "stdout",
          "output_type": "stream",
          "text": [
            "Accuracy of XGBoost: 0.9953635014836796\n",
            "Precision of XGBoost: 0.9951841136473366\n",
            "Recall of XGBoost: 0.9953635014836796\n",
            "F1-score of XGBoost: 0.9952702207777457\n",
            "              precision    recall  f1-score   support\n",
            "\n",
            "           0       0.99      0.99      0.99       669\n",
            "           1       1.00      1.00      1.00      2079\n",
            "           2       0.99      0.99      0.99       378\n",
            "           3       0.99      1.00      0.99      1134\n",
            "           4       1.00      0.99      0.99      1131\n",
            "           5       0.00      0.00      0.00         1\n",
            "\n",
            "    accuracy                           1.00      5392\n",
            "   macro avg       0.83      0.83      0.83      5392\n",
            "weighted avg       1.00      1.00      1.00      5392\n",
            "\n"
          ]
        },
        {
          "data": {
            "image/png": "[encoded data removed]",
            "text/plain": [
              "<Figure size 500x500 with 2 Axes>"
            ]
          },
          "metadata": {},
          "output_type": "display_data"
        }
      ],
      "source": [
        "xg = xgb.XGBClassifier(learning_rate= 0.19229249758051492, n_estimators = 30, max_depth = 36)\n",
        "xg.fit(x_train,y_train)\n",
        "xg_score=xg.score(x_test,y_test)\n",
        "y_predict=xg.predict(x_test)\n",
        "y_true=y_test\n",
        "print('Accuracy of XGBoost: '+ str(xg_score))\n",
        "precision,recall,fscore,none= precision_recall_fscore_support(y_true, y_predict, average='weighted')\n",
        "print('Precision of XGBoost: '+(str(precision)))\n",
        "print('Recall of XGBoost: '+(str(recall)))\n",
        "print('F1-score of XGBoost: '+(str(fscore)))\n",
        "print(classification_report(y_true,y_predict))\n",
        "cm=confusion_matrix(y_true,y_predict)\n",
        "f,ax=plt.subplots(figsize=(5,5))\n",
        "sns.heatmap(cm,annot=True,linewidth=0.5,linecolor=\"red\",fmt=\".0f\",ax=ax)\n",
        "plt.xlabel(\"y_pred\")\n",
        "plt.ylabel(\"y_true\")\n",
        "plt.show()"
      ]
    },
    {
      "cell_type": "markdown",
      "metadata": {
        "collapsed": true,
        "id": "lGv5X840j3Pv"
      },
      "source": [
        "## Anomaly-based IDS"
      ]
    },
    {
      "cell_type": "markdown",
      "metadata": {
        "id": "KSaGFnUHj3Pv"
      },
      "source": [
        "### Generate the port-scan datasets for unknown attack detection"
      ]
    },
    {
      "cell_type": "code",
      "execution_count": 80,
      "metadata": {
        "collapsed": true,
        "id": "dMnrzs41j3Pv"
      },
      "outputs": [],
      "source": [
        "df=pd.read_csv('extracted_sample.csv')"
      ]
    },
    {
      "cell_type": "code",
      "execution_count": 81,
      "metadata": {
        "colab": {
          "base_uri": "https://localhost:8080/"
        },
        "id": "xyY3iIw-8jxb",
        "outputId": "26735c33-0753-493b-859e-df1c04a80b46"
      },
      "outputs": [
        {
          "data": {
            "text/plain": [
              "Index([' Destination Port', ' Flow Duration', ' Total Fwd Packets',\n",
              "       ' Total Backward Packets', 'Total Length of Fwd Packets',\n",
              "       ' Total Length of Bwd Packets', ' Fwd Packet Length Max',\n",
              "       ' Fwd Packet Length Min', ' Fwd Packet Length Mean',\n",
              "       ' Fwd Packet Length Std', 'Bwd Packet Length Max',\n",
              "       ' Bwd Packet Length Min', ' Bwd Packet Length Mean',\n",
              "       ' Bwd Packet Length Std', 'Flow Bytes/s', ' Flow Packets/s',\n",
              "       ' Flow IAT Mean', ' Flow IAT Std', ' Flow IAT Max', ' Flow IAT Min',\n",
              "       'Fwd IAT Total', ' Fwd IAT Mean', ' Fwd IAT Std', ' Fwd IAT Max',\n",
              "       ' Fwd IAT Min', 'Bwd IAT Total', ' Bwd IAT Mean', ' Bwd IAT Std',\n",
              "       ' Bwd IAT Max', ' Bwd IAT Min', 'Fwd PSH Flags', ' Bwd PSH Flags',\n",
              "       ' Fwd URG Flags', ' Bwd URG Flags', ' Fwd Header Length',\n",
              "       ' Bwd Header Length', 'Fwd Packets/s', ' Bwd Packets/s',\n",
              "       ' Min Packet Length', ' Max Packet Length', ' Packet Length Mean',\n",
              "       ' Packet Length Std', ' Packet Length Variance', 'FIN Flag Count',\n",
              "       ' SYN Flag Count', ' RST Flag Count', ' PSH Flag Count',\n",
              "       ' ACK Flag Count', ' URG Flag Count', ' CWE Flag Count',\n",
              "       ' ECE Flag Count', ' Down/Up Ratio', ' Average Packet Size',\n",
              "       ' Avg Fwd Segment Size', ' Avg Bwd Segment Size',\n",
              "       ' Fwd Header Length.1', 'Fwd Avg Bytes/Bulk', ' Fwd Avg Packets/Bulk',\n",
              "       ' Fwd Avg Bulk Rate', ' Bwd Avg Bytes/Bulk', ' Bwd Avg Packets/Bulk',\n",
              "       'Bwd Avg Bulk Rate', 'Subflow Fwd Packets', ' Subflow Fwd Bytes',\n",
              "       ' Subflow Bwd Packets', ' Subflow Bwd Bytes', 'Init_Win_bytes_forward',\n",
              "       ' Init_Win_bytes_backward', ' act_data_pkt_fwd',\n",
              "       ' min_seg_size_forward', 'Active Mean', ' Active Std', ' Active Max',\n",
              "       ' Active Min', 'Idle Mean', ' Idle Std', ' Idle Max', ' Idle Min',\n",
              "       ' Label'],\n",
              "      dtype='object')"
            ]
          },
          "execution_count": 81,
          "metadata": {},
          "output_type": "execute_result"
        }
      ],
      "source": [
        "df.columns"
      ]
    },
    {
      "cell_type": "code",
      "execution_count": 82,
      "metadata": {
        "colab": {
          "base_uri": "https://localhost:8080/"
        },
        "id": "QnnpG5lD8j6R",
        "outputId": "272c936a-46fd-447b-ccf3-b8f4d13cac91"
      },
      "outputs": [
        {
          "data": {
            "text/plain": [
              " Label\n",
              "1    10293\n",
              "4     5796\n",
              "3     5499\n",
              "0     3497\n",
              "2     1860\n",
              "5       11\n",
              "Name: count, dtype: int64"
            ]
          },
          "execution_count": 82,
          "metadata": {},
          "output_type": "execute_result"
        }
      ],
      "source": [
        "df[' Label'].value_counts()"
      ]
    },
    {
      "cell_type": "code",
      "execution_count": 84,
      "metadata": {
        "collapsed": true,
        "id": "j4oFe7Nmj3Pv"
      },
      "outputs": [],
      "source": [
        "df1 = df[df[' Label'] != 5]\n",
        "df1[' Label'][df1[' Label'] > 0] = 1\n",
        "df1.to_csv('sample_without_portscan.csv',index=0)"
      ]
    },
    {
      "cell_type": "code",
      "execution_count": 85,
      "metadata": {
        "collapsed": true,
        "id": "eLweMGynj3Pv"
      },
      "outputs": [],
      "source": [
        "df2 = df[df[' Label'] == 5]\n",
        "df2[' Label'][df2[' Label'] == 5] = 1\n",
        "df2.to_csv('sample_portscan.csv',index=0)"
      ]
    },
    {
      "cell_type": "markdown",
      "metadata": {
        "id": "wZpEwVUHj3Pv"
      },
      "source": [
        "### Read the generated datasets for unknown attack detection"
      ]
    },
    {
      "cell_type": "code",
      "execution_count": 86,
      "metadata": {
        "collapsed": true,
        "id": "X_diYWAVj3Pv"
      },
      "outputs": [],
      "source": [
        "df1 = pd.read_csv('sample_without_portscan.csv')\n",
        "df2 = pd.read_csv('sample_portscan.csv')"
      ]
    },
    {
      "cell_type": "code",
      "execution_count": 87,
      "metadata": {
        "id": "RFkBp_tvj3Pv"
      },
      "outputs": [],
      "source": [
        "features = df1.drop([' Label'],axis=1).dtypes[df1.dtypes != 'object'].index\n",
        "df1[features] = df1[features].apply(\n",
        "    lambda x: (x - x.mean()) / (x.std()))\n",
        "df2[features] = df2[features].apply(\n",
        "    lambda x: (x - x.mean()) / (x.std()))\n",
        "df1 = df1.fillna(0)\n",
        "df2 = df2.fillna(0)"
      ]
    },
    {
      "cell_type": "code",
      "execution_count": 88,
      "metadata": {
        "colab": {
          "base_uri": "https://localhost:8080/"
        },
        "id": "eOlBvUbkj3Pv",
        "outputId": "604011d9-8fa9-416a-ef9b-aa55a94a76bb"
      },
      "outputs": [
        {
          "data": {
            "text/plain": [
              " Label\n",
              "1    23448\n",
              "0     3497\n",
              "Name: count, dtype: int64"
            ]
          },
          "execution_count": 88,
          "metadata": {},
          "output_type": "execute_result"
        }
      ],
      "source": [
        "df1[' Label'].value_counts()"
      ]
    },
    {
      "cell_type": "code",
      "execution_count": 89,
      "metadata": {
        "colab": {
          "base_uri": "https://localhost:8080/"
        },
        "id": "qG07CCLRj3Pw",
        "outputId": "4ba11c2d-1b38-40ea-9459-6e875eb3cf04",
        "scrolled": true
      },
      "outputs": [
        {
          "data": {
            "text/plain": [
              " Label\n",
              "1    11\n",
              "Name: count, dtype: int64"
            ]
          },
          "execution_count": 89,
          "metadata": {},
          "output_type": "execute_result"
        }
      ],
      "source": [
        "df2[' Label'].value_counts()"
      ]
    },
    {
      "cell_type": "code",
      "execution_count": 90,
      "metadata": {
        "id": "FD-1UpwEj3Pw"
      },
      "outputs": [],
      "source": [
        "df2p=df1[df1[' Label']==0]\n",
        "df2pp=df2p.sample(n=None, frac=1255/18225, replace=False, weights=None, random_state=None, axis=0)\n",
        "df2=pd.concat([df2, df2pp])"
      ]
    },
    {
      "cell_type": "code",
      "execution_count": 91,
      "metadata": {
        "colab": {
          "base_uri": "https://localhost:8080/"
        },
        "id": "b1U_8hT-j3Pw",
        "outputId": "943660dd-a0ed-4df9-9bda-9f17d71ecb7b"
      },
      "outputs": [
        {
          "data": {
            "text/plain": [
              " Label\n",
              "0    241\n",
              "1     11\n",
              "Name: count, dtype: int64"
            ]
          },
          "execution_count": 91,
          "metadata": {},
          "output_type": "execute_result"
        }
      ],
      "source": [
        "df2[' Label'].value_counts()"
      ]
    },
    {
      "cell_type": "code",
      "execution_count": 92,
      "metadata": {
        "collapsed": true,
        "id": "0l2lvJWLj3Pw"
      },
      "outputs": [],
      "source": [
        "# df = df1.append(df2)\n",
        "df = pd.concat([df1, df2], ignore_index=True)"
      ]
    },
    {
      "cell_type": "code",
      "execution_count": 93,
      "metadata": {
        "colab": {
          "base_uri": "https://localhost:8080/"
        },
        "id": "NDJtmF4Vj3Pw",
        "outputId": "a6f461db-4343-4b31-c5dc-0c7ac6a699f1"
      },
      "outputs": [
        {
          "data": {
            "text/plain": [
              "1    23459\n",
              "0     3738\n",
              "Name: count, dtype: int64"
            ]
          },
          "execution_count": 93,
          "metadata": {},
          "output_type": "execute_result"
        }
      ],
      "source": [
        "X = df.drop([' Label'],axis=1) .values\n",
        "y = df.iloc[:, -1].values.reshape(-1,1)\n",
        "y=np.ravel(y)\n",
        "pd.Series(y).value_counts()"
      ]
    },
    {
      "cell_type": "markdown",
      "metadata": {
        "id": "kKg8E1k-j3Pw"
      },
      "source": [
        "### Feature engineering (IG, FCBF, and KPCA)"
      ]
    },
    {
      "cell_type": "markdown",
      "metadata": {
        "id": "xF7Y22K6j3Pw"
      },
      "source": [
        "#### Feature selection by information gain (IG)"
      ]
    },
    {
      "cell_type": "code",
      "execution_count": 94,
      "metadata": {
        "id": "QARRPIDHj3Pw"
      },
      "outputs": [],
      "source": [
        "from sklearn.feature_selection import mutual_info_classif\n",
        "importances = mutual_info_classif(X, y)"
      ]
    },
    {
      "cell_type": "code",
      "execution_count": 95,
      "metadata": {
        "colab": {
          "base_uri": "https://localhost:8080/"
        },
        "id": "zAxLf-1z9-SG",
        "outputId": "70d2c011-64e3-4ec3-dbf7-489167ffb75f"
      },
      "outputs": [
        {
          "data": {
            "text/plain": [
              "array([3.25821976e-01, 2.48972846e-01, 7.58262047e-02, 1.16255572e-01,\n",
              "       2.51644788e-01, 2.52350377e-01, 2.73351324e-01, 1.98539226e-01,\n",
              "       1.94918732e-01, 9.79521204e-02, 2.40462230e-01, 1.60363164e-01,\n",
              "       2.61361898e-01, 1.26599719e-01, 0.00000000e+00, 9.93898358e-04,\n",
              "       2.28361936e-01, 1.81165774e-01, 2.54532553e-01, 1.25537804e-01,\n",
              "       2.18078246e-01, 2.13505734e-01, 1.22305251e-01, 2.33920113e-01,\n",
              "       1.23020856e-01, 1.51803508e-01, 1.47370093e-01, 8.38223169e-02,\n",
              "       1.69230201e-01, 1.26550931e-01, 3.42131928e-03, 0.00000000e+00,\n",
              "       1.93448302e-03, 0.00000000e+00, 2.09477536e-01, 1.68650091e-01,\n",
              "       2.21564682e-01, 2.07309284e-01, 1.93947349e-01, 3.05290440e-01,\n",
              "       2.49081447e-01, 2.46813847e-01, 2.49092791e-01, 1.67305905e-03,\n",
              "       2.37261728e-03, 2.31102579e-03, 4.52080217e-02, 3.48983973e-03,\n",
              "       8.32283667e-03, 0.00000000e+00, 0.00000000e+00, 7.44891889e-02,\n",
              "       2.49920016e-01, 1.97362482e-01, 2.59457422e-01, 2.11613920e-01,\n",
              "       0.00000000e+00, 3.51365082e-03, 2.55161433e-04, 0.00000000e+00,\n",
              "       0.00000000e+00, 0.00000000e+00, 7.42429317e-02, 2.51822581e-01,\n",
              "       1.18864867e-01, 2.53348572e-01, 3.06679108e-01, 1.81819739e-01,\n",
              "       3.82797146e-02, 1.13244868e-01, 1.24529438e-01, 3.68938334e-02,\n",
              "       1.22811584e-01, 1.27077091e-01, 1.29166103e-01, 5.06815707e-02,\n",
              "       1.34345447e-01, 1.24487262e-01])"
            ]
          },
          "execution_count": 95,
          "metadata": {},
          "output_type": "execute_result"
        }
      ],
      "source": [
        "importances"
      ]
    },
    {
      "cell_type": "code",
      "execution_count": 96,
      "metadata": {
        "id": "MsOiI8jxj3Pw"
      },
      "outputs": [],
      "source": [
        "# calculate the sum of importance scores\n",
        "f_list = sorted(zip(map(lambda x: round(x, 4), importances), features), reverse=True)\n",
        "Sum = 0\n",
        "fs = []\n",
        "for i in range(0, len(f_list)):\n",
        "    Sum = Sum + f_list[i][0]\n",
        "    fs.append(f_list[i][1])"
      ]
    },
    {
      "cell_type": "code",
      "execution_count": 97,
      "metadata": {
        "id": "RRibLHdcj3Pw"
      },
      "outputs": [],
      "source": [
        "# select the important features from top to bottom until the accumulated importance reaches 90%\n",
        "f_list2 = sorted(zip(map(lambda x: round(x, 4), importances/Sum), features), reverse=True)\n",
        "Sum2 = 0\n",
        "fs = []\n",
        "for i in range(0, len(f_list2)):\n",
        "    Sum2 = Sum2 + f_list2[i][0]\n",
        "    fs.append(f_list2[i][1])\n",
        "    if Sum2>=0.9:\n",
        "        break"
      ]
    },
    {
      "cell_type": "code",
      "execution_count": 98,
      "metadata": {
        "id": "7sz0kmigj3Pw"
      },
      "outputs": [],
      "source": [
        "X_fs = df[fs].values"
      ]
    },
    {
      "cell_type": "code",
      "execution_count": 99,
      "metadata": {
        "colab": {
          "base_uri": "https://localhost:8080/"
        },
        "id": "r1xO9HINj3Pw",
        "outputId": "b9e47bf6-f6b7-41d2-c0b8-2b1b73e1573b"
      },
      "outputs": [
        {
          "data": {
            "text/plain": [
              "(27197, 47)"
            ]
          },
          "execution_count": 99,
          "metadata": {},
          "output_type": "execute_result"
        }
      ],
      "source": [
        "X_fs.shape"
      ]
    },
    {
      "cell_type": "code",
      "execution_count": 100,
      "metadata": {
        "colab": {
          "base_uri": "https://localhost:8080/"
        },
        "id": "gHGec44Mj3Px",
        "outputId": "cca8c88f-2d86-4d55-8f61-c7cbebe6098d"
      },
      "outputs": [
        {
          "data": {
            "text/plain": [
              "array([[-0.1580426 , -1.24396003, -0.64517169, ..., -0.38163586,\n",
              "        -0.50306827, -0.52963211],\n",
              "       [-0.1580426 , -1.24396003, -0.64517169, ..., -0.38163576,\n",
              "        -0.50306827, -0.52963211],\n",
              "       [-0.1580426 , -1.24396003, -0.64484174, ..., -0.38163586,\n",
              "        -0.50306827, -0.52963211],\n",
              "       ...,\n",
              "       [-0.10611741,  0.80037699,  0.26088896, ..., -0.38163583,\n",
              "         0.69786079, -0.1728285 ],\n",
              "       [-0.15444778,  0.80037699, -0.4287202 , ..., -0.38162983,\n",
              "        -0.46994928, -0.20590875],\n",
              "       [-0.1580426 , -1.24396003, -0.64880122, ..., -0.38163586,\n",
              "        -0.50306827, -0.52963211]])"
            ]
          },
          "execution_count": 100,
          "metadata": {},
          "output_type": "execute_result"
        }
      ],
      "source": [
        "X_fs"
      ]
    },
    {
      "cell_type": "markdown",
      "metadata": {
        "id": "EQLlfsbzj3Px"
      },
      "source": [
        "#### Feature selection by Fast Correlation Based Filter (FCBF)\n",
        "\n",
        "The module is imported from the GitHub repo: https://github.com/SantiagoEG/FCBF_module"
      ]
    },
    {
      "cell_type": "code",
      "execution_count": 101,
      "metadata": {
        "collapsed": true,
        "id": "gbFOvtp9j3Px"
      },
      "outputs": [],
      "source": [
        "from FCBF_module import FCBF, FCBFK, FCBFiP, get_i\n",
        "fcbf = FCBFK(k = 20)\n",
        "#fcbf.fit(X_fs, y)"
      ]
    },
    {
      "cell_type": "code",
      "execution_count": 102,
      "metadata": {
        "id": "TZyaHPr4j3Px"
      },
      "outputs": [],
      "source": [
        "X_fss = fcbf.fit_transform(X_fs,y)"
      ]
    },
    {
      "cell_type": "code",
      "execution_count": 103,
      "metadata": {
        "colab": {
          "base_uri": "https://localhost:8080/"
        },
        "id": "bCI1bYhwj3Px",
        "outputId": "b2f9d3f3-0383-4e55-a5ab-18df98ce0c5d"
      },
      "outputs": [
        {
          "data": {
            "text/plain": [
              "(27197, 20)"
            ]
          },
          "execution_count": 103,
          "metadata": {},
          "output_type": "execute_result"
        }
      ],
      "source": [
        "X_fss.shape"
      ]
    },
    {
      "cell_type": "code",
      "execution_count": 104,
      "metadata": {
        "colab": {
          "base_uri": "https://localhost:8080/"
        },
        "id": "UiNgjWD9j3Px",
        "outputId": "bd7bc45c-9fbc-47b2-ca01-66aee70dbedf"
      },
      "outputs": [
        {
          "data": {
            "text/plain": [
              "array([[-0.1580426 ,  0.84621648,  2.38374701, ..., -0.21848414,\n",
              "        -0.63120732, -0.60486524],\n",
              "       [-0.1580426 ,  0.87249204,  2.38374701, ..., -0.21754747,\n",
              "        -0.6295282 , -0.60299473],\n",
              "       [-0.1580426 ,  0.8987676 ,  2.41249974, ..., -0.2166108 ,\n",
              "        -0.62672967, -0.59987722],\n",
              "       ...,\n",
              "       [-0.10611741, -0.17853048, -0.20399873, ...,  0.17538543,\n",
              "        -0.40411309, -0.43096872],\n",
              "       [-0.15444778, -0.17853048, -0.20399873, ..., -0.05128861,\n",
              "        -0.68347232, -0.68485177],\n",
              "       [-0.1580426 ,  0.71483866,  2.06746698, ..., -0.22316749,\n",
              "        -0.65191646, -0.62793485]])"
            ]
          },
          "execution_count": 104,
          "metadata": {},
          "output_type": "execute_result"
        }
      ],
      "source": [
        "X_fss"
      ]
    },
    {
      "cell_type": "markdown",
      "metadata": {
        "id": "BhukbavZj3Px"
      },
      "source": [
        "####  kernel principal component analysis (KPCA)"
      ]
    },
    {
      "cell_type": "code",
      "execution_count": 107,
      "metadata": {
        "colab": {
          "base_uri": "https://localhost:8080/",
          "height": 211
        },
        "id": "CNAvqPnnj3Px",
        "outputId": "542712df-47f5-4cec-eb67-0b50b6abc4c2"
      },
      "outputs": [],
      "source": [
        "# from sklearn.decomposition import KernelPCA\n",
        "# kpca = KernelPCA(n_components = 10, kernel = 'rbf')\n",
        "# kpca.fit(X_fss, y)\n",
        "# X_kpca = kpca.transform(X_fss)\n",
        "\n",
        "from sklearn.decomposition import PCA\n",
        "kpca = PCA(n_components = 10)\n",
        "kpca.fit(X_fss, y)\n",
        "X_kpca = kpca.transform(X_fss)"
      ]
    },
    {
      "cell_type": "markdown",
      "metadata": {
        "id": "Gg8OtQxjj3Px"
      },
      "source": [
        "### Train-test split after feature selection"
      ]
    },
    {
      "cell_type": "code",
      "execution_count": 108,
      "metadata": {
        "collapsed": true,
        "id": "HDbt_Cckj3Px"
      },
      "outputs": [],
      "source": [
        "X_train = X_kpca[:len(df1)]\n",
        "y_train = y[:len(df1)]\n",
        "X_test = X_kpca[len(df1):]\n",
        "y_test = y[len(df1):]"
      ]
    },
    {
      "cell_type": "markdown",
      "metadata": {
        "id": "huHorUKgj3Px"
      },
      "source": [
        "### Solve class-imbalance by SMOTE"
      ]
    },
    {
      "cell_type": "code",
      "execution_count": 109,
      "metadata": {
        "id": "l9hqo-CLj3Py",
        "outputId": "e72ae8db-08fa-4427-b774-a48e636587e9"
      },
      "outputs": [
        {
          "data": {
            "text/plain": [
              "1    23448\n",
              "0     3497\n",
              "Name: count, dtype: int64"
            ]
          },
          "execution_count": 109,
          "metadata": {},
          "output_type": "execute_result"
        }
      ],
      "source": [
        "pd.Series(y_train).value_counts()"
      ]
    },
    {
      "cell_type": "code",
      "execution_count": 111,
      "metadata": {
        "id": "da48sD-rj3Py"
      },
      "outputs": [],
      "source": [
        "from imblearn.over_sampling import SMOTE\n",
        "smote=SMOTE(n_jobs=-1,sampling_strategy={1:23448})\n",
        "X_train, y_train = smote.fit_resample(X_train, y_train)"
      ]
    },
    {
      "cell_type": "code",
      "execution_count": 112,
      "metadata": {
        "id": "KF8ghUCTj3Py",
        "outputId": "4d3525bc-6358-490f-d089-f1b2e49e4073"
      },
      "outputs": [
        {
          "data": {
            "text/plain": [
              "1    23448\n",
              "0     3497\n",
              "Name: count, dtype: int64"
            ]
          },
          "execution_count": 112,
          "metadata": {},
          "output_type": "execute_result"
        }
      ],
      "source": [
        "pd.Series(y_train).value_counts()"
      ]
    },
    {
      "cell_type": "code",
      "execution_count": 113,
      "metadata": {
        "id": "xm4dx1THj3Py",
        "outputId": "040ea494-9d79-4783-a898-d2a0764a249e"
      },
      "outputs": [
        {
          "data": {
            "text/plain": [
              "0    241\n",
              "1     11\n",
              "Name: count, dtype: int64"
            ]
          },
          "execution_count": 113,
          "metadata": {},
          "output_type": "execute_result"
        }
      ],
      "source": [
        "pd.Series(y_test).value_counts()"
      ]
    },
    {
      "cell_type": "markdown",
      "metadata": {
        "id": "DF0b8TQqj3Py"
      },
      "source": [
        "### Apply the cluster labeling (CL) k-means method"
      ]
    },
    {
      "cell_type": "code",
      "execution_count": 114,
      "metadata": {
        "collapsed": true,
        "id": "u5c5pOGij3Py"
      },
      "outputs": [],
      "source": [
        "from sklearn.cluster import KMeans\n",
        "from sklearn.cluster import DBSCAN,MeanShift\n",
        "from sklearn.cluster import SpectralClustering,AgglomerativeClustering,AffinityPropagation,Birch,MiniBatchKMeans,MeanShift\n",
        "from sklearn.mixture import GaussianMixture, BayesianGaussianMixture\n",
        "from sklearn.metrics import classification_report\n",
        "from sklearn import metrics"
      ]
    },
    {
      "cell_type": "code",
      "execution_count": 115,
      "metadata": {
        "collapsed": true,
        "id": "Bez4rR1dj3Py"
      },
      "outputs": [],
      "source": [
        "def CL_kmeans(X_train, X_test, y_train, y_test,n,b=100):\n",
        "    km_cluster = MiniBatchKMeans(n_clusters=n,batch_size=b)\n",
        "    result = km_cluster.fit_predict(X_train)\n",
        "    result2 = km_cluster.predict(X_test)\n",
        "\n",
        "    count=0\n",
        "    a=np.zeros(n)\n",
        "    b=np.zeros(n)\n",
        "    for v in range(0,n):\n",
        "        for i in range(0,len(y_train)):\n",
        "            if result[i]==v:\n",
        "                if y_train[i]==1:\n",
        "                    a[v]=a[v]+1\n",
        "                else:\n",
        "                    b[v]=b[v]+1\n",
        "    list1=[]\n",
        "    list2=[]\n",
        "    for v in range(0,n):\n",
        "        if a[v]<=b[v]:\n",
        "            list1.append(v)\n",
        "        else:\n",
        "            list2.append(v)\n",
        "    for v in range(0,len(y_test)):\n",
        "        if result2[v] in list1:\n",
        "            result2[v]=0\n",
        "        elif result2[v] in list2:\n",
        "            result2[v]=1\n",
        "        else:\n",
        "            print(\"-1\")\n",
        "    print(classification_report(y_test, result2))\n",
        "    cm=confusion_matrix(y_test,result2)\n",
        "    acc=metrics.accuracy_score(y_test,result2)\n",
        "    print(str(acc))\n",
        "    print(cm)"
      ]
    },
    {
      "cell_type": "code",
      "execution_count": 116,
      "metadata": {
        "id": "2vAaNk1lj3Py",
        "outputId": "f7ea9977-2652-41fa-eb5d-07afada68c9a"
      },
      "outputs": [
        {
          "name": "stdout",
          "output_type": "stream",
          "text": [
            "              precision    recall  f1-score   support\n",
            "\n",
            "           0       1.00      0.56      0.71       241\n",
            "           1       0.09      1.00      0.17        11\n",
            "\n",
            "    accuracy                           0.58       252\n",
            "   macro avg       0.55      0.78      0.44       252\n",
            "weighted avg       0.96      0.58      0.69       252\n",
            "\n",
            "0.5753968253968254\n",
            "[[134 107]\n",
            " [  0  11]]\n"
          ]
        }
      ],
      "source": [
        "CL_kmeans(X_train, X_test, y_train, y_test, 8)"
      ]
    },
    {
      "cell_type": "code",
      "execution_count": 119,
      "metadata": {},
      "outputs": [
        {
          "name": "stdout",
          "output_type": "stream",
          "text": [
            "Collecting scikit-optimize\n",
            "  Downloading scikit_optimize-0.10.1-py2.py3-none-any.whl.metadata (9.7 kB)\n",
            "Requirement already satisfied: scipy in c:\\users\\nani\\appdata\\local\\packages\\pythonsoftwarefoundation.python.3.9_qbz5n2kfra8p0\\localcache\\local-packages\\python39\\site-packages (1.12.0)\n",
            "Requirement already satisfied: joblib>=0.11 in c:\\users\\nani\\appdata\\local\\packages\\pythonsoftwarefoundation.python.3.9_qbz5n2kfra8p0\\localcache\\local-packages\\python39\\site-packages (from scikit-optimize) (1.3.2)\n",
            "Collecting pyaml>=16.9 (from scikit-optimize)\n",
            "  Downloading pyaml-24.4.0-py3-none-any.whl.metadata (11 kB)\n",
            "Requirement already satisfied: numpy>=1.20.3 in c:\\users\\nani\\appdata\\local\\packages\\pythonsoftwarefoundation.python.3.9_qbz5n2kfra8p0\\localcache\\local-packages\\python39\\site-packages (from scikit-optimize) (1.26.4)\n",
            "Requirement already satisfied: scikit-learn>=1.0.0 in c:\\users\\nani\\appdata\\local\\packages\\pythonsoftwarefoundation.python.3.9_qbz5n2kfra8p0\\localcache\\local-packages\\python39\\site-packages (from scikit-optimize) (1.4.1.post1)\n",
            "Requirement already satisfied: packaging>=21.3 in c:\\users\\nani\\appdata\\local\\packages\\pythonsoftwarefoundation.python.3.9_qbz5n2kfra8p0\\localcache\\local-packages\\python39\\site-packages (from scikit-optimize) (23.2)\n",
            "Requirement already satisfied: PyYAML in c:\\users\\nani\\appdata\\local\\packages\\pythonsoftwarefoundation.python.3.9_qbz5n2kfra8p0\\localcache\\local-packages\\python39\\site-packages (from pyaml>=16.9->scikit-optimize) (5.4.1)\n",
            "Requirement already satisfied: threadpoolctl>=2.0.0 in c:\\users\\nani\\appdata\\local\\packages\\pythonsoftwarefoundation.python.3.9_qbz5n2kfra8p0\\localcache\\local-packages\\python39\\site-packages (from scikit-learn>=1.0.0->scikit-optimize) (3.3.0)\n",
            "Downloading scikit_optimize-0.10.1-py2.py3-none-any.whl (107 kB)\n",
            "   ---------------------------------------- 0.0/107.7 kB ? eta -:--:--\n",
            "   -------------------------------------- - 102.4/107.7 kB 2.9 MB/s eta 0:00:01\n",
            "   ---------------------------------------- 107.7/107.7 kB 1.5 MB/s eta 0:00:00\n",
            "Downloading pyaml-24.4.0-py3-none-any.whl (24 kB)\n",
            "Installing collected packages: pyaml, scikit-optimize\n",
            "Successfully installed pyaml-24.4.0 scikit-optimize-0.10.1\n",
            "Note: you may need to restart the kernel to use updated packages.\n"
          ]
        }
      ],
      "source": [
        "%pip install scikit-optimize scipy"
      ]
    },
    {
      "cell_type": "markdown",
      "metadata": {
        "id": "Ooxs6E_Ij3Py"
      },
      "source": [
        "### Hyperparameter optimization of CL-k-means\n",
        "Tune \"k\""
      ]
    },
    {
      "cell_type": "code",
      "execution_count": 120,
      "metadata": {
        "id": "74GohQEpj3Py",
        "outputId": "cee0db55-349b-490c-eafd-2c122d31f216",
        "scrolled": true
      },
      "outputs": [
        {
          "name": "stdout",
          "output_type": "stream",
          "text": [
            "30 0.6666666666666666\n",
            "43 0.7341269841269841\n",
            "43 0.7380952380952381\n",
            "43 0.7896825396825397\n",
            "32 0.7936507936507936\n",
            "20 0.7023809523809523\n",
            "16 0.6626984126984127\n",
            "5 0.47619047619047616\n",
            "15 0.6785714285714286\n",
            "25 0.5436507936507936\n",
            "33 0.7420634920634921\n",
            "47 0.7857142857142857\n",
            "50 0.7658730158730159\n",
            "36 0.6666666666666666\n",
            "4 0.04365079365079365\n",
            "30 0.7579365079365079\n",
            "18 0.626984126984127\n",
            "40 0.7222222222222222\n",
            "17 0.5079365079365079\n",
            "11 0.42857142857142855\n",
            "7.6499714851379395\n",
            "Best score=0.7937\n",
            "Best parameters: n_clusters=32\n"
          ]
        }
      ],
      "source": [
        "#Hyperparameter optimization by BO-GP\n",
        "from skopt.space import Real, Integer\n",
        "from skopt.utils import use_named_args\n",
        "from sklearn import metrics\n",
        "\n",
        "space  = [Integer(2, 50, name='n_clusters')]\n",
        "@use_named_args(space)\n",
        "def objective(**params):\n",
        "    km_cluster = MiniBatchKMeans(batch_size=100, **params)\n",
        "    n=params['n_clusters']\n",
        "\n",
        "    result = km_cluster.fit_predict(X_train)\n",
        "    result2 = km_cluster.predict(X_test)\n",
        "\n",
        "    count=0\n",
        "    a=np.zeros(n)\n",
        "    b=np.zeros(n)\n",
        "    for v in range(0,n):\n",
        "        for i in range(0,len(y_train)):\n",
        "            if result[i]==v:\n",
        "                if y_train[i]==1:\n",
        "                    a[v]=a[v]+1\n",
        "                else:\n",
        "                    b[v]=b[v]+1\n",
        "    list1=[]\n",
        "    list2=[]\n",
        "    for v in range(0,n):\n",
        "        if a[v]<=b[v]:\n",
        "            list1.append(v)\n",
        "        else:\n",
        "            list2.append(v)\n",
        "    for v in range(0,len(y_test)):\n",
        "        if result2[v] in list1:\n",
        "            result2[v]=0\n",
        "        elif result2[v] in list2:\n",
        "            result2[v]=1\n",
        "        else:\n",
        "            print(\"-1\")\n",
        "    cm=metrics.accuracy_score(y_test,result2)\n",
        "    print(str(n)+\" \"+str(cm))\n",
        "    return (1-cm)\n",
        "from skopt import gp_minimize\n",
        "import time\n",
        "t1=time.time()\n",
        "res_gp = gp_minimize(objective, space, n_calls=20, random_state=0)\n",
        "t2=time.time()\n",
        "print(t2-t1)\n",
        "print(\"Best score=%.4f\" % (1-res_gp.fun))\n",
        "print(\"\"\"Best parameters: n_clusters=%d\"\"\" % (res_gp.x[0]))"
      ]
    },
    {
      "cell_type": "code",
      "execution_count": 121,
      "metadata": {
        "id": "xcqR2S6Pj3Pz",
        "outputId": "a10b9a73-e08f-406d-af89-59512dca2eb9"
      },
      "outputs": [
        {
          "name": "stdout",
          "output_type": "stream",
          "text": [
            "15 0.6031746031746031                                 \n",
            "19 0.6666666666666666                                                            \n",
            "19 0.5753968253968254                                                            \n",
            "19 0.7380952380952381                                                            \n",
            "12 0.6468253968253969                                                            \n",
            "46 0.7420634920634921                                                            \n",
            "8 0.4603174603174603                                                             \n",
            "25 0.6587301587301587                                                           \n",
            "32 0.746031746031746                                                            \n",
            "42 0.7261904761904762                                                            \n",
            "5 0.4246031746031746                                                              \n",
            "47 0.7896825396825397                                                             \n",
            "45 0.7936507936507936                                                             \n",
            "40 0.6984126984126984                                                             \n",
            "33 0.7579365079365079                                                            \n",
            "35 0.753968253968254                                                             \n",
            "36 0.7738095238095238                                                            \n",
            "38 0.7420634920634921                                                            \n",
            "32 0.6111111111111112                                                            \n",
            "44 0.753968253968254                                                             \n",
            "100%|██████████| 20/20 [00:04<00:00,  4.93trial/s, best loss: 0.2063492063492064]\n",
            "Random Forest: Hyperopt estimated optimum {'n_clusters': 45.0}\n"
          ]
        }
      ],
      "source": [
        "#Hyperparameter optimization by BO-TPE\n",
        "from hyperopt import hp, fmin, tpe, STATUS_OK, Trials\n",
        "from sklearn.model_selection import cross_val_score, StratifiedKFold\n",
        "from sklearn.cluster import MiniBatchKMeans\n",
        "from sklearn import metrics\n",
        "\n",
        "def objective(params):\n",
        "    params = {\n",
        "        'n_clusters': int(params['n_clusters']),\n",
        "    }\n",
        "    km_cluster = MiniBatchKMeans(batch_size=100, **params)\n",
        "    n=params['n_clusters']\n",
        "\n",
        "    result = km_cluster.fit_predict(X_train)\n",
        "    result2 = km_cluster.predict(X_test)\n",
        "\n",
        "    count=0\n",
        "    a=np.zeros(n)\n",
        "    b=np.zeros(n)\n",
        "    for v in range(0,n):\n",
        "        for i in range(0,len(y_train)):\n",
        "            if result[i]==v:\n",
        "                if y_train[i]==1:\n",
        "                    a[v]=a[v]+1\n",
        "                else:\n",
        "                    b[v]=b[v]+1\n",
        "    list1=[]\n",
        "    list2=[]\n",
        "    for v in range(0,n):\n",
        "        if a[v]<=b[v]:\n",
        "            list1.append(v)\n",
        "        else:\n",
        "            list2.append(v)\n",
        "    for v in range(0,len(y_test)):\n",
        "        if result2[v] in list1:\n",
        "            result2[v]=0\n",
        "        elif result2[v] in list2:\n",
        "            result2[v]=1\n",
        "        else:\n",
        "            print(\"-1\")\n",
        "    score=metrics.accuracy_score(y_test,result2)\n",
        "    print(str(params['n_clusters'])+\" \"+str(score))\n",
        "    return {'loss':1-score, 'status': STATUS_OK }\n",
        "space = {\n",
        "    'n_clusters': hp.quniform('n_clusters', 2, 50, 1),\n",
        "}\n",
        "\n",
        "best = fmin(fn=objective,\n",
        "            space=space,\n",
        "            algo=tpe.suggest,\n",
        "            max_evals=20)\n",
        "print(\"Random Forest: Hyperopt estimated optimum {}\".format(best))"
      ]
    },
    {
      "cell_type": "code",
      "execution_count": 122,
      "metadata": {
        "id": "QNeJGxBtj3Pz",
        "outputId": "071e5c1b-5b28-4c3b-b3f2-3baf4292796d"
      },
      "outputs": [
        {
          "name": "stdout",
          "output_type": "stream",
          "text": [
            "              precision    recall  f1-score   support\n",
            "\n",
            "           0       1.00      0.61      0.75       241\n",
            "           1       0.10      1.00      0.19        11\n",
            "\n",
            "    accuracy                           0.62       252\n",
            "   macro avg       0.55      0.80      0.47       252\n",
            "weighted avg       0.96      0.62      0.73       252\n",
            "\n",
            "0.623015873015873\n",
            "[[146  95]\n",
            " [  0  11]]\n"
          ]
        }
      ],
      "source": [
        "CL_kmeans(X_train, X_test, y_train, y_test, 16)"
      ]
    },
    {
      "cell_type": "markdown",
      "metadata": {
        "id": "qRvsFENHj3Pz"
      },
      "source": [
        "### Apply the CL-k-means model with biased classifiers"
      ]
    },
    {
      "cell_type": "code",
      "execution_count": 131,
      "metadata": {
        "collapsed": true,
        "id": "DRrjJsQlj3Pz"
      },
      "outputs": [],
      "source": [
        "# Only a sample code to show the logic. It needs to work on the entire dataset to generate sufficient training samples for biased classifiers\n",
        "def Anomaly_IDS(X_train, X_test, y_train, y_test,n,b=100):\n",
        "    # CL-kmeans\n",
        "    km_cluster = MiniBatchKMeans(n_clusters=n,batch_size=b)\n",
        "    result = km_cluster.fit_predict(X_train)\n",
        "    result2 = km_cluster.predict(X_test)\n",
        "\n",
        "    count=0\n",
        "    a=np.zeros(n)\n",
        "    b=np.zeros(n)\n",
        "    for v in range(0,n):\n",
        "        for i in range(0,len(y_train)):\n",
        "            if result[i]==v:\n",
        "                if y_train[i]==1:\n",
        "                    a[v]=a[v]+1\n",
        "                else:\n",
        "                    b[v]=b[v]+1\n",
        "    list1=[]\n",
        "    list2=[]\n",
        "    for v in range(0,n):\n",
        "        if a[v]<=b[v]:\n",
        "            list1.append(v)\n",
        "        else:\n",
        "            list2.append(v)\n",
        "    for v in range(0,len(y_test)):\n",
        "        if result2[v] in list1:\n",
        "            result2[v]=0\n",
        "        elif result2[v] in list2:\n",
        "            result2[v]=1\n",
        "        else:\n",
        "            print(\"-1\")\n",
        "    print(classification_report(y_test, result2))\n",
        "    cm=confusion_matrix(y_test,result2)\n",
        "    acc=metrics.accuracy_score(y2,result2)\n",
        "    print(str(acc))\n",
        "    print(cm)\n",
        "\n",
        "    #Biased classifier construction\n",
        "    count=0\n",
        "    print(len(y))\n",
        "    a=np.zeros(n)\n",
        "    b=np.zeros(n)\n",
        "    FNL=[]\n",
        "    FPL=[]\n",
        "    for v in range(0,n):\n",
        "        al=[]\n",
        "        bl=[]\n",
        "        for i in range(0,len(y)):\n",
        "            if result[i]==v:\n",
        "                if y[i]==1:        #label 1\n",
        "                    a[v]=a[v]+1\n",
        "                    al.append(i)\n",
        "                else:             #label 0\n",
        "                    b[v]=b[v]+1\n",
        "                    bl.append(i)\n",
        "        if a[v]<=b[v]:\n",
        "            FNL.extend(al)\n",
        "        else:\n",
        "            FPL.extend(bl)\n",
        "        #print(str(v)+\"=\"+str(a[v]/(a[v]+b[v])))\n",
        "\n",
        "    dffp=df.iloc[FPL, :]\n",
        "    dffn=df.iloc[FNL, :]\n",
        "    dfva0=df[df['Label']==0]\n",
        "    dfva1=df[df['Label']==1]\n",
        "\n",
        "    dffpp=dfva1.sample(n=None, frac=len(FPL)/dfva1.shape[0], replace=False, weights=None, random_state=None, axis=0)\n",
        "    dffnp=dfva0.sample(n=None, frac=len(FNL)/dfva0.shape[0], replace=False, weights=None, random_state=None, axis=0)\n",
        "\n",
        "    dffp_f=pd.concat([dffp, dffpp])\n",
        "    dffn_f=pd.concat([dffn, dffnp])\n",
        "\n",
        "    Xp = dffp_f.drop(['Label'],axis=1)\n",
        "    yp = dffp_f.iloc[:, -1].values.reshape(-1,1)\n",
        "    yp=np.ravel(yp)\n",
        "\n",
        "    Xn = dffn_f.drop(['Label'],axis=1)\n",
        "    yn = dffn_f.iloc[:, -1].values.reshape(-1,1)\n",
        "    yn=np.ravel(yn)\n",
        "\n",
        "    rfp = RandomForestClassifier(random_state = 42)\n",
        "    rfp.fit(Xp,yp)\n",
        "    rfn = RandomForestClassifier(random_state = 42)\n",
        "    rfn.fit(Xn,yn)\n",
        "\n",
        "    dffnn_f=pd.concat([dffn, dffnp])\n",
        "\n",
        "    Xnn = dffn_f.drop(['Label'],axis=1)\n",
        "    ynn = dffn_f.iloc[:, -1].values.reshape(-1,1)\n",
        "    ynn=np.ravel(ynn)\n",
        "\n",
        "    rfnn = RandomForestClassifier(random_state = 0)\n",
        "    rfnn.fit(Xnn,ynn)\n",
        "\n",
        "    X2p = df2.drop(['Label'],axis=1)\n",
        "    y2p = df2.iloc[:, -1].values.reshape(-1,1)\n",
        "    y2p=np.ravel(y2p)\n",
        "\n",
        "    result2 = km_cluster.predict(X2p)\n",
        "\n",
        "    count=0\n",
        "    a=np.zeros(n)\n",
        "    b=np.zeros(n)\n",
        "    for v in range(0,n):\n",
        "        for i in range(0,len(y)):\n",
        "            if result[i]==v:\n",
        "                if y[i]==1:\n",
        "                    a[v]=a[v]+1\n",
        "                else:\n",
        "                    b[v]=b[v]+1\n",
        "    list1=[]\n",
        "    list2=[]\n",
        "    l1=[]\n",
        "    l0=[]\n",
        "    for v in range(0,n):\n",
        "        if a[v]<=b[v]:\n",
        "            list1.append(v)\n",
        "        else:\n",
        "            list2.append(v)\n",
        "    for v in range(0,len(y2p)):\n",
        "        if result2[v] in list1:\n",
        "            result2[v]=0\n",
        "            l0.append(v)\n",
        "        elif result2[v] in list2:\n",
        "            result2[v]=1\n",
        "            l1.append(v)\n",
        "        else:\n",
        "            print(\"-1\")\n",
        "    print(classification_report(y2p, result2))\n",
        "    cm=confusion_matrix(y2p,result2)\n",
        "    print(cm)\n",
        "\n",
        "# res_final = Anomaly_IDS(X_train, X_test, y_train, y_test,n = 10, b=100)\n",
        "# res_final\n"
      ]
    },
    {
      "cell_type": "code",
      "execution_count": 135,
      "metadata": {},
      "outputs": [
        {
          "name": "stdout",
          "output_type": "stream",
          "text": [
            "              precision    recall  f1-score   support\n",
            "\n",
            "           0       0.97      0.91      0.94       241\n",
            "           1       0.19      0.45      0.27        11\n",
            "\n",
            "    accuracy                           0.89       252\n",
            "   macro avg       0.58      0.68      0.61       252\n",
            "weighted avg       0.94      0.89      0.91       252\n",
            "\n",
            "0.8928571428571429\n",
            "[[220  21]\n",
            " [  6   5]]\n"
          ]
        }
      ],
      "source": [
        "CL_kmeans(X_train, X_test, y_train, y_test, 256)"
      ]
    }
  ],
  "metadata": {
    "accelerator": "GPU",
    "anaconda-cloud": {},
    "colab": {
      "gpuType": "T4",
      "provenance": []
    },
    "kernelspec": {
      "display_name": "Python 3",
      "name": "python3"
    },
    "language_info": {
      "codemirror_mode": {
        "name": "ipython",
        "version": 3
      },
      "file_extension": ".py",
      "mimetype": "text/x-python",
      "name": "python",
      "nbconvert_exporter": "python",
      "pygments_lexer": "ipython3",
      "version": "3.9.13"
    }
  },
  "nbformat": 4,
  "nbformat_minor": 0
}
